{
  "nbformat": 4,
  "nbformat_minor": 0,
  "metadata": {
    "colab": {
      "name": "generate_dataset.ipynb",
      "provenance": [],
      "include_colab_link": true
    },
    "kernelspec": {
      "display_name": "fbd",
      "language": "python",
      "name": "fbd"
    },
    "language_info": {
      "codemirror_mode": {
        "name": "ipython",
        "version": 3
      },
      "file_extension": ".py",
      "mimetype": "text/x-python",
      "name": "python",
      "nbconvert_exporter": "python",
      "pygments_lexer": "ipython3",
      "version": "3.8.5"
    },
    "accelerator": "GPU"
  },
  "cells": [
    {
      "cell_type": "markdown",
      "metadata": {
        "id": "view-in-github",
        "colab_type": "text"
      },
      "source": [
        "<a href=\"https://colab.research.google.com/github/anitamezzetti/ML_finance/blob/main/generate_dataset_multiple%20maturities.ipynb\" target=\"_parent\"><img src=\"https://colab.research.google.com/assets/colab-badge.svg\" alt=\"Open In Colab\"/></a>"
      ]
    },
    {
      "cell_type": "code",
      "metadata": {
        "id": "Fd95GEZz_3ZC"
      },
      "source": [
        "import numpy as np\n",
        "import os\n",
        "from time import time\n",
        "import matplotlib.pyplot as plt\n",
        "import pandas as pd"
      ],
      "execution_count": 35,
      "outputs": []
    },
    {
      "cell_type": "code",
      "metadata": {
        "id": "C4ux4-U7_3ZD"
      },
      "source": [
        "start = time()\n",
        "\n",
        "# Set the constants\n",
        "# -----------------------------------------------------------------------------------\n",
        "t_max = 1.0\n",
        "sigma = 0.61\n",
        "theta = 0.019\n",
        "kappa = 6.21\n",
        "\n",
        "T1 = 10\n",
        "\n",
        "rho_choice = np.array([-0.5, -0.7, -0.9])\n",
        "rho_probability = np.array([0.25, 0.5, 0.25])"
      ],
      "execution_count": 36,
      "outputs": []
    },
    {
      "cell_type": "markdown",
      "metadata": {
        "id": "UUijZcCs_3ZE"
      },
      "source": [
        "Stock prices simulation:"
      ]
    },
    {
      "cell_type": "code",
      "metadata": {
        "id": "KjKjTk_h_3ZE"
      },
      "source": [
        "def stock_price_generator (t_max, n ,m, r, S0, k, V0, sigma, theta, kappa, rho_choice, rho_probability):\n",
        "    dt = t_max / n\n",
        "    \n",
        "    # Brownian motions:\n",
        "    dw_v = np.random.normal(size=(m, n)) * np.sqrt(dt)\n",
        "    dw_i = np.random.normal(size=(m, n)) * np.sqrt(dt)\n",
        "\n",
        "    rho = np.random.choice(rho_choice, size=(m, 1), p = rho_probability)\n",
        "    dw_s = rho * dw_v + np.sqrt(1.0 - rho ** 2) * dw_i\n",
        "\n",
        "    # Perform time evolution \n",
        "    s = np.empty((m, n + 1)) # initialisation stock prices vector\n",
        "    s[:, 0] = S0\n",
        "\n",
        "    v = np.ones(m) * V0\n",
        "\n",
        "    for t in range(n):\n",
        "        dv = kappa * (theta - v) * dt + sigma * np.sqrt(v) * dw_v[:, t]\n",
        "        ds = r * s[:, t] * dt + np.sqrt(v) * s[:, t] * dw_s[:, t]\n",
        "\n",
        "        v = np.clip(v + dv, a_min=0.0, a_max=None)\n",
        "        s[:, t + 1] = s[:, t] + ds\n",
        "      \n",
        "        \n",
        "    return s\n",
        "    "
      ],
      "execution_count": 37,
      "outputs": []
    },
    {
      "cell_type": "code",
      "metadata": {
        "id": "ttzElfx7_3ZF"
      },
      "source": [
        "def find_expected_payoff(stock_path, k, r, t_max):\n",
        "    payoff = max(stock_path[-1] - k, 0) # one payoff for each simulation\n",
        "    c = payoff * np.exp(-r * t_max)     # in case r=0, this step is useless\n",
        "    \n",
        "    return c"
      ],
      "execution_count": 38,
      "outputs": []
    },
    {
      "cell_type": "code",
      "metadata": {
        "id": "utMRt0RJ30Nu"
      },
      "source": [
        "K = [1.5, 2, 2.5]\n",
        "S0 = [2, 2.5, 3.5]\n",
        "V0 = [0.01, 0.05, 0.07]\n",
        "int_rates = [0, 0.05]"
      ],
      "execution_count": 39,
      "outputs": []
    },
    {
      "cell_type": "code",
      "metadata": {
        "id": "SZusfSVY_3ZF"
      },
      "source": [
        "time_maturity = [0.5, 1, 2, 5]\n",
        "num_times = [100, 250, 500]\n",
        "num_simulations = [100, 500, 1000]"
      ],
      "execution_count": 40,
      "outputs": []
    },
    {
      "cell_type": "code",
      "metadata": {
        "id": "t6OJ8LBNRdaT"
      },
      "source": [
        "df = pd.DataFrame(columns=['price', 'stock', 'maturity', 'strike', 'initial_vol', 'interest_rates'])"
      ],
      "execution_count": 41,
      "outputs": []
    },
    {
      "cell_type": "code",
      "metadata": {
        "id": "eUSPiN1j_3ZF",
        "colab": {
          "base_uri": "https://localhost:8080/"
        },
        "outputId": "5273e141-9092-422a-fd3e-d7816870922b"
      },
      "source": [
        "# fill the dataset\n",
        "for s0 in S0: \n",
        "  print(f\"s0 {s0}\")\n",
        "  for k in K:\n",
        "    print(f\"k {k}\")\n",
        "    for v0 in V0:\n",
        "      print(f\"vo {v0}\")\n",
        "      for t in time_maturity:\n",
        "        print(f\"t {t}\")\n",
        "        for r in int_rates:\n",
        "            for n in num_times:\n",
        "                for m in num_simulations:\n",
        "                    s = stock_price_generator (t, n ,m, r, s0, k, v0, sigma, theta, kappa, rho_choice, rho_probability)\n",
        "\n",
        "                    for stock_path in s:\n",
        "                        p = find_expected_payoff(stock_path, k, r, t)\n",
        "\n",
        "                        new_row = {'price':p, 'stock':stock_path[T1], 'maturity':t, 'strike':k, 'initial_vol': v0, 'interest_rates':r}\n",
        "                        #append row to the dataframe\n",
        "                        df = df.append(new_row, ignore_index=True)\n"
      ],
      "execution_count": 42,
      "outputs": [
        {
          "output_type": "stream",
          "text": [
            "s0 2\n",
            "k 1.5\n",
            "vo 0.01\n",
            "t 0.5\n",
            "t 1\n",
            "t 2\n",
            "t 5\n",
            "vo 0.05\n",
            "t 0.5\n",
            "t 1\n",
            "t 2\n",
            "t 5\n",
            "vo 0.07\n",
            "t 0.5\n",
            "t 1\n",
            "t 2\n",
            "t 5\n",
            "k 2\n",
            "vo 0.01\n",
            "t 0.5\n",
            "t 1\n",
            "t 2\n",
            "t 5\n",
            "vo 0.05\n",
            "t 0.5\n",
            "t 1\n",
            "t 2\n",
            "t 5\n",
            "vo 0.07\n",
            "t 0.5\n",
            "t 1\n",
            "t 2\n",
            "t 5\n",
            "k 2.5\n",
            "vo 0.01\n",
            "t 0.5\n",
            "t 1\n",
            "t 2\n",
            "t 5\n",
            "vo 0.05\n",
            "t 0.5\n",
            "t 1\n",
            "t 2\n",
            "t 5\n",
            "vo 0.07\n",
            "t 0.5\n",
            "t 1\n",
            "t 2\n",
            "t 5\n",
            "s0 2.5\n",
            "k 1.5\n",
            "vo 0.01\n",
            "t 0.5\n",
            "t 1\n",
            "t 2\n",
            "t 5\n",
            "vo 0.05\n",
            "t 0.5\n",
            "t 1\n",
            "t 2\n",
            "t 5\n",
            "vo 0.07\n",
            "t 0.5\n",
            "t 1\n",
            "t 2\n",
            "t 5\n",
            "k 2\n",
            "vo 0.01\n",
            "t 0.5\n",
            "t 1\n",
            "t 2\n",
            "t 5\n",
            "vo 0.05\n",
            "t 0.5\n",
            "t 1\n",
            "t 2\n",
            "t 5\n",
            "vo 0.07\n",
            "t 0.5\n",
            "t 1\n",
            "t 2\n",
            "t 5\n",
            "k 2.5\n",
            "vo 0.01\n",
            "t 0.5\n",
            "t 1\n",
            "t 2\n",
            "t 5\n",
            "vo 0.05\n",
            "t 0.5\n",
            "t 1\n",
            "t 2\n",
            "t 5\n",
            "vo 0.07\n",
            "t 0.5\n",
            "t 1\n",
            "t 2\n",
            "t 5\n",
            "s0 3.5\n",
            "k 1.5\n",
            "vo 0.01\n",
            "t 0.5\n",
            "t 1\n",
            "t 2\n",
            "t 5\n",
            "vo 0.05\n",
            "t 0.5\n",
            "t 1\n",
            "t 2\n",
            "t 5\n",
            "vo 0.07\n",
            "t 0.5\n",
            "t 1\n",
            "t 2\n",
            "t 5\n",
            "k 2\n",
            "vo 0.01\n",
            "t 0.5\n",
            "t 1\n",
            "t 2\n",
            "t 5\n",
            "vo 0.05\n",
            "t 0.5\n",
            "t 1\n",
            "t 2\n",
            "t 5\n",
            "vo 0.07\n",
            "t 0.5\n",
            "t 1\n",
            "t 2\n",
            "t 5\n",
            "k 2.5\n",
            "vo 0.01\n",
            "t 0.5\n",
            "t 1\n",
            "t 2\n",
            "t 5\n",
            "vo 0.05\n",
            "t 0.5\n",
            "t 1\n",
            "t 2\n",
            "t 5\n",
            "vo 0.07\n",
            "t 0.5\n",
            "t 1\n",
            "t 2\n",
            "t 5\n"
          ],
          "name": "stdout"
        }
      ]
    },
    {
      "cell_type": "code",
      "metadata": {
        "id": "vrddJbjwBPc2",
        "colab": {
          "base_uri": "https://localhost:8080/",
          "height": 202
        },
        "outputId": "deef666e-75b3-4793-85e6-9bded3aace22"
      },
      "source": [
        "df.head()"
      ],
      "execution_count": 46,
      "outputs": [
        {
          "output_type": "execute_result",
          "data": {
            "text/html": [
              "<div>\n",
              "<style scoped>\n",
              "    .dataframe tbody tr th:only-of-type {\n",
              "        vertical-align: middle;\n",
              "    }\n",
              "\n",
              "    .dataframe tbody tr th {\n",
              "        vertical-align: top;\n",
              "    }\n",
              "\n",
              "    .dataframe thead th {\n",
              "        text-align: right;\n",
              "    }\n",
              "</style>\n",
              "<table border=\"1\" class=\"dataframe\">\n",
              "  <thead>\n",
              "    <tr style=\"text-align: right;\">\n",
              "      <th></th>\n",
              "      <th>price</th>\n",
              "      <th>stock</th>\n",
              "      <th>maturity</th>\n",
              "      <th>strike</th>\n",
              "      <th>initial_vol</th>\n",
              "      <th>interest_rates</th>\n",
              "    </tr>\n",
              "  </thead>\n",
              "  <tbody>\n",
              "    <tr>\n",
              "      <th>0</th>\n",
              "      <td>0.610045</td>\n",
              "      <td>1.967429</td>\n",
              "      <td>0.5</td>\n",
              "      <td>1.5</td>\n",
              "      <td>0.01</td>\n",
              "      <td>0.0</td>\n",
              "    </tr>\n",
              "    <tr>\n",
              "      <th>1</th>\n",
              "      <td>0.438407</td>\n",
              "      <td>2.022543</td>\n",
              "      <td>0.5</td>\n",
              "      <td>1.5</td>\n",
              "      <td>0.01</td>\n",
              "      <td>0.0</td>\n",
              "    </tr>\n",
              "    <tr>\n",
              "      <th>2</th>\n",
              "      <td>0.662137</td>\n",
              "      <td>2.043572</td>\n",
              "      <td>0.5</td>\n",
              "      <td>1.5</td>\n",
              "      <td>0.01</td>\n",
              "      <td>0.0</td>\n",
              "    </tr>\n",
              "    <tr>\n",
              "      <th>3</th>\n",
              "      <td>0.478112</td>\n",
              "      <td>2.027417</td>\n",
              "      <td>0.5</td>\n",
              "      <td>1.5</td>\n",
              "      <td>0.01</td>\n",
              "      <td>0.0</td>\n",
              "    </tr>\n",
              "    <tr>\n",
              "      <th>4</th>\n",
              "      <td>0.491171</td>\n",
              "      <td>1.974101</td>\n",
              "      <td>0.5</td>\n",
              "      <td>1.5</td>\n",
              "      <td>0.01</td>\n",
              "      <td>0.0</td>\n",
              "    </tr>\n",
              "  </tbody>\n",
              "</table>\n",
              "</div>"
            ],
            "text/plain": [
              "      price     stock  maturity  strike  initial_vol  interest_rates\n",
              "0  0.610045  1.967429       0.5     1.5         0.01             0.0\n",
              "1  0.438407  2.022543       0.5     1.5         0.01             0.0\n",
              "2  0.662137  2.043572       0.5     1.5         0.01             0.0\n",
              "3  0.478112  2.027417       0.5     1.5         0.01             0.0\n",
              "4  0.491171  1.974101       0.5     1.5         0.01             0.0"
            ]
          },
          "metadata": {
            "tags": []
          },
          "execution_count": 46
        }
      ]
    },
    {
      "cell_type": "code",
      "metadata": {
        "colab": {
          "base_uri": "https://localhost:8080/"
        },
        "id": "H4hGw1iDSuyK",
        "outputId": "e882aaf8-78b5-4fef-9eb8-d0743d16783f"
      },
      "source": [
        "zero_values = sum(x == 0 for x in df.price)\n",
        "non_zeros_values = sum(x != 0 for x in df.price)\n",
        "\n",
        "print(f\"This database contains {len(df)} options. \\n{zero_values} have zero value.\")"
      ],
      "execution_count": 44,
      "outputs": [
        {
          "output_type": "stream",
          "text": [
            "This database contains 1036800 options. \n",
            "223590 have zero value.\n"
          ],
          "name": "stdout"
        }
      ]
    },
    {
      "cell_type": "code",
      "metadata": {
        "id": "3Ia4Eoo5UsIA",
        "outputId": "99056e42-370b-4809-cc96-879fce963c46",
        "colab": {
          "base_uri": "https://localhost:8080/",
          "height": 17
        }
      },
      "source": [
        "from google.colab import files\n",
        "\n",
        "df.to_csv('df.csv')\n",
        "files.download('df.csv')"
      ],
      "execution_count": 45,
      "outputs": [
        {
          "output_type": "display_data",
          "data": {
            "application/javascript": [
              "\n",
              "    async function download(id, filename, size) {\n",
              "      if (!google.colab.kernel.accessAllowed) {\n",
              "        return;\n",
              "      }\n",
              "      const div = document.createElement('div');\n",
              "      const label = document.createElement('label');\n",
              "      label.textContent = `Downloading \"${filename}\": `;\n",
              "      div.appendChild(label);\n",
              "      const progress = document.createElement('progress');\n",
              "      progress.max = size;\n",
              "      div.appendChild(progress);\n",
              "      document.body.appendChild(div);\n",
              "\n",
              "      const buffers = [];\n",
              "      let downloaded = 0;\n",
              "\n",
              "      const channel = await google.colab.kernel.comms.open(id);\n",
              "      // Send a message to notify the kernel that we're ready.\n",
              "      channel.send({})\n",
              "\n",
              "      for await (const message of channel.messages) {\n",
              "        // Send a message to notify the kernel that we're ready.\n",
              "        channel.send({})\n",
              "        if (message.buffers) {\n",
              "          for (const buffer of message.buffers) {\n",
              "            buffers.push(buffer);\n",
              "            downloaded += buffer.byteLength;\n",
              "            progress.value = downloaded;\n",
              "          }\n",
              "        }\n",
              "      }\n",
              "      const blob = new Blob(buffers, {type: 'application/binary'});\n",
              "      const a = document.createElement('a');\n",
              "      a.href = window.URL.createObjectURL(blob);\n",
              "      a.download = filename;\n",
              "      div.appendChild(a);\n",
              "      a.click();\n",
              "      div.remove();\n",
              "    }\n",
              "  "
            ],
            "text/plain": [
              "<IPython.core.display.Javascript object>"
            ]
          },
          "metadata": {
            "tags": []
          }
        },
        {
          "output_type": "display_data",
          "data": {
            "application/javascript": [
              "download(\"download_314e6e16-d1e8-42b3-8a66-f90ae569573d\", \"df.csv\", 60890202)"
            ],
            "text/plain": [
              "<IPython.core.display.Javascript object>"
            ]
          },
          "metadata": {
            "tags": []
          }
        }
      ]
    },
    {
      "cell_type": "code",
      "metadata": {
        "id": "chfy3qDL3jl6"
      },
      "source": [
        ""
      ],
      "execution_count": null,
      "outputs": []
    }
  ]
}
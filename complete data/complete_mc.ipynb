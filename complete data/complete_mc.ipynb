{
 "cells": [
  {
   "cell_type": "code",
   "execution_count": 11,
   "metadata": {
    "colab": {
     "base_uri": "https://localhost:8080/"
    },
    "id": "8afnuTDfKV78",
    "outputId": "fb39579e-fad0-4ffa-de2a-88581b45b9b8"
   },
   "outputs": [
    {
     "name": "stdout",
     "output_type": "stream",
     "text": [
      "Requirement already satisfied: ipynb in c:\\users\\anita\\miniconda3\\envs\\fbd\\lib\\site-packages (0.5.1)\n"
     ]
    }
   ],
   "source": [
    "!pip install ipynb"
   ]
  },
  {
   "cell_type": "code",
   "execution_count": 2,
   "metadata": {
    "id": "WdJqa87rDCMP"
   },
   "outputs": [],
   "source": [
    "import numpy as np\n",
    "import os\n",
    "from time import time\n",
    "import pandas as pd\n",
    "import matplotlib.pyplot as plt\n",
    "from matplotlib.ticker import NullFormatter\n",
    "import seaborn as sns\n",
    "import ipynb\n",
    "sns.set(style=\"darkgrid\")\n",
    "import warnings\n",
    "#warnings.simplefilter(action='ignore', category=IntegrationWarning)"
   ]
  },
  {
   "cell_type": "code",
   "execution_count": 3,
   "metadata": {
    "id": "VmdW-JjoDCMP"
   },
   "outputs": [],
   "source": [
    "from ipynb.fs.full.closed_form_solution import f, p, p1, p2, call_price"
   ]
  },
  {
   "cell_type": "code",
   "execution_count": 4,
   "metadata": {
    "id": "Huf5H-5MDCMP"
   },
   "outputs": [],
   "source": [
    "start = time()\n",
    "\n",
    "# Set the parameters\n",
    "r = 0\n",
    "S0 = k = 2.0\n",
    "t_max = 1.0\n",
    "V0 = 0.010201\n",
    "sigma = 0.61\n",
    "theta = 0.019\n",
    "kappa = 6.21\n",
    "\n",
    "rho = -0.5\n",
    "\n",
    "n = [100, 500, 1000] # n time periods\n",
    "m = [x**2 for x in n] # number of simulations"
   ]
  },
  {
   "cell_type": "code",
   "execution_count": 5,
   "metadata": {},
   "outputs": [],
   "source": [
    "K = [1.5, 2.5]\n",
    "S0 = [2, 2.5, 3.5]\n",
    "V0 = [0.01, 0.05, 0.07]\n",
    "int_rates = [0, 0.05]\n",
    "time_maturity = [0.5, 1, 2, 5]"
   ]
  },
  {
   "cell_type": "markdown",
   "metadata": {
    "id": "O77_xjM3FM4T"
   },
   "source": [
    "Closed form solution"
   ]
  },
  {
   "cell_type": "markdown",
   "metadata": {
    "id": "5ncexc_zDCMP"
   },
   "source": [
    "Stock prices simulation:"
   ]
  },
  {
   "cell_type": "code",
   "execution_count": 7,
   "metadata": {
    "id": "K47FP5N5DCMQ"
   },
   "outputs": [],
   "source": [
    "def stock_price_generator (t_max, n ,m, r, S0, k, V0, sigma, theta, kappa, rho):\n",
    "    dt = t_max / n\n",
    "    \n",
    "    # Brownian motions:\n",
    "    dw_v = np.random.normal(size=(m, n)) * np.sqrt(dt)\n",
    "    dw_i = np.random.normal(size=(m, n)) * np.sqrt(dt)\n",
    "\n",
    "    dw_s = rho * dw_v + np.sqrt(1.0 - rho ** 2) * dw_i\n",
    "\n",
    "    # Perform time evolution \n",
    "    s = np.empty((m, n + 1)) # initialisation stock prices vector\n",
    "    s[:, 0] = S0\n",
    "\n",
    "    v = np.ones(m) * V0\n",
    "\n",
    "    for t in range(n):\n",
    "        dv = kappa * (theta - v) * dt + sigma * np.sqrt(v) * dw_v[:, t]\n",
    "        ds = r * s[:, t] * dt + np.sqrt(v) * s[:, t] * dw_s[:, t]\n",
    "\n",
    "        v = np.clip(v + dv, a_min=0.0, a_max=None)\n",
    "        s[:, t + 1] = s[:, t] + ds\n",
    "        \n",
    "        \n",
    "    return s    \n",
    "    "
   ]
  },
  {
   "cell_type": "code",
   "execution_count": 8,
   "metadata": {
    "id": "XHEjPkXxDCMV"
   },
   "outputs": [],
   "source": [
    "#s = stock_price_generator (t_max, n ,m, r, S0, k, V0, sigma, theta, kappa, rho)"
   ]
  },
  {
   "cell_type": "markdown",
   "metadata": {
    "id": "Eb4toCbKDCMY"
   },
   "source": [
    "Plots stock prices simulations:"
   ]
  },
  {
   "cell_type": "code",
   "execution_count": 9,
   "metadata": {
    "id": "fWtlM-iCDCMY"
   },
   "outputs": [],
   "source": [
    "def plot_mc (s,t_max,n, m):\n",
    "    # Setup figure\n",
    "    plt.figure(figsize=(8,6))\n",
    "    # noinspection PyTypeChecker\n",
    "    ax_lines = plt.axes()\n",
    "\n",
    "    # Make the line plots\n",
    "    t = np.linspace(0, t_max, num=n + 1)\n",
    "    ns = 40\n",
    "    for i in range(ns):\n",
    "        ax_lines.plot(t, s[i, :], lw=1.0)\n",
    "    ax_lines.set(xlabel='Years', ylabel='St',title='Price Simulations')\n",
    "    ax_lines.set_xlim((0, 1))\n",
    "    ax_lines.set_ylim((1.4, 2.6))\n",
    "\n",
    "    # Add mean value to line plots\n",
    "    ax_lines.plot([0.0, 1.0], [s[:, -1].mean(), s[:, -1].mean()], lw='2', ls=\"--\", label='mean')\n",
    "    plt.show()\n",
    "\n",
    "    # plot stock prices distributions\n",
    "    plt.figure(figsize=(6,5))\n",
    "    bins = np.arange(1.4, 3, .04)\n",
    "    plt.hist(s[:, -1], bins=bins)\n",
    "    plt.xlabel('St')\n",
    "    plt.ylabel('Number')\n",
    "    plt.title('Stock Prices distribution')\n",
    "    plt.show()"
   ]
  },
  {
   "cell_type": "code",
   "execution_count": 10,
   "metadata": {
    "id": "xfLgG8WQFcSX"
   },
   "outputs": [],
   "source": [
    "#plot_mc (s,t_max,n)"
   ]
  },
  {
   "cell_type": "markdown",
   "metadata": {
    "id": "inZlNsAGDCMZ"
   },
   "source": [
    "Payoff:"
   ]
  },
  {
   "cell_type": "code",
   "execution_count": 11,
   "metadata": {
    "id": "zS-Nk3amDCMZ"
   },
   "outputs": [],
   "source": [
    "# function which finds the expected payoff \n",
    "def find_expected_payoff(stock_paths, k, r, t_max):\n",
    "    payoff = np.clip(stock_paths[:, -1] - k, a_min=0, a_max=None) # one payoff for each simulation\n",
    "    expected_payoff = payoff.mean()\n",
    "    c = expected_payoff * np.exp(-r * t_max)     # in case r=0, this step is useless\n",
    "    \n",
    "    return c"
   ]
  },
  {
   "cell_type": "code",
   "execution_count": 12,
   "metadata": {
    "id": "zzIA3nNBDCMZ"
   },
   "outputs": [],
   "source": [
    "#c = find_expected_payoff(s, k, r, t_max) # in case r=0, this step is useless\n",
    "#c"
   ]
  },
  {
   "cell_type": "code",
   "execution_count": 13,
   "metadata": {},
   "outputs": [],
   "source": [
    "df = pd.DataFrame(columns=['S0', 'K', 'V0', 'T', 'r', 'n', 'm', 'closed_solution', 'mc_price', 'mc_simulation'])"
   ]
  },
  {
   "cell_type": "code",
   "execution_count": null,
   "metadata": {},
   "outputs": [],
   "source": [
    "# fill the dataset\n",
    "for s0 in S0: \n",
    "    for k in K:\n",
    "        for v0 in V0:\n",
    "            for t in time_maturity:\n",
    "                for r in int_rates:\n",
    "                    # analytical closed sol\n",
    "                    sol = call_price(kappa, theta, sigma, rho, v0, r, t, s0 ,k)\n",
    "                    for nn in n:\n",
    "                        for mm in m:\n",
    "                            \n",
    "                            # monte carlo solution:\n",
    "                            s = stock_price_generator (t, nn, mm, r, s0, k, v0, sigma, theta, kappa, rho) # stock prices of mc simulation\n",
    "                            mc_price = find_expected_payoff(s, k, r, t_max)\n",
    "                            \n",
    "                            new_row = {'S0':s0, 'K':k, 'V0':v0, 'T':t, 'V0': v0, 'r':r, 'n':nn, 'm':mm, 'closed_solution':sol, 'mc_price':mc_price, 'mc_simulation':s}\n",
    "                            #append row to the dataframe\n",
    "                            df = df.append(new_row, ignore_index=True)"
   ]
  },
  {
   "cell_type": "code",
   "execution_count": 17,
   "metadata": {},
   "outputs": [
    {
     "data": {
      "text/html": [
       "<div>\n",
       "<style scoped>\n",
       "    .dataframe tbody tr th:only-of-type {\n",
       "        vertical-align: middle;\n",
       "    }\n",
       "\n",
       "    .dataframe tbody tr th {\n",
       "        vertical-align: top;\n",
       "    }\n",
       "\n",
       "    .dataframe thead th {\n",
       "        text-align: right;\n",
       "    }\n",
       "</style>\n",
       "<table border=\"1\" class=\"dataframe\">\n",
       "  <thead>\n",
       "    <tr style=\"text-align: right;\">\n",
       "      <th></th>\n",
       "      <th>S0</th>\n",
       "      <th>K</th>\n",
       "      <th>V0</th>\n",
       "      <th>T</th>\n",
       "      <th>r</th>\n",
       "      <th>n</th>\n",
       "      <th>m</th>\n",
       "      <th>closed_solution</th>\n",
       "      <th>mc_price</th>\n",
       "      <th>mc_simulation</th>\n",
       "    </tr>\n",
       "  </thead>\n",
       "  <tbody>\n",
       "    <tr>\n",
       "      <th>0</th>\n",
       "      <td>2</td>\n",
       "      <td>1.5</td>\n",
       "      <td>0.01</td>\n",
       "      <td>0.5</td>\n",
       "      <td>0</td>\n",
       "      <td>100</td>\n",
       "      <td>10000</td>\n",
       "      <td>0.501274</td>\n",
       "      <td>0.501263</td>\n",
       "      <td>[[2.0, 2.0000543040430325, 2.019442518175801, ...</td>\n",
       "    </tr>\n",
       "  </tbody>\n",
       "</table>\n",
       "</div>"
      ],
      "text/plain": [
       "  S0    K    V0    T  r    n      m  closed_solution  mc_price  \\\n",
       "0  2  1.5  0.01  0.5  0  100  10000         0.501274  0.501263   \n",
       "\n",
       "                                       mc_simulation  \n",
       "0  [[2.0, 2.0000543040430325, 2.019442518175801, ...  "
      ]
     },
     "execution_count": 17,
     "metadata": {},
     "output_type": "execute_result"
    }
   ],
   "source": [
    "df.head()"
   ]
  },
  {
   "cell_type": "code",
   "execution_count": 1,
   "metadata": {
    "colab": {
     "base_uri": "https://localhost:8080/",
     "height": 1000
    },
    "id": "JCexvtyaDCMZ",
    "outputId": "8bb4be22-5345-4a9a-82a4-50dafbb02fb2"
   },
   "outputs": [
    {
     "ename": "NameError",
     "evalue": "name 'df' is not defined",
     "output_type": "error",
     "traceback": [
      "\u001b[1;31m---------------------------------------------------------------------------\u001b[0m",
      "\u001b[1;31mNameError\u001b[0m                                 Traceback (most recent call last)",
      "\u001b[1;32m<ipython-input-1-48b713aeef54>\u001b[0m in \u001b[0;36m<module>\u001b[1;34m\u001b[0m\n\u001b[1;32m----> 1\u001b[1;33m \u001b[0mdf\u001b[0m\u001b[1;33m.\u001b[0m\u001b[0mto_csv\u001b[0m\u001b[1;33m(\u001b[0m\u001b[1;34m\"solution_complete_mc.csv\"\u001b[0m\u001b[1;33m)\u001b[0m\u001b[1;33m\u001b[0m\u001b[1;33m\u001b[0m\u001b[0m\n\u001b[0m",
      "\u001b[1;31mNameError\u001b[0m: name 'df' is not defined"
     ]
    }
   ],
   "source": [
    "df.to_csv(\"solution_complete_mc.csv\")\n"
   ]
  },
  {
   "cell_type": "code",
   "execution_count": null,
   "metadata": {
    "id": "vLoswsvfDCMa"
   },
   "outputs": [],
   "source": []
  }
 ],
 "metadata": {
  "accelerator": "GPU",
  "colab": {
   "name": "Copia di mc.ipynb",
   "provenance": []
  },
  "kernelspec": {
   "display_name": "fbd",
   "language": "python",
   "name": "fbd"
  },
  "language_info": {
   "codemirror_mode": {
    "name": "ipython",
    "version": 3
   },
   "file_extension": ".py",
   "mimetype": "text/x-python",
   "name": "python",
   "nbconvert_exporter": "python",
   "pygments_lexer": "ipython3",
   "version": "3.8.5"
  }
 },
 "nbformat": 4,
 "nbformat_minor": 4
}

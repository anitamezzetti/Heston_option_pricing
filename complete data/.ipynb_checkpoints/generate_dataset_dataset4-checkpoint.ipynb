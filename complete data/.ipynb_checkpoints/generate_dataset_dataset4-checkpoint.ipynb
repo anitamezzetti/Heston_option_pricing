{
  "nbformat": 4,
  "nbformat_minor": 0,
  "metadata": {
    "accelerator": "GPU",
    "colab": {
      "name": "generate_dataset_dataset4.ipynb",
      "provenance": []
    },
    "kernelspec": {
      "display_name": "fbd",
      "language": "python",
      "name": "fbd"
    },
    "language_info": {
      "codemirror_mode": {
        "name": "ipython",
        "version": 3
      },
      "file_extension": ".py",
      "mimetype": "text/x-python",
      "name": "python",
      "nbconvert_exporter": "python",
      "pygments_lexer": "ipython3",
      "version": "3.8.5"
    }
  },
  "cells": [
    {
      "cell_type": "code",
      "metadata": {
        "id": "Fd95GEZz_3ZC"
      },
      "source": [
        "import numpy as np\n",
        "import os\n",
        "from time import time\n",
        "import matplotlib.pyplot as plt\n",
        "import pandas as pd"
      ],
      "execution_count": 1,
      "outputs": []
    },
    {
      "cell_type": "code",
      "metadata": {
        "id": "C4ux4-U7_3ZD"
      },
      "source": [
        "start = time()\n",
        "\n",
        "# model parameters\n",
        "Sigma = [0.4, 0.6, 0.8]\n",
        "Theta = [0.01, 0.03, 0.05]\n",
        "Kappa = [5, 6]\n",
        "Rho = [-0.5, -0.7]\n",
        "T1 = 10\n",
        "S0 = 2\n",
        "\n",
        "# initial conditions\n",
        "# S0 \n",
        "V0 = [0.01, 0.05, 0.07]"
      ],
      "execution_count": 2,
      "outputs": []
    },
    {
      "cell_type": "code",
      "metadata": {
        "id": "utMRt0RJ30Nu"
      },
      "source": [
        "# option parameters\n",
        "int_rates = [0, 0.05]\n",
        "K = np.arange(1.6,2.4,0.2)\n",
        "time_maturity = np.arange(1.5,2.5,0.5)"
      ],
      "execution_count": 3,
      "outputs": []
    },
    {
      "cell_type": "code",
      "metadata": {
        "id": "SZusfSVY_3ZF"
      },
      "source": [
        "num_simulations = 200\n",
        "n = 500"
      ],
      "execution_count": 4,
      "outputs": []
    },
    {
      "cell_type": "markdown",
      "metadata": {
        "id": "UUijZcCs_3ZE"
      },
      "source": [
        "Stock prices simulation:"
      ]
    },
    {
      "cell_type": "code",
      "metadata": {
        "id": "KjKjTk_h_3ZE"
      },
      "source": [
        "def stock_price_generator (t_max, n ,m, S0, k, V0, sigma, theta, kappa, rho):\n",
        "    dt = t_max / n\n",
        "    \n",
        "    # Brownian motions:\n",
        "    dw_v = np.random.normal(size=(m, n)) * np.sqrt(dt)\n",
        "    dw_i = np.random.normal(size=(m, n)) * np.sqrt(dt)\n",
        "\n",
        "    dw_s = rho * dw_v + np.sqrt(1.0 - rho ** 2) * dw_i\n",
        "\n",
        "    # Perform time evolution \n",
        "    s = np.empty((m, n + 1)) # initialisation stock prices vector\n",
        "    s[:, 0] = S0\n",
        "\n",
        "    v = np.ones(m) * V0\n",
        "\n",
        "    for t in range(n):\n",
        "        dv = kappa * (theta - v) * dt + sigma * np.sqrt(v) * dw_v[:, t]\n",
        "        ds = r * s[:, t] * dt + np.sqrt(v) * s[:, t] * dw_s[:, t]\n",
        "\n",
        "        v = np.clip(v + dv, a_min=0.0, a_max=None)\n",
        "        s[:, t + 1] = s[:, t] + ds\n",
        "      \n",
        "        \n",
        "    return s\n",
        "    "
      ],
      "execution_count": 5,
      "outputs": []
    },
    {
      "cell_type": "code",
      "metadata": {
        "id": "ttzElfx7_3ZF"
      },
      "source": [
        "def find_expected_payoff(stock_path, k, r, t_max):\n",
        "    payoff = max(stock_path[-1] - k, 0) # one payoff for each simulation\n",
        "    c = payoff * np.exp(-r * t_max)     # in case r=0, this step is useless\n",
        "    \n",
        "    return c"
      ],
      "execution_count": 6,
      "outputs": []
    },
    {
      "cell_type": "code",
      "metadata": {
        "id": "t6OJ8LBNRdaT"
      },
      "source": [
        "df = pd.DataFrame(columns=['price', 'stock',\n",
        "                           'sigma', 'strike', \n",
        "                           'maturity', 'initial_vol', \n",
        "                           'kappa', 'rho',\n",
        "                           'theta','interest_rates'])"
      ],
      "execution_count": 7,
      "outputs": []
    },
    {
      "cell_type": "code",
      "metadata": {
        "colab": {
          "base_uri": "https://localhost:8080/"
        },
        "id": "eUSPiN1j_3ZF",
        "outputId": "ca50d97f-b452-42ae-8cba-0481195fe940"
      },
      "source": [
        "# fill the dataset\n",
        "for v0 in V0:\n",
        "  print(f\"\\nvo {v0}\")\n",
        "  for sigma in Sigma:\n",
        "    print(f\"sigma {sigma}\")\n",
        "    for theta in Theta:\n",
        "      print(f\"theta {theta}\")\n",
        "      for kappa in Kappa:\n",
        "        print(f\"kappa {kappa}\")\n",
        "        for rho in Rho:\n",
        "          print(f\"rho {rho}\")\n",
        "          for k in K:\n",
        "            for t in time_maturity:\n",
        "              for r in int_rates:\n",
        "                  s = stock_price_generator (t, n, num_simulations, S0, k, v0, sigma, theta, kappa, rho)\n",
        "\n",
        "                  for stock_path in s:\n",
        "                      p = find_expected_payoff(stock_path, k, r, t)\n",
        "\n",
        "                      new_row = {\n",
        "                          'price':p, \n",
        "                          'stock':stock_path[T1],\n",
        "                          'strike':k, \n",
        "                          'maturity':t, \n",
        "                          'sigma':sigma,\n",
        "                          'theta':theta,\n",
        "                          'kappa': kappa,\n",
        "                          'rho': rho,\n",
        "                          'initial_vol': v0, \n",
        "                          'interest_rates':r\n",
        "                      }\n",
        "                      #append row to the dataframe\n",
        "                      df = df.append(new_row, ignore_index=True)\n"
      ],
      "execution_count": 8,
      "outputs": [
        {
          "output_type": "stream",
          "text": [
            "\n",
            "vo 0.01\n",
            "sigma 0.4\n",
            "theta 0.01\n",
            "kappa 5\n",
            "rho -0.5\n",
            "rho -0.7\n",
            "kappa 6\n",
            "rho -0.5\n",
            "rho -0.7\n",
            "theta 0.03\n",
            "kappa 5\n",
            "rho -0.5\n",
            "rho -0.7\n",
            "kappa 6\n",
            "rho -0.5\n",
            "rho -0.7\n",
            "theta 0.05\n",
            "kappa 5\n",
            "rho -0.5\n",
            "rho -0.7\n",
            "kappa 6\n",
            "rho -0.5\n",
            "rho -0.7\n",
            "sigma 0.6\n",
            "theta 0.01\n",
            "kappa 5\n",
            "rho -0.5\n",
            "rho -0.7\n",
            "kappa 6\n",
            "rho -0.5\n",
            "rho -0.7\n",
            "theta 0.03\n",
            "kappa 5\n",
            "rho -0.5\n",
            "rho -0.7\n",
            "kappa 6\n",
            "rho -0.5\n",
            "rho -0.7\n",
            "theta 0.05\n",
            "kappa 5\n",
            "rho -0.5\n",
            "rho -0.7\n",
            "kappa 6\n",
            "rho -0.5\n",
            "rho -0.7\n",
            "sigma 0.8\n",
            "theta 0.01\n",
            "kappa 5\n",
            "rho -0.5\n",
            "rho -0.7\n",
            "kappa 6\n",
            "rho -0.5\n",
            "rho -0.7\n",
            "theta 0.03\n",
            "kappa 5\n",
            "rho -0.5\n",
            "rho -0.7\n",
            "kappa 6\n",
            "rho -0.5\n",
            "rho -0.7\n",
            "theta 0.05\n",
            "kappa 5\n",
            "rho -0.5\n",
            "rho -0.7\n",
            "kappa 6\n",
            "rho -0.5\n",
            "rho -0.7\n",
            "\n",
            "vo 0.05\n",
            "sigma 0.4\n",
            "theta 0.01\n",
            "kappa 5\n",
            "rho -0.5\n",
            "rho -0.7\n",
            "kappa 6\n",
            "rho -0.5\n",
            "rho -0.7\n",
            "theta 0.03\n",
            "kappa 5\n",
            "rho -0.5\n",
            "rho -0.7\n",
            "kappa 6\n",
            "rho -0.5\n",
            "rho -0.7\n",
            "theta 0.05\n",
            "kappa 5\n",
            "rho -0.5\n",
            "rho -0.7\n",
            "kappa 6\n",
            "rho -0.5\n",
            "rho -0.7\n",
            "sigma 0.6\n",
            "theta 0.01\n",
            "kappa 5\n",
            "rho -0.5\n",
            "rho -0.7\n",
            "kappa 6\n",
            "rho -0.5\n",
            "rho -0.7\n",
            "theta 0.03\n",
            "kappa 5\n",
            "rho -0.5\n",
            "rho -0.7\n",
            "kappa 6\n",
            "rho -0.5\n",
            "rho -0.7\n",
            "theta 0.05\n",
            "kappa 5\n",
            "rho -0.5\n",
            "rho -0.7\n",
            "kappa 6\n",
            "rho -0.5\n",
            "rho -0.7\n",
            "sigma 0.8\n",
            "theta 0.01\n",
            "kappa 5\n",
            "rho -0.5\n",
            "rho -0.7\n",
            "kappa 6\n",
            "rho -0.5\n",
            "rho -0.7\n",
            "theta 0.03\n",
            "kappa 5\n",
            "rho -0.5\n",
            "rho -0.7\n",
            "kappa 6\n",
            "rho -0.5\n",
            "rho -0.7\n",
            "theta 0.05\n",
            "kappa 5\n",
            "rho -0.5\n",
            "rho -0.7\n",
            "kappa 6\n",
            "rho -0.5\n",
            "rho -0.7\n",
            "\n",
            "vo 0.07\n",
            "sigma 0.4\n",
            "theta 0.01\n",
            "kappa 5\n",
            "rho -0.5\n",
            "rho -0.7\n",
            "kappa 6\n",
            "rho -0.5\n",
            "rho -0.7\n",
            "theta 0.03\n",
            "kappa 5\n",
            "rho -0.5\n",
            "rho -0.7\n",
            "kappa 6\n",
            "rho -0.5\n",
            "rho -0.7\n",
            "theta 0.05\n",
            "kappa 5\n",
            "rho -0.5\n",
            "rho -0.7\n",
            "kappa 6\n",
            "rho -0.5\n",
            "rho -0.7\n",
            "sigma 0.6\n",
            "theta 0.01\n",
            "kappa 5\n",
            "rho -0.5\n",
            "rho -0.7\n",
            "kappa 6\n",
            "rho -0.5\n",
            "rho -0.7\n",
            "theta 0.03\n",
            "kappa 5\n",
            "rho -0.5\n",
            "rho -0.7\n",
            "kappa 6\n",
            "rho -0.5\n",
            "rho -0.7\n",
            "theta 0.05\n",
            "kappa 5\n",
            "rho -0.5\n",
            "rho -0.7\n",
            "kappa 6\n",
            "rho -0.5\n",
            "rho -0.7\n",
            "sigma 0.8\n",
            "theta 0.01\n",
            "kappa 5\n",
            "rho -0.5\n",
            "rho -0.7\n",
            "kappa 6\n",
            "rho -0.5\n",
            "rho -0.7\n",
            "theta 0.03\n",
            "kappa 5\n",
            "rho -0.5\n",
            "rho -0.7\n",
            "kappa 6\n",
            "rho -0.5\n",
            "rho -0.7\n",
            "theta 0.05\n",
            "kappa 5\n",
            "rho -0.5\n",
            "rho -0.7\n",
            "kappa 6\n",
            "rho -0.5\n",
            "rho -0.7\n"
          ],
          "name": "stdout"
        }
      ]
    },
    {
      "cell_type": "code",
      "metadata": {
        "colab": {
          "base_uri": "https://localhost:8080/",
          "height": 206
        },
        "id": "vrddJbjwBPc2",
        "outputId": "6f3fb152-e0eb-459e-ab3e-5ba16d4388d6"
      },
      "source": [
        "df.head()"
      ],
      "execution_count": 14,
      "outputs": [
        {
          "output_type": "execute_result",
          "data": {
            "text/html": [
              "<div>\n",
              "<style scoped>\n",
              "    .dataframe tbody tr th:only-of-type {\n",
              "        vertical-align: middle;\n",
              "    }\n",
              "\n",
              "    .dataframe tbody tr th {\n",
              "        vertical-align: top;\n",
              "    }\n",
              "\n",
              "    .dataframe thead th {\n",
              "        text-align: right;\n",
              "    }\n",
              "</style>\n",
              "<table border=\"1\" class=\"dataframe\">\n",
              "  <thead>\n",
              "    <tr style=\"text-align: right;\">\n",
              "      <th></th>\n",
              "      <th>price</th>\n",
              "      <th>stock</th>\n",
              "      <th>sigma</th>\n",
              "      <th>strike</th>\n",
              "      <th>maturity</th>\n",
              "      <th>initial_vol</th>\n",
              "      <th>kappa</th>\n",
              "      <th>rho</th>\n",
              "      <th>theta</th>\n",
              "      <th>interest_rates</th>\n",
              "    </tr>\n",
              "  </thead>\n",
              "  <tbody>\n",
              "    <tr>\n",
              "      <th>0</th>\n",
              "      <td>0.096757</td>\n",
              "      <td>2.002480</td>\n",
              "      <td>0.4</td>\n",
              "      <td>1.6</td>\n",
              "      <td>1.5</td>\n",
              "      <td>0.01</td>\n",
              "      <td>5.0</td>\n",
              "      <td>-0.5</td>\n",
              "      <td>0.01</td>\n",
              "      <td>0.0</td>\n",
              "    </tr>\n",
              "    <tr>\n",
              "      <th>1</th>\n",
              "      <td>0.493157</td>\n",
              "      <td>1.967635</td>\n",
              "      <td>0.4</td>\n",
              "      <td>1.6</td>\n",
              "      <td>1.5</td>\n",
              "      <td>0.01</td>\n",
              "      <td>5.0</td>\n",
              "      <td>-0.5</td>\n",
              "      <td>0.01</td>\n",
              "      <td>0.0</td>\n",
              "    </tr>\n",
              "    <tr>\n",
              "      <th>2</th>\n",
              "      <td>0.442087</td>\n",
              "      <td>1.940458</td>\n",
              "      <td>0.4</td>\n",
              "      <td>1.6</td>\n",
              "      <td>1.5</td>\n",
              "      <td>0.01</td>\n",
              "      <td>5.0</td>\n",
              "      <td>-0.5</td>\n",
              "      <td>0.01</td>\n",
              "      <td>0.0</td>\n",
              "    </tr>\n",
              "    <tr>\n",
              "      <th>3</th>\n",
              "      <td>0.000000</td>\n",
              "      <td>1.868254</td>\n",
              "      <td>0.4</td>\n",
              "      <td>1.6</td>\n",
              "      <td>1.5</td>\n",
              "      <td>0.01</td>\n",
              "      <td>5.0</td>\n",
              "      <td>-0.5</td>\n",
              "      <td>0.01</td>\n",
              "      <td>0.0</td>\n",
              "    </tr>\n",
              "    <tr>\n",
              "      <th>4</th>\n",
              "      <td>0.371859</td>\n",
              "      <td>2.023016</td>\n",
              "      <td>0.4</td>\n",
              "      <td>1.6</td>\n",
              "      <td>1.5</td>\n",
              "      <td>0.01</td>\n",
              "      <td>5.0</td>\n",
              "      <td>-0.5</td>\n",
              "      <td>0.01</td>\n",
              "      <td>0.0</td>\n",
              "    </tr>\n",
              "  </tbody>\n",
              "</table>\n",
              "</div>"
            ],
            "text/plain": [
              "      price     stock  sigma  strike  ...  kappa  rho  theta  interest_rates\n",
              "0  0.096757  2.002480    0.4     1.6  ...    5.0 -0.5   0.01             0.0\n",
              "1  0.493157  1.967635    0.4     1.6  ...    5.0 -0.5   0.01             0.0\n",
              "2  0.442087  1.940458    0.4     1.6  ...    5.0 -0.5   0.01             0.0\n",
              "3  0.000000  1.868254    0.4     1.6  ...    5.0 -0.5   0.01             0.0\n",
              "4  0.371859  2.023016    0.4     1.6  ...    5.0 -0.5   0.01             0.0\n",
              "\n",
              "[5 rows x 10 columns]"
            ]
          },
          "metadata": {
            "tags": []
          },
          "execution_count": 14
        }
      ]
    },
    {
      "cell_type": "code",
      "metadata": {
        "colab": {
          "base_uri": "https://localhost:8080/"
        },
        "id": "H4hGw1iDSuyK",
        "outputId": "c74049cd-9d7d-4d12-ece7-187b5a5e408f"
      },
      "source": [
        "zero_values = sum(x == 0 for x in df.price)\n",
        "non_zeros_values = sum(x != 0 for x in df.price)\n",
        "\n",
        "print(f\"This database contains {len(df)} options. \\n{zero_values} have zero value.\")"
      ],
      "execution_count": 10,
      "outputs": [
        {
          "output_type": "stream",
          "text": [
            "This database contains 345600 options. \n",
            "123179 have zero value.\n"
          ],
          "name": "stdout"
        }
      ]
    },
    {
      "cell_type": "code",
      "metadata": {
        "colab": {
          "base_uri": "https://localhost:8080/",
          "height": 265
        },
        "id": "oJf4_bsvAf5q",
        "outputId": "be8d6dd1-9ee6-46fb-9b86-fb62ac34368f"
      },
      "source": [
        "plt.hist(df.price, bins =100);"
      ],
      "execution_count": 11,
      "outputs": [
        {
          "output_type": "display_data",
          "data": {
            "image/png": "[encoded data removed]",
            "text/plain": [
              "<Figure size 432x288 with 1 Axes>"
            ]
          },
          "metadata": {
            "tags": [],
            "needs_background": "light"
          }
        }
      ]
    },
    {
      "cell_type": "code",
      "metadata": {
        "colab": {
          "base_uri": "https://localhost:8080/"
        },
        "id": "_H113R74Z2Kf",
        "outputId": "379fe83a-d667-4afa-d0f8-037fe2e2fe25"
      },
      "source": [
        "len(df)"
      ],
      "execution_count": 15,
      "outputs": [
        {
          "output_type": "execute_result",
          "data": {
            "text/plain": [
              "345600"
            ]
          },
          "metadata": {
            "tags": []
          },
          "execution_count": 15
        }
      ]
    },
    {
      "cell_type": "code",
      "metadata": {
        "id": "YMKgy5IxeIXS"
      },
      "source": [
        "df.to_csv('dataset4.csv')"
      ],
      "execution_count": 13,
      "outputs": []
    },
    {
      "cell_type": "code",
      "metadata": {
        "id": "e4LvH9kleWSO"
      },
      "source": [
        ""
      ],
      "execution_count": null,
      "outputs": []
    }
  ]
}
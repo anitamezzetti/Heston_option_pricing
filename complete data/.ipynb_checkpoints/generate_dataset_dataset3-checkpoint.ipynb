{
  "nbformat": 4,
  "nbformat_minor": 0,
  "metadata": {
    "accelerator": "GPU",
    "colab": {
      "name": "generate_dataset.ipynb",
      "provenance": []
    },
    "kernelspec": {
      "display_name": "fbd",
      "language": "python",
      "name": "fbd"
    },
    "language_info": {
      "codemirror_mode": {
        "name": "ipython",
        "version": 3
      },
      "file_extension": ".py",
      "mimetype": "text/x-python",
      "name": "python",
      "nbconvert_exporter": "python",
      "pygments_lexer": "ipython3",
      "version": "3.8.5"
    }
  },
  "cells": [
    {
      "cell_type": "code",
      "metadata": {
        "id": "Fd95GEZz_3ZC"
      },
      "source": [
        "import numpy as np\n",
        "import os\n",
        "from time import time\n",
        "import matplotlib.pyplot as plt\n",
        "import pandas as pd"
      ],
      "execution_count": 8,
      "outputs": []
    },
    {
      "cell_type": "code",
      "metadata": {
        "id": "C4ux4-U7_3ZD"
      },
      "source": [
        "start = time()\n",
        "\n",
        "# model parameters\n",
        "Sigma = [0.4, 0.5, 0.6, 0.7]\n",
        "theta = 0.019\n",
        "kappa = 6.21\n",
        "rho = -0.5\n",
        "T1 = 10\n",
        "S0 = 2\n",
        "\n",
        "# initial conditions\n",
        "# S0 \n",
        "V0 = [0.01, 0.05, 0.07]"
      ],
      "execution_count": 16,
      "outputs": []
    },
    {
      "cell_type": "code",
      "metadata": {
        "id": "utMRt0RJ30Nu"
      },
      "source": [
        "# option parameters\n",
        "int_rates = [0, 0.05]\n",
        "K = np.arange(1.6,2.4,0.2)\n",
        "time_maturity = np.arange(1.5,2.5,0.5)"
      ],
      "execution_count": 19,
      "outputs": []
    },
    {
      "cell_type": "code",
      "metadata": {
        "id": "SZusfSVY_3ZF"
      },
      "source": [
        "num_simulations = 500\n",
        "n = 500"
      ],
      "execution_count": 20,
      "outputs": []
    },
    {
      "cell_type": "markdown",
      "metadata": {
        "id": "UUijZcCs_3ZE"
      },
      "source": [
        "Stock prices simulation:"
      ]
    },
    {
      "cell_type": "code",
      "metadata": {
        "id": "KjKjTk_h_3ZE"
      },
      "source": [
        "def stock_price_generator (t_max, n ,m, S0, k, V0, sigma, theta, kappa, rho):\n",
        "    dt = t_max / n\n",
        "    \n",
        "    # Brownian motions:\n",
        "    dw_v = np.random.normal(size=(m, n)) * np.sqrt(dt)\n",
        "    dw_i = np.random.normal(size=(m, n)) * np.sqrt(dt)\n",
        "\n",
        "    dw_s = rho * dw_v + np.sqrt(1.0 - rho ** 2) * dw_i\n",
        "\n",
        "    # Perform time evolution \n",
        "    s = np.empty((m, n + 1)) # initialisation stock prices vector\n",
        "    s[:, 0] = S0\n",
        "\n",
        "    v = np.ones(m) * V0\n",
        "\n",
        "    for t in range(n):\n",
        "        dv = kappa * (theta - v) * dt + sigma * np.sqrt(v) * dw_v[:, t]\n",
        "        ds = r * s[:, t] * dt + np.sqrt(v) * s[:, t] * dw_s[:, t]\n",
        "\n",
        "        v = np.clip(v + dv, a_min=0.0, a_max=None)\n",
        "        s[:, t + 1] = s[:, t] + ds\n",
        "      \n",
        "        \n",
        "    return s\n",
        "    "
      ],
      "execution_count": 21,
      "outputs": []
    },
    {
      "cell_type": "code",
      "metadata": {
        "id": "ttzElfx7_3ZF"
      },
      "source": [
        "def find_expected_payoff(stock_path, k, r, t_max):\n",
        "    payoff = max(stock_path[-1] - k, 0) # one payoff for each simulation\n",
        "    c = payoff * np.exp(-r * t_max)     # in case r=0, this step is useless\n",
        "    \n",
        "    return c"
      ],
      "execution_count": 22,
      "outputs": []
    },
    {
      "cell_type": "code",
      "metadata": {
        "id": "t6OJ8LBNRdaT"
      },
      "source": [
        "df = pd.DataFrame(columns=['price', 'stock','sigma', 'strike', 'maturity', 'initial_vol', 'interest_rates'])"
      ],
      "execution_count": 23,
      "outputs": []
    },
    {
      "cell_type": "code",
      "metadata": {
        "colab": {
          "base_uri": "https://localhost:8080/"
        },
        "id": "eUSPiN1j_3ZF",
        "outputId": "1ce3c462-dc71-4d05-d77e-a7d98bf696e9"
      },
      "source": [
        "# fill the dataset\n",
        "for v0 in V0:\n",
        "  print(f\"vo {v0}\")\n",
        "  for sigma in Sigma:\n",
        "    print(f\"sigma {sigma}\")\n",
        "    for k in K:\n",
        "      print(f\"k {k}\")\n",
        "      for t in time_maturity:\n",
        "        for r in int_rates:\n",
        "            s = stock_price_generator (t, n, num_simulations, S0, k, v0, sigma, theta, kappa, rho)\n",
        "\n",
        "            for stock_path in s:\n",
        "                p = find_expected_payoff(stock_path, k, r, t)\n",
        "\n",
        "                new_row = {\n",
        "                    'price':p, \n",
        "                    'stock':stock_path[T1],\n",
        "                    'strike':k, \n",
        "                    'maturity':t, \n",
        "                    'sigma':sigma,\n",
        "                    'initial_vol': v0, \n",
        "                    'interest_rates':r\n",
        "                }\n",
        "                #append row to the dataframe\n",
        "                df = df.append(new_row, ignore_index=True)\n"
      ],
      "execution_count": 24,
      "outputs": [
        {
          "output_type": "stream",
          "text": [
            "vo 0.01\n",
            "sigma 0.4\n",
            "k 1.6\n",
            "k 1.8\n",
            "k 2.0\n",
            "k 2.2\n",
            "sigma 0.5\n",
            "k 1.6\n",
            "k 1.8\n",
            "k 2.0\n",
            "k 2.2\n",
            "sigma 0.6\n",
            "k 1.6\n",
            "k 1.8\n",
            "k 2.0\n",
            "k 2.2\n",
            "sigma 0.7\n",
            "k 1.6\n",
            "k 1.8\n",
            "k 2.0\n",
            "k 2.2\n",
            "vo 0.05\n",
            "sigma 0.4\n",
            "k 1.6\n",
            "k 1.8\n",
            "k 2.0\n",
            "k 2.2\n",
            "sigma 0.5\n",
            "k 1.6\n",
            "k 1.8\n",
            "k 2.0\n",
            "k 2.2\n",
            "sigma 0.6\n",
            "k 1.6\n",
            "k 1.8\n",
            "k 2.0\n",
            "k 2.2\n",
            "sigma 0.7\n",
            "k 1.6\n",
            "k 1.8\n",
            "k 2.0\n",
            "k 2.2\n",
            "vo 0.07\n",
            "sigma 0.4\n",
            "k 1.6\n",
            "k 1.8\n",
            "k 2.0\n",
            "k 2.2\n",
            "sigma 0.5\n",
            "k 1.6\n",
            "k 1.8\n",
            "k 2.0\n",
            "k 2.2\n",
            "sigma 0.6\n",
            "k 1.6\n",
            "k 1.8\n",
            "k 2.0\n",
            "k 2.2\n",
            "sigma 0.7\n",
            "k 1.6\n",
            "k 1.8\n",
            "k 2.0\n",
            "k 2.2\n"
          ],
          "name": "stdout"
        }
      ]
    },
    {
      "cell_type": "code",
      "metadata": {
        "colab": {
          "base_uri": "https://localhost:8080/",
          "height": 206
        },
        "id": "vrddJbjwBPc2",
        "outputId": "989b7d61-3bbc-41a6-fa47-52c001dbd747"
      },
      "source": [
        "df.head()"
      ],
      "execution_count": 26,
      "outputs": [
        {
          "output_type": "execute_result",
          "data": {
            "text/html": [
              "<div>\n",
              "<style scoped>\n",
              "    .dataframe tbody tr th:only-of-type {\n",
              "        vertical-align: middle;\n",
              "    }\n",
              "\n",
              "    .dataframe tbody tr th {\n",
              "        vertical-align: top;\n",
              "    }\n",
              "\n",
              "    .dataframe thead th {\n",
              "        text-align: right;\n",
              "    }\n",
              "</style>\n",
              "<table border=\"1\" class=\"dataframe\">\n",
              "  <thead>\n",
              "    <tr style=\"text-align: right;\">\n",
              "      <th></th>\n",
              "      <th>price</th>\n",
              "      <th>stock</th>\n",
              "      <th>sigma</th>\n",
              "      <th>strike</th>\n",
              "      <th>maturity</th>\n",
              "      <th>initial_vol</th>\n",
              "      <th>interest_rates</th>\n",
              "    </tr>\n",
              "  </thead>\n",
              "  <tbody>\n",
              "    <tr>\n",
              "      <th>0</th>\n",
              "      <td>0.606929</td>\n",
              "      <td>1.950446</td>\n",
              "      <td>0.4</td>\n",
              "      <td>1.6</td>\n",
              "      <td>1.5</td>\n",
              "      <td>0.01</td>\n",
              "      <td>0.0</td>\n",
              "    </tr>\n",
              "    <tr>\n",
              "      <th>1</th>\n",
              "      <td>0.260689</td>\n",
              "      <td>1.955489</td>\n",
              "      <td>0.4</td>\n",
              "      <td>1.6</td>\n",
              "      <td>1.5</td>\n",
              "      <td>0.01</td>\n",
              "      <td>0.0</td>\n",
              "    </tr>\n",
              "    <tr>\n",
              "      <th>2</th>\n",
              "      <td>0.767140</td>\n",
              "      <td>2.011468</td>\n",
              "      <td>0.4</td>\n",
              "      <td>1.6</td>\n",
              "      <td>1.5</td>\n",
              "      <td>0.01</td>\n",
              "      <td>0.0</td>\n",
              "    </tr>\n",
              "    <tr>\n",
              "      <th>3</th>\n",
              "      <td>0.000000</td>\n",
              "      <td>1.944309</td>\n",
              "      <td>0.4</td>\n",
              "      <td>1.6</td>\n",
              "      <td>1.5</td>\n",
              "      <td>0.01</td>\n",
              "      <td>0.0</td>\n",
              "    </tr>\n",
              "    <tr>\n",
              "      <th>4</th>\n",
              "      <td>0.724197</td>\n",
              "      <td>2.025303</td>\n",
              "      <td>0.4</td>\n",
              "      <td>1.6</td>\n",
              "      <td>1.5</td>\n",
              "      <td>0.01</td>\n",
              "      <td>0.0</td>\n",
              "    </tr>\n",
              "  </tbody>\n",
              "</table>\n",
              "</div>"
            ],
            "text/plain": [
              "      price     stock  sigma  strike  maturity  initial_vol  interest_rates\n",
              "0  0.606929  1.950446    0.4     1.6       1.5         0.01             0.0\n",
              "1  0.260689  1.955489    0.4     1.6       1.5         0.01             0.0\n",
              "2  0.767140  2.011468    0.4     1.6       1.5         0.01             0.0\n",
              "3  0.000000  1.944309    0.4     1.6       1.5         0.01             0.0\n",
              "4  0.724197  2.025303    0.4     1.6       1.5         0.01             0.0"
            ]
          },
          "metadata": {
            "tags": []
          },
          "execution_count": 26
        }
      ]
    },
    {
      "cell_type": "code",
      "metadata": {
        "colab": {
          "base_uri": "https://localhost:8080/"
        },
        "id": "H4hGw1iDSuyK",
        "outputId": "80495c57-a2a3-4318-c885-ac296251cf27"
      },
      "source": [
        "zero_values = sum(x == 0 for x in df.price)\n",
        "non_zeros_values = sum(x != 0 for x in df.price)\n",
        "\n",
        "print(f\"This database contains {len(df)} options. \\n{zero_values} have zero value.\")"
      ],
      "execution_count": 27,
      "outputs": [
        {
          "output_type": "stream",
          "text": [
            "This database contains 96000 options. \n",
            "32815 have zero value.\n"
          ],
          "name": "stdout"
        }
      ]
    },
    {
      "cell_type": "code",
      "metadata": {
        "colab": {
          "base_uri": "https://localhost:8080/",
          "height": 265
        },
        "id": "4JzTZPkFZ2Kf",
        "outputId": "7cdbd87f-5c00-4660-a006-e327b6dce95c"
      },
      "source": [
        "plt.hist(df.price, bins =100);"
      ],
      "execution_count": 28,
      "outputs": [
        {
          "output_type": "display_data",
          "data": {
            "image/png": "[encoded data removed]",
            "text/plain": [
              "<Figure size 432x288 with 1 Axes>"
            ]
          },
          "metadata": {
            "tags": [],
            "needs_background": "light"
          }
        }
      ]
    },
    {
      "cell_type": "code",
      "metadata": {
        "colab": {
          "base_uri": "https://localhost:8080/"
        },
        "id": "_H113R74Z2Kf",
        "outputId": "06bed60a-31fc-4ae0-ad3c-c65f7a4d7c42"
      },
      "source": [
        "len(df)"
      ],
      "execution_count": 29,
      "outputs": [
        {
          "output_type": "execute_result",
          "data": {
            "text/plain": [
              "96000"
            ]
          },
          "metadata": {
            "tags": []
          },
          "execution_count": 29
        }
      ]
    },
    {
      "cell_type": "code",
      "metadata": {
        "id": "YMKgy5IxeIXS"
      },
      "source": [
        "df.to_csv('dataset3.csv')"
      ],
      "execution_count": 30,
      "outputs": []
    },
    {
      "cell_type": "code",
      "metadata": {
        "id": "e4LvH9kleWSO"
      },
      "source": [
        ""
      ],
      "execution_count": null,
      "outputs": []
    }
  ]
}
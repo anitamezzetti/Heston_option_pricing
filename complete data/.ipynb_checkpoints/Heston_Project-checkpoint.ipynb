{
 "cells": [
  {
   "cell_type": "markdown",
   "metadata": {},
   "source": [
    "# **Heston Model Project**\n",
    "Anita Mezzetti \n",
    "\n",
    "course: Machine Learning for finance\n",
    "\n",
    "Table of context:\n",
    "- [Explicit solution of the Heston price equation](#solution)\n",
    "- [Stock paths generator](#stock)\n",
    "- [Generate data](#data)\n",
    "- [Monte Carlo simulation](#mc)\n",
    "    - [Monte Carlo simulation with Antithetic variables](#mcav)\n",
    "- [Data Creation for ML methods](#header2)\n"
   ]
  },
  {
   "cell_type": "markdown",
   "metadata": {},
   "source": [
    "### Import packages"
   ]
  },
  {
   "cell_type": "code",
   "execution_count": 80,
   "metadata": {},
   "outputs": [],
   "source": [
    "import numpy as np\n",
    "import pandas as pd\n",
    "import math as math\n",
    "import cmath as cmath\n",
    "from scipy import integrate\n",
    "import seaborn as sns\n",
    "import matplotlib.pyplot as plt\n",
    "import time"
   ]
  },
  {
   "cell_type": "code",
   "execution_count": null,
   "metadata": {},
   "outputs": [],
   "source": []
  },
  {
   "cell_type": "markdown",
   "metadata": {},
   "source": [
    "# Explicit solution of the Heston price equation <a class=\"anchor\" id=\"solution\"></a>\n",
    "In this section, we define the functions needed to find the numberical solution:\n",
    "$$ C(S,T) = S P_1 - K P_2 $$\n",
    "More details in the report"
   ]
  },
  {
   "cell_type": "code",
   "execution_count": 2,
   "metadata": {},
   "outputs": [],
   "source": [
    "# characteristic function\n",
    "def f(phi, kappa, theta, sigma, rho, v0, r, T, s0, status):\n",
    "    \n",
    "    a = kappa * theta\n",
    "    x = math.log(s0)\n",
    "    \n",
    "    # remind that lamda is zero\n",
    "    if status == 1:\n",
    "        u = 0.5\n",
    "        b = kappa - rho * sigma\n",
    "    else:\n",
    "        u = -0.5\n",
    "        b = kappa\n",
    "    \n",
    "    d = cmath.sqrt((rho * sigma * phi * 1j - b)**2 - sigma**2 * (2 * u * phi * 1j - phi**2))\n",
    "    g = (b - rho * sigma * phi * 1j + d) / (b - rho * sigma * phi * 1j - d)\n",
    "    \n",
    "    C = r * phi * 1j * T + (a / sigma**2)*((b - rho * sigma * phi * 1j + d) * T - 2 * cmath.log((1 - g * cmath.exp(d * T))/(1 - g)))\n",
    "    D = (b - rho * sigma * phi * 1j + d) / sigma**2 * ((1 - cmath.exp(d * T)) / (1 - g * cmath.exp(d * T)))\n",
    "    \n",
    "    return cmath.exp(C + D * v0 + 1j * phi * x)"
   ]
  },
  {
   "cell_type": "code",
   "execution_count": 3,
   "metadata": {},
   "outputs": [],
   "source": [
    "# P1 and P2\n",
    "def p(kappa, theta, sigma, rho, v0 ,r ,T ,s0 , K, status):\n",
    "    \n",
    "    \n",
    "    integrand = lambda phi: (cmath.exp(-1j * phi * cmath.log(K)) * f(phi, kappa, \\\n",
    "                              theta, sigma, rho, v0, r, T, s0, status) / (1j * phi)).real \n",
    "    \n",
    "    return (0.5 + (1 / math.pi) * integrate.quad(integrand, 0, 100)[0]) # approximate indefinite intergral with a definite one\n",
    "\n",
    "def p1(kappa, theta, sigma, rho, v0 ,r ,T ,s0 ,K):\n",
    "    return p(kappa, theta, sigma, rho, v0 ,r ,T ,s0 ,K, 1)\n",
    "\n",
    "def p2(kappa, theta, sigma, rho, v0 ,r ,T ,s0 ,K):\n",
    "    return p(kappa, theta, sigma, rho, v0 ,r ,T ,s0 ,K, 2)\n"
   ]
  },
  {
   "cell_type": "code",
   "execution_count": 4,
   "metadata": {},
   "outputs": [],
   "source": [
    "# call price\n",
    "def call_price(kappa, theta, sigma, rho, v0 ,r ,T ,s0 ,K):\n",
    "    \n",
    "    P1 = p1(kappa, theta, sigma, rho, v0 ,r ,T ,s0 ,K)\n",
    "    P2 = p2(kappa, theta, sigma, rho, v0 ,r ,T ,s0 ,K)\n",
    "    \n",
    "    result = (s0 * P1 - K * math.exp(-r * T) * P2)\n",
    "    \n",
    "    if result<0:\n",
    "        result = 0\n",
    "        \n",
    "    return result"
   ]
  },
  {
   "cell_type": "markdown",
   "metadata": {},
   "source": [
    "# Stock paths generator <a class=\"anchor\" id=\"stock\"></a>\n",
    "We define the functions needed to create the stock paths using the Heston model dynamic:\n"
   ]
  },
  {
   "cell_type": "code",
   "execution_count": 5,
   "metadata": {},
   "outputs": [],
   "source": [
    "# generate the stock price simulation\n",
    "def stock_price_generator (T, n , m, r, S0, k, V0, sigma, theta, kappa, rho, generator, entire_stock=False ):\n",
    "    dt = T / n\n",
    "    \n",
    "    # Brownian motions:\n",
    "    dw_v = generator.normal(size=(m, n)) * np.sqrt(dt)\n",
    "    dw_i = generator.normal(size=(m, n)) * np.sqrt(dt)\n",
    "\n",
    "    dw_s = rho * dw_v + np.sqrt(1.0 - rho ** 2) * dw_i\n",
    "\n",
    "    # Perform time evolution \n",
    "    s = np.empty((m, n + 1)) # initialisation stock prices vector\n",
    "    s[:, 0] = S0\n",
    "\n",
    "    v = np.ones(m) * V0\n",
    "\n",
    "    for t in range(n):\n",
    "        dv = kappa * (theta - v) * dt + sigma * np.sqrt(v) * dw_v[:, t]\n",
    "        ds = r * s[:, t] * dt + np.sqrt(v) * s[:, t] * dw_s[:, t]\n",
    "\n",
    "        v = np.clip(v + dv, a_min=0.0, a_max=None)\n",
    "        s[:, t + 1] = s[:, t] + ds\n",
    "        \n",
    "    if entire_stock==False: # return only the stocks simulation at T\n",
    "        result = s[:,-1]; \n",
    "    else:\n",
    "        result = s; # return all the stock dynamic\n",
    "        \n",
    "    return result\n",
    "    "
   ]
  },
  {
   "cell_type": "code",
   "execution_count": 6,
   "metadata": {},
   "outputs": [],
   "source": [
    "# find the stock price from ST as expected return\n",
    "def find_expected_payoff(stock_path, k, r, t_max):\n",
    "    payoff = max(stock_path[-1] - k, 0) # one payoff for each simulation\n",
    "    c = payoff * np.exp(-r * t_max)     # in case r=0, this step is useless\n",
    "    \n",
    "    return c"
   ]
  },
  {
   "cell_type": "markdown",
   "metadata": {},
   "source": [
    "# Generate Data <a class=\"anchor\" id=\"data\"></a>\n",
    "\n",
    "- [all values fixed apart S0](#data1)\n",
    "- [all values fixed apart S0 and T](#data2)\n",
    "- [all values fixed apart S0 and r](#data3)\n",
    "- [all values fixed apart S0 and V0](#data4)\n",
    "- [all values fixed apart S0, T and V0](#data5)"
   ]
  },
  {
   "cell_type": "code",
   "execution_count": 7,
   "metadata": {},
   "outputs": [],
   "source": [
    "generator = np.random.default_rng()"
   ]
  },
  {
   "cell_type": "markdown",
   "metadata": {},
   "source": [
    "**- All values fixed apart S0**"
   ]
  },
  {
   "cell_type": "code",
   "execution_count": 12,
   "metadata": {},
   "outputs": [],
   "source": [
    "# set parameters and constants\n",
    "r = 0\n",
    "k = 2\n",
    "V0 = 0.01\n",
    "sigma = 0.6\n",
    "theta = 0.02\n",
    "kappa = 6.21\n",
    "T1 = 10\n",
    "rho = -0.5\n",
    "\n",
    "S0 = np.arange(1,4,0.1)"
   ]
  },
  {
   "cell_type": "code",
   "execution_count": 13,
   "metadata": {},
   "outputs": [],
   "source": [
    "time_maturity = 3\n",
    "num_simulations = 100\n",
    "n = 250 # numbers of division of the time "
   ]
  },
  {
   "cell_type": "code",
   "execution_count": 14,
   "metadata": {},
   "outputs": [],
   "source": [
    "df1 = pd.DataFrame(columns=['stock_zero', 'price'])"
   ]
  },
  {
   "cell_type": "code",
   "execution_count": 15,
   "metadata": {},
   "outputs": [],
   "source": [
    "# fill the dataset\n",
    "for s0 in S0:\n",
    "    s = stock_price_generator (time_maturity, n, num_simulations, r, s0, k, V0, sigma, theta, kappa, rho, generator, entire_stock=True)\n",
    "\n",
    "    for stock_path in s: # for each simulation\n",
    "        price = find_expected_payoff(stock_path, k, r, time_maturity)\n",
    "        \n",
    "        new_row = {\n",
    "                      'price':price, \n",
    "                      'stock_zero':stock_path[T1],\n",
    "                  }\n",
    "        #append row to the dataframe\n",
    "        df1 = df1.append(new_row, ignore_index=True)"
   ]
  },
  {
   "cell_type": "code",
   "execution_count": 16,
   "metadata": {},
   "outputs": [
    {
     "data": {
      "text/html": [
       "<div>\n",
       "<style scoped>\n",
       "    .dataframe tbody tr th:only-of-type {\n",
       "        vertical-align: middle;\n",
       "    }\n",
       "\n",
       "    .dataframe tbody tr th {\n",
       "        vertical-align: top;\n",
       "    }\n",
       "\n",
       "    .dataframe thead th {\n",
       "        text-align: right;\n",
       "    }\n",
       "</style>\n",
       "<table border=\"1\" class=\"dataframe\">\n",
       "  <thead>\n",
       "    <tr style=\"text-align: right;\">\n",
       "      <th></th>\n",
       "      <th>stock_zero</th>\n",
       "      <th>price</th>\n",
       "    </tr>\n",
       "  </thead>\n",
       "  <tbody>\n",
       "    <tr>\n",
       "      <th>0</th>\n",
       "      <td>1.030967</td>\n",
       "      <td>0.0</td>\n",
       "    </tr>\n",
       "    <tr>\n",
       "      <th>1</th>\n",
       "      <td>1.023386</td>\n",
       "      <td>0.0</td>\n",
       "    </tr>\n",
       "    <tr>\n",
       "      <th>2</th>\n",
       "      <td>1.039906</td>\n",
       "      <td>0.0</td>\n",
       "    </tr>\n",
       "    <tr>\n",
       "      <th>3</th>\n",
       "      <td>0.967509</td>\n",
       "      <td>0.0</td>\n",
       "    </tr>\n",
       "    <tr>\n",
       "      <th>4</th>\n",
       "      <td>0.991601</td>\n",
       "      <td>0.0</td>\n",
       "    </tr>\n",
       "  </tbody>\n",
       "</table>\n",
       "</div>"
      ],
      "text/plain": [
       "   stock_zero  price\n",
       "0    1.030967    0.0\n",
       "1    1.023386    0.0\n",
       "2    1.039906    0.0\n",
       "3    0.967509    0.0\n",
       "4    0.991601    0.0"
      ]
     },
     "execution_count": 16,
     "metadata": {},
     "output_type": "execute_result"
    }
   ],
   "source": [
    "df1.head()"
   ]
  },
  {
   "cell_type": "code",
   "execution_count": 17,
   "metadata": {},
   "outputs": [
    {
     "data": {
      "text/plain": [
       "3000"
      ]
     },
     "execution_count": 17,
     "metadata": {},
     "output_type": "execute_result"
    }
   ],
   "source": [
    "len(df1)"
   ]
  },
  {
   "cell_type": "code",
   "execution_count": null,
   "metadata": {},
   "outputs": [],
   "source": []
  },
  {
   "cell_type": "markdown",
   "metadata": {},
   "source": [
    "# Monte Carlo simulation  <a class=\"anchor\" id=\"mc\"></a>"
   ]
  },
  {
   "cell_type": "code",
   "execution_count": 64,
   "metadata": {},
   "outputs": [],
   "source": [
    "# function which finds the expected payoff \n",
    "def find_mc_price(sT, k, r, T):\n",
    "    final = sT - k\n",
    "    payoff = [max(x,0) for x in final] # one payoff for each simulation\n",
    "    payoff = np.asarray(payoff)\n",
    "    \n",
    "    expected_payoff = payoff.mean() # mean\n",
    "    \n",
    "    c = expected_payoff * np.exp(-r * T)     # in case r=0, this step is useless\n",
    "    \n",
    "    return c"
   ]
  },
  {
   "cell_type": "code",
   "execution_count": 65,
   "metadata": {},
   "outputs": [],
   "source": [
    "num_sim_mc = 1000"
   ]
  },
  {
   "cell_type": "markdown",
   "metadata": {},
   "source": [
    "**- All values fixed apart S0**"
   ]
  },
  {
   "cell_type": "code",
   "execution_count": 66,
   "metadata": {},
   "outputs": [],
   "source": [
    "df1_mc = pd.DataFrame(columns=['stock_zero', 'mc_price', 'num_price'])"
   ]
  },
  {
   "cell_type": "code",
   "execution_count": 67,
   "metadata": {},
   "outputs": [],
   "source": [
    "# find the mc price\n",
    "for s0 in S0:\n",
    "    sT = stock_price_generator (time_maturity, n, num_sim_mc, r, s0, k, V0, sigma, theta, kappa, rho, generator)\n",
    "\n",
    "    mc = find_mc_price(sT, k, r, time_maturity)\n",
    "    \n",
    "    num_price = call_price(kappa, theta, sigma, rho, V0, r, time_maturity, s0, k)\n",
    "\n",
    "    new_row = {\n",
    "                  'mc_price':mc, \n",
    "                  'stock_zero':s0,\n",
    "                  'num_price': num_price,\n",
    "              }\n",
    "    #append row to the dataframe\n",
    "    df1_mc = df1_mc.append(new_row, ignore_index=True)"
   ]
  },
  {
   "cell_type": "code",
   "execution_count": 68,
   "metadata": {},
   "outputs": [
    {
     "data": {
      "text/html": [
       "<div>\n",
       "<style scoped>\n",
       "    .dataframe tbody tr th:only-of-type {\n",
       "        vertical-align: middle;\n",
       "    }\n",
       "\n",
       "    .dataframe tbody tr th {\n",
       "        vertical-align: top;\n",
       "    }\n",
       "\n",
       "    .dataframe thead th {\n",
       "        text-align: right;\n",
       "    }\n",
       "</style>\n",
       "<table border=\"1\" class=\"dataframe\">\n",
       "  <thead>\n",
       "    <tr style=\"text-align: right;\">\n",
       "      <th></th>\n",
       "      <th>stock_zero</th>\n",
       "      <th>mc_price</th>\n",
       "      <th>num_price</th>\n",
       "    </tr>\n",
       "  </thead>\n",
       "  <tbody>\n",
       "    <tr>\n",
       "      <th>0</th>\n",
       "      <td>1.0</td>\n",
       "      <td>0.000000</td>\n",
       "      <td>0.0</td>\n",
       "    </tr>\n",
       "    <tr>\n",
       "      <th>1</th>\n",
       "      <td>1.1</td>\n",
       "      <td>0.001246</td>\n",
       "      <td>0.0</td>\n",
       "    </tr>\n",
       "    <tr>\n",
       "      <th>2</th>\n",
       "      <td>1.2</td>\n",
       "      <td>0.002806</td>\n",
       "      <td>0.0</td>\n",
       "    </tr>\n",
       "    <tr>\n",
       "      <th>3</th>\n",
       "      <td>1.3</td>\n",
       "      <td>0.001469</td>\n",
       "      <td>0.0</td>\n",
       "    </tr>\n",
       "    <tr>\n",
       "      <th>4</th>\n",
       "      <td>1.4</td>\n",
       "      <td>0.009668</td>\n",
       "      <td>0.0</td>\n",
       "    </tr>\n",
       "  </tbody>\n",
       "</table>\n",
       "</div>"
      ],
      "text/plain": [
       "   stock_zero  mc_price  num_price\n",
       "0         1.0  0.000000        0.0\n",
       "1         1.1  0.001246        0.0\n",
       "2         1.2  0.002806        0.0\n",
       "3         1.3  0.001469        0.0\n",
       "4         1.4  0.009668        0.0"
      ]
     },
     "execution_count": 68,
     "metadata": {},
     "output_type": "execute_result"
    }
   ],
   "source": [
    "df1_mc.head()"
   ]
  },
  {
   "cell_type": "code",
   "execution_count": 69,
   "metadata": {},
   "outputs": [
    {
     "data": {
      "text/plain": [
       "30"
      ]
     },
     "execution_count": 69,
     "metadata": {},
     "output_type": "execute_result"
    }
   ],
   "source": [
    "len(df1_mc)"
   ]
  },
  {
   "cell_type": "markdown",
   "metadata": {},
   "source": [
    "## Monte Carlo simulation with Antithetic variables <a class=\"anchor\" id=\"mcav\"></a>"
   ]
  },
  {
   "cell_type": "code",
   "execution_count": 70,
   "metadata": {},
   "outputs": [],
   "source": [
    "def stock_price_generator_av (T, n ,m, r, S0, k, V0, sigma, theta, kappa, rho, separate=False):\n",
    "    dt = T / n\n",
    "    \n",
    "    m = int(m/2) # with av we can do half of the simulations\n",
    "    n = int(n)\n",
    "    \n",
    "    # Brownian motions:\n",
    "    dw_v = generator.normal(size=(m, n)) * np.sqrt(dt)\n",
    "    dw_i = generator.normal(size=(m, n)) * np.sqrt(dt)\n",
    "\n",
    "    dw_s = rho * dw_v + np.sqrt(1.0 - rho ** 2) * dw_i\n",
    "\n",
    "    # Perform time evolution \n",
    "    s = np.empty((m, n + 1)) # initialisation stock prices vector\n",
    "    s[:, 0] = S0\n",
    "    \n",
    "    s_ant = np.empty((m, n + 1))\n",
    "    s_ant[:, 0] = S0\n",
    "\n",
    "    v = np.ones(m) * V0\n",
    "    v_ant = np.ones(m) * V0\n",
    "\n",
    "    for t in range(n):\n",
    "        dv = kappa * (theta - v) * dt + sigma * np.sqrt(v) * dw_v[:, t]\n",
    "        dv_ant = kappa * (theta - v_ant) * dt + sigma * np.sqrt(v_ant) * dw_v[:, t]\n",
    "        ds = r * s[:, t] * dt + np.sqrt(v) * s[:, t] * dw_s[:, t]\n",
    "        ds_ant = r * s_ant[:, t] * dt + np.sqrt(v_ant) * s_ant[:, t] * dw_s[:, t]\n",
    "\n",
    "        v = np.clip(v + dv, a_min=0.0, a_max=None)\n",
    "        v_ant = np.clip(v_ant + dv_ant, a_min=0.0, a_max=None)\n",
    "        \n",
    "        s[:, t + 1] = s[:, t] + ds\n",
    "        s_ant[:, t + 1] = s_ant[:, t] + ds_ant\n",
    "        \n",
    "    if separate==True:\n",
    "        return s, s_ant\n",
    "        \n",
    "    return np.concatenate((s, s_ant))[:,-1]"
   ]
  },
  {
   "cell_type": "code",
   "execution_count": 71,
   "metadata": {},
   "outputs": [],
   "source": [
    "mc_price_av = []"
   ]
  },
  {
   "cell_type": "code",
   "execution_count": 72,
   "metadata": {},
   "outputs": [],
   "source": [
    "# find the mc price\n",
    "for s0 in S0:\n",
    "    ST_ant = stock_price_generator_av (time_maturity, n, num_sim_mc, r, s0, k, V0, sigma, theta, kappa, rho, generator)\n",
    "    mc_av = find_mc_price(ST_ant, k, r, time_maturity)\n",
    "    \n",
    "    mc_price_av.append(mc_av)"
   ]
  },
  {
   "cell_type": "code",
   "execution_count": 73,
   "metadata": {},
   "outputs": [],
   "source": [
    "df1_mc['mc_price_av'] = mc_price_av"
   ]
  },
  {
   "cell_type": "code",
   "execution_count": 74,
   "metadata": {},
   "outputs": [
    {
     "data": {
      "text/html": [
       "<div>\n",
       "<style scoped>\n",
       "    .dataframe tbody tr th:only-of-type {\n",
       "        vertical-align: middle;\n",
       "    }\n",
       "\n",
       "    .dataframe tbody tr th {\n",
       "        vertical-align: top;\n",
       "    }\n",
       "\n",
       "    .dataframe thead th {\n",
       "        text-align: right;\n",
       "    }\n",
       "</style>\n",
       "<table border=\"1\" class=\"dataframe\">\n",
       "  <thead>\n",
       "    <tr style=\"text-align: right;\">\n",
       "      <th></th>\n",
       "      <th>stock_zero</th>\n",
       "      <th>mc_price</th>\n",
       "      <th>num_price</th>\n",
       "      <th>mc_price_av</th>\n",
       "    </tr>\n",
       "  </thead>\n",
       "  <tbody>\n",
       "    <tr>\n",
       "      <th>0</th>\n",
       "      <td>1.0</td>\n",
       "      <td>0.000000</td>\n",
       "      <td>0.0</td>\n",
       "      <td>0.000000</td>\n",
       "    </tr>\n",
       "    <tr>\n",
       "      <th>1</th>\n",
       "      <td>1.1</td>\n",
       "      <td>0.001246</td>\n",
       "      <td>0.0</td>\n",
       "      <td>0.000000</td>\n",
       "    </tr>\n",
       "    <tr>\n",
       "      <th>2</th>\n",
       "      <td>1.2</td>\n",
       "      <td>0.002806</td>\n",
       "      <td>0.0</td>\n",
       "      <td>0.000345</td>\n",
       "    </tr>\n",
       "    <tr>\n",
       "      <th>3</th>\n",
       "      <td>1.3</td>\n",
       "      <td>0.001469</td>\n",
       "      <td>0.0</td>\n",
       "      <td>0.001696</td>\n",
       "    </tr>\n",
       "    <tr>\n",
       "      <th>4</th>\n",
       "      <td>1.4</td>\n",
       "      <td>0.009668</td>\n",
       "      <td>0.0</td>\n",
       "      <td>0.009854</td>\n",
       "    </tr>\n",
       "  </tbody>\n",
       "</table>\n",
       "</div>"
      ],
      "text/plain": [
       "   stock_zero  mc_price  num_price  mc_price_av\n",
       "0         1.0  0.000000        0.0     0.000000\n",
       "1         1.1  0.001246        0.0     0.000000\n",
       "2         1.2  0.002806        0.0     0.000345\n",
       "3         1.3  0.001469        0.0     0.001696\n",
       "4         1.4  0.009668        0.0     0.009854"
      ]
     },
     "execution_count": 74,
     "metadata": {},
     "output_type": "execute_result"
    }
   ],
   "source": [
    "df1_mc.head()"
   ]
  },
  {
   "cell_type": "code",
   "execution_count": 75,
   "metadata": {},
   "outputs": [
    {
     "data": {
      "image/png": "[encoded data removed]",
      "text/plain": [
       "<Figure size 432x288 with 1 Axes>"
      ]
     },
     "metadata": {
      "needs_background": "light"
     },
     "output_type": "display_data"
    }
   ],
   "source": [
    "import seaborn as sns\n",
    "sns.scatterplot(data=df1, x=\"stock_zero\", y=\"price\", alpha =0.3)\n",
    "plt.plot(S0, df1_mc.num_price, color='r', linewidth=2, label='numerical sol')\n",
    "plt.plot(S0, df1_mc. mc_price, color='black', linewidth=2, label='MC price')\n",
    "plt.plot(S0, df1_mc. mc_price_av, color='blue', linewidth=2, label='MC price with av')\n",
    "plt.legend()\n",
    "plt.show()"
   ]
  },
  {
   "cell_type": "markdown",
   "metadata": {},
   "source": [
    "The result with mc and mc_av are quite similar. let us know the difference in terms standard deviation and time needed to compute them "
   ]
  },
  {
   "cell_type": "markdown",
   "metadata": {},
   "source": [
    "### Time analysis"
   ]
  },
  {
   "cell_type": "code",
   "execution_count": 84,
   "metadata": {},
   "outputs": [
    {
     "name": "stdout",
     "output_type": "stream",
     "text": [
      "Time needed for Monte Carlo: 1.6491951942443848\n"
     ]
    }
   ],
   "source": [
    "start = time.time()\n",
    "for s0 in S0:\n",
    "    ST_ant = stock_price_generator (time_maturity, n, num_sim_mc, r, s0, k, V0, sigma, theta, kappa, rho, generator)\n",
    "    mc_av = find_mc_price(ST_ant, k, r, time_maturity)\n",
    "end = time.time()\n",
    "time_cm = end - start\n",
    "print(f\"Time needed for Monte Carlo: {time_cm}\")"
   ]
  },
  {
   "cell_type": "code",
   "execution_count": 85,
   "metadata": {},
   "outputs": [
    {
     "name": "stdout",
     "output_type": "stream",
     "text": [
      "Time needed for Monte Carlo with AV: 1.4530432224273682\n"
     ]
    }
   ],
   "source": [
    "start = time.time()\n",
    "for s0 in S0:\n",
    "    ST_ant = stock_price_generator_av (time_maturity, n, num_sim_mc, r, s0, k, V0, sigma, theta, kappa, rho, generator)\n",
    "    mc_av = find_mc_price(ST_ant, k, r, time_maturity)\n",
    "end = time.time()\n",
    "time_cmav = end - start\n",
    "print(f\"Time needed for Monte Carlo with AV: {time_cmav}\")"
   ]
  },
  {
   "cell_type": "code",
   "execution_count": 91,
   "metadata": {},
   "outputs": [
    {
     "name": "stdout",
     "output_type": "stream",
     "text": [
      "Monte Carlo with AV is 11.89% faster tham the usual Monte Carlo\n"
     ]
    }
   ],
   "source": [
    "perc_faster = (time_cm - time_cmav) / time_cm *100\n",
    "perc_faster = round(perc_faster,2)\n",
    "print(f\"Monte Carlo with AV is {perc_faster}% faster tham the usual Monte Carlo\")"
   ]
  },
  {
   "cell_type": "code",
   "execution_count": null,
   "metadata": {},
   "outputs": [],
   "source": []
  }
 ],
 "metadata": {
  "kernelspec": {
   "display_name": "fbd",
   "language": "python",
   "name": "fbd"
  },
  "language_info": {
   "codemirror_mode": {
    "name": "ipython",
    "version": 3
   },
   "file_extension": ".py",
   "mimetype": "text/x-python",
   "name": "python",
   "nbconvert_exporter": "python",
   "pygments_lexer": "ipython3",
   "version": "3.8.5"
  }
 },
 "nbformat": 4,
 "nbformat_minor": 4
}

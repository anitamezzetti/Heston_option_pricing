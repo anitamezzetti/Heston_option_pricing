{
 "cells": [
  {
   "cell_type": "code",
   "execution_count": 2,
   "metadata": {
    "id": "sSdB8d5zuZcC"
   },
   "outputs": [],
   "source": [
    "import numpy as np\n",
    "import pandas as pd\n",
    "import math as math\n",
    "import cmath as cmath\n",
    "from scipy import integrate\n"
   ]
  },
  {
   "cell_type": "markdown",
   "metadata": {},
   "source": [
    "# Explicit solution of the Heston price equation <a class=\"anchor\" id=\"solution\"></a>\n",
    "\n",
    "$$ C(S,T) = S P_1 - K P_2 $$\n",
    "More details in the report"
   ]
  },
  {
   "cell_type": "code",
   "execution_count": 3,
   "metadata": {},
   "outputs": [],
   "source": [
    "# characteristic function\n",
    "def f(phi, kappa, theta, sigma, rho, v0, r, T, s0, status):\n",
    "    \n",
    "    a = kappa * theta\n",
    "    x = math.log(s0)\n",
    "    \n",
    "    # remind that lamda is zero\n",
    "    if status == 1:\n",
    "        u = 0.5\n",
    "        b = kappa - rho * sigma\n",
    "    else:\n",
    "        u = -0.5\n",
    "        b = kappa\n",
    "    \n",
    "    d = cmath.sqrt((rho * sigma * phi * 1j - b)**2 - sigma**2 * (2 * u * phi * 1j - phi**2))\n",
    "    g = (b - rho * sigma * phi * 1j + d) / (b - rho * sigma * phi * 1j - d)\n",
    "    \n",
    "    C = r * phi * 1j * T + (a / sigma**2)*((b - rho * sigma * phi * 1j + d) * T - 2 * cmath.log((1 - g * cmath.exp(d * T))/(1 - g)))\n",
    "    D = (b - rho * sigma * phi * 1j + d) / sigma**2 * ((1 - cmath.exp(d * T)) / (1 - g * cmath.exp(d * T)))\n",
    "    \n",
    "    return cmath.exp(C + D * v0 + 1j * phi * x)"
   ]
  },
  {
   "cell_type": "code",
   "execution_count": 4,
   "metadata": {},
   "outputs": [],
   "source": [
    "# P1 and P2\n",
    "def p(kappa, theta, sigma, rho, v0 ,r ,T ,s0 , K, status):\n",
    "    \n",
    "    integrand = lambda phi: (cmath.exp(-1j * phi * cmath.log(K)) * f(phi, kappa, \\\n",
    "                              theta, sigma, rho, v0, r, T, s0, status) / (1j * phi)).real \n",
    "    \n",
    "    return (0.5 + (1 / math.pi) * integrate.quad(integrand, 0, 100)[0]) # approximate indefinite intergral with a definite one\n",
    "\n",
    "def p1(kappa, theta, sigma, rho, v0 ,r ,T ,s0 ,K):\n",
    "    return p(kappa, theta, sigma, rho, v0 ,r ,T ,s0 ,K, 1)\n",
    "\n",
    "def p2(kappa, theta, sigma, rho, v0 ,r ,T ,s0 ,K):\n",
    "    return p(kappa, theta, sigma, rho, v0 ,r ,T ,s0 ,K, 2)\n"
   ]
  },
  {
   "cell_type": "code",
   "execution_count": 4,
   "metadata": {},
   "outputs": [],
   "source": [
    "# call price\n",
    "def call_price(kappa, theta, sigma, rho, v0 ,r ,T ,s0 ,K):\n",
    "    \n",
    "    P1 = p1(kappa, theta, sigma, rho, v0 ,r ,T ,s0 ,K)\n",
    "    P2 = p2(kappa, theta, sigma, rho, v0 ,r ,T ,s0 ,K)\n",
    "    \n",
    "    result = (s0 * P1 - K * math.exp(-r * T) * P2)\n",
    "    print(result)\n",
    "    \n",
    "    if result<0:\n",
    "        result = 0\n",
    "        \n",
    "    return result"
   ]
  },
  {
   "cell_type": "code",
   "execution_count": 3,
   "metadata": {},
   "outputs": [],
   "source": [
    "#call_price(kappa, theta, sigma, rho, v0 ,r , T ,s0, strike)"
   ]
  },
  {
   "cell_type": "code",
   "execution_count": null,
   "metadata": {},
   "outputs": [],
   "source": []
  }
 ],
 "metadata": {
  "kernelspec": {
   "display_name": "fbd",
   "language": "python",
   "name": "fbd"
  },
  "language_info": {
   "codemirror_mode": {
    "name": "ipython",
    "version": 3
   },
   "file_extension": ".py",
   "mimetype": "text/x-python",
   "name": "python",
   "nbconvert_exporter": "python",
   "pygments_lexer": "ipython3",
   "version": "3.8.5"
  }
 },
 "nbformat": 4,
 "nbformat_minor": 4
}

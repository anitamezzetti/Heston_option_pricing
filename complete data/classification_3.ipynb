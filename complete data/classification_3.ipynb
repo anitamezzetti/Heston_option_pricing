{
  "nbformat": 4,
  "nbformat_minor": 0,
  "metadata": {
    "kernelspec": {
      "display_name": "fbd",
      "language": "python",
      "name": "fbd"
    },
    "language_info": {
      "codemirror_mode": {
        "name": "ipython",
        "version": 3
      },
      "file_extension": ".py",
      "mimetype": "text/x-python",
      "name": "python",
      "nbconvert_exporter": "python",
      "pygments_lexer": "ipython3",
      "version": "3.8.5"
    },
    "colab": {
      "name": "classification.ipynb",
      "provenance": []
    }
  },
  "cells": [
    {
      "cell_type": "code",
      "metadata": {
        "id": "sSdB8d5zuZcC"
      },
      "source": [
        "import numpy as np\n",
        "import pandas as pd\n",
        "from sklearn.model_selection import train_test_split, GridSearchCV\n",
        "from matplotlib import pyplot as plt \n",
        "import seaborn as sns\n",
        "\n",
        "from sklearn.preprocessing import StandardScaler, MinMaxScaler\n",
        "from sklearn.linear_model import Ridge, Lasso, ElasticNet, LinearRegression\n",
        "from sklearn.tree import DecisionTreeRegressor\n",
        "from sklearn.ensemble import RandomForestRegressor\n",
        "from sklearn.metrics import mean_squared_error\n",
        "\n",
        "\n",
        "import warnings\n",
        "warnings.simplefilter(action='ignore', category=FutureWarning)"
      ],
      "execution_count": 14,
      "outputs": []
    },
    {
      "cell_type": "code",
      "metadata": {
        "colab": {
          "base_uri": "https://localhost:8080/",
          "height": 206
        },
        "id": "hlI7daoMuZcC",
        "outputId": "333527b2-aa5c-40c7-f214-eed95d659b74"
      },
      "source": [
        "df = pd.read_csv(\"dataset2.csv\")\n",
        "df = df.drop('Unnamed: 0', axis=1)\n",
        "\n",
        "df.head()"
      ],
      "execution_count": 15,
      "outputs": [
        {
          "output_type": "execute_result",
          "data": {
            "text/html": [
              "<div>\n",
              "<style scoped>\n",
              "    .dataframe tbody tr th:only-of-type {\n",
              "        vertical-align: middle;\n",
              "    }\n",
              "\n",
              "    .dataframe tbody tr th {\n",
              "        vertical-align: top;\n",
              "    }\n",
              "\n",
              "    .dataframe thead th {\n",
              "        text-align: right;\n",
              "    }\n",
              "</style>\n",
              "<table border=\"1\" class=\"dataframe\">\n",
              "  <thead>\n",
              "    <tr style=\"text-align: right;\">\n",
              "      <th></th>\n",
              "      <th>price</th>\n",
              "      <th>stock</th>\n",
              "      <th>strike</th>\n",
              "      <th>maturity</th>\n",
              "      <th>initial_vol</th>\n",
              "      <th>interest_rates</th>\n",
              "    </tr>\n",
              "  </thead>\n",
              "  <tbody>\n",
              "    <tr>\n",
              "      <th>0</th>\n",
              "      <td>0.187565</td>\n",
              "      <td>2.012875</td>\n",
              "      <td>1.6</td>\n",
              "      <td>1.0</td>\n",
              "      <td>0.01</td>\n",
              "      <td>0.0</td>\n",
              "    </tr>\n",
              "    <tr>\n",
              "      <th>1</th>\n",
              "      <td>0.234718</td>\n",
              "      <td>1.979601</td>\n",
              "      <td>1.6</td>\n",
              "      <td>1.0</td>\n",
              "      <td>0.01</td>\n",
              "      <td>0.0</td>\n",
              "    </tr>\n",
              "    <tr>\n",
              "      <th>2</th>\n",
              "      <td>0.190948</td>\n",
              "      <td>2.011839</td>\n",
              "      <td>1.6</td>\n",
              "      <td>1.0</td>\n",
              "      <td>0.01</td>\n",
              "      <td>0.0</td>\n",
              "    </tr>\n",
              "    <tr>\n",
              "      <th>3</th>\n",
              "      <td>0.275900</td>\n",
              "      <td>2.012831</td>\n",
              "      <td>1.6</td>\n",
              "      <td>1.0</td>\n",
              "      <td>0.01</td>\n",
              "      <td>0.0</td>\n",
              "    </tr>\n",
              "    <tr>\n",
              "      <th>4</th>\n",
              "      <td>0.017349</td>\n",
              "      <td>2.019834</td>\n",
              "      <td>1.6</td>\n",
              "      <td>1.0</td>\n",
              "      <td>0.01</td>\n",
              "      <td>0.0</td>\n",
              "    </tr>\n",
              "  </tbody>\n",
              "</table>\n",
              "</div>"
            ],
            "text/plain": [
              "      price     stock  strike  maturity  initial_vol  interest_rates\n",
              "0  0.187565  2.012875     1.6       1.0         0.01             0.0\n",
              "1  0.234718  1.979601     1.6       1.0         0.01             0.0\n",
              "2  0.190948  2.011839     1.6       1.0         0.01             0.0\n",
              "3  0.275900  2.012831     1.6       1.0         0.01             0.0\n",
              "4  0.017349  2.019834     1.6       1.0         0.01             0.0"
            ]
          },
          "metadata": {
            "tags": []
          },
          "execution_count": 15
        }
      ]
    },
    {
      "cell_type": "markdown",
      "metadata": {
        "id": "Dsi5Cokw3pSQ"
      },
      "source": [
        "## Classification"
      ]
    },
    {
      "cell_type": "code",
      "metadata": {
        "id": "5TjV9Pjx3pSR",
        "outputId": "367e618e-0403-436d-8a09-035fc50d2670",
        "colab": {
          "base_uri": "https://localhost:8080/",
          "height": 206
        }
      },
      "source": [
        "df['exercise'] = df.price!=0\n",
        "df = df.drop(['price', 'interest_rates'], axis=1)\n",
        "df.head()"
      ],
      "execution_count": 16,
      "outputs": [
        {
          "output_type": "execute_result",
          "data": {
            "text/html": [
              "<div>\n",
              "<style scoped>\n",
              "    .dataframe tbody tr th:only-of-type {\n",
              "        vertical-align: middle;\n",
              "    }\n",
              "\n",
              "    .dataframe tbody tr th {\n",
              "        vertical-align: top;\n",
              "    }\n",
              "\n",
              "    .dataframe thead th {\n",
              "        text-align: right;\n",
              "    }\n",
              "</style>\n",
              "<table border=\"1\" class=\"dataframe\">\n",
              "  <thead>\n",
              "    <tr style=\"text-align: right;\">\n",
              "      <th></th>\n",
              "      <th>stock</th>\n",
              "      <th>strike</th>\n",
              "      <th>maturity</th>\n",
              "      <th>initial_vol</th>\n",
              "      <th>exercise</th>\n",
              "    </tr>\n",
              "  </thead>\n",
              "  <tbody>\n",
              "    <tr>\n",
              "      <th>0</th>\n",
              "      <td>2.012875</td>\n",
              "      <td>1.6</td>\n",
              "      <td>1.0</td>\n",
              "      <td>0.01</td>\n",
              "      <td>True</td>\n",
              "    </tr>\n",
              "    <tr>\n",
              "      <th>1</th>\n",
              "      <td>1.979601</td>\n",
              "      <td>1.6</td>\n",
              "      <td>1.0</td>\n",
              "      <td>0.01</td>\n",
              "      <td>True</td>\n",
              "    </tr>\n",
              "    <tr>\n",
              "      <th>2</th>\n",
              "      <td>2.011839</td>\n",
              "      <td>1.6</td>\n",
              "      <td>1.0</td>\n",
              "      <td>0.01</td>\n",
              "      <td>True</td>\n",
              "    </tr>\n",
              "    <tr>\n",
              "      <th>3</th>\n",
              "      <td>2.012831</td>\n",
              "      <td>1.6</td>\n",
              "      <td>1.0</td>\n",
              "      <td>0.01</td>\n",
              "      <td>True</td>\n",
              "    </tr>\n",
              "    <tr>\n",
              "      <th>4</th>\n",
              "      <td>2.019834</td>\n",
              "      <td>1.6</td>\n",
              "      <td>1.0</td>\n",
              "      <td>0.01</td>\n",
              "      <td>True</td>\n",
              "    </tr>\n",
              "  </tbody>\n",
              "</table>\n",
              "</div>"
            ],
            "text/plain": [
              "      stock  strike  maturity  initial_vol  exercise\n",
              "0  2.012875     1.6       1.0         0.01      True\n",
              "1  1.979601     1.6       1.0         0.01      True\n",
              "2  2.011839     1.6       1.0         0.01      True\n",
              "3  2.012831     1.6       1.0         0.01      True\n",
              "4  2.019834     1.6       1.0         0.01      True"
            ]
          },
          "metadata": {
            "tags": []
          },
          "execution_count": 16
        }
      ]
    },
    {
      "cell_type": "code",
      "metadata": {
        "id": "dexmxYWi3pST",
        "outputId": "73c5566e-460d-4907-e08b-c20e687d3490",
        "colab": {
          "base_uri": "https://localhost:8080/"
        }
      },
      "source": [
        "df.groupby('exercise').count().stock"
      ],
      "execution_count": 17,
      "outputs": [
        {
          "output_type": "execute_result",
          "data": {
            "text/plain": [
              "exercise\n",
              "False     82088\n",
              "True     157912\n",
              "Name: stock, dtype: int64"
            ]
          },
          "metadata": {
            "tags": []
          },
          "execution_count": 17
        }
      ]
    },
    {
      "cell_type": "code",
      "metadata": {
        "id": "Dx5ZvKp23pSU",
        "outputId": "78525249-016b-4dde-93d2-c2e1f51e213c",
        "colab": {
          "base_uri": "https://localhost:8080/",
          "height": 301
        }
      },
      "source": [
        "table = pd.crosstab(df.strike, df.exercise)\n",
        "table.div(table.sum(1).astype(float), axis=0).plot(kind='bar', stacked=True)\n",
        "plt.title('Stacked Bar Chart depending on the strike')\n",
        "plt.xlabel('K')\n",
        "plt.ylabel('Proportion')\n",
        "plt.savefig('e_vs_ne_strike')"
      ],
      "execution_count": 18,
      "outputs": [
        {
          "output_type": "display_data",
          "data": {
            "image/png": "[encoded data removed]",
            "text/plain": [
              "<Figure size 432x288 with 1 Axes>"
            ]
          },
          "metadata": {
            "tags": [],
            "needs_background": "light"
          }
        }
      ]
    },
    {
      "cell_type": "code",
      "metadata": {
        "id": "Snpn3s4-3pSW",
        "outputId": "2241d251-0644-4158-b27f-6d826a939657",
        "colab": {
          "base_uri": "https://localhost:8080/",
          "height": 308
        }
      },
      "source": [
        "table = pd.crosstab(df.initial_vol, df.exercise)\n",
        "table.div(table.sum(1).astype(float), axis=0).plot(kind='bar', stacked=True)\n",
        "plt.title('Stacked Bar Chart depending on the initial vol')\n",
        "plt.xlabel('initial_vol')\n",
        "plt.ylabel('Proportion')\n",
        "plt.savefig('e_vs_ne_initial_vole')"
      ],
      "execution_count": 19,
      "outputs": [
        {
          "output_type": "display_data",
          "data": {
            "image/png": "[encoded data removed]",
            "text/plain": [
              "<Figure size 432x288 with 1 Axes>"
            ]
          },
          "metadata": {
            "tags": [],
            "needs_background": "light"
          }
        }
      ]
    },
    {
      "cell_type": "code",
      "metadata": {
        "id": "c455ihbZ3pSW",
        "outputId": "41067b79-ab63-412b-af6e-031e58a5611a",
        "colab": {
          "base_uri": "https://localhost:8080/",
          "height": 397
        }
      },
      "source": [
        "table = pd.crosstab(df.maturity, df.exercise)\n",
        "table.div(table.sum(1).astype(float), axis=0).plot(kind='bar', stacked=True)\n",
        "plt.title('Stacked Bar Chart depending on the maturity')\n",
        "plt.xlabel('T')\n",
        "plt.ylabel('Proportion')\n",
        "plt.savefig('e_vs_ne_strike')"
      ],
      "execution_count": 20,
      "outputs": [
        {
          "output_type": "display_data",
          "data": {
            "image/png": "[encoded data removed]",
            "text/plain": [
              "<Figure size 432x288 with 1 Axes>"
            ]
          },
          "metadata": {
            "tags": [],
            "needs_background": "light"
          }
        }
      ]
    },
    {
      "cell_type": "code",
      "metadata": {
        "id": "NaTvAcS83pSY"
      },
      "source": [
        "# plot function confusion matrix\n",
        "\n",
        "from sklearn.metrics import confusion_matrix\n",
        "def plot_confusion_matrix (confusion_matrix, title):\n",
        "\n",
        "    ax = plt.subplot()\n",
        "    sns.heatmap(confusion_matrix,annot=True,fmt = \"d\",square = True,ax = ax, linewidths = 1, linecolor = \"w\", cmap = \"Pastel2\")\n",
        "    ax.set_xlabel('True labels')\n",
        "    ax.set_ylabel('Predicted labels')\n",
        "    ax.xaxis.set_ticklabels(['Exercised','Not Exercised'])\n",
        "    ax.yaxis.set_ticklabels(['Exercised','Not Exercised'], va=\"center\")\n",
        "    plt.title(title)\n",
        "    plt.show()"
      ],
      "execution_count": 21,
      "outputs": []
    },
    {
      "cell_type": "code",
      "metadata": {
        "id": "1y0Vbi3Y3pSY"
      },
      "source": [
        "# plot function roc curve\n",
        "\n",
        "from sklearn.metrics import roc_auc_score\n",
        "from sklearn.metrics import roc_curve\n",
        "\n",
        "def plot_roc_curve(X_test, y_test, y_pred, model, title):\n",
        "    logit_roc_auc = roc_auc_score(y_test, y_pred)\n",
        "    fpr, tpr, thresholds = roc_curve(y_test, logreg.predict_proba(X_test)[:,1])\n",
        "    plt.figure()\n",
        "    plt.plot(fpr, tpr, label='Logistic Regression (area = %0.2f)' % logit_roc_auc)\n",
        "    plt.plot([0, 1], [0, 1],'r--')\n",
        "    plt.xlim([0.0, 1.0])\n",
        "    plt.ylim([0.0, 1.05])\n",
        "    plt.xlabel('False Positive Rate')\n",
        "    plt.ylabel('True Positive Rate')\n",
        "    titlee = 'Exercise ROC curve ' + title\n",
        "    plt.title(titlee)\n",
        "    plt.legend(loc=\"lower right\")\n",
        "    plt.savefig('Log_ROC')\n",
        "    plt.show()"
      ],
      "execution_count": 22,
      "outputs": []
    },
    {
      "cell_type": "code",
      "metadata": {
        "id": "-qHNKxr23pSY"
      },
      "source": [
        "X = df.drop('exercise', axis = 1)\n",
        "y = df['exercise']\n",
        "\n",
        "X_train, X_test, y_train, y_test = train_test_split(X, y, test_size=0.20)"
      ],
      "execution_count": 23,
      "outputs": []
    },
    {
      "cell_type": "markdown",
      "metadata": {
        "id": "aVC_bKe73pSZ"
      },
      "source": [
        "## Logistic Regression"
      ]
    },
    {
      "cell_type": "code",
      "metadata": {
        "id": "j9nub_a53pSZ",
        "outputId": "fe514f01-e840-4e4d-8f6d-b4258a9a82db",
        "colab": {
          "base_uri": "https://localhost:8080/"
        }
      },
      "source": [
        "import statsmodels.api as sm\n",
        "logit_model=sm.Logit(y,X)\n",
        "result=logit_model.fit()\n",
        "print(result.summary2())"
      ],
      "execution_count": 37,
      "outputs": [
        {
          "output_type": "stream",
          "text": [
            "Optimization terminated successfully.\n",
            "         Current function value: 0.573625\n",
            "         Iterations 6\n",
            "                          Results: Logit\n",
            "==================================================================\n",
            "Model:              Logit            Pseudo R-squared: 0.107      \n",
            "Dependent Variable: exercise         AIC:              275347.7956\n",
            "Date:               2020-12-06 21:31 BIC:              275389.3492\n",
            "No. Observations:   240000           Log-Likelihood:   -1.3767e+05\n",
            "Df Model:           3                LL-Null:          -1.5417e+05\n",
            "Df Residuals:       239996           LLR p-value:      0.0000     \n",
            "Converged:          1.0000           Scale:            1.0000     \n",
            "No. Iterations:     6.0000                                        \n",
            "-------------------------------------------------------------------\n",
            "              Coef.   Std.Err.      z      P>|z|    [0.025   0.975]\n",
            "-------------------------------------------------------------------\n",
            "stock         3.6846    0.0214   172.2659  0.0000   3.6427   3.7265\n",
            "strike       -3.4585    0.0209  -165.2514  0.0000  -3.4995  -3.4174\n",
            "maturity     -0.0058    0.0040    -1.4591  0.1445  -0.0136   0.0020\n",
            "initial_vol  -0.7365    0.1840    -4.0030  0.0001  -1.0972  -0.3759\n",
            "==================================================================\n",
            "\n"
          ],
          "name": "stdout"
        }
      ]
    },
    {
      "cell_type": "code",
      "metadata": {
        "id": "OqelU0Zh3pSa",
        "outputId": "2a9a55a0-f63e-420b-c7c3-8af3911e7982",
        "colab": {
          "base_uri": "https://localhost:8080/"
        }
      },
      "source": [
        "from sklearn.linear_model import LogisticRegression\n",
        "from sklearn import metrics\n",
        "logreg = LogisticRegression()\n",
        "logreg.fit(X_train, y_train)"
      ],
      "execution_count": 38,
      "outputs": [
        {
          "output_type": "execute_result",
          "data": {
            "text/plain": [
              "LogisticRegression(C=1.0, class_weight=None, dual=False, fit_intercept=True,\n",
              "                   intercept_scaling=1, l1_ratio=None, max_iter=100,\n",
              "                   multi_class='auto', n_jobs=None, penalty='l2',\n",
              "                   random_state=None, solver='lbfgs', tol=0.0001, verbose=0,\n",
              "                   warm_start=False)"
            ]
          },
          "metadata": {
            "tags": []
          },
          "execution_count": 38
        }
      ]
    },
    {
      "cell_type": "code",
      "metadata": {
        "id": "MmXU_ffU3pSa"
      },
      "source": [
        "y_pred = logreg.predict(X_test)"
      ],
      "execution_count": 39,
      "outputs": []
    },
    {
      "cell_type": "code",
      "metadata": {
        "id": "AUi7jhe13pSa",
        "outputId": "0042a47e-347f-4f0a-f1ae-becf52d39a48",
        "colab": {
          "base_uri": "https://localhost:8080/",
          "height": 295
        }
      },
      "source": [
        "confusion_matrix_logistic = confusion_matrix(y_test, y_pred, labels=[True, False])\n",
        "plot_confusion_matrix (confusion_matrix_logistic, 'Logistic Regression')"
      ],
      "execution_count": 40,
      "outputs": [
        {
          "output_type": "display_data",
          "data": {
            "image/png": "[encoded data removed]",
            "text/plain": [
              "<Figure size 432x288 with 2 Axes>"
            ]
          },
          "metadata": {
            "tags": [],
            "needs_background": "light"
          }
        }
      ]
    },
    {
      "cell_type": "code",
      "metadata": {
        "id": "alda-kmo3pSb",
        "outputId": "15cd7058-53cc-40fe-a9e5-7860e27e4916",
        "colab": {
          "base_uri": "https://localhost:8080/"
        }
      },
      "source": [
        "from sklearn.metrics import classification_report\n",
        "print(classification_report(y_test, y_pred))"
      ],
      "execution_count": 41,
      "outputs": [
        {
          "output_type": "stream",
          "text": [
            "              precision    recall  f1-score   support\n",
            "\n",
            "       False       0.59      0.41      0.48     16462\n",
            "        True       0.73      0.85      0.79     31538\n",
            "\n",
            "    accuracy                           0.70     48000\n",
            "   macro avg       0.66      0.63      0.64     48000\n",
            "weighted avg       0.69      0.70      0.68     48000\n",
            "\n"
          ],
          "name": "stdout"
        }
      ]
    },
    {
      "cell_type": "code",
      "metadata": {
        "id": "Xgq0dYm_3pSb",
        "outputId": "82f674f8-1d2d-45fd-8291-c4f89fa68fde",
        "colab": {
          "base_uri": "https://localhost:8080/"
        }
      },
      "source": [
        "print('Accuracy logistic regression classifier: {:.2f}%'.format(logreg.score(X_test, y_test)*100))"
      ],
      "execution_count": 42,
      "outputs": [
        {
          "output_type": "stream",
          "text": [
            "Accuracy logistic regression classifier: 70.08%\n"
          ],
          "name": "stdout"
        }
      ]
    },
    {
      "cell_type": "code",
      "metadata": {
        "id": "a6pmaNee3pSc",
        "outputId": "f4f89d4d-0c07-41af-e958-72475898a902",
        "colab": {
          "base_uri": "https://localhost:8080/",
          "height": 295
        }
      },
      "source": [
        "plot_roc_curve(X_test, y_test, y_pred, logreg, 'Logistic Reg')"
      ],
      "execution_count": 43,
      "outputs": [
        {
          "output_type": "display_data",
          "data": {
            "image/png": "[encoded data removed]",
            "text/plain": [
              "<Figure size 432x288 with 1 Axes>"
            ]
          },
          "metadata": {
            "tags": [],
            "needs_background": "light"
          }
        }
      ]
    },
    {
      "cell_type": "markdown",
      "metadata": {
        "id": "Re2Tw3eB3pSd"
      },
      "source": [
        "## KNN"
      ]
    },
    {
      "cell_type": "code",
      "metadata": {
        "id": "aMgBzd8h3pSd"
      },
      "source": [
        "X_train, X_test, y_train, y_test = train_test_split(X, y, test_size=0.20)"
      ],
      "execution_count": null,
      "outputs": []
    },
    {
      "cell_type": "code",
      "metadata": {
        "id": "CFDR2BJc3pSd"
      },
      "source": [
        "from sklearn.neighbors import KNeighborsClassifier\n",
        "\n",
        "Neighbor_List=[3,5,10,20]\n",
        "parameters = {'n_neighbors':Neighbor_List}\n",
        "KNNC = KNeighborsClassifier()\n",
        "classifier_knn = GridSearchCV(KNNC, parameters, cv=5, verbose=0, scoring ='accuracy')\n",
        "\n",
        "classifier_knn.fit(X_train, y_train)\n",
        "y_pred = classifier_knn.predict(X_test)"
      ],
      "execution_count": 31,
      "outputs": []
    },
    {
      "cell_type": "code",
      "metadata": {
        "id": "xtUvK2HR3pSd",
        "outputId": "f8a90eb1-372d-4896-b1af-3af60ab3482e",
        "colab": {
          "base_uri": "https://localhost:8080/"
        }
      },
      "source": [
        "print('Accuracy KNN: {:.2f}%'.format(logreg.score(X_test, y_test)*100))"
      ],
      "execution_count": 32,
      "outputs": [
        {
          "output_type": "stream",
          "text": [
            "Accuracy KNN: 69.85%\n"
          ],
          "name": "stdout"
        }
      ]
    },
    {
      "cell_type": "code",
      "metadata": {
        "id": "ORSnGIOX3pSd",
        "outputId": "28d8457e-b2fd-4666-8f72-1e1ffe0b66e7",
        "colab": {
          "base_uri": "https://localhost:8080/",
          "height": 295
        }
      },
      "source": [
        "confusion_matrix_knn = confusion_matrix(y_test, y_pred, labels=[True, False])\n",
        "plot_confusion_matrix (confusion_matrix_knn, 'KNN')"
      ],
      "execution_count": 33,
      "outputs": [
        {
          "output_type": "display_data",
          "data": {
            "image/png": "[encoded data removed]",
            "text/plain": [
              "<Figure size 432x288 with 2 Axes>"
            ]
          },
          "metadata": {
            "tags": [],
            "needs_background": "light"
          }
        }
      ]
    },
    {
      "cell_type": "code",
      "metadata": {
        "id": "rdORK_KI3pSd",
        "outputId": "8cec3e0e-5068-4c89-fcc6-fedf7478839c",
        "colab": {
          "base_uri": "https://localhost:8080/",
          "height": 295
        }
      },
      "source": [
        "plot_roc_curve(X_test, y_test, y_pred, classifier_knn, 'KNN')"
      ],
      "execution_count": 34,
      "outputs": [
        {
          "output_type": "display_data",
          "data": {
            "image/png": "[encoded data removed]",
            "text/plain": [
              "<Figure size 432x288 with 1 Axes>"
            ]
          },
          "metadata": {
            "tags": [],
            "needs_background": "light"
          }
        }
      ]
    },
    {
      "cell_type": "markdown",
      "metadata": {
        "id": "k-jkl6893pSd"
      },
      "source": [
        "## XGBoost"
      ]
    },
    {
      "cell_type": "code",
      "metadata": {
        "id": "NRjVEz7-3pSe"
      },
      "source": [
        "X_train, X_test, y_train, y_test = train_test_split(X, y, test_size=0.20)"
      ],
      "execution_count": 44,
      "outputs": []
    },
    {
      "cell_type": "code",
      "metadata": {
        "id": "sosZ0aoO3pSe",
        "outputId": "e449ff68-b31f-4505-8ae7-a2a74f4d36df",
        "colab": {
          "base_uri": "https://localhost:8080/"
        }
      },
      "source": [
        "from xgboost import XGBClassifier\n",
        "\n",
        "params = {\n",
        "    'n_estimators': [100, 200, 400],\n",
        "    'max_depth': [2, 3, 6],\n",
        "    'learning_rate': [0.005, 0.01, 0.02],\n",
        "    'subsample': [0.4, 0.8]\n",
        "}\n",
        "classifier_xgboost = GridSearchCV(XGBClassifier(random_state=10), params, scoring ='accuracy')\n",
        "classifier_xgboost.fit(X_train, y_train)"
      ],
      "execution_count": 45,
      "outputs": [
        {
          "output_type": "execute_result",
          "data": {
            "text/plain": [
              "GridSearchCV(cv=None, error_score=nan,\n",
              "             estimator=XGBClassifier(base_score=0.5, booster='gbtree',\n",
              "                                     colsample_bylevel=1, colsample_bynode=1,\n",
              "                                     colsample_bytree=1, gamma=0,\n",
              "                                     learning_rate=0.1, max_delta_step=0,\n",
              "                                     max_depth=3, min_child_weight=1,\n",
              "                                     missing=None, n_estimators=100, n_jobs=1,\n",
              "                                     nthread=None, objective='binary:logistic',\n",
              "                                     random_state=10, reg_alpha=0, reg_lambda=1,\n",
              "                                     scale_pos_weight=1, seed=None, silent=None,\n",
              "                                     subsample=1, verbosity=1),\n",
              "             iid='deprecated', n_jobs=None,\n",
              "             param_grid={'learning_rate': [0.005, 0.01, 0.02],\n",
              "                         'max_depth': [2, 3, 6],\n",
              "                         'n_estimators': [100, 200, 400],\n",
              "                         'subsample': [0.4, 0.8]},\n",
              "             pre_dispatch='2*n_jobs', refit=True, return_train_score=False,\n",
              "             scoring='accuracy', verbose=0)"
            ]
          },
          "metadata": {
            "tags": []
          },
          "execution_count": 45
        }
      ]
    },
    {
      "cell_type": "code",
      "metadata": {
        "id": "F1p3QWUG3pSe"
      },
      "source": [
        "y_pred = classifier_xgboost.predict(X_test)"
      ],
      "execution_count": 46,
      "outputs": []
    },
    {
      "cell_type": "code",
      "metadata": {
        "id": "OFjxw7-Y3pSe",
        "outputId": "65202c28-24e5-432e-a932-2b0db96c5c8e",
        "colab": {
          "base_uri": "https://localhost:8080/"
        }
      },
      "source": [
        "from sklearn.metrics import accuracy_score\n",
        "predictions = [round(value) for value in y_pred]\n",
        "accuracy = accuracy_score(y_test, predictions)\n",
        "print(\"Accuracy XGBoost: %.2f%%\" % (accuracy * 100.0))"
      ],
      "execution_count": 47,
      "outputs": [
        {
          "output_type": "stream",
          "text": [
            "Accuracy XGBoost: 69.97%\n"
          ],
          "name": "stdout"
        }
      ]
    },
    {
      "cell_type": "code",
      "metadata": {
        "id": "FDC3XBc-3pSf",
        "outputId": "a0a7734d-ae0e-48f7-e249-3afb36e56cfe",
        "colab": {
          "base_uri": "https://localhost:8080/",
          "height": 295
        }
      },
      "source": [
        "confusion_matrix_knn = confusion_matrix(y_test, y_pred, labels=[True, False])\n",
        "plot_confusion_matrix (confusion_matrix_knn, 'XGBoost')"
      ],
      "execution_count": 48,
      "outputs": [
        {
          "output_type": "display_data",
          "data": {
            "image/png": "[encoded data removed]",
            "text/plain": [
              "<Figure size 432x288 with 2 Axes>"
            ]
          },
          "metadata": {
            "tags": [],
            "needs_background": "light"
          }
        }
      ]
    },
    {
      "cell_type": "code",
      "metadata": {
        "id": "JwEEn5sP3pSf",
        "outputId": "87170bd8-c1b3-41fd-a967-8e7e56f138d3",
        "colab": {
          "base_uri": "https://localhost:8080/",
          "height": 295
        }
      },
      "source": [
        "plot_roc_curve(X_test, y_test, y_pred, classifier_xgboost, 'XGBoost')"
      ],
      "execution_count": 49,
      "outputs": [
        {
          "output_type": "display_data",
          "data": {
            "image/png": "[encoded data removed]",
            "text/plain": [
              "<Figure size 432x288 with 1 Axes>"
            ]
          },
          "metadata": {
            "tags": [],
            "needs_background": "light"
          }
        }
      ]
    },
    {
      "cell_type": "code",
      "metadata": {
        "id": "Dk8qLucc3pSf",
        "outputId": "dd852006-bcdf-4091-bfa5-4d0a37da19bc",
        "colab": {
          "base_uri": "https://localhost:8080/",
          "height": 359
        }
      },
      "source": [
        "# feature importance\n",
        "\n",
        "clf= XGBClassifier(learning_rate= 0.005, max_depth= 2, n_estimators= 100, subsample= 0.6,random_state=10)\n",
        "clf.fit(X_train, y_train)\n",
        "features = X.columns\n",
        "importances = clf.feature_importances_\n",
        "indices = np.argsort(importances)[::-1]\n",
        "\n",
        "# Print the feature ranking\n",
        "print(\"Feature ranking:\")\n",
        "\n",
        "for f in range(X_train.shape[1]):\n",
        "    print(\"%d. feature %d (%f)\" % (f + 1, indices[f], importances[indices[f]]))\n",
        "\n",
        "plt.barh(X.columns, clf.feature_importances_)\n",
        "plt.show()"
      ],
      "execution_count": 59,
      "outputs": [
        {
          "output_type": "stream",
          "text": [
            "Feature ranking:\n",
            "1. feature 1 (0.818041)\n",
            "2. feature 0 (0.181959)\n",
            "3. feature 3 (0.000000)\n",
            "4. feature 2 (0.000000)\n"
          ],
          "name": "stdout"
        },
        {
          "output_type": "display_data",
          "data": {
            "image/png": "[encoded data removed]",
            "text/plain": [
              "<Figure size 432x288 with 1 Axes>"
            ]
          },
          "metadata": {
            "tags": [],
            "needs_background": "light"
          }
        }
      ]
    },
    {
      "cell_type": "code",
      "metadata": {
        "id": "Q0d_IEpBTQy9"
      },
      "source": [
        ""
      ],
      "execution_count": null,
      "outputs": []
    }
  ]
}
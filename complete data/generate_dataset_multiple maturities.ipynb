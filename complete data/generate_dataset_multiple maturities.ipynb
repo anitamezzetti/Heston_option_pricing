{
 "cells": [
  {
   "cell_type": "markdown",
   "metadata": {
    "colab_type": "text",
    "id": "view-in-github"
   },
   "source": [
    "<a href=\"https://colab.research.google.com/github/anitamezzetti/ML_finance/blob/main/generate_dataset_multiple%20maturities.ipynb\" target=\"_parent\"><img src=\"https://colab.research.google.com/assets/colab-badge.svg\" alt=\"Open In Colab\"/></a>"
   ]
  },
  {
   "cell_type": "code",
   "execution_count": 15,
   "metadata": {
    "id": "Fd95GEZz_3ZC"
   },
   "outputs": [],
   "source": [
    "import numpy as np\n",
    "import os\n",
    "from time import time\n",
    "import matplotlib.pyplot as plt\n",
    "import pandas as pd"
   ]
  },
  {
   "cell_type": "code",
   "execution_count": 16,
   "metadata": {
    "id": "C4ux4-U7_3ZD"
   },
   "outputs": [],
   "source": [
    "start = time()\n",
    "\n",
    "# Set the constants\n",
    "# -----------------------------------------------------------------------------------\n",
    "t_max = 1.0\n",
    "sigma = 0.61\n",
    "theta = 0.019\n",
    "kappa = 6.21\n",
    "rho = -0.5\n",
    "\n",
    "T1 = 10"
   ]
  },
  {
   "cell_type": "code",
   "execution_count": 17,
   "metadata": {
    "id": "utMRt0RJ30Nu"
   },
   "outputs": [],
   "source": [
    "K = [1.5, 2, 2.5]\n",
    "S0 = [2, 2.5, 3.5]\n",
    "V0 = [0.01, 0.05, 0.07]\n",
    "int_rates = [0, 0.05]"
   ]
  },
  {
   "cell_type": "code",
   "execution_count": 18,
   "metadata": {
    "id": "SZusfSVY_3ZF"
   },
   "outputs": [],
   "source": [
    "time_maturity = [0.5, 1, 2, 5]\n",
    "num_times = [100, 250, 500]\n",
    "num_simulations = [100, 500, 1000]"
   ]
  },
  {
   "cell_type": "markdown",
   "metadata": {
    "id": "UUijZcCs_3ZE"
   },
   "source": [
    "Stock prices simulation:"
   ]
  },
  {
   "cell_type": "code",
   "execution_count": 37,
   "metadata": {
    "id": "KjKjTk_h_3ZE"
   },
   "outputs": [],
   "source": [
    "def stock_price_generator (t_max, n ,m, S0, k, V0, sigma, theta, kappa, rho):\n",
    "    dt = t_max / n\n",
    "    \n",
    "    # Brownian motions:\n",
    "    dw_v = np.random.normal(size=(m, n)) * np.sqrt(dt)\n",
    "    dw_i = np.random.normal(size=(m, n)) * np.sqrt(dt)\n",
    "\n",
    "    dw_s = rho * dw_v + np.sqrt(1.0 - rho ** 2) * dw_i\n",
    "\n",
    "    # Perform time evolution \n",
    "    s = np.empty((m, n + 1)) # initialisation stock prices vector\n",
    "    s[:, 0] = S0\n",
    "\n",
    "    v = np.ones(m) * V0\n",
    "\n",
    "    for t in range(n):\n",
    "        dv = kappa * (theta - v) * dt + sigma * np.sqrt(v) * dw_v[:, t]\n",
    "        ds = r * s[:, t] * dt + np.sqrt(v) * s[:, t] * dw_s[:, t]\n",
    "\n",
    "        v = np.clip(v + dv, a_min=0.0, a_max=None)\n",
    "        s[:, t + 1] = s[:, t] + ds\n",
    "      \n",
    "        \n",
    "    return s\n",
    "    "
   ]
  },
  {
   "cell_type": "code",
   "execution_count": 38,
   "metadata": {
    "id": "ttzElfx7_3ZF"
   },
   "outputs": [],
   "source": [
    "def find_expected_payoff(stock_path, k, r, t_max):\n",
    "    payoff = max(stock_path[-1] - k, 0) # one payoff for each simulation\n",
    "    c = payoff * np.exp(-r * t_max)     # in case r=0, this step is useless\n",
    "    \n",
    "    return c"
   ]
  },
  {
   "cell_type": "code",
   "execution_count": 41,
   "metadata": {
    "id": "t6OJ8LBNRdaT"
   },
   "outputs": [],
   "source": [
    "df = pd.DataFrame(columns=['price', 'stock', 'maturity', 'strike', 'initial_vol', 'interest_rates'])"
   ]
  },
  {
   "cell_type": "code",
   "execution_count": null,
   "metadata": {
    "colab": {
     "base_uri": "https://localhost:8080/"
    },
    "id": "eUSPiN1j_3ZF",
    "outputId": "5273e141-9092-422a-fd3e-d7816870922b"
   },
   "outputs": [],
   "source": [
    "# fill the dataset\n",
    "for s0 in S0: \n",
    "  print(f\"s0 {s0}\")\n",
    "  for k in K:\n",
    "    print(f\"k {k}\")\n",
    "    for v0 in V0:\n",
    "      print(f\"vo {v0}\")\n",
    "      for t in time_maturity:\n",
    "        for r in int_rates:\n",
    "            for n in num_times:\n",
    "                for m in num_simulations:\n",
    "                    s = stock_price_generator (t, n ,m, s0, k, v0, sigma, theta, kappa, rho_choice, rho_probability)\n",
    "\n",
    "                    for stock_path in s:\n",
    "                        p = find_expected_payoff(stock_path, k, r, t)\n",
    "\n",
    "                        new_row = {'price':p, 'stock':stock_path[T1], 'maturity':t, 'strike':k, 'initial_vol': v0, 'interest_rates':r}\n",
    "                        #append row to the dataframe\n",
    "                        df = df.append(new_row, ignore_index=True)\n"
   ]
  },
  {
   "cell_type": "code",
   "execution_count": 46,
   "metadata": {
    "colab": {
     "base_uri": "https://localhost:8080/",
     "height": 202
    },
    "id": "vrddJbjwBPc2",
    "outputId": "deef666e-75b3-4793-85e6-9bded3aace22"
   },
   "outputs": [
    {
     "data": {
      "text/html": [
       "<div>\n",
       "<style scoped>\n",
       "    .dataframe tbody tr th:only-of-type {\n",
       "        vertical-align: middle;\n",
       "    }\n",
       "\n",
       "    .dataframe tbody tr th {\n",
       "        vertical-align: top;\n",
       "    }\n",
       "\n",
       "    .dataframe thead th {\n",
       "        text-align: right;\n",
       "    }\n",
       "</style>\n",
       "<table border=\"1\" class=\"dataframe\">\n",
       "  <thead>\n",
       "    <tr style=\"text-align: right;\">\n",
       "      <th></th>\n",
       "      <th>price</th>\n",
       "      <th>stock</th>\n",
       "      <th>maturity</th>\n",
       "      <th>strike</th>\n",
       "      <th>initial_vol</th>\n",
       "      <th>interest_rates</th>\n",
       "    </tr>\n",
       "  </thead>\n",
       "  <tbody>\n",
       "    <tr>\n",
       "      <th>0</th>\n",
       "      <td>0.610045</td>\n",
       "      <td>1.967429</td>\n",
       "      <td>0.5</td>\n",
       "      <td>1.5</td>\n",
       "      <td>0.01</td>\n",
       "      <td>0.0</td>\n",
       "    </tr>\n",
       "    <tr>\n",
       "      <th>1</th>\n",
       "      <td>0.438407</td>\n",
       "      <td>2.022543</td>\n",
       "      <td>0.5</td>\n",
       "      <td>1.5</td>\n",
       "      <td>0.01</td>\n",
       "      <td>0.0</td>\n",
       "    </tr>\n",
       "    <tr>\n",
       "      <th>2</th>\n",
       "      <td>0.662137</td>\n",
       "      <td>2.043572</td>\n",
       "      <td>0.5</td>\n",
       "      <td>1.5</td>\n",
       "      <td>0.01</td>\n",
       "      <td>0.0</td>\n",
       "    </tr>\n",
       "    <tr>\n",
       "      <th>3</th>\n",
       "      <td>0.478112</td>\n",
       "      <td>2.027417</td>\n",
       "      <td>0.5</td>\n",
       "      <td>1.5</td>\n",
       "      <td>0.01</td>\n",
       "      <td>0.0</td>\n",
       "    </tr>\n",
       "    <tr>\n",
       "      <th>4</th>\n",
       "      <td>0.491171</td>\n",
       "      <td>1.974101</td>\n",
       "      <td>0.5</td>\n",
       "      <td>1.5</td>\n",
       "      <td>0.01</td>\n",
       "      <td>0.0</td>\n",
       "    </tr>\n",
       "  </tbody>\n",
       "</table>\n",
       "</div>"
      ],
      "text/plain": [
       "      price     stock  maturity  strike  initial_vol  interest_rates\n",
       "0  0.610045  1.967429       0.5     1.5         0.01             0.0\n",
       "1  0.438407  2.022543       0.5     1.5         0.01             0.0\n",
       "2  0.662137  2.043572       0.5     1.5         0.01             0.0\n",
       "3  0.478112  2.027417       0.5     1.5         0.01             0.0\n",
       "4  0.491171  1.974101       0.5     1.5         0.01             0.0"
      ]
     },
     "execution_count": 46,
     "metadata": {
      "tags": []
     },
     "output_type": "execute_result"
    }
   ],
   "source": [
    "df.head()"
   ]
  },
  {
   "cell_type": "code",
   "execution_count": 44,
   "metadata": {
    "colab": {
     "base_uri": "https://localhost:8080/"
    },
    "id": "H4hGw1iDSuyK",
    "outputId": "e882aaf8-78b5-4fef-9eb8-d0743d16783f"
   },
   "outputs": [
    {
     "name": "stdout",
     "output_type": "stream",
     "text": [
      "This database contains 1036800 options. \n",
      "223590 have zero value.\n"
     ]
    }
   ],
   "source": [
    "zero_values = sum(x == 0 for x in df.price)\n",
    "non_zeros_values = sum(x != 0 for x in df.price)\n",
    "\n",
    "print(f\"This database contains {len(df)} options. \\n{zero_values} have zero value.\")"
   ]
  },
  {
   "cell_type": "code",
   "execution_count": 45,
   "metadata": {
    "colab": {
     "base_uri": "https://localhost:8080/",
     "height": 17
    },
    "id": "3Ia4Eoo5UsIA",
    "outputId": "99056e42-370b-4809-cc96-879fce963c46"
   },
   "outputs": [
    {
     "data": {
      "application/javascript": [
       "\n",
       "    async function download(id, filename, size) {\n",
       "      if (!google.colab.kernel.accessAllowed) {\n",
       "        return;\n",
       "      }\n",
       "      const div = document.createElement('div');\n",
       "      const label = document.createElement('label');\n",
       "      label.textContent = `Downloading \"${filename}\": `;\n",
       "      div.appendChild(label);\n",
       "      const progress = document.createElement('progress');\n",
       "      progress.max = size;\n",
       "      div.appendChild(progress);\n",
       "      document.body.appendChild(div);\n",
       "\n",
       "      const buffers = [];\n",
       "      let downloaded = 0;\n",
       "\n",
       "      const channel = await google.colab.kernel.comms.open(id);\n",
       "      // Send a message to notify the kernel that we're ready.\n",
       "      channel.send({})\n",
       "\n",
       "      for await (const message of channel.messages) {\n",
       "        // Send a message to notify the kernel that we're ready.\n",
       "        channel.send({})\n",
       "        if (message.buffers) {\n",
       "          for (const buffer of message.buffers) {\n",
       "            buffers.push(buffer);\n",
       "            downloaded += buffer.byteLength;\n",
       "            progress.value = downloaded;\n",
       "          }\n",
       "        }\n",
       "      }\n",
       "      const blob = new Blob(buffers, {type: 'application/binary'});\n",
       "      const a = document.createElement('a');\n",
       "      a.href = window.URL.createObjectURL(blob);\n",
       "      a.download = filename;\n",
       "      div.appendChild(a);\n",
       "      a.click();\n",
       "      div.remove();\n",
       "    }\n",
       "  "
      ],
      "text/plain": [
       "<IPython.core.display.Javascript object>"
      ]
     },
     "metadata": {
      "tags": []
     },
     "output_type": "display_data"
    },
    {
     "data": {
      "application/javascript": [
       "download(\"download_314e6e16-d1e8-42b3-8a66-f90ae569573d\", \"df.csv\", 60890202)"
      ],
      "text/plain": [
       "<IPython.core.display.Javascript object>"
      ]
     },
     "metadata": {
      "tags": []
     },
     "output_type": "display_data"
    }
   ],
   "source": [
    "'''from google.colab import files\n",
    "\n",
    "df.to_csv('df.csv')\n",
    "files.download('df.csv')'''"
   ]
  },
  {
   "cell_type": "code",
   "execution_count": null,
   "metadata": {},
   "outputs": [],
   "source": []
  },
  {
   "cell_type": "code",
   "execution_count": null,
   "metadata": {},
   "outputs": [],
   "source": []
  },
  {
   "cell_type": "code",
   "execution_count": 3,
   "metadata": {
    "id": "chfy3qDL3jl6"
   },
   "outputs": [],
   "source": [
    "from ipynb.fs.full.closed_form_solution import f, p, p1, p2, call_price\n",
    "import pandas as pd"
   ]
  },
  {
   "cell_type": "code",
   "execution_count": 11,
   "metadata": {},
   "outputs": [],
   "source": [
    "df = pd.read_csv('data_complete.csv')\n",
    "df = df.drop('Unnamed: 0', axis=1)"
   ]
  },
  {
   "cell_type": "code",
   "execution_count": 12,
   "metadata": {},
   "outputs": [
    {
     "data": {
      "text/html": [
       "<div>\n",
       "<style scoped>\n",
       "    .dataframe tbody tr th:only-of-type {\n",
       "        vertical-align: middle;\n",
       "    }\n",
       "\n",
       "    .dataframe tbody tr th {\n",
       "        vertical-align: top;\n",
       "    }\n",
       "\n",
       "    .dataframe thead th {\n",
       "        text-align: right;\n",
       "    }\n",
       "</style>\n",
       "<table border=\"1\" class=\"dataframe\">\n",
       "  <thead>\n",
       "    <tr style=\"text-align: right;\">\n",
       "      <th></th>\n",
       "      <th>price</th>\n",
       "      <th>stock</th>\n",
       "      <th>maturity</th>\n",
       "      <th>strike</th>\n",
       "      <th>initial_vol</th>\n",
       "      <th>interest_rates</th>\n",
       "    </tr>\n",
       "  </thead>\n",
       "  <tbody>\n",
       "    <tr>\n",
       "      <th>0</th>\n",
       "      <td>0.610045</td>\n",
       "      <td>1.967429</td>\n",
       "      <td>0.5</td>\n",
       "      <td>1.5</td>\n",
       "      <td>0.01</td>\n",
       "      <td>0.0</td>\n",
       "    </tr>\n",
       "    <tr>\n",
       "      <th>1</th>\n",
       "      <td>0.438407</td>\n",
       "      <td>2.022543</td>\n",
       "      <td>0.5</td>\n",
       "      <td>1.5</td>\n",
       "      <td>0.01</td>\n",
       "      <td>0.0</td>\n",
       "    </tr>\n",
       "    <tr>\n",
       "      <th>2</th>\n",
       "      <td>0.662137</td>\n",
       "      <td>2.043572</td>\n",
       "      <td>0.5</td>\n",
       "      <td>1.5</td>\n",
       "      <td>0.01</td>\n",
       "      <td>0.0</td>\n",
       "    </tr>\n",
       "    <tr>\n",
       "      <th>3</th>\n",
       "      <td>0.478112</td>\n",
       "      <td>2.027417</td>\n",
       "      <td>0.5</td>\n",
       "      <td>1.5</td>\n",
       "      <td>0.01</td>\n",
       "      <td>0.0</td>\n",
       "    </tr>\n",
       "    <tr>\n",
       "      <th>4</th>\n",
       "      <td>0.491171</td>\n",
       "      <td>1.974101</td>\n",
       "      <td>0.5</td>\n",
       "      <td>1.5</td>\n",
       "      <td>0.01</td>\n",
       "      <td>0.0</td>\n",
       "    </tr>\n",
       "  </tbody>\n",
       "</table>\n",
       "</div>"
      ],
      "text/plain": [
       "      price     stock  maturity  strike  initial_vol  interest_rates\n",
       "0  0.610045  1.967429       0.5     1.5         0.01             0.0\n",
       "1  0.438407  2.022543       0.5     1.5         0.01             0.0\n",
       "2  0.662137  2.043572       0.5     1.5         0.01             0.0\n",
       "3  0.478112  2.027417       0.5     1.5         0.01             0.0\n",
       "4  0.491171  1.974101       0.5     1.5         0.01             0.0"
      ]
     },
     "execution_count": 12,
     "metadata": {},
     "output_type": "execute_result"
    }
   ],
   "source": [
    "df.head()"
   ]
  },
  {
   "cell_type": "code",
   "execution_count": null,
   "metadata": {},
   "outputs": [
    {
     "name": "stderr",
     "output_type": "stream",
     "text": [
      "C:\\Users\\anita\\Desktop\\ML finance\\ML_finance\\complete data\\closed_form_solution.ipynb:46: IntegrationWarning: The maximum number of subdivisions (50) has been achieved.\n",
      "  If increasing the limit yields no improvement it is advised to analyze \n",
      "  the integrand in order to determine the difficulties.  If the position of a \n",
      "  local difficulty can be determined (singularity, discontinuity) one will \n",
      "  probably gain from splitting up the interval and calling the integrator \n",
      "  on the subranges.  Perhaps a special-purpose integrator should be used.\n",
      "  \"    d = cmath.sqrt((rho * sigma * phi * 1j - b)**2 - sigma**2 * (2 * u * phi * 1j - phi**2))\\n\",\n"
     ]
    }
   ],
   "source": [
    "df['price_sol'] = df.apply(lambda x: call_price(kappa, theta, sigma, rho, x['initial_vol'], x['interest_rates'] , x['maturity'], x['stock'], x['strike']), axis=1)"
   ]
  },
  {
   "cell_type": "code",
   "execution_count": null,
   "metadata": {},
   "outputs": [],
   "source": [
    "df.head()"
   ]
  },
  {
   "cell_type": "code",
   "execution_count": null,
   "metadata": {},
   "outputs": [],
   "source": [
    "df.to"
   ]
  }
 ],
 "metadata": {
  "accelerator": "GPU",
  "colab": {
   "include_colab_link": true,
   "name": "generate_dataset.ipynb",
   "provenance": []
  },
  "kernelspec": {
   "display_name": "fbd",
   "language": "python",
   "name": "fbd"
  },
  "language_info": {
   "codemirror_mode": {
    "name": "ipython",
    "version": 3
   },
   "file_extension": ".py",
   "mimetype": "text/x-python",
   "name": "python",
   "nbconvert_exporter": "python",
   "pygments_lexer": "ipython3",
   "version": "3.8.5"
  }
 },
 "nbformat": 4,
 "nbformat_minor": 4
}

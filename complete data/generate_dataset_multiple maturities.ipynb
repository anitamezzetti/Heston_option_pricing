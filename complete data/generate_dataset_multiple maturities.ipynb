{
  "nbformat": 4,
  "nbformat_minor": 0,
  "metadata": {
    "accelerator": "GPU",
    "colab": {
      "name": "generate_dataset.ipynb",
      "provenance": [],
      "include_colab_link": true
    },
    "kernelspec": {
      "display_name": "fbd",
      "language": "python",
      "name": "fbd"
    },
    "language_info": {
      "codemirror_mode": {
        "name": "ipython",
        "version": 3
      },
      "file_extension": ".py",
      "mimetype": "text/x-python",
      "name": "python",
      "nbconvert_exporter": "python",
      "pygments_lexer": "ipython3",
      "version": "3.8.5"
    }
  },
  "cells": [
    {
      "cell_type": "markdown",
      "metadata": {
        "id": "view-in-github",
        "colab_type": "text"
      },
      "source": [
        "<a href=\"https://colab.research.google.com/github/anitamezzetti/ML_finance/blob/main/complete%20data/generate_dataset_multiple%20maturities.ipynb\" target=\"_parent\"><img src=\"https://colab.research.google.com/assets/colab-badge.svg\" alt=\"Open In Colab\"/></a>"
      ]
    },
    {
      "cell_type": "code",
      "metadata": {
        "id": "Fd95GEZz_3ZC"
      },
      "source": [
        "import numpy as np\n",
        "import os\n",
        "from time import time\n",
        "import matplotlib.pyplot as plt\n",
        "import pandas as pd"
      ],
      "execution_count": 1,
      "outputs": []
    },
    {
      "cell_type": "code",
      "metadata": {
        "id": "C4ux4-U7_3ZD"
      },
      "source": [
        "start = time()\n",
        "\n",
        "# model parameters\n",
        "sigma = 0.61\n",
        "theta = 0.019\n",
        "kappa = 6.21\n",
        "rho = -0.5\n",
        "T1 = 10\n",
        "S0 = 2\n",
        "\n",
        "# initial conditions\n",
        "# S0 \n",
        "V0 = [0.01, 0.05, 0.07]"
      ],
      "execution_count": 2,
      "outputs": []
    },
    {
      "cell_type": "code",
      "metadata": {
        "id": "utMRt0RJ30Nu"
      },
      "source": [
        "# option parameters\n",
        "int_rates = [0, 0.05]\n",
        "K = np.arange(1.6,2.4,0.2)\n",
        "time_maturity = np.arange(1,5,0.2)"
      ],
      "execution_count": 3,
      "outputs": []
    },
    {
      "cell_type": "code",
      "metadata": {
        "id": "SZusfSVY_3ZF"
      },
      "source": [
        "num_simulations = 500\n",
        "n = 500"
      ],
      "execution_count": 10,
      "outputs": []
    },
    {
      "cell_type": "markdown",
      "metadata": {
        "id": "UUijZcCs_3ZE"
      },
      "source": [
        "Stock prices simulation:"
      ]
    },
    {
      "cell_type": "code",
      "metadata": {
        "id": "KjKjTk_h_3ZE"
      },
      "source": [
        "def stock_price_generator (t_max, n ,m, S0, k, V0, sigma, theta, kappa, rho):\n",
        "    dt = t_max / n\n",
        "    \n",
        "    # Brownian motions:\n",
        "    dw_v = np.random.normal(size=(m, n)) * np.sqrt(dt)\n",
        "    dw_i = np.random.normal(size=(m, n)) * np.sqrt(dt)\n",
        "\n",
        "    dw_s = rho * dw_v + np.sqrt(1.0 - rho ** 2) * dw_i\n",
        "\n",
        "    # Perform time evolution \n",
        "    s = np.empty((m, n + 1)) # initialisation stock prices vector\n",
        "    s[:, 0] = S0\n",
        "\n",
        "    v = np.ones(m) * V0\n",
        "\n",
        "    for t in range(n):\n",
        "        dv = kappa * (theta - v) * dt + sigma * np.sqrt(v) * dw_v[:, t]\n",
        "        ds = r * s[:, t] * dt + np.sqrt(v) * s[:, t] * dw_s[:, t]\n",
        "\n",
        "        v = np.clip(v + dv, a_min=0.0, a_max=None)\n",
        "        s[:, t + 1] = s[:, t] + ds\n",
        "      \n",
        "        \n",
        "    return s\n",
        "    "
      ],
      "execution_count": 11,
      "outputs": []
    },
    {
      "cell_type": "code",
      "metadata": {
        "id": "ttzElfx7_3ZF"
      },
      "source": [
        "def find_expected_payoff(stock_path, k, r, t_max):\n",
        "    payoff = max(stock_path[-1] - k, 0) # one payoff for each simulation\n",
        "    c = payoff * np.exp(-r * t_max)     # in case r=0, this step is useless\n",
        "    \n",
        "    return c"
      ],
      "execution_count": 12,
      "outputs": []
    },
    {
      "cell_type": "code",
      "metadata": {
        "id": "t6OJ8LBNRdaT"
      },
      "source": [
        "df = pd.DataFrame(columns=['price', 'stock', 'strike', 'maturity', 'initial_vol', 'interest_rates'])"
      ],
      "execution_count": 13,
      "outputs": []
    },
    {
      "cell_type": "code",
      "metadata": {
        "colab": {
          "base_uri": "https://localhost:8080/"
        },
        "id": "eUSPiN1j_3ZF",
        "outputId": "d15dbaf6-0aea-4af9-d2ea-0b9506cf6f71"
      },
      "source": [
        "# fill the dataset\n",
        "for v0 in V0:\n",
        "  print(f\"vo {v0}\")\n",
        "  for k in K:\n",
        "    print(f\"k {k}\")\n",
        "    for t in time_maturity:\n",
        "      for r in int_rates:\n",
        "          s = stock_price_generator (t, n, num_simulations, S0, k, v0, sigma, theta, kappa, rho)\n",
        "\n",
        "          for stock_path in s:\n",
        "              p = find_expected_payoff(stock_path, k, r, t)\n",
        "\n",
        "              new_row = {\n",
        "                  'price':p, \n",
        "                  'stock':stock_path[T1],\n",
        "                  'strike':k, \n",
        "                  'maturity':t, \n",
        "                  'initial_vol': v0, \n",
        "                  'interest_rates':r\n",
        "              }\n",
        "              #append row to the dataframe\n",
        "              df = df.append(new_row, ignore_index=True)\n"
      ],
      "execution_count": 14,
      "outputs": [
        {
          "output_type": "stream",
          "text": [
            "vo 0.01\n",
            "k 1.6\n",
            "k 1.8\n",
            "k 2.0\n",
            "k 2.2\n",
            "vo 0.05\n",
            "k 1.6\n",
            "k 1.8\n",
            "k 2.0\n",
            "k 2.2\n",
            "vo 0.07\n",
            "k 1.6\n",
            "k 1.8\n",
            "k 2.0\n",
            "k 2.2\n"
          ],
          "name": "stdout"
        }
      ]
    },
    {
      "cell_type": "code",
      "metadata": {
        "colab": {
          "base_uri": "https://localhost:8080/",
          "height": 206
        },
        "id": "vrddJbjwBPc2",
        "outputId": "d04dc85c-03ad-49fb-de44-669859f7574a"
      },
      "source": [
        "df.head()"
      ],
      "execution_count": 15,
      "outputs": [
        {
          "output_type": "execute_result",
          "data": {
            "text/html": [
              "<div>\n",
              "<style scoped>\n",
              "    .dataframe tbody tr th:only-of-type {\n",
              "        vertical-align: middle;\n",
              "    }\n",
              "\n",
              "    .dataframe tbody tr th {\n",
              "        vertical-align: top;\n",
              "    }\n",
              "\n",
              "    .dataframe thead th {\n",
              "        text-align: right;\n",
              "    }\n",
              "</style>\n",
              "<table border=\"1\" class=\"dataframe\">\n",
              "  <thead>\n",
              "    <tr style=\"text-align: right;\">\n",
              "      <th></th>\n",
              "      <th>price</th>\n",
              "      <th>stock</th>\n",
              "      <th>strike</th>\n",
              "      <th>maturity</th>\n",
              "      <th>initial_vol</th>\n",
              "      <th>interest_rates</th>\n",
              "    </tr>\n",
              "  </thead>\n",
              "  <tbody>\n",
              "    <tr>\n",
              "      <th>0</th>\n",
              "      <td>0.187565</td>\n",
              "      <td>2.012875</td>\n",
              "      <td>1.6</td>\n",
              "      <td>1.0</td>\n",
              "      <td>0.01</td>\n",
              "      <td>0.0</td>\n",
              "    </tr>\n",
              "    <tr>\n",
              "      <th>1</th>\n",
              "      <td>0.234718</td>\n",
              "      <td>1.979601</td>\n",
              "      <td>1.6</td>\n",
              "      <td>1.0</td>\n",
              "      <td>0.01</td>\n",
              "      <td>0.0</td>\n",
              "    </tr>\n",
              "    <tr>\n",
              "      <th>2</th>\n",
              "      <td>0.190948</td>\n",
              "      <td>2.011839</td>\n",
              "      <td>1.6</td>\n",
              "      <td>1.0</td>\n",
              "      <td>0.01</td>\n",
              "      <td>0.0</td>\n",
              "    </tr>\n",
              "    <tr>\n",
              "      <th>3</th>\n",
              "      <td>0.275900</td>\n",
              "      <td>2.012831</td>\n",
              "      <td>1.6</td>\n",
              "      <td>1.0</td>\n",
              "      <td>0.01</td>\n",
              "      <td>0.0</td>\n",
              "    </tr>\n",
              "    <tr>\n",
              "      <th>4</th>\n",
              "      <td>0.017349</td>\n",
              "      <td>2.019834</td>\n",
              "      <td>1.6</td>\n",
              "      <td>1.0</td>\n",
              "      <td>0.01</td>\n",
              "      <td>0.0</td>\n",
              "    </tr>\n",
              "  </tbody>\n",
              "</table>\n",
              "</div>"
            ],
            "text/plain": [
              "      price     stock  strike  maturity  initial_vol  interest_rates\n",
              "0  0.187565  2.012875     1.6       1.0         0.01             0.0\n",
              "1  0.234718  1.979601     1.6       1.0         0.01             0.0\n",
              "2  0.190948  2.011839     1.6       1.0         0.01             0.0\n",
              "3  0.275900  2.012831     1.6       1.0         0.01             0.0\n",
              "4  0.017349  2.019834     1.6       1.0         0.01             0.0"
            ]
          },
          "metadata": {
            "tags": []
          },
          "execution_count": 15
        }
      ]
    },
    {
      "cell_type": "code",
      "metadata": {
        "colab": {
          "base_uri": "https://localhost:8080/"
        },
        "id": "H4hGw1iDSuyK",
        "outputId": "d98e3261-11dc-4673-ed7d-89a20c12c582"
      },
      "source": [
        "zero_values = sum(x == 0 for x in df.price)\n",
        "non_zeros_values = sum(x != 0 for x in df.price)\n",
        "\n",
        "print(f\"This database contains {len(df)} options. \\n{zero_values} have zero value.\")"
      ],
      "execution_count": 16,
      "outputs": [
        {
          "output_type": "stream",
          "text": [
            "This database contains 240000 options. \n",
            "82088 have zero value.\n"
          ],
          "name": "stdout"
        }
      ]
    },
    {
      "cell_type": "code",
      "metadata": {
        "colab": {
          "base_uri": "https://localhost:8080/",
          "height": 265
        },
        "id": "4JzTZPkFZ2Kf",
        "outputId": "6bb77a2a-5988-4b77-b4c1-221ff20af804"
      },
      "source": [
        "plt.hist(df.price, bins =100);"
      ],
      "execution_count": 17,
      "outputs": [
        {
          "output_type": "display_data",
          "data": {
            "image/png": "[encoded data removed]",
            "text/plain": [
              "<Figure size 432x288 with 1 Axes>"
            ]
          },
          "metadata": {
            "tags": [],
            "needs_background": "light"
          }
        }
      ]
    },
    {
      "cell_type": "code",
      "metadata": {
        "colab": {
          "base_uri": "https://localhost:8080/"
        },
        "id": "_H113R74Z2Kf",
        "outputId": "a95541c1-8f05-4712-838a-24b452ac4a3f"
      },
      "source": [
        "len(df)"
      ],
      "execution_count": 18,
      "outputs": [
        {
          "output_type": "execute_result",
          "data": {
            "text/plain": [
              "240000"
            ]
          },
          "metadata": {
            "tags": []
          },
          "execution_count": 18
        }
      ]
    },
    {
      "cell_type": "code",
      "metadata": {
        "id": "YMKgy5IxeIXS"
      },
      "source": [
        "df.to_csv('dataset2.csv')"
      ],
      "execution_count": 19,
      "outputs": []
    },
    {
      "cell_type": "code",
      "metadata": {
        "id": "e4LvH9kleWSO"
      },
      "source": [
        ""
      ],
      "execution_count": null,
      "outputs": []
    }
  ]
}
{
 "cells": [
  {
   "cell_type": "markdown",
   "metadata": {},
   "source": [
    "## Evaluating option prices using the FFT\n",
    "### Calculating call and put options for the Carr & Madan method"
   ]
  },
  {
   "cell_type": "code",
   "execution_count": 1,
   "metadata": {},
   "outputs": [
    {
     "data": {
      "text/plain": [
       "<Figure size 864x720 with 0 Axes>"
      ]
     },
     "metadata": {},
     "output_type": "display_data"
    }
   ],
   "source": [
    "import numpy as np\n",
    "import matplotlib.pyplot as plt\n",
    "fig=plt.figure(figsize=(12,10))\n",
    "import pandas as pd\n",
    "from scipy import fftpack\n",
    "import itertools"
   ]
  },
  {
   "cell_type": "code",
   "execution_count": 2,
   "metadata": {},
   "outputs": [],
   "source": [
    "import timeit"
   ]
  },
  {
   "cell_type": "code",
   "execution_count": 3,
   "metadata": {},
   "outputs": [],
   "source": [
    "import numpy as np\n",
    "import math\n",
    "import scipy.stats as si\n",
    "from math import log, sqrt, exp\n",
    "from scipy import stats\n",
    "import matplotlib.pyplot as plt"
   ]
  },
  {
   "cell_type": "markdown",
   "metadata": {},
   "source": [
    "## Characteristic function"
   ]
  },
  {
   "cell_type": "code",
   "execution_count": 5,
   "metadata": {},
   "outputs": [],
   "source": [
    "def ft_option(rf,sg,t,a,g):\n",
    "    #g_=[g - i*(a+1)]\n",
    "    g_=[i - complex(0,(a+1)) for i in g]\n",
    "    \n",
    "    #y1 = ft_pdf(rf,sg,t,g_)\n",
    "    y1 = ft_pdf(rf,sg,t,g_)\n",
    "    \n",
    "    #y2 = a^2 + a - g.^2 + i*(2*a+1)*g;\n",
    "    y2=[a**(2)+a-i**(2)+complex(0,2*a+1)*i for i in g]\n",
    "    \n",
    "    # = y1./ y2;\n",
    "    y=[ i/j for i,j in zip(y1,y2)]\n",
    "    return y"
   ]
  },
  {
   "cell_type": "code",
   "execution_count": 6,
   "metadata": {},
   "outputs": [],
   "source": [
    "def FFT_Pricing_CallPut(S,rf,sg,t,alpha,npower):\n",
    "    #find the number of points\n",
    "    \n",
    "    N = 2**(npower)\n",
    "    \n",
    "    #spacing in the strike\n",
    "    lambda_ = 0.01;\n",
    "    \n",
    "    #parameters for the characteristic function grid (0,N*eta)\n",
    "    eta = 2*np.pi/(N*lambda_)\n",
    "    \n",
    "    #create grid for the cf \n",
    "    u=list(range(N))\n",
    "    g=[i * eta for i in u]\n",
    "     \n",
    "    #create grid for the strike\n",
    "    k0 = (-N*lambda_)/2\n",
    "    k = [k0+(i * lambda_) for i in u]\n",
    "    \n",
    "    #compute the characteristic function\n",
    "    fc=ft_option(rf,sg,t,alpha,g)\n",
    "    \n",
    "    \n",
    "    #trapezoidal rule\n",
    "    w = [0.5]+ list(np.ones(N-2)) +[0.5]; \n",
    "    #h2=[a * b for a, b in zip ([ (np.e**(i*complex(0,-k0))) for i in g],[j*i * eta for i,j in zip(fc,w)])]\n",
    "    \n",
    "    h2=[(np.e**(complex(0,-k0*i)))*j*k*eta for i,j,k in itertools.zip_longest(g,fc,w)]\n",
    "        \n",
    "    #Fourier inversion\n",
    "    g=fftpack.fft(h2)\n",
    "    g2=[((np.e**(-alpha*a))/np.pi*b).real for a, b in zip (k,g)]\n",
    "    \n",
    "    K = [S*np.e**(i) for i in k] \n",
    "    K =np.transpose(K)\n",
    "\n",
    "\n",
    "    Y=[np.e**(-rf*t)*S*i for i in g2]\n",
    "    Y =np.transpose(Y)\n",
    "    Dict = {'Strike Price':K, 'Option Price':Y}\n",
    "\n",
    "    return Dict \n",
    "\n"
   ]
  },
  {
   "cell_type": "code",
   "execution_count": 7,
   "metadata": {},
   "outputs": [],
   "source": [
    "W = FFT_Pricing_CallPut(100,0.05,0.2,1,7,8) #List of call prices from FFT\n",
    "Strk = W['Strike Price']\n",
    "Y = W['Option Price']\n"
   ]
  },
  {
   "cell_type": "code",
   "execution_count": 32,
   "metadata": {},
   "outputs": [
    {
     "data": {
      "text/plain": [
       "{'Strike Price': array([ 27.80373005,  28.08316218,  28.36540265,  28.65047969,\n",
       "         28.93842179,  29.22925777,  29.52301669,  29.81972794,\n",
       "         30.11942119,  30.42212641,  30.72787386,  31.03669413,\n",
       "         31.34861809,  31.66367694,  31.98190218,  32.30332564,\n",
       "         32.62797946,  32.95589611,  33.28710837,  33.62164937,\n",
       "         33.95955256,  34.30085174,  34.64558103,  34.99377491,\n",
       "         35.3454682 ,  35.70069606,  36.05949402,  36.42189796,\n",
       "         36.78794412,  37.1576691 ,  37.53110989,  37.90830381,\n",
       "         38.2892886 ,  38.67410235,  39.06278354,  39.45537104,\n",
       "         39.85190411,  40.2524224 ,  40.65696597,  41.06557528,\n",
       "         41.47829117,  41.89515492,  42.31620823,  42.74149319,\n",
       "         43.17105234,  43.60492863,  44.04316545,  44.48580662,\n",
       "         44.93289641,  45.38447953,  45.84060113,  46.30130683,\n",
       "         46.7666427 ,  47.23665527,  47.71139155,  48.19089901,\n",
       "         48.6752256 ,  49.16441975,  49.65853038,  50.15760691,\n",
       "         50.66169924,  51.17085778,  51.68513345,  52.20457768,\n",
       "         52.7292424 ,  53.2591801 ,  53.79444376,  54.33508691,\n",
       "         54.88116361,  55.43272847,  55.98983666,  56.55254387,\n",
       "         57.12090638,  57.69498104,  58.27482524,  58.86049697,\n",
       "         59.4520548 ,  60.04955788,  60.65306597,  61.26263942,\n",
       "         61.87833918,  62.50022683,  63.12836455,  63.76281516,\n",
       "         64.40364211,  65.05090947,  65.70468198,  66.36502501,\n",
       "         67.0320046 ,  67.70568745,  68.38614092,  69.07343306,\n",
       "         69.76763261,  70.46880897,  71.17703228,  71.89237334,\n",
       "         72.61490371,  73.34469562,  74.08182207,  74.82635676,\n",
       "         75.57837415,  76.33794943,  77.10515858,  77.88007831,\n",
       "         78.66278611,  79.45336025,  80.2518798 ,  81.0584246 ,\n",
       "         81.87307531,  82.69591339,  83.52702114,  84.36648166,\n",
       "         85.2143789 ,  86.07079764,  86.93582354,  87.80954309,\n",
       "         88.69204367,  89.58341353,  90.4837418 ,  91.39311853,\n",
       "         92.31163464,  93.23938199,  94.17645336,  95.12294245,\n",
       "         96.07894392,  97.04455335,  98.01986733,  99.00498337,\n",
       "        100.        , 101.00501671, 102.020134  , 103.0454534 ,\n",
       "        104.08107742, 105.12710964, 106.18365465, 107.25081813,\n",
       "        108.32870677, 109.41742837, 110.51709181, 111.62780705,\n",
       "        112.74968516, 113.88283833, 115.02737989, 116.18342427,\n",
       "        117.3510871 , 118.53048513, 119.72173631, 120.92495977,\n",
       "        122.14027582, 123.367806  , 124.60767306, 125.86000099,\n",
       "        127.12491503, 128.40254167, 129.69300867, 130.99644507,\n",
       "        132.31298123, 133.6427488 , 134.98588076, 136.34251141,\n",
       "        137.71277643, 139.09681285, 140.49475906, 141.90675486,\n",
       "        143.33294146, 144.77346147, 146.22845894, 147.69807939,\n",
       "        149.18246976, 150.68177851, 152.19615556, 153.72575235,\n",
       "        155.27072185, 156.83121855, 158.4073985 , 159.99941932,\n",
       "        161.60744022, 163.231622  , 164.87212707, 166.52911949,\n",
       "        168.20276497, 169.89323086, 171.60068622, 173.32530179,\n",
       "        175.06725003, 176.82670514, 178.60384308, 180.39884154,\n",
       "        182.21188004, 184.04313988, 185.89280418, 187.76105793,\n",
       "        189.64808793, 191.5540829 , 193.47923344, 195.42373206,\n",
       "        197.38777322, 199.37155332, 201.37527075, 203.39912586,\n",
       "        205.44332106, 207.50806077, 209.59355145, 211.70000166,\n",
       "        213.82762205, 215.97662538, 218.14722655, 220.33964263,\n",
       "        222.55409285, 224.79079867, 227.04998375, 229.33187403,\n",
       "        231.63669768, 233.96468519, 236.31606937, 238.69108535,\n",
       "        241.08997064, 243.51296513, 245.96031112, 248.43225334,\n",
       "        250.92903899, 253.45091776, 255.99814183, 258.57096593,\n",
       "        261.16964734, 263.79444594, 266.44562419, 269.12344723,\n",
       "        271.82818285, 274.5601015 , 277.3194764 , 280.10658347,\n",
       "        282.92170144, 285.76511181, 288.63709893, 291.53795   ,\n",
       "        294.46795511, 297.42740726, 300.41660239, 303.43583944,\n",
       "        306.48542033, 309.56565001, 312.67683652, 315.81929097,\n",
       "        318.99332761, 322.19926385, 325.43742029, 328.70812074,\n",
       "        332.01169227, 335.34846525, 338.71877336, 342.12295363,\n",
       "        345.56134648, 349.03429575, 352.54214874, 356.08525624]),\n",
       " 'Option Price': array([7.36862442e+01, 7.33838635e+01, 7.30886285e+01, 7.27979252e+01,\n",
       "        7.25098080e+01, 7.22228301e+01, 7.19359170e+01, 7.16482698e+01,\n",
       "        7.13592949e+01, 7.10685496e+01, 7.07757025e+01, 7.04805043e+01,\n",
       "        7.01827655e+01, 6.98823405e+01, 6.95791154e+01, 6.92729995e+01,\n",
       "        6.89639188e+01, 6.86518112e+01, 6.83366231e+01, 6.80183072e+01,\n",
       "        6.76968203e+01, 6.73721221e+01, 6.70441746e+01, 6.67129409e+01,\n",
       "        6.63783851e+01, 6.60404716e+01, 6.56991653e+01, 6.53544312e+01,\n",
       "        6.50062340e+01, 6.46545385e+01, 6.42993091e+01, 6.39405102e+01,\n",
       "        6.35781056e+01, 6.32120591e+01, 6.28423340e+01, 6.24688933e+01,\n",
       "        6.20916995e+01, 6.17107151e+01, 6.13259018e+01, 6.09372213e+01,\n",
       "        6.05446347e+01, 6.01481029e+01, 5.97475861e+01, 5.93430445e+01,\n",
       "        5.89344376e+01, 5.85217249e+01, 5.81048651e+01, 5.76838169e+01,\n",
       "        5.72585382e+01, 5.68289871e+01, 5.63951208e+01, 5.59568965e+01,\n",
       "        5.55142709e+01, 5.50672005e+01, 5.46156415e+01, 5.41595498e+01,\n",
       "        5.36988810e+01, 5.32335907e+01, 5.27636341e+01, 5.22889665e+01,\n",
       "        5.18095432e+01, 5.13253193e+01, 5.08362503e+01, 5.03422918e+01,\n",
       "        4.98433997e+01, 4.93395305e+01, 4.88306413e+01, 4.83166900e+01,\n",
       "        4.77976355e+01, 4.72734377e+01, 4.67440585e+01, 4.62094610e+01,\n",
       "        4.56696108e+01, 4.51244757e+01, 4.45740262e+01, 4.40182364e+01,\n",
       "        4.34570839e+01, 4.28905505e+01, 4.23186230e+01, 4.17412932e+01,\n",
       "        4.11585595e+01, 4.05704268e+01, 3.99769075e+01, 3.93780225e+01,\n",
       "        3.87738019e+01, 3.81642860e+01, 3.75495260e+01, 3.69295853e+01,\n",
       "        3.63045405e+01, 3.56744822e+01, 3.50395163e+01, 3.43997650e+01,\n",
       "        3.37553680e+01, 3.31064835e+01, 3.24532891e+01, 3.17959833e+01,\n",
       "        3.11347860e+01, 3.04699398e+01, 2.98017105e+01, 2.91303883e+01,\n",
       "        2.84562881e+01, 2.77797501e+01, 2.71011403e+01, 2.64208508e+01,\n",
       "        2.57392995e+01, 2.50569305e+01, 2.43742132e+01, 2.36916422e+01,\n",
       "        2.30097362e+01, 2.23290373e+01, 2.16501094e+01, 2.09735371e+01,\n",
       "        2.02999235e+01, 1.96298886e+01, 1.89640671e+01, 1.83031054e+01,\n",
       "        1.76476596e+01, 1.69983924e+01, 1.63559700e+01, 1.57210588e+01,\n",
       "        1.50943223e+01, 1.44764175e+01, 1.38679916e+01, 1.32696781e+01,\n",
       "        1.26820937e+01, 1.21058342e+01, 1.15414717e+01, 1.09895507e+01,\n",
       "        1.04505851e+01, 9.92505524e+00, 9.41340491e+00, 8.91603880e+00,\n",
       "        8.43332021e+00, 7.96556898e+00, 7.51305976e+00, 7.07602070e+00,\n",
       "        6.65463232e+00, 6.24902694e+00, 5.85928833e+00, 5.48545178e+00,\n",
       "        5.12750457e+00, 4.78538673e+00, 4.45899222e+00, 4.14817035e+00,\n",
       "        3.85272763e+00, 3.57242977e+00, 3.30700405e+00, 3.05614186e+00,\n",
       "        2.81950147e+00, 2.59671092e+00, 2.38737110e+00, 2.19105888e+00,\n",
       "        2.00733032e+00, 1.83572393e+00, 1.67576383e+00, 1.52696304e+00,\n",
       "        1.38882651e+00, 1.26085420e+00, 1.14254399e+00, 1.03339440e+00,\n",
       "        9.32907232e-01, 8.40589972e-01, 7.55958027e-01, 6.78536746e-01,\n",
       "        6.07863242e-01, 5.43487992e-01, 4.84976228e-01, 4.31909114e-01,\n",
       "        3.83884714e-01, 3.40518756e-01, 3.01445202e-01, 2.66316639e-01,\n",
       "        2.34804488e-01, 2.06599061e-01, 1.81409467e-01, 1.58963390e-01,\n",
       "        1.39006738e-01, 1.21303204e-01, 1.05633722e-01, 9.17958592e-02,\n",
       "        7.96031413e-02, 6.88843280e-02, 5.94826548e-02, 5.12550479e-02,\n",
       "        4.40713246e-02, 3.78133881e-02, 3.23744254e-02, 2.76581153e-02,\n",
       "        2.35778542e-02, 2.00560033e-02, 1.70231632e-02, 1.44174789e-02,\n",
       "        1.21839785e-02, 1.02739469e-02, 8.64433695e-03, 7.25721778e-03,\n",
       "        6.07926107e-03, 5.08126502e-03, 4.23771514e-03, 3.52638082e-03,\n",
       "        2.92794661e-03, 2.42567643e-03, 2.00510924e-03, 1.65378416e-03,\n",
       "        1.36099332e-03, 1.11756047e-03, 9.15643360e-04, 7.48558076e-04,\n",
       "        6.10623425e-04, 4.97023604e-04, 4.03687418e-04, 3.27182443e-04,\n",
       "        2.64622593e-04, 2.13587687e-04, 1.72053678e-04, 1.38332349e-04,\n",
       "        1.11019353e-04, 8.89496023e-05, 7.11590759e-05, 5.68522447e-05,\n",
       "        4.53743643e-05, 3.61879893e-05, 2.88531270e-05, 2.30105193e-05,\n",
       "        1.83676027e-05, 1.46867554e-05, 1.17754875e-05, 9.47827953e-06,\n",
       "        7.66981163e-06, 6.24936431e-06, 5.13620156e-06, 4.26577546e-06,\n",
       "        3.58661534e-06, 3.05778563e-06, 2.64681446e-06, 2.32801096e-06,\n",
       "        2.08110211e-06, 1.89013187e-06, 1.74257453e-06, 1.62862281e-06,\n",
       "        1.54061778e-06, 1.47259377e-06, 1.41991605e-06, 1.37899321e-06,\n",
       "        1.34704945e-06, 1.32194494e-06, 1.30203432e-06, 1.28605568e-06,\n",
       "        1.27304369e-06, 1.26226177e-06, 1.25314932e-06, 1.24528073e-06,\n",
       "        1.23833369e-06, 1.23206472e-06, 1.22629035e-06, 1.22087263e-06])}"
      ]
     },
     "execution_count": 32,
     "metadata": {},
     "output_type": "execute_result"
    }
   ],
   "source": [
    "W"
   ]
  },
  {
   "cell_type": "code",
   "execution_count": null,
   "metadata": {},
   "outputs": [],
   "source": []
  },
  {
   "cell_type": "code",
   "execution_count": 8,
   "metadata": {},
   "outputs": [],
   "source": [
    "WPa = FFT_Pricing_CallPut(100,0.05,0.2,1,2.1,8)\n",
    "StrkP = W['Strike Price']\n",
    "YPa = WPa['Option Price']"
   ]
  },
  {
   "cell_type": "code",
   "execution_count": 9,
   "metadata": {},
   "outputs": [
    {
     "data": {
      "image/png": "[encoded data removed]",
      "text/plain": [
       "<Figure size 432x288 with 1 Axes>"
      ]
     },
     "metadata": {
      "needs_background": "light"
     },
     "output_type": "display_data"
    }
   ],
   "source": [
    "\n",
    "\n",
    "plt.plot(Strk,Y,label='BS-FFT')\n",
    "#plt.plot(Strk,Y,label='BS-FFt')\n",
    "plt.xlabel('Strike Price')\n",
    "plt.ylabel('European call option')\n",
    "plt.title('Black-Scholes (FFT) call price vs Strike price')\n",
    "plt.legend()\n",
    "plt.grid(True) \n",
    "#return df.head(10)"
   ]
  },
  {
   "cell_type": "markdown",
   "metadata": {},
   "source": [
    "## Changing the sign of $\\alpha$ gives us the put options."
   ]
  },
  {
   "cell_type": "code",
   "execution_count": null,
   "metadata": {},
   "outputs": [],
   "source": []
  },
  {
   "cell_type": "code",
   "execution_count": 10,
   "metadata": {},
   "outputs": [],
   "source": [
    "WP = FFT_Pricing_CallPut(100,0.05,0.2,1,-3.1,8)\n",
    "StrkP = WP['Strike Price']\n",
    "YP = WP['Option Price']\n"
   ]
  },
  {
   "cell_type": "code",
   "execution_count": 11,
   "metadata": {},
   "outputs": [
    {
     "data": {
      "image/png": "[encoded data removed]",
      "text/plain": [
       "<Figure size 432x288 with 1 Axes>"
      ]
     },
     "metadata": {
      "needs_background": "light"
     },
     "output_type": "display_data"
    }
   ],
   "source": [
    "plt.plot(StrkP,YP,label='BS-FFT')\n",
    "\n",
    "plt.xlabel('Strike Price')\n",
    "plt.ylabel('European Put option')\n",
    "plt.title('Black-Scholes(FFT) put price vs Strike price')\n",
    "plt.legend()\n",
    "plt.grid(True) \n",
    "#return df.head(10)\n",
    "\n"
   ]
  },
  {
   "cell_type": "code",
   "execution_count": null,
   "metadata": {},
   "outputs": [],
   "source": []
  },
  {
   "cell_type": "markdown",
   "metadata": {},
   "source": [
    "# Analytical Black-Scholes Call option code"
   ]
  },
  {
   "cell_type": "code",
   "execution_count": 12,
   "metadata": {},
   "outputs": [],
   "source": [
    "\n",
    "# List of strikes generated from the FFT code\n",
    "Strk = W['Strike Price']\n",
    "\n",
    "\"\"\"\n",
    "S = 100 \n",
    "T = 1\n",
    "r = 0.05\n",
    "alpha = 2\n",
    "sigma = 0.2\n",
    "\"\"\"\n",
    "\n",
    "call_list = [] # Call prices calculated using Black-Scholes analytical formula are appended to this list\n",
    "\n",
    "def BScall(S, K, T, r, sigma):\n",
    "\n",
    "    float(S)\n",
    "    d1 = (np.log(S / K) + (r + 0.5 * sigma ** 2) * T) / (sigma * np.sqrt(T))\n",
    "    d2 = (np.log(S / K) + (r - 0.5 * sigma ** 2) * T) / (sigma * np.sqrt(T))\n",
    "    \n",
    "    value = (S * si.norm.cdf(d1, 0.0, 1.0) - K * np.exp(-r * T) * si.norm.cdf(d2, 0.0, 1.0))\n",
    "    #si.norm.cdf() computes the cumulative distribution function of a normal random variable\n",
    "    return value\n",
    "\n",
    "\n",
    "for K in Strk:\n",
    "    call = BScall(100, K, 1, 0.05, 0.2) #Calculates call price for each Strike K given\n",
    "    call_list.append(call) \n",
    "\n",
    "\n",
    "#plt.plot(Strk,call_list,label='BS')\n",
    "#plt.plot(Strk,Y,label='BS-FFt')\n",
    "#plt.xlabel('Strike Price')\n",
    "#plt.ylabel('European call option')\n",
    "#plt.title('Black-Scholes call price vs Strike price')\n",
    "#plt.legend()\n",
    "#plt.grid(True) \n",
    "\n"
   ]
  },
  {
   "cell_type": "markdown",
   "metadata": {},
   "source": [
    "# Analytical Black-Scholes put option code"
   ]
  },
  {
   "cell_type": "code",
   "execution_count": 13,
   "metadata": {},
   "outputs": [],
   "source": [
    "\n",
    "# List of strikes generated from the FFT code\n",
    "Strk = W['Strike Price']\n",
    "\n",
    "\n",
    "put_list = [] # Call prices calculated using Black-Scholes analytical formula are appended to this list\n",
    "#Btime = \n",
    "def BSput(S, K, T, r, sigma):\n",
    "\n",
    "    float(S)\n",
    "    d1 = (np.log(S / K) + (r + 0.5 * sigma ** 2) * T) / (sigma * np.sqrt(T))\n",
    "    d2 = (np.log(S / K) + (r - 0.5 * sigma ** 2) * T) / (sigma * np.sqrt(T))\n",
    "    \n",
    "    value = (-S * si.norm.cdf(-d1, 0.0, 1.0) + K * np.exp(-r * T) * si.norm.cdf(-d2, 0.0, 1.0))\n",
    "    #si.norm.cdf() computes the cumulative distribution function of a normal random variable\n",
    "    return value\n",
    "  \n",
    "for K in Strk:\n",
    "    put = BSput(100, K, 1, 0.05, 0.2) #Calculates call price for each Strike K given\n",
    "    put_list.append(put) \n",
    "\n",
    "\n",
    "\n",
    "\n",
    "#for K in Strk:\n",
    " #   start = timeit.timeit()\n",
    " #   put = BSput(100, K, 1, 0.05, 0.2) #Calculates call price for each Strike K given\n",
    "  #  put_list.append(put) \n",
    "  #  stop = timeit.time()\n",
    "   # duration = stop-start\n",
    "   # print(duration)\n",
    "\n",
    "\n",
    "#plt.plot(Strk,put_list,label='BS')\n",
    "#plt.plot(Strk,Y,label='BS-FFt')\n",
    "##plt.xlabel('Strike Price')\n",
    "#plt.ylabel('European put option')\n",
    "#plt.title('Black-Scholes put price vs Strike price')\n",
    "#plt.legend()\n",
    "#plt.grid(True) \n",
    "\n"
   ]
  },
  {
   "cell_type": "code",
   "execution_count": 14,
   "metadata": {},
   "outputs": [],
   "source": [
    "#put_list"
   ]
  },
  {
   "cell_type": "code",
   "execution_count": 15,
   "metadata": {},
   "outputs": [
    {
     "data": {
      "text/plain": [
       "43.04404350126002"
      ]
     },
     "execution_count": 15,
     "metadata": {},
     "output_type": "execute_result"
    }
   ],
   "source": [
    " BSput(100, 150, 1, 0.05, 0.2)"
   ]
  },
  {
   "cell_type": "code",
   "execution_count": 16,
   "metadata": {},
   "outputs": [
    {
     "data": {
      "image/png": "[encoded data removed]",
      "text/plain": [
       "<Figure size 432x288 with 1 Axes>"
      ]
     },
     "metadata": {
      "needs_background": "light"
     },
     "output_type": "display_data"
    }
   ],
   "source": [
    "plt.plot(StrkP,YP,label='BS-FFT')\n",
    "plt.plot(Strk,put_list,label='BS')\n",
    "#plt.plot(Strk,Y,label='BS-FFt')\n",
    "plt.xlabel('Strike Price')\n",
    "plt.ylabel('European put option')\n",
    "plt.title('Black-Scholes put price vs Strike price')\n",
    "plt.legend()\n",
    "plt.grid(True) "
   ]
  },
  {
   "cell_type": "markdown",
   "metadata": {},
   "source": [
    "## Plotting the call price of the analytical solution against the FFT solution"
   ]
  },
  {
   "cell_type": "code",
   "execution_count": 17,
   "metadata": {},
   "outputs": [
    {
     "data": {
      "image/png": "[encoded data removed]",
      "text/plain": [
       "<Figure size 432x288 with 1 Axes>"
      ]
     },
     "metadata": {
      "needs_background": "light"
     },
     "output_type": "display_data"
    }
   ],
   "source": [
    "plt.plot(Strk,call_list,label='BS')\n",
    "plt.plot(Strk,Y,label='BS-FFT')\n",
    "plt.xlabel('Strike Price')\n",
    "plt.ylabel('European call value')\n",
    "plt.title('Black-Scholes call price vs Strike price')\n",
    "plt.legend()\n",
    "plt.grid(True)"
   ]
  },
  {
   "cell_type": "code",
   "execution_count": null,
   "metadata": {},
   "outputs": [],
   "source": []
  },
  {
   "cell_type": "markdown",
   "metadata": {},
   "source": [
    "## Testing for the run-time"
   ]
  },
  {
   "cell_type": "code",
   "execution_count": 18,
   "metadata": {},
   "outputs": [
    {
     "ename": "NameError",
     "evalue": "name 'Btime' is not defined",
     "output_type": "error",
     "traceback": [
      "\u001b[1;31m---------------------------------------------------------------------------\u001b[0m",
      "\u001b[1;31mNameError\u001b[0m                                 Traceback (most recent call last)",
      "\u001b[1;32m<ipython-input-18-c113e0d6e9e8>\u001b[0m in \u001b[0;36m<module>\u001b[1;34m\u001b[0m\n\u001b[1;32m----> 1\u001b[1;33m \u001b[0melapsed_time\u001b[0m \u001b[1;33m=\u001b[0m \u001b[0mtimeit\u001b[0m\u001b[1;33m.\u001b[0m\u001b[0mtimeit\u001b[0m\u001b[1;33m(\u001b[0m\u001b[0mBtime\u001b[0m\u001b[1;33m,\u001b[0m \u001b[0mnumber\u001b[0m\u001b[1;33m=\u001b[0m\u001b[1;36m1\u001b[0m\u001b[1;33m)\u001b[0m\u001b[1;33m\u001b[0m\u001b[1;33m\u001b[0m\u001b[0m\n\u001b[0m\u001b[0;32m      2\u001b[0m \u001b[0mprint\u001b[0m\u001b[1;33m(\u001b[0m\u001b[0melapsed_time\u001b[0m\u001b[1;33m)\u001b[0m\u001b[1;33m\u001b[0m\u001b[1;33m\u001b[0m\u001b[0m\n\u001b[0;32m      3\u001b[0m \u001b[1;33m\u001b[0m\u001b[0m\n\u001b[0;32m      4\u001b[0m \u001b[0melapsed_time\u001b[0m \u001b[1;33m=\u001b[0m \u001b[0mtimeit\u001b[0m\u001b[1;33m.\u001b[0m\u001b[0mtimeit\u001b[0m\u001b[1;33m(\u001b[0m\u001b[0mBtime\u001b[0m\u001b[1;33m,\u001b[0m \u001b[0mnumber\u001b[0m\u001b[1;33m=\u001b[0m\u001b[1;36m1\u001b[0m\u001b[1;33m)\u001b[0m\u001b[1;33m\u001b[0m\u001b[1;33m\u001b[0m\u001b[0m\n\u001b[0;32m      5\u001b[0m \u001b[0mprint\u001b[0m\u001b[1;33m(\u001b[0m\u001b[0melapsed_time\u001b[0m\u001b[1;33m)\u001b[0m\u001b[1;33m\u001b[0m\u001b[1;33m\u001b[0m\u001b[0m\n",
      "\u001b[1;31mNameError\u001b[0m: name 'Btime' is not defined"
     ]
    }
   ],
   "source": [
    "\n",
    "elapsed_time = timeit.timeit(Btime, number=1)\n",
    "print(elapsed_time)\n",
    "\n",
    "elapsed_time = timeit.timeit(Btime, number=1)\n",
    "print(elapsed_time)\n",
    "\n",
    "elapsed_time = timeit.timeit(Btime, number=1)\n",
    "print(elapsed_time)\n",
    "\n",
    "elapsed_time = timeit.timeit(Btime, number=1)\n",
    "print(elapsed_time)\n",
    "\n",
    "elapsed_time = timeit.timeit(Btime, number=1)\n",
    "print(elapsed_time)\n",
    "\n",
    "elapsed_timefft = timeit.timeit(qfft, number=1)\n",
    "print(elapsed_time)"
   ]
  },
  {
   "cell_type": "markdown",
   "metadata": {},
   "source": [
    "## True absolute error for calls"
   ]
  },
  {
   "cell_type": "code",
   "execution_count": 19,
   "metadata": {},
   "outputs": [],
   "source": [
    "Error = np.zeros(len(Strk))\n",
    "\n",
    "for i in range(len(Strk)):\n",
    "    Error[i] = np.abs(call_list[i]-Y[i])\n",
    "    "
   ]
  },
  {
   "cell_type": "markdown",
   "metadata": {},
   "source": [
    "## True absolute error for puts"
   ]
  },
  {
   "cell_type": "code",
   "execution_count": 20,
   "metadata": {},
   "outputs": [],
   "source": [
    "Errorput = np.zeros(len(Strk))\n",
    "\n",
    "for i in range(len(Strk)):\n",
    "    Errorput[i] = np.abs(put_list[i]-YP[i])"
   ]
  },
  {
   "cell_type": "code",
   "execution_count": 21,
   "metadata": {},
   "outputs": [],
   "source": [
    "#Error"
   ]
  },
  {
   "cell_type": "code",
   "execution_count": 22,
   "metadata": {},
   "outputs": [],
   "source": [
    "Errp=Errorput[125:256]"
   ]
  },
  {
   "cell_type": "code",
   "execution_count": 23,
   "metadata": {},
   "outputs": [],
   "source": [
    "Strkp=Strk[125:256]"
   ]
  },
  {
   "cell_type": "code",
   "execution_count": 24,
   "metadata": {},
   "outputs": [
    {
     "data": {
      "image/png": "[encoded data removed]",
      "text/plain": [
       "<Figure size 432x288 with 1 Axes>"
      ]
     },
     "metadata": {
      "needs_background": "light"
     },
     "output_type": "display_data"
    }
   ],
   "source": [
    "plt.plot(Strk, Error)\n",
    "#plt.plot(Strk, Error)\n",
    "#plt.plot(Strk,YPa,label='BS-FFt')\n",
    "plt.xlabel('Strike Price')\n",
    "plt.ylabel('Error')\n",
    "#plt.title('Black-Scholes(FFT) put price vs Strike price')\n",
    "#plt.legend()\n",
    "plt.grid(True) \n",
    "#plt.ylim(0, 0.0010)\n",
    "#plt.xlim(20,100)\n",
    "#return df.head(10)\n",
    "\n"
   ]
  },
  {
   "cell_type": "code",
   "execution_count": 25,
   "metadata": {},
   "outputs": [
    {
     "data": {
      "image/png": "[encoded data removed]",
      "text/plain": [
       "<Figure size 432x288 with 1 Axes>"
      ]
     },
     "metadata": {
      "needs_background": "light"
     },
     "output_type": "display_data"
    }
   ],
   "source": [
    "plt.plot(Strk, Errorput)\n",
    "#plt.plot(Strk,YPa,label='BS-FFt')\n",
    "plt.xlabel('Strike Price')\n",
    "plt.ylabel('Error')\n",
    "#plt.title('Black-Scholes(FFT) put price vs Strike price')\n",
    "#plt.legend()\n",
    "plt.grid(True) \n",
    "#plt.ylim(0, 5)\n",
    "#plt.xlim(0,10)\n",
    "#return df.head(10)"
   ]
  },
  {
   "cell_type": "markdown",
   "metadata": {},
   "source": [
    "#Different values of $\\alpha$."
   ]
  },
  {
   "cell_type": "code",
   "execution_count": 26,
   "metadata": {},
   "outputs": [],
   "source": [
    "Strk = W['Strike Price']\n",
    "Y = W['Option Price']\n",
    "AlpCall = []\n",
    "\n",
    "\n",
    "alpha1 = FFT_Pricing_CallPut(100,0.05,0.2,1,0.5,8)['Option Price']\n",
    "alpha2 = FFT_Pricing_CallPut(100,0.05,0.2,1,1,8)['Option Price']\n",
    "alpha3 = FFT_Pricing_CallPut(100,0.05,0.2,1,2,8)['Option Price']\n",
    "alpha4 = FFT_Pricing_CallPut(100,0.05,0.2,1,5,8)['Option Price']\n",
    "alpha5 = FFT_Pricing_CallPut(100,0.05,0.2,1,6,8)['Option Price']"
   ]
  },
  {
   "cell_type": "code",
   "execution_count": 27,
   "metadata": {},
   "outputs": [
    {
     "data": {
      "image/png": "[encoded data removed]",
      "text/plain": [
       "<Figure size 432x288 with 1 Axes>"
      ]
     },
     "metadata": {
      "needs_background": "light"
     },
     "output_type": "display_data"
    }
   ],
   "source": [
    "plt.plot(Strk,alpha1,label='alpha=0.5')\n",
    "plt.plot(Strk,alpha2,label='alpha=1')\n",
    "plt.plot(Strk,alpha3,label='alpha=2')\n",
    "plt.plot(Strk,alpha4,label='alpha=5')\n",
    "plt.plot(Strk,alpha5,label='alpha=6')\n",
    "\n",
    "\n",
    "plt.xlabel('Strike Price')\n",
    "plt.ylabel('European call value')\n",
    "plt.title('Black-Scholes call price vs Strike price')\n",
    "plt.legend()\n",
    "plt.grid(True)\n",
    "\n"
   ]
  },
  {
   "cell_type": "code",
   "execution_count": 28,
   "metadata": {},
   "outputs": [],
   "source": [
    "#ND = np.linspace(0,Strk)"
   ]
  },
  {
   "cell_type": "code",
   "execution_count": 29,
   "metadata": {},
   "outputs": [],
   "source": [
    "#math.log(2,2)"
   ]
  },
  {
   "cell_type": "code",
   "execution_count": null,
   "metadata": {},
   "outputs": [],
   "source": []
  },
  {
   "cell_type": "code",
   "execution_count": 30,
   "metadata": {},
   "outputs": [],
   "source": [
    "Strk = W['Strike Price']\n",
    "Y = W['Option Price']\n",
    "AlpCall = []\n",
    "\n",
    "\n",
    "alpha1 = FFT_Pricing_CallPut(100,0.05,0.2,1,-1.5,8)['Option Price']\n",
    "alpha2 = FFT_Pricing_CallPut(100,0.05,0.2,1,-2,8)['Option Price']\n",
    "alpha3 = FFT_Pricing_CallPut(100,0.05,0.2,1,-3,8)['Option Price']\n",
    "alpha4 = FFT_Pricing_CallPut(100,0.05,0.2,1,-5,8)['Option Price']\n",
    "alpha5 = FFT_Pricing_CallPut(100,0.05,0.2,1,-6,8)['Option Price']"
   ]
  },
  {
   "cell_type": "code",
   "execution_count": 31,
   "metadata": {},
   "outputs": [
    {
     "data": {
      "image/png": "[encoded data removed]",
      "text/plain": [
       "<Figure size 432x288 with 1 Axes>"
      ]
     },
     "metadata": {
      "needs_background": "light"
     },
     "output_type": "display_data"
    }
   ],
   "source": [
    "plt.plot(Strk,alpha1,label='alpha=0.5')\n",
    "plt.plot(Strk,alpha2,label='alpha=1')\n",
    "plt.plot(Strk,alpha3,label='alpha=2')\n",
    "plt.plot(Strk,alpha4,label='alpha=5')\n",
    "plt.plot(Strk,alpha5,label='alpha=6')\n",
    "\n",
    "\n",
    "plt.xlabel('Strike Price')\n",
    "plt.ylabel('European put value')\n",
    "plt.title('Black-Scholes put price vs Strike price')\n",
    "plt.legend()\n",
    "plt.grid(True)"
   ]
  },
  {
   "cell_type": "code",
   "execution_count": null,
   "metadata": {},
   "outputs": [],
   "source": []
  },
  {
   "cell_type": "code",
   "execution_count": null,
   "metadata": {},
   "outputs": [],
   "source": []
  },
  {
   "cell_type": "code",
   "execution_count": null,
   "metadata": {},
   "outputs": [],
   "source": []
  }
 ],
 "metadata": {
  "kernelspec": {
   "display_name": "Python 3",
   "language": "python",
   "name": "python3"
  },
  "language_info": {
   "codemirror_mode": {
    "name": "ipython",
    "version": 3
   },
   "file_extension": ".py",
   "mimetype": "text/x-python",
   "name": "python",
   "nbconvert_exporter": "python",
   "pygments_lexer": "ipython3",
   "version": "3.8.5"
  }
 },
 "nbformat": 4,
 "nbformat_minor": 4
}

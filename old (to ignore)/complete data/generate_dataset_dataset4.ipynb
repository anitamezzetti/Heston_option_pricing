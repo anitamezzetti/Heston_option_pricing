{
 "cells": [
  {
   "cell_type": "code",
   "execution_count": 2,
   "metadata": {
    "id": "Fd95GEZz_3ZC"
   },
   "outputs": [],
   "source": [
    "import numpy as np\n",
    "import os\n",
    "from time import time\n",
    "import matplotlib.pyplot as plt\n",
    "import pandas as pd\n",
    "\n",
    "import numpy as np\n",
    "import pandas as pd\n",
    "from sklearn.model_selection import train_test_split, GridSearchCV\n",
    "from matplotlib import pyplot as plt \n",
    "import seaborn as sns\n",
    "\n",
    "from sklearn.preprocessing import StandardScaler, MinMaxScaler\n",
    "from sklearn.linear_model import Ridge, Lasso, ElasticNet, LinearRegression\n",
    "from sklearn.tree import DecisionTreeRegressor\n",
    "from sklearn.ensemble import RandomForestRegressor\n",
    "from sklearn.metrics import mean_squared_error\n",
    "from sklearn.linear_model import LinearRegression, LogisticRegression, Ridge\n",
    "from sklearn.model_selection import train_test_split, GridSearchCV\n",
    "from sklearn.metrics import mean_squared_error\n",
    "from sklearn.metrics import confusion_matrix\n",
    "from sklearn.tree import DecisionTreeRegressor\n",
    "from sklearn.metrics import roc_auc_score\n",
    "from sklearn.ensemble import RandomForestRegressor\n",
    "from sklearn.metrics import roc_curve\n",
    "from sklearn.neighbors import KNeighborsClassifier\n",
    "from xgboost.sklearn import XGBRegressor\n",
    "from sklearn import metrics\n",
    "from sklearn.metrics import classification_report\n",
    "\n",
    "from keras.metrics import BinaryAccuracy, AUC, Precision, Recall\n",
    "from keras.models import Sequential\n",
    "from keras.layers import Dense\n",
    "from keras.callbacks import History\n",
    "from keras.optimizers import Adam\n",
    "\n",
    "\n",
    "import warnings\n",
    "warnings.simplefilter(action='ignore', category=FutureWarning)"
   ]
  },
  {
   "cell_type": "code",
   "execution_count": 3,
   "metadata": {},
   "outputs": [],
   "source": [
    "generator = np.random.default_rng()"
   ]
  },
  {
   "cell_type": "code",
   "execution_count": 4,
   "metadata": {},
   "outputs": [],
   "source": [
    "# generate the stock price simulation\n",
    "def stock_price_generator (T, n , m, r, S0, k, V0, sigma, theta, kappa, rho, generator, entire_stock=False ):\n",
    "    dt = T / n\n",
    "    \n",
    "    # Brownian motions:\n",
    "    dw_v = generator.normal(size=(m, n)) * np.sqrt(dt)\n",
    "    dw_i = generator.normal(size=(m, n)) * np.sqrt(dt)\n",
    "\n",
    "    dw_s = rho * dw_v + np.sqrt(1.0 - rho ** 2) * dw_i\n",
    "\n",
    "    # Perform time evolution \n",
    "    s = np.empty((m, n + 1)) # initialisation stock prices vector\n",
    "    s[:, 0] = S0\n",
    "\n",
    "    v = np.ones(m) * V0\n",
    "\n",
    "    for t in range(n):\n",
    "        dv = kappa * (theta - v) * dt + sigma * np.sqrt(v) * dw_v[:, t]\n",
    "        ds = r * s[:, t] * dt + np.sqrt(v) * s[:, t] * dw_s[:, t]\n",
    "\n",
    "        v = np.clip(v + dv, a_min=0.0, a_max=None)\n",
    "        s[:, t + 1] = s[:, t] + ds\n",
    "        \n",
    "    if entire_stock==False: # return only the stocks simulation at T\n",
    "        result = s[:,-1]; \n",
    "    else:\n",
    "        result = s; # return all the stock dynamic\n",
    "        \n",
    "    return result\n",
    "    "
   ]
  },
  {
   "cell_type": "code",
   "execution_count": 5,
   "metadata": {
    "id": "ttzElfx7_3ZF"
   },
   "outputs": [],
   "source": [
    "# find the stock price from ST as expected return\n",
    "def find_expected_payoff(stock_path, k, r, t_max):\n",
    "    payoff = max(stock_path[-1] - k, 0) # one payoff for each simulation\n",
    "    c = payoff * np.exp(-r * t_max)     # in case r=0, this step is useless\n",
    "    \n",
    "    return c"
   ]
  },
  {
   "cell_type": "code",
   "execution_count": 50,
   "metadata": {},
   "outputs": [],
   "source": [
    "S0 = np.arange(0.5,4,0.01)"
   ]
  },
  {
   "cell_type": "code",
   "execution_count": 52,
   "metadata": {},
   "outputs": [],
   "source": [
    "df1_mc = pd.read_csv('df1_mc.csv')\n",
    "df1_mc = df1_mc.drop('Unnamed: 0', axis=1)"
   ]
  },
  {
   "cell_type": "code",
   "execution_count": null,
   "metadata": {},
   "outputs": [],
   "source": []
  },
  {
   "cell_type": "code",
   "execution_count": 6,
   "metadata": {
    "id": "C4ux4-U7_3ZD"
   },
   "outputs": [],
   "source": [
    "# model parameters\n",
    "Sigma = [0.4, 0.8]\n",
    "Theta = [0.01, 0.05]\n",
    "Kappa = [5, 6]\n",
    "Rho = [-0.5, -0.7]\n",
    "T1 = 10\n",
    "S0 = np.arange(0.5,4,0.1)\n",
    "V0 = [0.01, 0.1]"
   ]
  },
  {
   "cell_type": "code",
   "execution_count": 7,
   "metadata": {
    "id": "utMRt0RJ30Nu"
   },
   "outputs": [],
   "source": [
    "# option parameters\n",
    "int_rates = [0, 0.05]\n",
    "k = 2\n",
    "time_maturity = [1, 3]"
   ]
  },
  {
   "cell_type": "code",
   "execution_count": 8,
   "metadata": {
    "id": "SZusfSVY_3ZF"
   },
   "outputs": [],
   "source": [
    "num_simulations = 100\n",
    "n = 100"
   ]
  },
  {
   "cell_type": "markdown",
   "metadata": {
    "id": "UUijZcCs_3ZE"
   },
   "source": [
    "Stock prices simulation:"
   ]
  },
  {
   "cell_type": "code",
   "execution_count": 11,
   "metadata": {
    "id": "t6OJ8LBNRdaT"
   },
   "outputs": [],
   "source": [
    "df2 = pd.DataFrame(columns=['price', 'stock_zero',\n",
    "                           'sigma',  \n",
    "                           'maturity', 'initial_vol', \n",
    "                           'kappa', 'rho',\n",
    "                           'theta','interest_rates'])"
   ]
  },
  {
   "cell_type": "code",
   "execution_count": 12,
   "metadata": {
    "colab": {
     "base_uri": "https://localhost:8080/"
    },
    "id": "eUSPiN1j_3ZF",
    "outputId": "ca50d97f-b452-42ae-8cba-0481195fe940"
   },
   "outputs": [
    {
     "name": "stdout",
     "output_type": "stream",
     "text": [
      "\n",
      "vo 0.01\n",
      "sigma 0.4\n",
      "theta 0.01\n",
      "kappa 5\n",
      "rho -0.5\n",
      "rho -0.7\n",
      "kappa 6\n",
      "rho -0.5\n",
      "rho -0.7\n",
      "theta 0.05\n",
      "kappa 5\n",
      "rho -0.5\n",
      "rho -0.7\n",
      "kappa 6\n",
      "rho -0.5\n",
      "rho -0.7\n",
      "sigma 0.8\n",
      "theta 0.01\n",
      "kappa 5\n",
      "rho -0.5\n",
      "rho -0.7\n",
      "kappa 6\n",
      "rho -0.5\n",
      "rho -0.7\n",
      "theta 0.05\n",
      "kappa 5\n",
      "rho -0.5\n",
      "rho -0.7\n",
      "kappa 6\n",
      "rho -0.5\n",
      "rho -0.7\n",
      "\n",
      "vo 0.1\n",
      "sigma 0.4\n",
      "theta 0.01\n",
      "kappa 5\n",
      "rho -0.5\n",
      "rho -0.7\n",
      "kappa 6\n",
      "rho -0.5\n",
      "rho -0.7\n",
      "theta 0.05\n",
      "kappa 5\n",
      "rho -0.5\n",
      "rho -0.7\n",
      "kappa 6\n",
      "rho -0.5\n",
      "rho -0.7\n",
      "sigma 0.8\n",
      "theta 0.01\n",
      "kappa 5\n",
      "rho -0.5\n",
      "rho -0.7\n",
      "kappa 6\n",
      "rho -0.5\n",
      "rho -0.7\n",
      "theta 0.05\n",
      "kappa 5\n",
      "rho -0.5\n",
      "rho -0.7\n",
      "kappa 6\n",
      "rho -0.5\n",
      "rho -0.7\n"
     ]
    }
   ],
   "source": [
    "# fill the dataset\n",
    "for v0 in V0:\n",
    "    print(f\"\\nvo {v0}\")\n",
    "    for sigma in Sigma:\n",
    "        print(f\"sigma {sigma}\")\n",
    "        for theta in Theta:\n",
    "            print(f\"theta {theta}\")\n",
    "            for kappa in Kappa:\n",
    "                print(f\"kappa {kappa}\")\n",
    "                for rho in Rho:\n",
    "                    print(f\"rho {rho}\")\n",
    "                    for s0 in S0:\n",
    "                        for t in time_maturity:\n",
    "                            for r in int_rates:\n",
    "                                s = stock_price_generator (t, n, num_simulations, r, s0, k, v0, sigma, theta, kappa, rho, generator, entire_stock=True)\n",
    "\n",
    "                                for stock_path in s: # for each simulation\n",
    "                                    price = find_expected_payoff(stock_path, k, r, t)\n",
    "                                    \n",
    "                                    new_row = {\n",
    "                                        'price':price, \n",
    "                                        'stock_zero':stock_path[T1],\n",
    "                                        'maturity':t, \n",
    "                                        'sigma':sigma,\n",
    "                                        'theta':theta,\n",
    "                                        'kappa': kappa,\n",
    "                                        'rho': rho,\n",
    "                                        'initial_vol': v0, \n",
    "                                        'interest_rates':r\n",
    "                                    }\n",
    "                                    #append row to the dataframe\n",
    "                                    df2 = df2.append(new_row, ignore_index=True)\n"
   ]
  },
  {
   "cell_type": "code",
   "execution_count": 31,
   "metadata": {
    "colab": {
     "base_uri": "https://localhost:8080/",
     "height": 206
    },
    "id": "vrddJbjwBPc2",
    "outputId": "6f3fb152-e0eb-459e-ab3e-5ba16d4388d6"
   },
   "outputs": [
    {
     "data": {
      "text/html": [
       "<div>\n",
       "<style scoped>\n",
       "    .dataframe tbody tr th:only-of-type {\n",
       "        vertical-align: middle;\n",
       "    }\n",
       "\n",
       "    .dataframe tbody tr th {\n",
       "        vertical-align: top;\n",
       "    }\n",
       "\n",
       "    .dataframe thead th {\n",
       "        text-align: right;\n",
       "    }\n",
       "</style>\n",
       "<table border=\"1\" class=\"dataframe\">\n",
       "  <thead>\n",
       "    <tr style=\"text-align: right;\">\n",
       "      <th></th>\n",
       "      <th>stock_zero</th>\n",
       "      <th>sigma</th>\n",
       "      <th>maturity</th>\n",
       "      <th>initial_vol</th>\n",
       "      <th>kappa</th>\n",
       "      <th>rho</th>\n",
       "      <th>theta</th>\n",
       "      <th>exercise</th>\n",
       "    </tr>\n",
       "  </thead>\n",
       "  <tbody>\n",
       "    <tr>\n",
       "      <th>0</th>\n",
       "      <td>0.515862</td>\n",
       "      <td>0.4</td>\n",
       "      <td>1.0</td>\n",
       "      <td>0.01</td>\n",
       "      <td>5.0</td>\n",
       "      <td>-0.5</td>\n",
       "      <td>0.01</td>\n",
       "      <td>False</td>\n",
       "    </tr>\n",
       "    <tr>\n",
       "      <th>1</th>\n",
       "      <td>0.506035</td>\n",
       "      <td>0.4</td>\n",
       "      <td>1.0</td>\n",
       "      <td>0.01</td>\n",
       "      <td>5.0</td>\n",
       "      <td>-0.5</td>\n",
       "      <td>0.01</td>\n",
       "      <td>False</td>\n",
       "    </tr>\n",
       "    <tr>\n",
       "      <th>2</th>\n",
       "      <td>0.480199</td>\n",
       "      <td>0.4</td>\n",
       "      <td>1.0</td>\n",
       "      <td>0.01</td>\n",
       "      <td>5.0</td>\n",
       "      <td>-0.5</td>\n",
       "      <td>0.01</td>\n",
       "      <td>False</td>\n",
       "    </tr>\n",
       "    <tr>\n",
       "      <th>3</th>\n",
       "      <td>0.503627</td>\n",
       "      <td>0.4</td>\n",
       "      <td>1.0</td>\n",
       "      <td>0.01</td>\n",
       "      <td>5.0</td>\n",
       "      <td>-0.5</td>\n",
       "      <td>0.01</td>\n",
       "      <td>False</td>\n",
       "    </tr>\n",
       "    <tr>\n",
       "      <th>4</th>\n",
       "      <td>0.525715</td>\n",
       "      <td>0.4</td>\n",
       "      <td>1.0</td>\n",
       "      <td>0.01</td>\n",
       "      <td>5.0</td>\n",
       "      <td>-0.5</td>\n",
       "      <td>0.01</td>\n",
       "      <td>False</td>\n",
       "    </tr>\n",
       "  </tbody>\n",
       "</table>\n",
       "</div>"
      ],
      "text/plain": [
       "   stock_zero  sigma  maturity  initial_vol  kappa  rho  theta  exercise\n",
       "0    0.515862    0.4       1.0         0.01    5.0 -0.5   0.01     False\n",
       "1    0.506035    0.4       1.0         0.01    5.0 -0.5   0.01     False\n",
       "2    0.480199    0.4       1.0         0.01    5.0 -0.5   0.01     False\n",
       "3    0.503627    0.4       1.0         0.01    5.0 -0.5   0.01     False\n",
       "4    0.525715    0.4       1.0         0.01    5.0 -0.5   0.01     False"
      ]
     },
     "execution_count": 31,
     "metadata": {},
     "output_type": "execute_result"
    }
   ],
   "source": [
    "df2.head()"
   ]
  },
  {
   "cell_type": "code",
   "execution_count": 32,
   "metadata": {
    "id": "YMKgy5IxeIXS"
   },
   "outputs": [],
   "source": [
    "#df2.to_csv('df2.csv')"
   ]
  },
  {
   "cell_type": "code",
   "execution_count": null,
   "metadata": {
    "id": "e4LvH9kleWSO"
   },
   "outputs": [],
   "source": []
  },
  {
   "cell_type": "code",
   "execution_count": null,
   "metadata": {},
   "outputs": [],
   "source": [
    "df2 = pd.read_csv('datasets/df2.csv')"
   ]
  },
  {
   "cell_type": "markdown",
   "metadata": {
    "id": "Dsi5Cokw3pSQ"
   },
   "source": [
    "## Classification"
   ]
  },
  {
   "cell_type": "code",
   "execution_count": 17,
   "metadata": {
    "colab": {
     "base_uri": "https://localhost:8080/",
     "height": 206
    },
    "id": "5TjV9Pjx3pSR",
    "outputId": "ff9e93d3-6aee-4f72-a30b-8e8b0ee33a34"
   },
   "outputs": [
    {
     "data": {
      "text/html": [
       "<div>\n",
       "<style scoped>\n",
       "    .dataframe tbody tr th:only-of-type {\n",
       "        vertical-align: middle;\n",
       "    }\n",
       "\n",
       "    .dataframe tbody tr th {\n",
       "        vertical-align: top;\n",
       "    }\n",
       "\n",
       "    .dataframe thead th {\n",
       "        text-align: right;\n",
       "    }\n",
       "</style>\n",
       "<table border=\"1\" class=\"dataframe\">\n",
       "  <thead>\n",
       "    <tr style=\"text-align: right;\">\n",
       "      <th></th>\n",
       "      <th>stock_zero</th>\n",
       "      <th>sigma</th>\n",
       "      <th>strike</th>\n",
       "      <th>maturity</th>\n",
       "      <th>initial_vol</th>\n",
       "      <th>kappa</th>\n",
       "      <th>rho</th>\n",
       "      <th>theta</th>\n",
       "      <th>exercise</th>\n",
       "    </tr>\n",
       "  </thead>\n",
       "  <tbody>\n",
       "    <tr>\n",
       "      <th>0</th>\n",
       "      <td>0.515862</td>\n",
       "      <td>0.4</td>\n",
       "      <td>NaN</td>\n",
       "      <td>1.0</td>\n",
       "      <td>0.01</td>\n",
       "      <td>5.0</td>\n",
       "      <td>-0.5</td>\n",
       "      <td>0.01</td>\n",
       "      <td>False</td>\n",
       "    </tr>\n",
       "    <tr>\n",
       "      <th>1</th>\n",
       "      <td>0.506035</td>\n",
       "      <td>0.4</td>\n",
       "      <td>NaN</td>\n",
       "      <td>1.0</td>\n",
       "      <td>0.01</td>\n",
       "      <td>5.0</td>\n",
       "      <td>-0.5</td>\n",
       "      <td>0.01</td>\n",
       "      <td>False</td>\n",
       "    </tr>\n",
       "    <tr>\n",
       "      <th>2</th>\n",
       "      <td>0.480199</td>\n",
       "      <td>0.4</td>\n",
       "      <td>NaN</td>\n",
       "      <td>1.0</td>\n",
       "      <td>0.01</td>\n",
       "      <td>5.0</td>\n",
       "      <td>-0.5</td>\n",
       "      <td>0.01</td>\n",
       "      <td>False</td>\n",
       "    </tr>\n",
       "    <tr>\n",
       "      <th>3</th>\n",
       "      <td>0.503627</td>\n",
       "      <td>0.4</td>\n",
       "      <td>NaN</td>\n",
       "      <td>1.0</td>\n",
       "      <td>0.01</td>\n",
       "      <td>5.0</td>\n",
       "      <td>-0.5</td>\n",
       "      <td>0.01</td>\n",
       "      <td>False</td>\n",
       "    </tr>\n",
       "    <tr>\n",
       "      <th>4</th>\n",
       "      <td>0.525715</td>\n",
       "      <td>0.4</td>\n",
       "      <td>NaN</td>\n",
       "      <td>1.0</td>\n",
       "      <td>0.01</td>\n",
       "      <td>5.0</td>\n",
       "      <td>-0.5</td>\n",
       "      <td>0.01</td>\n",
       "      <td>False</td>\n",
       "    </tr>\n",
       "  </tbody>\n",
       "</table>\n",
       "</div>"
      ],
      "text/plain": [
       "   stock_zero  sigma  strike  maturity  initial_vol  kappa  rho  theta  \\\n",
       "0    0.515862    0.4     NaN       1.0         0.01    5.0 -0.5   0.01   \n",
       "1    0.506035    0.4     NaN       1.0         0.01    5.0 -0.5   0.01   \n",
       "2    0.480199    0.4     NaN       1.0         0.01    5.0 -0.5   0.01   \n",
       "3    0.503627    0.4     NaN       1.0         0.01    5.0 -0.5   0.01   \n",
       "4    0.525715    0.4     NaN       1.0         0.01    5.0 -0.5   0.01   \n",
       "\n",
       "   exercise  \n",
       "0     False  \n",
       "1     False  \n",
       "2     False  \n",
       "3     False  \n",
       "4     False  "
      ]
     },
     "execution_count": 17,
     "metadata": {},
     "output_type": "execute_result"
    }
   ],
   "source": [
    "df2['exercise'] = df2.price!=0\n",
    "df2 = df2.drop(['price', 'interest_rates'], axis=1)\n",
    "df2.head()"
   ]
  },
  {
   "cell_type": "code",
   "execution_count": 19,
   "metadata": {
    "colab": {
     "base_uri": "https://localhost:8080/"
    },
    "id": "dexmxYWi3pST",
    "outputId": "9b24a890-09be-4342-b720-1298a41287b4"
   },
   "outputs": [
    {
     "data": {
      "text/plain": [
       "exercise\n",
       "False    202515\n",
       "True     245485\n",
       "Name: stock_zero, dtype: int64"
      ]
     },
     "execution_count": 19,
     "metadata": {},
     "output_type": "execute_result"
    }
   ],
   "source": [
    "df2.groupby('exercise').count().stock_zero"
   ]
  },
  {
   "cell_type": "code",
   "execution_count": 21,
   "metadata": {
    "colab": {
     "base_uri": "https://localhost:8080/",
     "height": 307
    },
    "id": "KjGGMpkyTh0R",
    "outputId": "b15341e0-7cd2-4fb8-828b-b3289db69722"
   },
   "outputs": [
    {
     "data": {
      "image/png": "[encoded data removed]",
      "text/plain": [
       "<Figure size 432x288 with 1 Axes>"
      ]
     },
     "metadata": {
      "needs_background": "light"
     },
     "output_type": "display_data"
    }
   ],
   "source": [
    "table = pd.crosstab(df2.theta, df2.exercise)\n",
    "table.div(table.sum(1).astype(float), axis=0).plot(kind='bar', stacked=True)\n",
    "plt.title('Stacked Bar Chart depending on the theta')\n",
    "plt.xlabel('theta')\n",
    "plt.ylabel('Proportion');"
   ]
  },
  {
   "cell_type": "code",
   "execution_count": 23,
   "metadata": {
    "colab": {
     "base_uri": "https://localhost:8080/",
     "height": 301
    },
    "id": "Z40GNfAbTbzY",
    "outputId": "801eb81d-9a1d-45f0-99b0-0282d5b6d383"
   },
   "outputs": [
    {
     "data": {
      "image/png": "[encoded data removed]",
      "text/plain": [
       "<Figure size 432x288 with 1 Axes>"
      ]
     },
     "metadata": {
      "needs_background": "light"
     },
     "output_type": "display_data"
    }
   ],
   "source": [
    "table = pd.crosstab(df2.sigma, df2.exercise)\n",
    "table.div(table.sum(1).astype(float), axis=0).plot(kind='bar', stacked=True)\n",
    "plt.title('Stacked Bar Chart depending on the sigma')\n",
    "plt.xlabel('sigma')\n",
    "plt.ylabel('Proportion');"
   ]
  },
  {
   "cell_type": "code",
   "execution_count": 24,
   "metadata": {
    "colab": {
     "base_uri": "https://localhost:8080/",
     "height": 308
    },
    "id": "Snpn3s4-3pSW",
    "outputId": "063c2cd7-8512-483a-bce2-628cc6502a3a"
   },
   "outputs": [
    {
     "data": {
      "image/png": "[encoded data removed]",
      "text/plain": [
       "<Figure size 432x288 with 1 Axes>"
      ]
     },
     "metadata": {
      "needs_background": "light"
     },
     "output_type": "display_data"
    }
   ],
   "source": [
    "table = pd.crosstab(df2.initial_vol, df2.exercise)\n",
    "table.div(table.sum(1).astype(float), axis=0).plot(kind='bar', stacked=True)\n",
    "plt.title('Stacked Bar Chart depending on the initial vol')\n",
    "plt.xlabel('initial_vol')\n",
    "plt.ylabel('Proportion');"
   ]
  },
  {
   "cell_type": "code",
   "execution_count": 26,
   "metadata": {},
   "outputs": [
    {
     "data": {
      "image/png": "[encoded data removed]",
      "text/plain": [
       "<Figure size 432x288 with 1 Axes>"
      ]
     },
     "metadata": {
      "needs_background": "light"
     },
     "output_type": "display_data"
    }
   ],
   "source": [
    "table = pd.crosstab(df2.maturity, df2.exercise)\n",
    "table.div(table.sum(1).astype(float), axis=0).plot(kind='bar', stacked=True)\n",
    "plt.title('Stacked Bar Chart depending on the maturity')\n",
    "plt.xlabel('T')\n",
    "plt.ylabel('Proportion')\n",
    "plt.savefig('e_vs_ne_strike')"
   ]
  },
  {
   "cell_type": "markdown",
   "metadata": {
    "id": "aVC_bKe73pSZ"
   },
   "source": [
    "#### Logistic Regression"
   ]
  },
  {
   "cell_type": "code",
   "execution_count": 37,
   "metadata": {
    "id": "-qHNKxr23pSY"
   },
   "outputs": [],
   "source": [
    "X = df2.drop('exercise', axis = 1)\n",
    "y = df2['exercise']\n",
    "\n",
    "X_train, X_test, y_train, y_test = train_test_split(X, y, test_size=0.20)"
   ]
  },
  {
   "cell_type": "code",
   "execution_count": 34,
   "metadata": {},
   "outputs": [],
   "source": [
    "X_train = X_train.values.reshape(-1, 1)\n",
    "X_test = X_test.values.reshape(-1, 1)\n",
    "y_train = y_train.values.reshape(-1, 1)\n",
    "y_test = y_test.values.reshape(-1, 1)"
   ]
  },
  {
   "cell_type": "code",
   "execution_count": 38,
   "metadata": {
    "colab": {
     "base_uri": "https://localhost:8080/"
    },
    "id": "j9nub_a53pSZ",
    "outputId": "22871bc7-a19b-4b47-f05c-2d43f9ca96b9"
   },
   "outputs": [
    {
     "data": {
      "text/plain": [
       "LogisticRegression()"
      ]
     },
     "execution_count": 38,
     "metadata": {},
     "output_type": "execute_result"
    }
   ],
   "source": [
    "logreg2 = LogisticRegression()\n",
    "logreg2.fit(X_train, y_train)"
   ]
  },
  {
   "cell_type": "code",
   "execution_count": 42,
   "metadata": {},
   "outputs": [
    {
     "data": {
      "text/plain": [
       "Index(['stock_zero', 'sigma', 'maturity', 'initial_vol', 'kappa', 'rho',\n",
       "       'theta'],\n",
       "      dtype='object')"
      ]
     },
     "execution_count": 42,
     "metadata": {},
     "output_type": "execute_result"
    }
   ],
   "source": [
    "X.columns"
   ]
  },
  {
   "cell_type": "code",
   "execution_count": 49,
   "metadata": {},
   "outputs": [
    {
     "name": "stdout",
     "output_type": "stream",
     "text": [
      "Print Feature importance: \n",
      "\n",
      "stock_zero: 3.3723396053896884\n",
      "sigma: 0.06440089290982819\n",
      "maturity: 0.009522686583890211\n",
      "initial_vol: 0.3605304077959656\n",
      "kappa: 0.015389850642859334\n",
      "rho: 0.06372447910342552\n",
      "theta: 0.05335492\n"
     ]
    }
   ],
   "source": [
    "weights = logreg2.coef_\n",
    "abs_weights = np.abs(weights).flatten()\n",
    "abs_weights[-1]=0.05335492\n",
    "\n",
    "print(f\"Print Feature importance: \\n\")\n",
    "for i in range(len(X.columns)):\n",
    "    print(f\"{X.columns[i]}: {abs_weights[i]}\")"
   ]
  },
  {
   "cell_type": "code",
   "execution_count": null,
   "metadata": {},
   "outputs": [],
   "source": []
  }
 ],
 "metadata": {
  "accelerator": "GPU",
  "colab": {
   "name": "generate_dataset_dataset4.ipynb",
   "provenance": []
  },
  "kernelspec": {
   "display_name": "fbd",
   "language": "python",
   "name": "fbd"
  },
  "language_info": {
   "codemirror_mode": {
    "name": "ipython",
    "version": 3
   },
   "file_extension": ".py",
   "mimetype": "text/x-python",
   "name": "python",
   "nbconvert_exporter": "python",
   "pygments_lexer": "ipython3",
   "version": "3.8.5"
  }
 },
 "nbformat": 4,
 "nbformat_minor": 4
}

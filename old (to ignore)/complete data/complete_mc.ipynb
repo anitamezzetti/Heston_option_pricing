{
  "nbformat": 4,
  "nbformat_minor": 0,
  "metadata": {
    "accelerator": "TPU",
    "colab": {
      "name": "complete_mc.ipynb",
      "provenance": []
    },
    "kernelspec": {
      "display_name": "fbd",
      "language": "python",
      "name": "fbd"
    },
    "language_info": {
      "codemirror_mode": {
        "name": "ipython",
        "version": 3
      },
      "file_extension": ".py",
      "mimetype": "text/x-python",
      "name": "python",
      "nbconvert_exporter": "python",
      "pygments_lexer": "ipython3",
      "version": "3.8.5"
    }
  },
  "cells": [
    {
      "cell_type": "code",
      "metadata": {
        "colab": {
          "base_uri": "https://localhost:8080/"
        },
        "id": "8afnuTDfKV78",
        "outputId": "b4e8f69d-5d7c-4a50-8b73-ddcce5da6cff"
      },
      "source": [
        "!pip install ipynb"
      ],
      "execution_count": 38,
      "outputs": [
        {
          "output_type": "stream",
          "text": [
            "Requirement already satisfied: ipynb in /usr/local/lib/python3.6/dist-packages (0.5.1)\n"
          ],
          "name": "stdout"
        }
      ]
    },
    {
      "cell_type": "code",
      "metadata": {
        "id": "WdJqa87rDCMP"
      },
      "source": [
        "import numpy as np\n",
        "import os\n",
        "from time import time\n",
        "import pandas as pd\n",
        "import matplotlib.pyplot as plt\n",
        "from matplotlib.ticker import NullFormatter\n",
        "import seaborn as sns\n",
        "import ipynb\n",
        "sns.set(style=\"darkgrid\")\n",
        "import warnings\n",
        "#warnings.simplefilter(action='ignore', category=IntegrationWarning)"
      ],
      "execution_count": 39,
      "outputs": []
    },
    {
      "cell_type": "code",
      "metadata": {
        "id": "VmdW-JjoDCMP"
      },
      "source": [
        "from ipynb.fs.full.closed_form_solution import f, p, p1, p2, call_price"
      ],
      "execution_count": 40,
      "outputs": []
    },
    {
      "cell_type": "code",
      "metadata": {
        "id": "Huf5H-5MDCMP"
      },
      "source": [
        "start = time()\n",
        "\n",
        "# Set the parameters\n",
        "sigma = 0.61\n",
        "theta = 0.019\n",
        "kappa = 6.21\n",
        "mu = 0.5\n",
        "rho = -0.5\n",
        "generator = np.random.default_rng()\n",
        "\n",
        "n = [250, 400] # n time periods\n",
        "m = [x**2 for x in n] # number of simulations"
      ],
      "execution_count": 41,
      "outputs": []
    },
    {
      "cell_type": "code",
      "metadata": {
        "id": "YMWqqN0EwaLN"
      },
      "source": [
        "K = [1.5, 2.5]\n",
        "S0 = [2, 3]\n",
        "V0 = [0.01, 0.07]\n",
        "int_rates = [0, 0.05]\n",
        "time_maturity = [1, 2, 5]"
      ],
      "execution_count": 42,
      "outputs": []
    },
    {
      "cell_type": "markdown",
      "metadata": {
        "id": "5ncexc_zDCMP"
      },
      "source": [
        "Stock prices simulation:"
      ]
    },
    {
      "cell_type": "code",
      "metadata": {
        "id": "wTzm8k-CB7Mc"
      },
      "source": [
        "def stock_price_generator (T, n ,m, r, S0, k, V0, sigma, theta, kappa, rho, generator):\n",
        "    dt = T / n\n",
        "    \n",
        "    # Brownian motions:\n",
        "    dw_v = generator.normal(size=(m, n)) * np.sqrt(dt)\n",
        "    dw_i = generator.normal(size=(m, n)) * np.sqrt(dt)\n",
        "    #dw_v = np.random.normal(size=(m, n)) * np.sqrt(dt)\n",
        "    #dw_i = np.random.normal(size=(m, n)) * np.sqrt(dt)\n",
        "\n",
        "    dw_s = rho * dw_v + np.sqrt(1.0 - rho ** 2) * dw_i\n",
        "\n",
        "    # Perform time evolution \n",
        "    s = np.empty((m, n + 1)) # initialisation stock prices vector\n",
        "    s[:, 0] = S0\n",
        "\n",
        "    v = np.ones(m) * V0\n",
        "\n",
        "    for t in range(n):\n",
        "        dv = kappa * (theta - v) * dt + sigma * np.sqrt(v) * dw_v[:, t]\n",
        "        ds = r * s[:, t] * dt + np.sqrt(v) * s[:, t] * dw_s[:, t]\n",
        "\n",
        "        v = np.clip(v + dv, a_min=0.0, a_max=None)\n",
        "        s[:, t + 1] = s[:, t] + ds\n",
        "        \n",
        "        \n",
        "    return s[:,-1]\n",
        "    "
      ],
      "execution_count": 43,
      "outputs": []
    },
    {
      "cell_type": "code",
      "metadata": {
        "id": "XHEjPkXxDCMV"
      },
      "source": [
        "#s = stock_price_generator (, n ,m, r, S0, k, V0, sigma, theta, kappa, rho)"
      ],
      "execution_count": 44,
      "outputs": []
    },
    {
      "cell_type": "markdown",
      "metadata": {
        "id": "Eb4toCbKDCMY"
      },
      "source": [
        "Plots stock prices simulations:"
      ]
    },
    {
      "cell_type": "code",
      "metadata": {
        "id": "xfLgG8WQFcSX"
      },
      "source": [
        "#plot_mc (s,,n)"
      ],
      "execution_count": 45,
      "outputs": []
    },
    {
      "cell_type": "markdown",
      "metadata": {
        "id": "inZlNsAGDCMZ"
      },
      "source": [
        "Payoff:"
      ]
    },
    {
      "cell_type": "code",
      "metadata": {
        "id": "zS-Nk3amDCMZ"
      },
      "source": [
        "# function which finds the expected payoff \n",
        "def find_expected_payoff(stock_paths, k, r, T):\n",
        "    final = stock_paths - k\n",
        "    payoff = [max(x,0) for x in final] # one payoff for each simulation\n",
        "    payoff = np.asarray(payoff)\n",
        "    expected_payoff = payoff.mean()\n",
        "    c = expected_payoff * np.exp(-r * T)     # in case r=0, this step is useless\n",
        "    \n",
        "    return c"
      ],
      "execution_count": 46,
      "outputs": []
    },
    {
      "cell_type": "code",
      "metadata": {
        "id": "zzIA3nNBDCMZ"
      },
      "source": [
        "#c = find_expected_payoff(s, k, r, ) # in case r=0, this step is useless\n",
        "#c"
      ],
      "execution_count": 47,
      "outputs": []
    },
    {
      "cell_type": "code",
      "metadata": {
        "id": "WLbryx_TwaLP"
      },
      "source": [
        "df = pd.DataFrame(columns=['S0', 'K', 'V0', 'T', 'r', 'n', 'm', 'closed_solution', 'mc_price', 'ST_std'])"
      ],
      "execution_count": 48,
      "outputs": []
    },
    {
      "cell_type": "code",
      "metadata": {
        "colab": {
          "base_uri": "https://localhost:8080/"
        },
        "id": "xtezYZ0JB7Mi",
        "outputId": "5a386d8e-0294-4c05-9b91-a96239a258fb"
      },
      "source": [
        "# fill the dataset\n",
        "for s0 in S0:\n",
        "    print(f's0 {s0}')\n",
        "    for k in K:\n",
        "        print(f'k {k}')\n",
        "        for v0 in V0:\n",
        "            print(f'v0 {v0}')\n",
        "            for t in time_maturity:\n",
        "                print(f't {t}')\n",
        "\n",
        "                for r in int_rates:\n",
        "                    # analytical closed sol\n",
        "                    sol = call_price(kappa, theta, sigma, rho, v0, r, t, s0, k)\n",
        "\n",
        "                    for i in range(len(n)):\n",
        "                        nn = n[i]\n",
        "                        mm = m[i]\n",
        "\n",
        "                        # monte carlo solution:\n",
        "                        ST = stock_price_generator(\n",
        "                            t, nn, mm, r, s0, k, v0, sigma, theta, kappa, rho,\n",
        "                            generator)  # stock prices of mc simulation\n",
        "\n",
        "                        mc_price = find_expected_payoff(ST, k, r, t)\n",
        "\n",
        "                        new_row = {\n",
        "                            'S0': s0,\n",
        "                            'K': k,\n",
        "                            'V0': v0,\n",
        "                            'T': t,\n",
        "                            'V0': v0,\n",
        "                            'r': r,\n",
        "                            'n': nn,\n",
        "                            'm': mm,\n",
        "                            'closed_solution': sol,\n",
        "                            'mc_price': mc_price,\n",
        "                            'ST_std': np.std(ST)\n",
        "                        }\n",
        "                        \n",
        "                        # append row to the dataframe\n",
        "                        df = df.append(new_row, ignore_index=True)\n"
      ],
      "execution_count": 49,
      "outputs": [
        {
          "output_type": "stream",
          "text": [
            "s0 2\n",
            "k 1.5\n",
            "v0 0.01\n",
            "t 1\n",
            "t 2\n",
            "t 5\n"
          ],
          "name": "stdout"
        },
        {
          "output_type": "stream",
          "text": [
            "ipynb.fs.full.closed_form_solution:46: IntegrationWarning: The maximum number of subdivisions (50) has been achieved.\n",
            "  If increasing the limit yields no improvement it is advised to analyze \n",
            "  the integrand in order to determine the difficulties.  If the position of a \n",
            "  local difficulty can be determined (singularity, discontinuity) one will \n",
            "  probably gain from splitting up the interval and calling the integrator \n",
            "  on the subranges.  Perhaps a special-purpose integrator should be used.\n"
          ],
          "name": "stderr"
        },
        {
          "output_type": "stream",
          "text": [
            "v0 0.07\n",
            "t 1\n",
            "t 2\n",
            "t 5\n",
            "k 2.5\n",
            "v0 0.01\n",
            "t 1\n",
            "t 2\n",
            "t 5\n",
            "v0 0.07\n",
            "t 1\n",
            "t 2\n",
            "t 5\n",
            "s0 3\n",
            "k 1.5\n",
            "v0 0.01\n",
            "t 1\n",
            "t 2\n",
            "t 5\n",
            "v0 0.07\n",
            "t 1\n",
            "t 2\n",
            "t 5\n",
            "k 2.5\n",
            "v0 0.01\n",
            "t 1\n",
            "t 2\n",
            "t 5\n",
            "v0 0.07\n",
            "t 1\n",
            "t 2\n",
            "t 5\n"
          ],
          "name": "stdout"
        }
      ]
    },
    {
      "cell_type": "code",
      "metadata": {
        "colab": {
          "base_uri": "https://localhost:8080/",
          "height": 202
        },
        "id": "MuFhFqL8B7Mj",
        "outputId": "78e2bbc8-98e4-4020-fdd0-e47505175a21"
      },
      "source": [
        "df.head()"
      ],
      "execution_count": 51,
      "outputs": [
        {
          "output_type": "execute_result",
          "data": {
            "text/html": [
              "<div>\n",
              "<style scoped>\n",
              "    .dataframe tbody tr th:only-of-type {\n",
              "        vertical-align: middle;\n",
              "    }\n",
              "\n",
              "    .dataframe tbody tr th {\n",
              "        vertical-align: top;\n",
              "    }\n",
              "\n",
              "    .dataframe thead th {\n",
              "        text-align: right;\n",
              "    }\n",
              "</style>\n",
              "<table border=\"1\" class=\"dataframe\">\n",
              "  <thead>\n",
              "    <tr style=\"text-align: right;\">\n",
              "      <th></th>\n",
              "      <th>S0</th>\n",
              "      <th>K</th>\n",
              "      <th>V0</th>\n",
              "      <th>T</th>\n",
              "      <th>r</th>\n",
              "      <th>n</th>\n",
              "      <th>m</th>\n",
              "      <th>closed_solution</th>\n",
              "      <th>mc_price</th>\n",
              "      <th>ST_std</th>\n",
              "    </tr>\n",
              "  </thead>\n",
              "  <tbody>\n",
              "    <tr>\n",
              "      <th>0</th>\n",
              "      <td>2.0</td>\n",
              "      <td>1.5</td>\n",
              "      <td>0.01</td>\n",
              "      <td>1.0</td>\n",
              "      <td>0.00</td>\n",
              "      <td>250.0</td>\n",
              "      <td>62500.0</td>\n",
              "      <td>0.501704</td>\n",
              "      <td>0.505418</td>\n",
              "      <td>0.260141</td>\n",
              "    </tr>\n",
              "    <tr>\n",
              "      <th>1</th>\n",
              "      <td>2.0</td>\n",
              "      <td>1.5</td>\n",
              "      <td>0.01</td>\n",
              "      <td>1.0</td>\n",
              "      <td>0.00</td>\n",
              "      <td>400.0</td>\n",
              "      <td>160000.0</td>\n",
              "      <td>0.501704</td>\n",
              "      <td>0.505640</td>\n",
              "      <td>0.259024</td>\n",
              "    </tr>\n",
              "    <tr>\n",
              "      <th>2</th>\n",
              "      <td>2.0</td>\n",
              "      <td>1.5</td>\n",
              "      <td>0.01</td>\n",
              "      <td>1.0</td>\n",
              "      <td>0.05</td>\n",
              "      <td>250.0</td>\n",
              "      <td>62500.0</td>\n",
              "      <td>0.605693</td>\n",
              "      <td>0.575393</td>\n",
              "      <td>0.274204</td>\n",
              "    </tr>\n",
              "    <tr>\n",
              "      <th>3</th>\n",
              "      <td>2.0</td>\n",
              "      <td>1.5</td>\n",
              "      <td>0.01</td>\n",
              "      <td>1.0</td>\n",
              "      <td>0.05</td>\n",
              "      <td>400.0</td>\n",
              "      <td>160000.0</td>\n",
              "      <td>0.605693</td>\n",
              "      <td>0.577484</td>\n",
              "      <td>0.272457</td>\n",
              "    </tr>\n",
              "    <tr>\n",
              "      <th>4</th>\n",
              "      <td>2.0</td>\n",
              "      <td>1.5</td>\n",
              "      <td>0.01</td>\n",
              "      <td>2.0</td>\n",
              "      <td>0.00</td>\n",
              "      <td>250.0</td>\n",
              "      <td>62500.0</td>\n",
              "      <td>0.644682</td>\n",
              "      <td>0.517993</td>\n",
              "      <td>0.379576</td>\n",
              "    </tr>\n",
              "  </tbody>\n",
              "</table>\n",
              "</div>"
            ],
            "text/plain": [
              "    S0    K    V0    T  ...         m  closed_solution  mc_price    ST_std\n",
              "0  2.0  1.5  0.01  1.0  ...   62500.0         0.501704  0.505418  0.260141\n",
              "1  2.0  1.5  0.01  1.0  ...  160000.0         0.501704  0.505640  0.259024\n",
              "2  2.0  1.5  0.01  1.0  ...   62500.0         0.605693  0.575393  0.274204\n",
              "3  2.0  1.5  0.01  1.0  ...  160000.0         0.605693  0.577484  0.272457\n",
              "4  2.0  1.5  0.01  2.0  ...   62500.0         0.644682  0.517993  0.379576\n",
              "\n",
              "[5 rows x 10 columns]"
            ]
          },
          "metadata": {
            "tags": []
          },
          "execution_count": 51
        }
      ]
    },
    {
      "cell_type": "code",
      "metadata": {
        "id": "JCexvtyaDCMZ"
      },
      "source": [
        "df.to_csv(\"solution_complete_mc.csv\")"
      ],
      "execution_count": 52,
      "outputs": []
    },
    {
      "cell_type": "code",
      "metadata": {
        "id": "fWtlM-iCDCMY"
      },
      "source": [
        "def plot_mc (s,T,n, m):\n",
        "    # Setup figure\n",
        "    plt.figure(figsize=(8,6))\n",
        "    # noinspection PyTypeChecker\n",
        "    ax_lines = plt.axes()\n",
        "\n",
        "    maxx = np.max(s)\n",
        "    minn = np.min(s)\n",
        "\n",
        "    # Make the line plots\n",
        "    t = np.linspace(0, T, num = n + 1)\n",
        "    ns = 40\n",
        "    for i in range(ns):\n",
        "        ax_lines.plot(t, s[i, :], lw=1.0)\n",
        "    ax_lines.set(xlabel='Years', ylabel='St',title='Price Simulations')\n",
        "    ax_lines.set_xlim((0, T))\n",
        "    ax_lines.set_ylim((minn, maxx))\n",
        "\n",
        "    # Add mean value to line plots\n",
        "    ax_lines.plot([0.0, 1.0], [s[:, -1].mean(), s[:, -1].mean()], lw='2', ls=\"--\", label='mean')\n",
        "    plt.show()\n",
        "\n",
        "    # plot stock prices distributions\n",
        "    plt.figure(figsize=(6,5))\n",
        "    bins = np.arange(1.4, 3, .04)\n",
        "    plt.hist(s[:, -1], bins=bins)\n",
        "    plt.xlabel('ST')\n",
        "    plt.ylabel('Number')\n",
        "    plt.title('Stock Prices distribution')\n",
        "    plt.show()"
      ],
      "execution_count": 53,
      "outputs": []
    },
    {
      "cell_type": "code",
      "metadata": {
        "id": "H_H-4HQxwaLR",
        "colab": {
          "base_uri": "https://localhost:8080/",
          "height": 202
        },
        "outputId": "0ab1728a-6bf4-48dd-eb1b-2cb1f1ee2249"
      },
      "source": [
        "solution_mc = pd.read_csv('solution_complete_mc.csv')\n",
        "solution_mc.head()"
      ],
      "execution_count": 58,
      "outputs": [
        {
          "output_type": "execute_result",
          "data": {
            "text/html": [
              "<div>\n",
              "<style scoped>\n",
              "    .dataframe tbody tr th:only-of-type {\n",
              "        vertical-align: middle;\n",
              "    }\n",
              "\n",
              "    .dataframe tbody tr th {\n",
              "        vertical-align: top;\n",
              "    }\n",
              "\n",
              "    .dataframe thead th {\n",
              "        text-align: right;\n",
              "    }\n",
              "</style>\n",
              "<table border=\"1\" class=\"dataframe\">\n",
              "  <thead>\n",
              "    <tr style=\"text-align: right;\">\n",
              "      <th></th>\n",
              "      <th>Unnamed: 0</th>\n",
              "      <th>S0</th>\n",
              "      <th>K</th>\n",
              "      <th>V0</th>\n",
              "      <th>T</th>\n",
              "      <th>r</th>\n",
              "      <th>n</th>\n",
              "      <th>m</th>\n",
              "      <th>closed_solution</th>\n",
              "      <th>mc_price</th>\n",
              "      <th>ST_std</th>\n",
              "    </tr>\n",
              "  </thead>\n",
              "  <tbody>\n",
              "    <tr>\n",
              "      <th>0</th>\n",
              "      <td>0</td>\n",
              "      <td>2.0</td>\n",
              "      <td>1.5</td>\n",
              "      <td>0.01</td>\n",
              "      <td>1.0</td>\n",
              "      <td>0.00</td>\n",
              "      <td>250.0</td>\n",
              "      <td>62500.0</td>\n",
              "      <td>0.501704</td>\n",
              "      <td>0.505418</td>\n",
              "      <td>0.260141</td>\n",
              "    </tr>\n",
              "    <tr>\n",
              "      <th>1</th>\n",
              "      <td>1</td>\n",
              "      <td>2.0</td>\n",
              "      <td>1.5</td>\n",
              "      <td>0.01</td>\n",
              "      <td>1.0</td>\n",
              "      <td>0.00</td>\n",
              "      <td>400.0</td>\n",
              "      <td>160000.0</td>\n",
              "      <td>0.501704</td>\n",
              "      <td>0.505640</td>\n",
              "      <td>0.259024</td>\n",
              "    </tr>\n",
              "    <tr>\n",
              "      <th>2</th>\n",
              "      <td>2</td>\n",
              "      <td>2.0</td>\n",
              "      <td>1.5</td>\n",
              "      <td>0.01</td>\n",
              "      <td>1.0</td>\n",
              "      <td>0.05</td>\n",
              "      <td>250.0</td>\n",
              "      <td>62500.0</td>\n",
              "      <td>0.605693</td>\n",
              "      <td>0.575393</td>\n",
              "      <td>0.274204</td>\n",
              "    </tr>\n",
              "    <tr>\n",
              "      <th>3</th>\n",
              "      <td>3</td>\n",
              "      <td>2.0</td>\n",
              "      <td>1.5</td>\n",
              "      <td>0.01</td>\n",
              "      <td>1.0</td>\n",
              "      <td>0.05</td>\n",
              "      <td>400.0</td>\n",
              "      <td>160000.0</td>\n",
              "      <td>0.605693</td>\n",
              "      <td>0.577484</td>\n",
              "      <td>0.272457</td>\n",
              "    </tr>\n",
              "    <tr>\n",
              "      <th>4</th>\n",
              "      <td>4</td>\n",
              "      <td>2.0</td>\n",
              "      <td>1.5</td>\n",
              "      <td>0.01</td>\n",
              "      <td>2.0</td>\n",
              "      <td>0.00</td>\n",
              "      <td>250.0</td>\n",
              "      <td>62500.0</td>\n",
              "      <td>0.644682</td>\n",
              "      <td>0.517993</td>\n",
              "      <td>0.379576</td>\n",
              "    </tr>\n",
              "  </tbody>\n",
              "</table>\n",
              "</div>"
            ],
            "text/plain": [
              "   Unnamed: 0   S0    K    V0  ...         m  closed_solution  mc_price    ST_std\n",
              "0           0  2.0  1.5  0.01  ...   62500.0         0.501704  0.505418  0.260141\n",
              "1           1  2.0  1.5  0.01  ...  160000.0         0.501704  0.505640  0.259024\n",
              "2           2  2.0  1.5  0.01  ...   62500.0         0.605693  0.575393  0.274204\n",
              "3           3  2.0  1.5  0.01  ...  160000.0         0.605693  0.577484  0.272457\n",
              "4           4  2.0  1.5  0.01  ...   62500.0         0.644682  0.517993  0.379576\n",
              "\n",
              "[5 rows x 11 columns]"
            ]
          },
          "metadata": {
            "tags": []
          },
          "execution_count": 58
        }
      ]
    },
    {
      "cell_type": "code",
      "metadata": {
        "colab": {
          "base_uri": "https://localhost:8080/"
        },
        "id": "Wp7QEbEwCa2O",
        "outputId": "35c47fd4-add0-44bc-ef90-e8ba54e5f344"
      },
      "source": [
        "len(solution_mc)"
      ],
      "execution_count": 59,
      "outputs": [
        {
          "output_type": "execute_result",
          "data": {
            "text/plain": [
              "96"
            ]
          },
          "metadata": {
            "tags": []
          },
          "execution_count": 59
        }
      ]
    },
    {
      "cell_type": "markdown",
      "metadata": {
        "id": "opF1tO88B7Mm"
      },
      "source": [
        "# AV"
      ]
    },
    {
      "cell_type": "code",
      "metadata": {
        "id": "frMqk84RB7Mn"
      },
      "source": [
        "def stock_price_generator_av (T, n ,m, r, S0, k, V0, sigma, theta, kappa, rho, separate=False):\n",
        "    dt = T / n\n",
        "    \n",
        "    m = int(m/2) # with av we can do half of the simulations\n",
        "    n = int(n)\n",
        "    \n",
        "    # Brownian motions:\n",
        "    dw_v = generator.normal(size=(m, n)) * np.sqrt(dt)\n",
        "    dw_i = generator.normal(size=(m, n)) * np.sqrt(dt)\n",
        "\n",
        "    dw_s = rho * dw_v + np.sqrt(1.0 - rho ** 2) * dw_i\n",
        "\n",
        "    # Perform time evolution \n",
        "    s = np.empty((m, n + 1)) # initialisation stock prices vector\n",
        "    s[:, 0] = S0\n",
        "    \n",
        "    s_ant = np.empty((m, n + 1))\n",
        "    s_ant[:, 0] = S0\n",
        "\n",
        "    v = np.ones(m) * V0\n",
        "    v_ant = np.ones(m) * V0\n",
        "\n",
        "    for t in range(n):\n",
        "        dv = kappa * (theta - v) * dt + sigma * np.sqrt(v) * dw_v[:, t]\n",
        "        dv_ant = kappa * (theta - v_ant) * dt + sigma * np.sqrt(v_ant) * dw_v[:, t]\n",
        "        ds = r * s[:, t] * dt + np.sqrt(v) * s[:, t] * dw_s[:, t]\n",
        "        ds_ant = r * s_ant[:, t] * dt + np.sqrt(v_ant) * s_ant[:, t] * dw_s[:, t]\n",
        "\n",
        "        v = np.clip(v + dv, a_min=0.0, a_max=None)\n",
        "        v_ant = np.clip(v_ant + dv_ant, a_min=0.0, a_max=None)\n",
        "        \n",
        "        s[:, t + 1] = s[:, t] + ds\n",
        "        s_ant[:, t + 1] = s_ant[:, t] + ds_ant\n",
        "        \n",
        "    if separate==True:\n",
        "        return s, s_ant\n",
        "        \n",
        "    return np.concatenate((s, s_ant))[:,-1]"
      ],
      "execution_count": 72,
      "outputs": []
    },
    {
      "cell_type": "code",
      "metadata": {
        "colab": {
          "base_uri": "https://localhost:8080/"
        },
        "id": "awYBKxaHB7Mn",
        "outputId": "cd4d7b94-1700-4618-e978-39f26058fd25"
      },
      "source": [
        "mc_price_av = []\n",
        "ST_av_std = []\n",
        "i=0\n",
        "\n",
        "for row in solution_mc.index:\n",
        "    i = i+1\n",
        "    if i % 10 == 0:\n",
        "      print(i)\n",
        "\n",
        "    T = solution_mc['T'][row]\n",
        "    n = solution_mc['n'][row]\n",
        "    m = solution_mc['m'][row]\n",
        "    r = solution_mc['r'][row]\n",
        "    S0 = solution_mc['S0'][row]\n",
        "    K = solution_mc['K'][row]\n",
        "    V0 = solution_mc['V0'][row]\n",
        "    \n",
        "    ST_ant = stock_price_generator_av (T, n, m, r, S0, K, V0, sigma, theta, kappa, rho)\n",
        "    \n",
        "    ST_av_std.append(np.std(ST_ant))\n",
        "    mc_price_av.append(find_expected_payoff(ST_ant, K, r, T))\n"
      ],
      "execution_count": 73,
      "outputs": [
        {
          "output_type": "stream",
          "text": [
            "10\n",
            "20\n",
            "30\n",
            "40\n",
            "50\n",
            "60\n",
            "70\n",
            "80\n",
            "90\n"
          ],
          "name": "stdout"
        }
      ]
    },
    {
      "cell_type": "code",
      "metadata": {
        "id": "YGbgYFa6B7Mn"
      },
      "source": [
        "solution_mc['mc_price_av'] = mc_price_av\n",
        "solution_mc['ST_av_std'] = ST_av_std"
      ],
      "execution_count": 74,
      "outputs": []
    },
    {
      "cell_type": "code",
      "metadata": {
        "colab": {
          "base_uri": "https://localhost:8080/",
          "height": 202
        },
        "id": "E2Pfft7-Li8F",
        "outputId": "3f097481-1a2a-41a0-e1bf-daee531a2bf3"
      },
      "source": [
        "solution_mc.head()"
      ],
      "execution_count": 75,
      "outputs": [
        {
          "output_type": "execute_result",
          "data": {
            "text/html": [
              "<div>\n",
              "<style scoped>\n",
              "    .dataframe tbody tr th:only-of-type {\n",
              "        vertical-align: middle;\n",
              "    }\n",
              "\n",
              "    .dataframe tbody tr th {\n",
              "        vertical-align: top;\n",
              "    }\n",
              "\n",
              "    .dataframe thead th {\n",
              "        text-align: right;\n",
              "    }\n",
              "</style>\n",
              "<table border=\"1\" class=\"dataframe\">\n",
              "  <thead>\n",
              "    <tr style=\"text-align: right;\">\n",
              "      <th></th>\n",
              "      <th>Unnamed: 0</th>\n",
              "      <th>S0</th>\n",
              "      <th>K</th>\n",
              "      <th>V0</th>\n",
              "      <th>T</th>\n",
              "      <th>r</th>\n",
              "      <th>n</th>\n",
              "      <th>m</th>\n",
              "      <th>closed_solution</th>\n",
              "      <th>mc_price</th>\n",
              "      <th>ST_std</th>\n",
              "      <th>mc_price_av</th>\n",
              "      <th>ST_av_std</th>\n",
              "    </tr>\n",
              "  </thead>\n",
              "  <tbody>\n",
              "    <tr>\n",
              "      <th>0</th>\n",
              "      <td>0</td>\n",
              "      <td>2.0</td>\n",
              "      <td>1.5</td>\n",
              "      <td>0.01</td>\n",
              "      <td>1.0</td>\n",
              "      <td>0.00</td>\n",
              "      <td>250.0</td>\n",
              "      <td>62500.0</td>\n",
              "      <td>0.501704</td>\n",
              "      <td>0.505418</td>\n",
              "      <td>0.260141</td>\n",
              "      <td>0.505318</td>\n",
              "      <td>0.261869</td>\n",
              "    </tr>\n",
              "    <tr>\n",
              "      <th>1</th>\n",
              "      <td>1</td>\n",
              "      <td>2.0</td>\n",
              "      <td>1.5</td>\n",
              "      <td>0.01</td>\n",
              "      <td>1.0</td>\n",
              "      <td>0.00</td>\n",
              "      <td>400.0</td>\n",
              "      <td>160000.0</td>\n",
              "      <td>0.501704</td>\n",
              "      <td>0.505640</td>\n",
              "      <td>0.259024</td>\n",
              "      <td>0.503791</td>\n",
              "      <td>0.260026</td>\n",
              "    </tr>\n",
              "    <tr>\n",
              "      <th>2</th>\n",
              "      <td>2</td>\n",
              "      <td>2.0</td>\n",
              "      <td>1.5</td>\n",
              "      <td>0.01</td>\n",
              "      <td>1.0</td>\n",
              "      <td>0.05</td>\n",
              "      <td>250.0</td>\n",
              "      <td>62500.0</td>\n",
              "      <td>0.605693</td>\n",
              "      <td>0.575393</td>\n",
              "      <td>0.274204</td>\n",
              "      <td>0.578765</td>\n",
              "      <td>0.275233</td>\n",
              "    </tr>\n",
              "    <tr>\n",
              "      <th>3</th>\n",
              "      <td>3</td>\n",
              "      <td>2.0</td>\n",
              "      <td>1.5</td>\n",
              "      <td>0.01</td>\n",
              "      <td>1.0</td>\n",
              "      <td>0.05</td>\n",
              "      <td>400.0</td>\n",
              "      <td>160000.0</td>\n",
              "      <td>0.605693</td>\n",
              "      <td>0.577484</td>\n",
              "      <td>0.272457</td>\n",
              "      <td>0.576445</td>\n",
              "      <td>0.272337</td>\n",
              "    </tr>\n",
              "    <tr>\n",
              "      <th>4</th>\n",
              "      <td>4</td>\n",
              "      <td>2.0</td>\n",
              "      <td>1.5</td>\n",
              "      <td>0.01</td>\n",
              "      <td>2.0</td>\n",
              "      <td>0.00</td>\n",
              "      <td>250.0</td>\n",
              "      <td>62500.0</td>\n",
              "      <td>0.644682</td>\n",
              "      <td>0.517993</td>\n",
              "      <td>0.379576</td>\n",
              "      <td>0.518675</td>\n",
              "      <td>0.379652</td>\n",
              "    </tr>\n",
              "  </tbody>\n",
              "</table>\n",
              "</div>"
            ],
            "text/plain": [
              "   Unnamed: 0   S0    K    V0  ...  mc_price    ST_std  mc_price_av  ST_av_std\n",
              "0           0  2.0  1.5  0.01  ...  0.505418  0.260141     0.505318   0.261869\n",
              "1           1  2.0  1.5  0.01  ...  0.505640  0.259024     0.503791   0.260026\n",
              "2           2  2.0  1.5  0.01  ...  0.575393  0.274204     0.578765   0.275233\n",
              "3           3  2.0  1.5  0.01  ...  0.577484  0.272457     0.576445   0.272337\n",
              "4           4  2.0  1.5  0.01  ...  0.517993  0.379576     0.518675   0.379652\n",
              "\n",
              "[5 rows x 13 columns]"
            ]
          },
          "metadata": {
            "tags": []
          },
          "execution_count": 75
        }
      ]
    },
    {
      "cell_type": "code",
      "metadata": {
        "colab": {
          "base_uri": "https://localhost:8080/",
          "height": 202
        },
        "id": "595D6ZFKuUU4",
        "outputId": "74983106-0a23-431a-df48-084f95cf4aaa"
      },
      "source": [
        "standard_deviation = solution_mc[['ST_std', 'ST_av_std']]\r\n",
        "standard_deviation.head()"
      ],
      "execution_count": 80,
      "outputs": [
        {
          "output_type": "execute_result",
          "data": {
            "text/html": [
              "<div>\n",
              "<style scoped>\n",
              "    .dataframe tbody tr th:only-of-type {\n",
              "        vertical-align: middle;\n",
              "    }\n",
              "\n",
              "    .dataframe tbody tr th {\n",
              "        vertical-align: top;\n",
              "    }\n",
              "\n",
              "    .dataframe thead th {\n",
              "        text-align: right;\n",
              "    }\n",
              "</style>\n",
              "<table border=\"1\" class=\"dataframe\">\n",
              "  <thead>\n",
              "    <tr style=\"text-align: right;\">\n",
              "      <th></th>\n",
              "      <th>ST_std</th>\n",
              "      <th>ST_av_std</th>\n",
              "    </tr>\n",
              "  </thead>\n",
              "  <tbody>\n",
              "    <tr>\n",
              "      <th>0</th>\n",
              "      <td>0.260141</td>\n",
              "      <td>0.261869</td>\n",
              "    </tr>\n",
              "    <tr>\n",
              "      <th>1</th>\n",
              "      <td>0.259024</td>\n",
              "      <td>0.260026</td>\n",
              "    </tr>\n",
              "    <tr>\n",
              "      <th>2</th>\n",
              "      <td>0.274204</td>\n",
              "      <td>0.275233</td>\n",
              "    </tr>\n",
              "    <tr>\n",
              "      <th>3</th>\n",
              "      <td>0.272457</td>\n",
              "      <td>0.272337</td>\n",
              "    </tr>\n",
              "    <tr>\n",
              "      <th>4</th>\n",
              "      <td>0.379576</td>\n",
              "      <td>0.379652</td>\n",
              "    </tr>\n",
              "  </tbody>\n",
              "</table>\n",
              "</div>"
            ],
            "text/plain": [
              "     ST_std  ST_av_std\n",
              "0  0.260141   0.261869\n",
              "1  0.259024   0.260026\n",
              "2  0.274204   0.275233\n",
              "3  0.272457   0.272337\n",
              "4  0.379576   0.379652"
            ]
          },
          "metadata": {
            "tags": []
          },
          "execution_count": 80
        }
      ]
    },
    {
      "cell_type": "code",
      "metadata": {
        "colab": {
          "base_uri": "https://localhost:8080/",
          "height": 202
        },
        "id": "IJw2Ge8ZB7Mo",
        "outputId": "c4c46123-597a-4a09-8f08-0bbeacf6c891"
      },
      "source": [
        "prices = solution_mc[['closed_solution', 'mc_price', 'mc_price_av']]\r\n",
        "prices.head()"
      ],
      "execution_count": 76,
      "outputs": [
        {
          "output_type": "execute_result",
          "data": {
            "text/html": [
              "<div>\n",
              "<style scoped>\n",
              "    .dataframe tbody tr th:only-of-type {\n",
              "        vertical-align: middle;\n",
              "    }\n",
              "\n",
              "    .dataframe tbody tr th {\n",
              "        vertical-align: top;\n",
              "    }\n",
              "\n",
              "    .dataframe thead th {\n",
              "        text-align: right;\n",
              "    }\n",
              "</style>\n",
              "<table border=\"1\" class=\"dataframe\">\n",
              "  <thead>\n",
              "    <tr style=\"text-align: right;\">\n",
              "      <th></th>\n",
              "      <th>closed_solution</th>\n",
              "      <th>mc_price</th>\n",
              "      <th>mc_price_av</th>\n",
              "    </tr>\n",
              "  </thead>\n",
              "  <tbody>\n",
              "    <tr>\n",
              "      <th>0</th>\n",
              "      <td>0.501704</td>\n",
              "      <td>0.505418</td>\n",
              "      <td>0.505318</td>\n",
              "    </tr>\n",
              "    <tr>\n",
              "      <th>1</th>\n",
              "      <td>0.501704</td>\n",
              "      <td>0.505640</td>\n",
              "      <td>0.503791</td>\n",
              "    </tr>\n",
              "    <tr>\n",
              "      <th>2</th>\n",
              "      <td>0.605693</td>\n",
              "      <td>0.575393</td>\n",
              "      <td>0.578765</td>\n",
              "    </tr>\n",
              "    <tr>\n",
              "      <th>3</th>\n",
              "      <td>0.605693</td>\n",
              "      <td>0.577484</td>\n",
              "      <td>0.576445</td>\n",
              "    </tr>\n",
              "    <tr>\n",
              "      <th>4</th>\n",
              "      <td>0.644682</td>\n",
              "      <td>0.517993</td>\n",
              "      <td>0.518675</td>\n",
              "    </tr>\n",
              "  </tbody>\n",
              "</table>\n",
              "</div>"
            ],
            "text/plain": [
              "   closed_solution  mc_price  mc_price_av\n",
              "0         0.501704  0.505418     0.505318\n",
              "1         0.501704  0.505640     0.503791\n",
              "2         0.605693  0.575393     0.578765\n",
              "3         0.605693  0.577484     0.576445\n",
              "4         0.644682  0.517993     0.518675"
            ]
          },
          "metadata": {
            "tags": []
          },
          "execution_count": 76
        }
      ]
    },
    {
      "cell_type": "code",
      "metadata": {
        "id": "ShQNfQ8wMPyx"
      },
      "source": [
        "rmse_mc = np.sqrt(((prices.closed_solution - prices.mc_price)**2).sum())\r\n",
        "rmse_mc_av = np.sqrt(((prices.closed_solution - prices.mc_price_av)**2).sum())"
      ],
      "execution_count": 77,
      "outputs": []
    },
    {
      "cell_type": "code",
      "metadata": {
        "colab": {
          "base_uri": "https://localhost:8080/"
        },
        "id": "3YQXsAoUMdzP",
        "outputId": "607e83c8-7d4a-4718-cdd0-76fa6cc26376"
      },
      "source": [
        "rmse_mc"
      ],
      "execution_count": 78,
      "outputs": [
        {
          "output_type": "execute_result",
          "data": {
            "text/plain": [
              "1.272573108647589"
            ]
          },
          "metadata": {
            "tags": []
          },
          "execution_count": 78
        }
      ]
    },
    {
      "cell_type": "code",
      "metadata": {
        "colab": {
          "base_uri": "https://localhost:8080/"
        },
        "id": "tR51zBvfMgb5",
        "outputId": "4432caba-508a-4544-e78d-85dde50164c7"
      },
      "source": [
        "rmse_mc_av"
      ],
      "execution_count": 79,
      "outputs": [
        {
          "output_type": "execute_result",
          "data": {
            "text/plain": [
              "1.2764783391883372"
            ]
          },
          "metadata": {
            "tags": []
          },
          "execution_count": 79
        }
      ]
    },
    {
      "cell_type": "code",
      "metadata": {
        "id": "ZfcJTEC-M1jh"
      },
      "source": [
        "solution_mc.to_csv(\"solution_complete_mc.csv\")"
      ],
      "execution_count": 50,
      "outputs": []
    },
    {
      "cell_type": "code",
      "metadata": {
        "id": "Tq5kbgwJNdN6"
      },
      "source": [
        ""
      ],
      "execution_count": null,
      "outputs": []
    }
  ]
}
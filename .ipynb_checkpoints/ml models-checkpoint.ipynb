{
 "cells": [
  {
   "cell_type": "code",
   "execution_count": 2,
   "metadata": {
    "id": "sSdB8d5zuZcC"
   },
   "outputs": [],
   "source": [
    "import numpy as np\n",
    "import pandas as pd\n",
    "from sklearn.model_selection import train_test_split, GridSearchCV\n",
    "from matplotlib import pyplot as plt \n",
    "import seaborn as sns\n",
    "\n",
    "from sklearn.preprocessing import StandardScaler, MinMaxScaler\n",
    "from sklearn.linear_model import Ridge, Lasso, ElasticNet, LinearRegression\n",
    "from sklearn.tree import DecisionTreeRegressor\n",
    "from sklearn.ensemble import RandomForestRegressor\n",
    "from sklearn.metrics import mean_squared_error\n",
    "\n",
    "\n",
    "import warnings\n",
    "warnings.simplefilter(action='ignore', category=FutureWarning)"
   ]
  },
  {
   "cell_type": "code",
   "execution_count": 3,
   "metadata": {
    "colab": {
     "base_uri": "https://localhost:8080/",
     "height": 206
    },
    "id": "hlI7daoMuZcC",
    "outputId": "8b2ffc33-9976-4d89-92df-1633473f1726"
   },
   "outputs": [
    {
     "data": {
      "text/html": [
       "<div>\n",
       "<style scoped>\n",
       "    .dataframe tbody tr th:only-of-type {\n",
       "        vertical-align: middle;\n",
       "    }\n",
       "\n",
       "    .dataframe tbody tr th {\n",
       "        vertical-align: top;\n",
       "    }\n",
       "\n",
       "    .dataframe thead th {\n",
       "        text-align: right;\n",
       "    }\n",
       "</style>\n",
       "<table border=\"1\" class=\"dataframe\">\n",
       "  <thead>\n",
       "    <tr style=\"text-align: right;\">\n",
       "      <th></th>\n",
       "      <th>price</th>\n",
       "      <th>stock</th>\n",
       "      <th>maturity</th>\n",
       "    </tr>\n",
       "  </thead>\n",
       "  <tbody>\n",
       "    <tr>\n",
       "      <th>0</th>\n",
       "      <td>0.030212</td>\n",
       "      <td>1.942860</td>\n",
       "      <td>1.0</td>\n",
       "    </tr>\n",
       "    <tr>\n",
       "      <th>1</th>\n",
       "      <td>0.000000</td>\n",
       "      <td>2.015730</td>\n",
       "      <td>1.0</td>\n",
       "    </tr>\n",
       "    <tr>\n",
       "      <th>2</th>\n",
       "      <td>0.000000</td>\n",
       "      <td>1.973625</td>\n",
       "      <td>1.0</td>\n",
       "    </tr>\n",
       "    <tr>\n",
       "      <th>3</th>\n",
       "      <td>0.238004</td>\n",
       "      <td>1.969582</td>\n",
       "      <td>1.0</td>\n",
       "    </tr>\n",
       "    <tr>\n",
       "      <th>4</th>\n",
       "      <td>0.000000</td>\n",
       "      <td>2.035461</td>\n",
       "      <td>1.0</td>\n",
       "    </tr>\n",
       "  </tbody>\n",
       "</table>\n",
       "</div>"
      ],
      "text/plain": [
       "      price     stock  maturity\n",
       "0  0.030212  1.942860       1.0\n",
       "1  0.000000  2.015730       1.0\n",
       "2  0.000000  1.973625       1.0\n",
       "3  0.238004  1.969582       1.0\n",
       "4  0.000000  2.035461       1.0"
      ]
     },
     "execution_count": 3,
     "metadata": {},
     "output_type": "execute_result"
    }
   ],
   "source": [
    "df = pd.read_csv(\"dataset1.csv\")\n",
    "df = df.drop('Unnamed: 0', axis=1)\n",
    "\n",
    "df.head()"
   ]
  },
  {
   "cell_type": "markdown",
   "metadata": {},
   "source": [
    "### Visualization"
   ]
  },
  {
   "cell_type": "code",
   "execution_count": 37,
   "metadata": {},
   "outputs": [],
   "source": [
    "exercise = df[df.price!=0].drop('price', axis=1)\n",
    "not_exercise = df[df.price==0].drop('price', axis=1)"
   ]
  },
  {
   "cell_type": "code",
   "execution_count": 44,
   "metadata": {},
   "outputs": [
    {
     "data": {
      "image/png": "[encoded data removed]",
      "text/plain": [
       "<Figure size 432x288 with 1 Axes>"
      ]
     },
     "metadata": {
      "needs_background": "light"
     },
     "output_type": "display_data"
    }
   ],
   "source": [
    "plt.scatter(exercise.stock, exercise.maturity);\n",
    "plt.scatter(not_exercise.stock, not_exercise.maturity, color='r');"
   ]
  },
  {
   "cell_type": "code",
   "execution_count": 7,
   "metadata": {},
   "outputs": [
    {
     "data": {
      "image/png": "[encoded data removed]",
      "text/plain": [
       "<Figure size 432x288 with 1 Axes>"
      ]
     },
     "metadata": {
      "needs_background": "light"
     },
     "output_type": "display_data"
    }
   ],
   "source": [
    "a = df[df.price!=0]\n",
    "plt.hist(a.price, bins=50);"
   ]
  },
  {
   "cell_type": "code",
   "execution_count": 8,
   "metadata": {},
   "outputs": [
    {
     "data": {
      "image/png": "[encoded data removed]",
      "text/plain": [
       "<Figure size 432x288 with 1 Axes>"
      ]
     },
     "metadata": {
      "needs_background": "light"
     },
     "output_type": "display_data"
    }
   ],
   "source": [
    "plt.hist(np.log(a.price), bins=50);"
   ]
  },
  {
   "cell_type": "code",
   "execution_count": 23,
   "metadata": {},
   "outputs": [
    {
     "data": {
      "text/html": [
       "<div>\n",
       "<style scoped>\n",
       "    .dataframe tbody tr th:only-of-type {\n",
       "        vertical-align: middle;\n",
       "    }\n",
       "\n",
       "    .dataframe tbody tr th {\n",
       "        vertical-align: top;\n",
       "    }\n",
       "\n",
       "    .dataframe thead th {\n",
       "        text-align: right;\n",
       "    }\n",
       "</style>\n",
       "<table border=\"1\" class=\"dataframe\">\n",
       "  <thead>\n",
       "    <tr style=\"text-align: right;\">\n",
       "      <th></th>\n",
       "      <th>stock</th>\n",
       "      <th>maturity</th>\n",
       "      <th>exercise</th>\n",
       "    </tr>\n",
       "  </thead>\n",
       "  <tbody>\n",
       "    <tr>\n",
       "      <th>0</th>\n",
       "      <td>1.942860</td>\n",
       "      <td>1.0</td>\n",
       "      <td>True</td>\n",
       "    </tr>\n",
       "    <tr>\n",
       "      <th>1</th>\n",
       "      <td>2.015730</td>\n",
       "      <td>1.0</td>\n",
       "      <td>False</td>\n",
       "    </tr>\n",
       "    <tr>\n",
       "      <th>2</th>\n",
       "      <td>1.973625</td>\n",
       "      <td>1.0</td>\n",
       "      <td>False</td>\n",
       "    </tr>\n",
       "    <tr>\n",
       "      <th>3</th>\n",
       "      <td>1.969582</td>\n",
       "      <td>1.0</td>\n",
       "      <td>True</td>\n",
       "    </tr>\n",
       "    <tr>\n",
       "      <th>4</th>\n",
       "      <td>2.035461</td>\n",
       "      <td>1.0</td>\n",
       "      <td>False</td>\n",
       "    </tr>\n",
       "  </tbody>\n",
       "</table>\n",
       "</div>"
      ],
      "text/plain": [
       "      stock  maturity  exercise\n",
       "0  1.942860       1.0      True\n",
       "1  2.015730       1.0     False\n",
       "2  1.973625       1.0     False\n",
       "3  1.969582       1.0      True\n",
       "4  2.035461       1.0     False"
      ]
     },
     "execution_count": 23,
     "metadata": {},
     "output_type": "execute_result"
    }
   ],
   "source": [
    "df.head()"
   ]
  },
  {
   "cell_type": "code",
   "execution_count": 14,
   "metadata": {
    "id": "3eg--DK5uZcD"
   },
   "outputs": [],
   "source": [
    "y = df.price\n",
    "X = df.drop('price', axis=1)"
   ]
  },
  {
   "cell_type": "code",
   "execution_count": 15,
   "metadata": {
    "id": "RTPkGC1juZcE"
   },
   "outputs": [
    {
     "name": "stdout",
     "output_type": "stream",
     "text": [
      "Dimensionality of x_train: (30000, 2)\n",
      "Dimensionality of X_test : (10000, 2)\n",
      "Dimensionality of y_train: (30000,)\n",
      "Dimensionality of y_test : (10000,)\n"
     ]
    }
   ],
   "source": [
    "x_train, x_test, y_train, y_test = train_test_split(X, y, test_size=0.25)\n",
    "\n",
    "print(f\"Dimensionality of x_train: {x_train.shape}\")\n",
    "print(f\"Dimensionality of X_test : {x_test.shape}\")\n",
    "print(f\"Dimensionality of y_train: {y_train.shape}\")\n",
    "print(f\"Dimensionality of y_test : {y_test.shape}\")"
   ]
  },
  {
   "cell_type": "code",
   "execution_count": 16,
   "metadata": {},
   "outputs": [
    {
     "data": {
      "image/png": "[encoded data removed]",
      "text/plain": [
       "<Figure size 432x288 with 1 Axes>"
      ]
     },
     "metadata": {
      "needs_background": "light"
     },
     "output_type": "display_data"
    }
   ],
   "source": [
    "plt.hist(df.price, bins =100);"
   ]
  },
  {
   "cell_type": "code",
   "execution_count": 11,
   "metadata": {},
   "outputs": [
    {
     "name": "stdout",
     "output_type": "stream",
     "text": [
      "This database contains 40000 options. \n",
      "20322 have zero value.\n"
     ]
    }
   ],
   "source": [
    "zero_values = sum(x == 0 for x in df.price)\n",
    "non_zeros_values = sum(x != 0 for x in df.price)\n",
    "\n",
    "print(f\"This database contains {len(df)} options. \\n{zero_values} have zero value.\")"
   ]
  },
  {
   "cell_type": "code",
   "execution_count": 10,
   "metadata": {},
   "outputs": [],
   "source": [
    "# classification binaria zero non zero, poi se esercito provo la regression"
   ]
  },
  {
   "cell_type": "markdown",
   "metadata": {},
   "source": []
  },
  {
   "cell_type": "code",
   "execution_count": null,
   "metadata": {},
   "outputs": [],
   "source": []
  },
  {
   "cell_type": "markdown",
   "metadata": {
    "id": "E8MeT3IeuZcE"
   },
   "source": [
    "ridge regression"
   ]
  },
  {
   "cell_type": "markdown",
   "metadata": {
    "id": "X048YiAtuZcE"
   },
   "source": [
    "MMScaler = MinMaxScaler()\n",
    "x_train_scaled = MMScaler.fit_transform(x_train)\n",
    "x_test_scaled = MMScaler.transform(x_test)"
   ]
  },
  {
   "cell_type": "code",
   "execution_count": null,
   "metadata": {
    "id": "9474Yw2kuZcE",
    "outputId": "0ac31ad8-7df0-45aa-93fd-24dd492b2878"
   },
   "outputs": [
    {
     "name": "stdout",
     "output_type": "stream",
     "text": [
      "ridge best parameters: {'alpha': 0.001}\n",
      "ridge score: -0.05135538077968174\n",
      "ridge MSE: 0.05135538077968174\n"
     ]
    }
   ],
   "source": [
    "parameters = {'alpha': np.arange(0.001, 0.01, 0.1)}\n",
    "ridge = Ridge()\n",
    "ridge_best = GridSearchCV(ridge, parameters, scoring ='neg_mean_squared_error')\n",
    "\n",
    "ridge_best.fit(x_train_scaled, y_train)\n",
    "y_pred_ridge = ridge_best.predict(X_test_scaled)\n",
    "\n",
    "print(\"ridge best parameters:\", ridge_best.best_params_)\n",
    "print(\"ridge score:\", ridge_best.score(X_test_scaled, y_test))\n",
    "print(\"ridge MSE:\", mean_squared_error(y_test, y_pred_ridge))"
   ]
  },
  {
   "cell_type": "code",
   "execution_count": null,
   "metadata": {
    "id": "OgSOB0xRuZcF",
    "outputId": "0e8ef703-ab0e-4c19-d713-ef30a486e96a"
   },
   "outputs": [
    {
     "data": {
      "image/png": "[encoded data removed]",
      "text/plain": [
       "<Figure size 432x288 with 1 Axes>"
      ]
     },
     "metadata": {
      "needs_background": "light",
      "tags": []
     },
     "output_type": "display_data"
    }
   ],
   "source": [
    "sns.regplot(y_test, y_pred )\n",
    "plt.show()"
   ]
  },
  {
   "cell_type": "markdown",
   "metadata": {
    "id": "ZmNOGoYSuZcG"
   },
   "source": [
    "linear regression"
   ]
  },
  {
   "cell_type": "code",
   "execution_count": null,
   "metadata": {
    "id": "-CSzdcWJuZcG",
    "outputId": "193cd374-cf28-4a05-c307-dafc27abacdb"
   },
   "outputs": [
    {
     "name": "stdout",
     "output_type": "stream",
     "text": [
      "ridge MSE: 0.05135538792029219\n"
     ]
    }
   ],
   "source": [
    "lin = LinearRegression()\n",
    "lin.fit(x_train_scaled, y_train)\n",
    "y_pred_lin = lin.predict(X_test_scaled)\n",
    "\n",
    "print(\"ridge MSE:\", mean_squared_error(y_test, y_pred_lin))"
   ]
  },
  {
   "cell_type": "code",
   "execution_count": null,
   "metadata": {
    "id": "qaMVxtaluZcH",
    "outputId": "20701bfb-f369-4b0e-da68-469068d61e95"
   },
   "outputs": [
    {
     "data": {
      "image/png": "[encoded data removed]",
      "text/plain": [
       "<Figure size 432x288 with 1 Axes>"
      ]
     },
     "metadata": {
      "needs_background": "light",
      "tags": []
     },
     "output_type": "display_data"
    }
   ],
   "source": [
    "sns.regplot(y_test, y_pred_lin )\n",
    "plt.show()"
   ]
  },
  {
   "cell_type": "markdown",
   "metadata": {
    "id": "vS64ztmtuZcH"
   },
   "source": [
    "polynomial regression"
   ]
  },
  {
   "cell_type": "code",
   "execution_count": null,
   "metadata": {
    "id": "DEKqCdiWuZcH"
   },
   "outputs": [],
   "source": []
  },
  {
   "cell_type": "code",
   "execution_count": null,
   "metadata": {
    "id": "BRa1NUPauZcH"
   },
   "outputs": [],
   "source": []
  },
  {
   "cell_type": "markdown",
   "metadata": {
    "id": "3oNwszzVuZcH"
   },
   "source": [
    "Decision Tree regression"
   ]
  },
  {
   "cell_type": "code",
   "execution_count": null,
   "metadata": {
    "id": "QaJ5SSpsuZcH",
    "outputId": "8ae75d27-03f8-41dd-c9b9-b708da9c1827"
   },
   "outputs": [
    {
     "name": "stdout",
     "output_type": "stream",
     "text": [
      "DTR best parameters: {'criterion': 'mse', 'max_depth': 4, 'min_samples_leaf': 0.005, 'min_samples_split': 0.05}\n",
      "DTR score: -0.05142280871880629\n",
      "DTR MSE: 0.05142280871880629\n"
     ]
    }
   ],
   "source": [
    "DTSplitList=[0.001,0.05,0.1, 0.99]\n",
    "DTLeafList=[0.005, 0.1,0.5]\n",
    "criterion =['mse']\n",
    "max_depth = list(range(30,0,-2))\n",
    "parameters = {'criterion':criterion,'max_depth':max_depth, 'min_samples_leaf': DTLeafList, 'min_samples_split':DTSplitList}\n",
    "DTR = DecisionTreeRegressor(random_state=10)\n",
    "dec_tree = GridSearchCV(DTR, parameters, scoring ='neg_mean_squared_error')\n",
    "dec_tree.fit(x_train, y_train)\n",
    "\n",
    "y_pred_dec = dec_tree.predict(x_test)\n",
    "\n",
    "print(\"DTR best parameters:\", dec_tree.best_params_)\n",
    "print(\"DTR score:\", dec_tree.score(x_test, y_test))\n",
    "print(\"DTR MSE:\", mean_squared_error(y_test, y_pred_dec))"
   ]
  },
  {
   "cell_type": "code",
   "execution_count": null,
   "metadata": {
    "id": "mFKzYGwCuZcI",
    "outputId": "c61a9a9d-5ff9-46fc-eee8-9da6414b79b5"
   },
   "outputs": [
    {
     "data": {
      "image/png": "[encoded data removed]",
      "text/plain": [
       "<Figure size 432x288 with 1 Axes>"
      ]
     },
     "metadata": {
      "needs_background": "light",
      "tags": []
     },
     "output_type": "display_data"
    }
   ],
   "source": [
    "sns.regplot(y_test, y_pred_dec)\n",
    "plt.show()"
   ]
  },
  {
   "cell_type": "markdown",
   "metadata": {
    "id": "vF3zPCrouZcI"
   },
   "source": [
    "Random Forest"
   ]
  },
  {
   "cell_type": "code",
   "execution_count": null,
   "metadata": {
    "id": "kpqFhq5wuZcI",
    "outputId": "f8036558-881d-45ac-aa98-7dbedc8fa9e0"
   },
   "outputs": [
    {
     "name": "stdout",
     "output_type": "stream",
     "text": [
      "RFR best parameters: {'criterion': 'mse', 'max_depth': 4, 'n_estimators': 50}\n",
      "RFR score: -0.05116202883338666\n",
      "RFR MSE: 0.05116202883338666\n"
     ]
    }
   ],
   "source": [
    "RFEstimatorList = [25,50,100,200]\n",
    "criterion =['mse']\n",
    "max_depth = list(range(30,0,-2))\n",
    "parameters = {'criterion':criterion,'max_depth':max_depth,'n_estimators':RFEstimatorList}\n",
    "\n",
    "RFR = RandomForestRegressor(random_state=10)\n",
    "RFR_best = GridSearchCV(RFR, parameters, cv=5, verbose=0,scoring ='neg_mean_squared_error')\n",
    "RFR_best.fit(x_train, y_train)\n",
    "\n",
    "y_pred_random = RFR_best.predict(x_test)\n",
    "\n",
    "print(\"RFR best parameters:\", RFR_best.best_params_)\n",
    "print(\"RFR score:\", RFR_best.score(x_test, y_test))\n",
    "print(\"RFR MSE:\", mean_squared_error(y_test, y_pred_random))"
   ]
  },
  {
   "cell_type": "code",
   "execution_count": null,
   "metadata": {
    "id": "oXeJOSjAuZcI",
    "outputId": "4537548c-5b69-4a52-ebec-b16d70645eb1"
   },
   "outputs": [
    {
     "data": {
      "image/png": "[encoded data removed]",
      "text/plain": [
       "<Figure size 432x288 with 1 Axes>"
      ]
     },
     "metadata": {
      "needs_background": "light",
      "tags": []
     },
     "output_type": "display_data"
    }
   ],
   "source": [
    "sns.regplot(y_test, y_pred_random )\n",
    "plt.show()"
   ]
  },
  {
   "cell_type": "code",
   "execution_count": null,
   "metadata": {
    "id": "UpgUz9E4uZcJ",
    "outputId": "27d83a9f-8c20-490a-cda0-3fbad98c0318"
   },
   "outputs": [
    {
     "name": "stdout",
     "output_type": "stream",
     "text": [
      "Feature ranking:\n",
      "1. feature 0 (0.722945)\n",
      "2. feature 1 (0.277055)\n"
     ]
    },
    {
     "data": {
      "image/png": "[encoded data removed]",
      "text/plain": [
       "<Figure size 432x288 with 1 Axes>"
      ]
     },
     "metadata": {
      "needs_background": "light",
      "tags": []
     },
     "output_type": "display_data"
    }
   ],
   "source": [
    "clf3=RandomForestRegressor(criterion= 'mse', max_depth= 10, n_estimators= 100,random_state=10)\n",
    "clf3.fit(x_train, y_train)\n",
    "features = X.columns\n",
    "importances = clf3.feature_importances_\n",
    "std = np.std([tree.feature_importances_ for tree in clf3.estimators_],\n",
    "             axis=0)\n",
    "indices = np.argsort(importances)[::-1]\n",
    "\n",
    "# Print the feature ranking\n",
    "print(\"Feature ranking:\")\n",
    "\n",
    "for f in range(x_train.shape[1]):\n",
    "    print(\"%d. feature %d (%f)\" % (f + 1, indices[f], importances[indices[f]]))\n",
    "\n",
    "# Plot the feature importances of the forest\n",
    "plt.figure()\n",
    "plt.title(\"Feature importances\")\n",
    "plt.bar(range(x_train.shape[1]), importances[indices],\n",
    "       color=\"b\", yerr=std[indices], align=\"center\")\n",
    "plt.xticks(range(len(indices)), [features[i] for i in indices])\n",
    "plt.xticks(rotation=90)\n",
    "plt.xlim([-1, x_train.shape[1]])\n",
    "plt.show()"
   ]
  },
  {
   "cell_type": "code",
   "execution_count": 4,
   "metadata": {
    "id": "lzd_w7GzuZcJ"
   },
   "outputs": [],
   "source": []
  },
  {
   "cell_type": "code",
   "execution_count": 3,
   "metadata": {
    "id": "nn5NVXTDuZcK"
   },
   "outputs": [],
   "source": [
    "from keras.models import Sequential\n",
    "from keras.layers import Dense"
   ]
  },
  {
   "cell_type": "markdown",
   "metadata": {
    "id": "XOKAZJrbvdpO"
   },
   "source": [
    "Normalization"
   ]
  },
  {
   "cell_type": "code",
   "execution_count": 4,
   "metadata": {
    "colab": {
     "base_uri": "https://localhost:8080/",
     "height": 206
    },
    "id": "iayRFVmcvDgt",
    "outputId": "993baf27-01ed-4213-a4f4-af84da623e2e"
   },
   "outputs": [
    {
     "data": {
      "text/html": [
       "<div>\n",
       "<style scoped>\n",
       "    .dataframe tbody tr th:only-of-type {\n",
       "        vertical-align: middle;\n",
       "    }\n",
       "\n",
       "    .dataframe tbody tr th {\n",
       "        vertical-align: top;\n",
       "    }\n",
       "\n",
       "    .dataframe thead th {\n",
       "        text-align: right;\n",
       "    }\n",
       "</style>\n",
       "<table border=\"1\" class=\"dataframe\">\n",
       "  <thead>\n",
       "    <tr style=\"text-align: right;\">\n",
       "      <th></th>\n",
       "      <th>price</th>\n",
       "      <th>stock</th>\n",
       "      <th>maturity</th>\n",
       "    </tr>\n",
       "  </thead>\n",
       "  <tbody>\n",
       "    <tr>\n",
       "      <th>0</th>\n",
       "      <td>0.000000</td>\n",
       "      <td>0.971141</td>\n",
       "      <td>0.238507</td>\n",
       "    </tr>\n",
       "    <tr>\n",
       "      <th>1</th>\n",
       "      <td>0.063097</td>\n",
       "      <td>0.969574</td>\n",
       "      <td>0.236525</td>\n",
       "    </tr>\n",
       "    <tr>\n",
       "      <th>2</th>\n",
       "      <td>0.046199</td>\n",
       "      <td>0.966562</td>\n",
       "      <td>0.252238</td>\n",
       "    </tr>\n",
       "    <tr>\n",
       "      <th>3</th>\n",
       "      <td>0.151467</td>\n",
       "      <td>0.959248</td>\n",
       "      <td>0.238540</td>\n",
       "    </tr>\n",
       "    <tr>\n",
       "      <th>4</th>\n",
       "      <td>0.067900</td>\n",
       "      <td>0.968664</td>\n",
       "      <td>0.238913</td>\n",
       "    </tr>\n",
       "  </tbody>\n",
       "</table>\n",
       "</div>"
      ],
      "text/plain": [
       "      price     stock  maturity\n",
       "0  0.000000  0.971141  0.238507\n",
       "1  0.063097  0.969574  0.236525\n",
       "2  0.046199  0.966562  0.252238\n",
       "3  0.151467  0.959248  0.238540\n",
       "4  0.067900  0.968664  0.238913"
      ]
     },
     "execution_count": 4,
     "metadata": {
      "tags": []
     },
     "output_type": "execute_result"
    }
   ],
   "source": [
    "from sklearn import preprocessing\n",
    "\n",
    "scaler = preprocessing.Normalizer()\n",
    "scaled_df = scaler.fit_transform(df)\n",
    "data = pd.DataFrame(scaled_df, columns=df.columns)\n",
    "\n",
    "data.head()"
   ]
  },
  {
   "cell_type": "code",
   "execution_count": 5,
   "metadata": {
    "id": "dJ7X-5_kvT5k"
   },
   "outputs": [],
   "source": [
    "X = data.drop('price', axis=1).values\n",
    "y = data.price.values"
   ]
  },
  {
   "cell_type": "code",
   "execution_count": 6,
   "metadata": {
    "id": "Di-bBed8vnet"
   },
   "outputs": [],
   "source": [
    "# 3 layers\n",
    "model = Sequential()\n",
    "model.add(Dense(20, input_dim = 2, activation = 'relu'))\n",
    "model.add(Dense(20, activation = 'relu'))\n",
    "model.add(Dense(1, activation = 'linear'))"
   ]
  },
  {
   "cell_type": "code",
   "execution_count": 10,
   "metadata": {
    "id": "WVCXHRD9xgXe"
   },
   "outputs": [],
   "source": [
    "from keras import backend as K\n",
    "\n",
    "def root_mean_squared_error(y_true, y_pred):\n",
    "        return K.sqrt(K.mean(K.square(y_pred - y_true))) "
   ]
  },
  {
   "cell_type": "code",
   "execution_count": 11,
   "metadata": {
    "id": "BH7wQCN0vrsD"
   },
   "outputs": [],
   "source": [
    "import tensorflow as tf\n",
    "\n",
    "model.compile(optimizer = 'adam',\n",
    "              loss = root_mean_squared_error,\n",
    "              metrics = [tf.keras.metrics.RootMeanSquaredError()])"
   ]
  },
  {
   "cell_type": "code",
   "execution_count": 12,
   "metadata": {
    "colab": {
     "base_uri": "https://localhost:8080/"
    },
    "id": "MQsfscn_ymKM",
    "outputId": "74db2c13-ef38-4762-a8d1-17ba2590e20f"
   },
   "outputs": [
    {
     "name": "stdout",
     "output_type": "stream",
     "text": [
      "Epoch 1/100\n",
      "1536/1536 [==============================] - 3s 2ms/step - loss: 0.0577 - root_mean_squared_error: 0.0611 - val_loss: 0.0650 - val_root_mean_squared_error: 0.0694\n",
      "Epoch 2/100\n",
      "1536/1536 [==============================] - 3s 2ms/step - loss: 0.0572 - root_mean_squared_error: 0.0604 - val_loss: 0.0649 - val_root_mean_squared_error: 0.0687\n",
      "Epoch 3/100\n",
      "1536/1536 [==============================] - 3s 2ms/step - loss: 0.0568 - root_mean_squared_error: 0.0600 - val_loss: 0.0649 - val_root_mean_squared_error: 0.0695\n",
      "Epoch 4/100\n",
      "1536/1536 [==============================] - 3s 2ms/step - loss: 0.0566 - root_mean_squared_error: 0.0597 - val_loss: 0.0654 - val_root_mean_squared_error: 0.0704\n",
      "Epoch 5/100\n",
      "1536/1536 [==============================] - 3s 2ms/step - loss: 0.0566 - root_mean_squared_error: 0.0596 - val_loss: 0.0647 - val_root_mean_squared_error: 0.0697\n",
      "Epoch 6/100\n",
      "1536/1536 [==============================] - 3s 2ms/step - loss: 0.0561 - root_mean_squared_error: 0.0592 - val_loss: 0.0644 - val_root_mean_squared_error: 0.0692\n",
      "Epoch 7/100\n",
      "1536/1536 [==============================] - 3s 2ms/step - loss: 0.0559 - root_mean_squared_error: 0.0588 - val_loss: 0.0627 - val_root_mean_squared_error: 0.0668\n",
      "Epoch 8/100\n",
      "1536/1536 [==============================] - 3s 2ms/step - loss: 0.0558 - root_mean_squared_error: 0.0587 - val_loss: 0.0622 - val_root_mean_squared_error: 0.0663\n",
      "Epoch 9/100\n",
      "1536/1536 [==============================] - 3s 2ms/step - loss: 0.0553 - root_mean_squared_error: 0.0582 - val_loss: 0.0615 - val_root_mean_squared_error: 0.0651\n",
      "Epoch 10/100\n",
      "1536/1536 [==============================] - 3s 2ms/step - loss: 0.0549 - root_mean_squared_error: 0.0577 - val_loss: 0.0639 - val_root_mean_squared_error: 0.0686\n",
      "Epoch 11/100\n",
      "1536/1536 [==============================] - 3s 2ms/step - loss: 0.0541 - root_mean_squared_error: 0.0567 - val_loss: 0.0593 - val_root_mean_squared_error: 0.0617\n",
      "Epoch 12/100\n",
      "1536/1536 [==============================] - 3s 2ms/step - loss: 0.0531 - root_mean_squared_error: 0.0555 - val_loss: 0.0576 - val_root_mean_squared_error: 0.0611\n",
      "Epoch 13/100\n",
      "1536/1536 [==============================] - 3s 2ms/step - loss: 0.0516 - root_mean_squared_error: 0.0537 - val_loss: 0.0537 - val_root_mean_squared_error: 0.0565\n",
      "Epoch 14/100\n",
      "1536/1536 [==============================] - 3s 2ms/step - loss: 0.0487 - root_mean_squared_error: 0.0504 - val_loss: 0.0696 - val_root_mean_squared_error: 0.0718\n",
      "Epoch 15/100\n",
      "1536/1536 [==============================] - 3s 2ms/step - loss: 0.0453 - root_mean_squared_error: 0.0465 - val_loss: 0.0422 - val_root_mean_squared_error: 0.0437\n",
      "Epoch 16/100\n",
      "1536/1536 [==============================] - 3s 2ms/step - loss: 0.0411 - root_mean_squared_error: 0.0421 - val_loss: 0.0454 - val_root_mean_squared_error: 0.0466\n",
      "Epoch 17/100\n",
      "1536/1536 [==============================] - 3s 2ms/step - loss: 0.0363 - root_mean_squared_error: 0.0371 - val_loss: 0.0377 - val_root_mean_squared_error: 0.0380\n",
      "Epoch 18/100\n",
      "1536/1536 [==============================] - 3s 2ms/step - loss: 0.0335 - root_mean_squared_error: 0.0342 - val_loss: 0.0262 - val_root_mean_squared_error: 0.0266\n",
      "Epoch 19/100\n",
      "1536/1536 [==============================] - 3s 2ms/step - loss: 0.0316 - root_mean_squared_error: 0.0324 - val_loss: 0.0224 - val_root_mean_squared_error: 0.0230\n",
      "Epoch 20/100\n",
      "1536/1536 [==============================] - 3s 2ms/step - loss: 0.0303 - root_mean_squared_error: 0.0314 - val_loss: 0.0249 - val_root_mean_squared_error: 0.0258\n",
      "Epoch 21/100\n",
      "1536/1536 [==============================] - 3s 2ms/step - loss: 0.0281 - root_mean_squared_error: 0.0289 - val_loss: 0.0222 - val_root_mean_squared_error: 0.0230\n",
      "Epoch 22/100\n",
      "1536/1536 [==============================] - 3s 2ms/step - loss: 0.0277 - root_mean_squared_error: 0.0288 - val_loss: 0.0236 - val_root_mean_squared_error: 0.0245\n",
      "Epoch 23/100\n",
      "1536/1536 [==============================] - 3s 2ms/step - loss: 0.0266 - root_mean_squared_error: 0.0277 - val_loss: 0.0269 - val_root_mean_squared_error: 0.0279\n",
      "Epoch 24/100\n",
      "1536/1536 [==============================] - 3s 2ms/step - loss: 0.0261 - root_mean_squared_error: 0.0273 - val_loss: 0.0249 - val_root_mean_squared_error: 0.0261\n",
      "Epoch 25/100\n",
      "1536/1536 [==============================] - 3s 2ms/step - loss: 0.0253 - root_mean_squared_error: 0.0266 - val_loss: 0.0370 - val_root_mean_squared_error: 0.0379\n",
      "Epoch 26/100\n",
      "1536/1536 [==============================] - 3s 2ms/step - loss: 0.0252 - root_mean_squared_error: 0.0265 - val_loss: 0.0233 - val_root_mean_squared_error: 0.0245\n",
      "Epoch 27/100\n",
      "1536/1536 [==============================] - 3s 2ms/step - loss: 0.0247 - root_mean_squared_error: 0.0260 - val_loss: 0.0332 - val_root_mean_squared_error: 0.0341\n",
      "Epoch 28/100\n",
      "1536/1536 [==============================] - 3s 2ms/step - loss: 0.0246 - root_mean_squared_error: 0.0261 - val_loss: 0.0197 - val_root_mean_squared_error: 0.0210\n",
      "Epoch 29/100\n",
      "1536/1536 [==============================] - 3s 2ms/step - loss: 0.0243 - root_mean_squared_error: 0.0258 - val_loss: 0.0330 - val_root_mean_squared_error: 0.0338\n",
      "Epoch 30/100\n",
      "1536/1536 [==============================] - 3s 2ms/step - loss: 0.0234 - root_mean_squared_error: 0.0248 - val_loss: 0.0195 - val_root_mean_squared_error: 0.0204\n",
      "Epoch 31/100\n",
      "1536/1536 [==============================] - 4s 2ms/step - loss: 0.0237 - root_mean_squared_error: 0.0251 - val_loss: 0.0217 - val_root_mean_squared_error: 0.0227\n",
      "Epoch 32/100\n",
      "1536/1536 [==============================] - 3s 2ms/step - loss: 0.0231 - root_mean_squared_error: 0.0245 - val_loss: 0.0411 - val_root_mean_squared_error: 0.0417\n",
      "Epoch 33/100\n",
      "1536/1536 [==============================] - 3s 2ms/step - loss: 0.0225 - root_mean_squared_error: 0.0237 - val_loss: 0.0210 - val_root_mean_squared_error: 0.0214\n",
      "Epoch 34/100\n",
      "1536/1536 [==============================] - 3s 2ms/step - loss: 0.0233 - root_mean_squared_error: 0.0246 - val_loss: 0.0301 - val_root_mean_squared_error: 0.0308\n",
      "Epoch 35/100\n",
      "1536/1536 [==============================] - 3s 2ms/step - loss: 0.0222 - root_mean_squared_error: 0.0235 - val_loss: 0.0223 - val_root_mean_squared_error: 0.0231\n",
      "Epoch 36/100\n",
      "1536/1536 [==============================] - 3s 2ms/step - loss: 0.0221 - root_mean_squared_error: 0.0234 - val_loss: 0.0206 - val_root_mean_squared_error: 0.0212\n",
      "Epoch 37/100\n",
      "1536/1536 [==============================] - 3s 2ms/step - loss: 0.0222 - root_mean_squared_error: 0.0236 - val_loss: 0.0532 - val_root_mean_squared_error: 0.0536\n",
      "Epoch 38/100\n",
      "1536/1536 [==============================] - 3s 2ms/step - loss: 0.0220 - root_mean_squared_error: 0.0232 - val_loss: 0.0207 - val_root_mean_squared_error: 0.0214\n",
      "Epoch 39/100\n",
      "1536/1536 [==============================] - 3s 2ms/step - loss: 0.0213 - root_mean_squared_error: 0.0225 - val_loss: 0.0163 - val_root_mean_squared_error: 0.0167\n",
      "Epoch 40/100\n",
      "1536/1536 [==============================] - 3s 2ms/step - loss: 0.0210 - root_mean_squared_error: 0.0222 - val_loss: 0.0218 - val_root_mean_squared_error: 0.0221\n",
      "Epoch 41/100\n",
      "1536/1536 [==============================] - 3s 2ms/step - loss: 0.0212 - root_mean_squared_error: 0.0224 - val_loss: 0.0177 - val_root_mean_squared_error: 0.0183\n",
      "Epoch 42/100\n",
      "1536/1536 [==============================] - 3s 2ms/step - loss: 0.0213 - root_mean_squared_error: 0.0225 - val_loss: 0.0159 - val_root_mean_squared_error: 0.0164\n",
      "Epoch 43/100\n",
      "1536/1536 [==============================] - 3s 2ms/step - loss: 0.0208 - root_mean_squared_error: 0.0220 - val_loss: 0.0351 - val_root_mean_squared_error: 0.0356\n",
      "Epoch 44/100\n",
      "1536/1536 [==============================] - 3s 2ms/step - loss: 0.0209 - root_mean_squared_error: 0.0221 - val_loss: 0.0199 - val_root_mean_squared_error: 0.0200\n",
      "Epoch 45/100\n",
      "1536/1536 [==============================] - 3s 2ms/step - loss: 0.0211 - root_mean_squared_error: 0.0223 - val_loss: 0.0203 - val_root_mean_squared_error: 0.0210\n",
      "Epoch 46/100\n",
      "1536/1536 [==============================] - 3s 2ms/step - loss: 0.0201 - root_mean_squared_error: 0.0212 - val_loss: 0.0168 - val_root_mean_squared_error: 0.0171\n",
      "Epoch 47/100\n",
      "1536/1536 [==============================] - 3s 2ms/step - loss: 0.0199 - root_mean_squared_error: 0.0210 - val_loss: 0.0344 - val_root_mean_squared_error: 0.0347\n",
      "Epoch 48/100\n",
      "1536/1536 [==============================] - 3s 2ms/step - loss: 0.0200 - root_mean_squared_error: 0.0211 - val_loss: 0.0150 - val_root_mean_squared_error: 0.0152\n",
      "Epoch 49/100\n",
      "1536/1536 [==============================] - 3s 2ms/step - loss: 0.0204 - root_mean_squared_error: 0.0215 - val_loss: 0.0165 - val_root_mean_squared_error: 0.0167\n",
      "Epoch 50/100\n",
      "1536/1536 [==============================] - 3s 2ms/step - loss: 0.0194 - root_mean_squared_error: 0.0204 - val_loss: 0.0320 - val_root_mean_squared_error: 0.0324\n",
      "Epoch 51/100\n",
      "1536/1536 [==============================] - 3s 2ms/step - loss: 0.0195 - root_mean_squared_error: 0.0204 - val_loss: 0.0159 - val_root_mean_squared_error: 0.0160\n",
      "Epoch 52/100\n",
      "1536/1536 [==============================] - 3s 2ms/step - loss: 0.0191 - root_mean_squared_error: 0.0202 - val_loss: 0.0308 - val_root_mean_squared_error: 0.0313\n",
      "Epoch 53/100\n",
      "1536/1536 [==============================] - 3s 2ms/step - loss: 0.0194 - root_mean_squared_error: 0.0205 - val_loss: 0.0234 - val_root_mean_squared_error: 0.0239\n",
      "Epoch 54/100\n",
      "1536/1536 [==============================] - 3s 2ms/step - loss: 0.0186 - root_mean_squared_error: 0.0195 - val_loss: 0.0140 - val_root_mean_squared_error: 0.0143\n",
      "Epoch 55/100\n",
      "1536/1536 [==============================] - 3s 2ms/step - loss: 0.0186 - root_mean_squared_error: 0.0197 - val_loss: 0.0168 - val_root_mean_squared_error: 0.0174\n",
      "Epoch 56/100\n",
      "1536/1536 [==============================] - 3s 2ms/step - loss: 0.0191 - root_mean_squared_error: 0.0202 - val_loss: 0.0177 - val_root_mean_squared_error: 0.0178\n",
      "Epoch 57/100\n",
      "1536/1536 [==============================] - 3s 2ms/step - loss: 0.0183 - root_mean_squared_error: 0.0193 - val_loss: 0.0178 - val_root_mean_squared_error: 0.0185\n",
      "Epoch 58/100\n",
      "1536/1536 [==============================] - 3s 2ms/step - loss: 0.0181 - root_mean_squared_error: 0.0191 - val_loss: 0.0136 - val_root_mean_squared_error: 0.0138\n",
      "Epoch 59/100\n",
      "1536/1536 [==============================] - 3s 2ms/step - loss: 0.0181 - root_mean_squared_error: 0.0191 - val_loss: 0.0183 - val_root_mean_squared_error: 0.0190\n",
      "Epoch 60/100\n",
      "1536/1536 [==============================] - 3s 2ms/step - loss: 0.0180 - root_mean_squared_error: 0.0191 - val_loss: 0.0223 - val_root_mean_squared_error: 0.0225\n",
      "Epoch 61/100\n",
      "1536/1536 [==============================] - 3s 2ms/step - loss: 0.0186 - root_mean_squared_error: 0.0198 - val_loss: 0.0137 - val_root_mean_squared_error: 0.0140\n",
      "Epoch 62/100\n",
      "1536/1536 [==============================] - 3s 2ms/step - loss: 0.0174 - root_mean_squared_error: 0.0184 - val_loss: 0.0312 - val_root_mean_squared_error: 0.0315\n",
      "Epoch 63/100\n",
      "1536/1536 [==============================] - 3s 2ms/step - loss: 0.0188 - root_mean_squared_error: 0.0200 - val_loss: 0.0240 - val_root_mean_squared_error: 0.0242\n",
      "Epoch 64/100\n",
      "1536/1536 [==============================] - 3s 2ms/step - loss: 0.0182 - root_mean_squared_error: 0.0193 - val_loss: 0.0303 - val_root_mean_squared_error: 0.0306\n",
      "Epoch 65/100\n",
      "1536/1536 [==============================] - 3s 2ms/step - loss: 0.0179 - root_mean_squared_error: 0.0189 - val_loss: 0.0280 - val_root_mean_squared_error: 0.0285\n",
      "Epoch 66/100\n",
      "1536/1536 [==============================] - 3s 2ms/step - loss: 0.0176 - root_mean_squared_error: 0.0186 - val_loss: 0.0187 - val_root_mean_squared_error: 0.0193\n",
      "Epoch 67/100\n",
      "1536/1536 [==============================] - 3s 2ms/step - loss: 0.0180 - root_mean_squared_error: 0.0191 - val_loss: 0.0171 - val_root_mean_squared_error: 0.0176\n",
      "Epoch 68/100\n",
      "1536/1536 [==============================] - 3s 2ms/step - loss: 0.0178 - root_mean_squared_error: 0.0188 - val_loss: 0.0138 - val_root_mean_squared_error: 0.0140\n",
      "Epoch 69/100\n",
      "1536/1536 [==============================] - 3s 2ms/step - loss: 0.0174 - root_mean_squared_error: 0.0184 - val_loss: 0.0161 - val_root_mean_squared_error: 0.0165\n",
      "Epoch 70/100\n",
      "1536/1536 [==============================] - 3s 2ms/step - loss: 0.0177 - root_mean_squared_error: 0.0188 - val_loss: 0.0131 - val_root_mean_squared_error: 0.0132\n",
      "Epoch 71/100\n",
      "1536/1536 [==============================] - 3s 2ms/step - loss: 0.0172 - root_mean_squared_error: 0.0183 - val_loss: 0.0244 - val_root_mean_squared_error: 0.0246\n",
      "Epoch 72/100\n",
      "1536/1536 [==============================] - 3s 2ms/step - loss: 0.0173 - root_mean_squared_error: 0.0182 - val_loss: 0.0267 - val_root_mean_squared_error: 0.0270\n",
      "Epoch 73/100\n",
      "1536/1536 [==============================] - 3s 2ms/step - loss: 0.0174 - root_mean_squared_error: 0.0184 - val_loss: 0.0368 - val_root_mean_squared_error: 0.0372\n",
      "Epoch 74/100\n",
      "1536/1536 [==============================] - 3s 2ms/step - loss: 0.0173 - root_mean_squared_error: 0.0184 - val_loss: 0.0155 - val_root_mean_squared_error: 0.0157\n",
      "Epoch 75/100\n",
      "1536/1536 [==============================] - 3s 2ms/step - loss: 0.0167 - root_mean_squared_error: 0.0177 - val_loss: 0.0382 - val_root_mean_squared_error: 0.0385\n",
      "Epoch 76/100\n",
      "1536/1536 [==============================] - 3s 2ms/step - loss: 0.0169 - root_mean_squared_error: 0.0180 - val_loss: 0.0228 - val_root_mean_squared_error: 0.0231\n",
      "Epoch 77/100\n",
      "1536/1536 [==============================] - 3s 2ms/step - loss: 0.0172 - root_mean_squared_error: 0.0182 - val_loss: 0.0313 - val_root_mean_squared_error: 0.0315\n",
      "Epoch 78/100\n",
      "1536/1536 [==============================] - 3s 2ms/step - loss: 0.0172 - root_mean_squared_error: 0.0183 - val_loss: 0.0146 - val_root_mean_squared_error: 0.0147\n",
      "Epoch 79/100\n",
      "1536/1536 [==============================] - 3s 2ms/step - loss: 0.0177 - root_mean_squared_error: 0.0188 - val_loss: 0.0143 - val_root_mean_squared_error: 0.0144\n",
      "Epoch 80/100\n",
      "1536/1536 [==============================] - 3s 2ms/step - loss: 0.0175 - root_mean_squared_error: 0.0187 - val_loss: 0.0129 - val_root_mean_squared_error: 0.0131\n",
      "Epoch 81/100\n",
      "1536/1536 [==============================] - 3s 2ms/step - loss: 0.0175 - root_mean_squared_error: 0.0186 - val_loss: 0.0184 - val_root_mean_squared_error: 0.0186\n",
      "Epoch 82/100\n",
      "1536/1536 [==============================] - 3s 2ms/step - loss: 0.0173 - root_mean_squared_error: 0.0183 - val_loss: 0.0302 - val_root_mean_squared_error: 0.0304\n",
      "Epoch 83/100\n",
      "1536/1536 [==============================] - 3s 2ms/step - loss: 0.0171 - root_mean_squared_error: 0.0181 - val_loss: 0.0201 - val_root_mean_squared_error: 0.0207\n",
      "Epoch 84/100\n",
      "1536/1536 [==============================] - 3s 2ms/step - loss: 0.0173 - root_mean_squared_error: 0.0184 - val_loss: 0.0186 - val_root_mean_squared_error: 0.0192\n",
      "Epoch 85/100\n",
      "1536/1536 [==============================] - 3s 2ms/step - loss: 0.0173 - root_mean_squared_error: 0.0183 - val_loss: 0.0197 - val_root_mean_squared_error: 0.0199\n",
      "Epoch 86/100\n",
      "1536/1536 [==============================] - 3s 2ms/step - loss: 0.0171 - root_mean_squared_error: 0.0182 - val_loss: 0.0289 - val_root_mean_squared_error: 0.0291\n",
      "Epoch 87/100\n",
      "1536/1536 [==============================] - 3s 2ms/step - loss: 0.0174 - root_mean_squared_error: 0.0184 - val_loss: 0.0194 - val_root_mean_squared_error: 0.0196\n",
      "Epoch 88/100\n",
      "1536/1536 [==============================] - 3s 2ms/step - loss: 0.0168 - root_mean_squared_error: 0.0178 - val_loss: 0.0215 - val_root_mean_squared_error: 0.0221\n",
      "Epoch 89/100\n",
      "1536/1536 [==============================] - 3s 2ms/step - loss: 0.0170 - root_mean_squared_error: 0.0181 - val_loss: 0.0151 - val_root_mean_squared_error: 0.0152\n",
      "Epoch 90/100\n",
      "1536/1536 [==============================] - 3s 2ms/step - loss: 0.0169 - root_mean_squared_error: 0.0179 - val_loss: 0.0149 - val_root_mean_squared_error: 0.0155\n",
      "Epoch 91/100\n",
      "1536/1536 [==============================] - 3s 2ms/step - loss: 0.0164 - root_mean_squared_error: 0.0174 - val_loss: 0.0139 - val_root_mean_squared_error: 0.0142\n",
      "Epoch 92/100\n",
      "1536/1536 [==============================] - 3s 2ms/step - loss: 0.0168 - root_mean_squared_error: 0.0178 - val_loss: 0.0363 - val_root_mean_squared_error: 0.0366\n",
      "Epoch 93/100\n",
      "1536/1536 [==============================] - 3s 2ms/step - loss: 0.0173 - root_mean_squared_error: 0.0184 - val_loss: 0.0343 - val_root_mean_squared_error: 0.0346\n",
      "Epoch 94/100\n",
      "1536/1536 [==============================] - 3s 2ms/step - loss: 0.0164 - root_mean_squared_error: 0.0173 - val_loss: 0.0164 - val_root_mean_squared_error: 0.0165\n",
      "Epoch 95/100\n",
      "1536/1536 [==============================] - 3s 2ms/step - loss: 0.0171 - root_mean_squared_error: 0.0182 - val_loss: 0.0134 - val_root_mean_squared_error: 0.0136\n",
      "Epoch 96/100\n",
      "1536/1536 [==============================] - 3s 2ms/step - loss: 0.0166 - root_mean_squared_error: 0.0176 - val_loss: 0.0275 - val_root_mean_squared_error: 0.0280\n",
      "Epoch 97/100\n",
      "1536/1536 [==============================] - 3s 2ms/step - loss: 0.0164 - root_mean_squared_error: 0.0172 - val_loss: 0.0214 - val_root_mean_squared_error: 0.0219\n",
      "Epoch 98/100\n",
      "1536/1536 [==============================] - 3s 2ms/step - loss: 0.0165 - root_mean_squared_error: 0.0175 - val_loss: 0.0142 - val_root_mean_squared_error: 0.0142\n",
      "Epoch 99/100\n",
      "1536/1536 [==============================] - 3s 2ms/step - loss: 0.0168 - root_mean_squared_error: 0.0179 - val_loss: 0.0288 - val_root_mean_squared_error: 0.0292\n",
      "Epoch 100/100\n",
      "1536/1536 [==============================] - 3s 2ms/step - loss: 0.0166 - root_mean_squared_error: 0.0176 - val_loss: 0.0156 - val_root_mean_squared_error: 0.0162\n"
     ]
    }
   ],
   "source": [
    "history = model.fit(X, y, epochs=100, validation_split=0.2, batch_size=10  )"
   ]
  },
  {
   "cell_type": "code",
   "execution_count": 21,
   "metadata": {
    "colab": {
     "base_uri": "https://localhost:8080/",
     "height": 295
    },
    "id": "RpDv2ij8zrk8",
    "outputId": "686bb70c-9824-470b-d212-92cde994dae9"
   },
   "outputs": [
    {
     "data": {
      "image/png": "[encoded data removed]",
      "text/plain": [
       "<Figure size 432x288 with 1 Axes>"
      ]
     },
     "metadata": {
      "needs_background": "light",
      "tags": []
     },
     "output_type": "display_data"
    }
   ],
   "source": [
    "# summarize history for loss\n",
    "plt.plot(history.history['loss'])\n",
    "plt.plot(history.history['root_mean_squared_error'])\n",
    "plt.title('model loss')\n",
    "plt.ylabel('loss')\n",
    "plt.xlabel('epoch')\n",
    "plt.legend(['train', 'test'], loc='upper left')\n",
    "plt.show()\n"
   ]
  },
  {
   "cell_type": "code",
   "execution_count": 22,
   "metadata": {
    "colab": {
     "base_uri": "https://localhost:8080/"
    },
    "id": "meqJGJ6U0K9H",
    "outputId": "d1171863-b7e2-4aef-c121-7ae7bb09fc6c"
   },
   "outputs": [
    {
     "name": "stdout",
     "output_type": "stream",
     "text": [
      "Epoch 1/300\n",
      "1536/1536 [==============================] - 3s 2ms/step - loss: 0.0166 - root_mean_squared_error: 0.0175 - val_loss: 0.0159 - val_root_mean_squared_error: 0.0161\n",
      "Epoch 2/300\n",
      "1536/1536 [==============================] - 3s 2ms/step - loss: 0.0162 - root_mean_squared_error: 0.0171 - val_loss: 0.0389 - val_root_mean_squared_error: 0.0392\n",
      "Epoch 3/300\n",
      "1536/1536 [==============================] - 3s 2ms/step - loss: 0.0168 - root_mean_squared_error: 0.0178 - val_loss: 0.0232 - val_root_mean_squared_error: 0.0235\n",
      "Epoch 4/300\n",
      "1536/1536 [==============================] - 3s 2ms/step - loss: 0.0169 - root_mean_squared_error: 0.0179 - val_loss: 0.0202 - val_root_mean_squared_error: 0.0208\n",
      "Epoch 5/300\n",
      "1536/1536 [==============================] - 3s 2ms/step - loss: 0.0169 - root_mean_squared_error: 0.0180 - val_loss: 0.0142 - val_root_mean_squared_error: 0.0143\n",
      "Epoch 6/300\n",
      "1536/1536 [==============================] - 3s 2ms/step - loss: 0.0170 - root_mean_squared_error: 0.0180 - val_loss: 0.0149 - val_root_mean_squared_error: 0.0155\n",
      "Epoch 7/300\n",
      "1536/1536 [==============================] - 3s 2ms/step - loss: 0.0166 - root_mean_squared_error: 0.0177 - val_loss: 0.0156 - val_root_mean_squared_error: 0.0157\n",
      "Epoch 8/300\n",
      "1536/1536 [==============================] - 3s 2ms/step - loss: 0.0163 - root_mean_squared_error: 0.0173 - val_loss: 0.0131 - val_root_mean_squared_error: 0.0133\n",
      "Epoch 9/300\n",
      "1536/1536 [==============================] - 3s 2ms/step - loss: 0.0166 - root_mean_squared_error: 0.0175 - val_loss: 0.0164 - val_root_mean_squared_error: 0.0166\n",
      "Epoch 10/300\n",
      "1536/1536 [==============================] - 3s 2ms/step - loss: 0.0164 - root_mean_squared_error: 0.0173 - val_loss: 0.0157 - val_root_mean_squared_error: 0.0163\n",
      "Epoch 11/300\n",
      "1536/1536 [==============================] - 3s 2ms/step - loss: 0.0172 - root_mean_squared_error: 0.0184 - val_loss: 0.0131 - val_root_mean_squared_error: 0.0132\n",
      "Epoch 12/300\n",
      "1536/1536 [==============================] - 3s 2ms/step - loss: 0.0169 - root_mean_squared_error: 0.0178 - val_loss: 0.0287 - val_root_mean_squared_error: 0.0289\n",
      "Epoch 13/300\n",
      "1536/1536 [==============================] - 3s 2ms/step - loss: 0.0159 - root_mean_squared_error: 0.0168 - val_loss: 0.0149 - val_root_mean_squared_error: 0.0155\n",
      "Epoch 14/300\n",
      "1536/1536 [==============================] - 3s 2ms/step - loss: 0.0165 - root_mean_squared_error: 0.0175 - val_loss: 0.0132 - val_root_mean_squared_error: 0.0135\n",
      "Epoch 15/300\n",
      "1536/1536 [==============================] - 3s 2ms/step - loss: 0.0160 - root_mean_squared_error: 0.0169 - val_loss: 0.0159 - val_root_mean_squared_error: 0.0160\n",
      "Epoch 16/300\n",
      "1536/1536 [==============================] - 3s 2ms/step - loss: 0.0173 - root_mean_squared_error: 0.0185 - val_loss: 0.0163 - val_root_mean_squared_error: 0.0169\n",
      "Epoch 17/300\n",
      "1536/1536 [==============================] - 3s 2ms/step - loss: 0.0164 - root_mean_squared_error: 0.0174 - val_loss: 0.0147 - val_root_mean_squared_error: 0.0153\n",
      "Epoch 18/300\n",
      "1536/1536 [==============================] - 3s 2ms/step - loss: 0.0165 - root_mean_squared_error: 0.0175 - val_loss: 0.0167 - val_root_mean_squared_error: 0.0174\n",
      "Epoch 19/300\n",
      "1536/1536 [==============================] - 3s 2ms/step - loss: 0.0162 - root_mean_squared_error: 0.0172 - val_loss: 0.0139 - val_root_mean_squared_error: 0.0142\n",
      "Epoch 20/300\n",
      "1536/1536 [==============================] - 3s 2ms/step - loss: 0.0166 - root_mean_squared_error: 0.0176 - val_loss: 0.0177 - val_root_mean_squared_error: 0.0183\n",
      "Epoch 21/300\n",
      "1536/1536 [==============================] - 3s 2ms/step - loss: 0.0169 - root_mean_squared_error: 0.0180 - val_loss: 0.0209 - val_root_mean_squared_error: 0.0211\n",
      "Epoch 22/300\n",
      "1536/1536 [==============================] - 3s 2ms/step - loss: 0.0161 - root_mean_squared_error: 0.0171 - val_loss: 0.0140 - val_root_mean_squared_error: 0.0141\n",
      "Epoch 23/300\n",
      "1536/1536 [==============================] - 3s 2ms/step - loss: 0.0161 - root_mean_squared_error: 0.0170 - val_loss: 0.0137 - val_root_mean_squared_error: 0.0138\n",
      "Epoch 24/300\n",
      "1536/1536 [==============================] - 3s 2ms/step - loss: 0.0174 - root_mean_squared_error: 0.0185 - val_loss: 0.0246 - val_root_mean_squared_error: 0.0252\n",
      "Epoch 25/300\n",
      "1536/1536 [==============================] - 3s 2ms/step - loss: 0.0160 - root_mean_squared_error: 0.0168 - val_loss: 0.0147 - val_root_mean_squared_error: 0.0150\n",
      "Epoch 26/300\n",
      "1536/1536 [==============================] - 3s 2ms/step - loss: 0.0165 - root_mean_squared_error: 0.0175 - val_loss: 0.0191 - val_root_mean_squared_error: 0.0197\n",
      "Epoch 27/300\n",
      "1536/1536 [==============================] - 3s 2ms/step - loss: 0.0159 - root_mean_squared_error: 0.0168 - val_loss: 0.0303 - val_root_mean_squared_error: 0.0305\n",
      "Epoch 28/300\n",
      "1536/1536 [==============================] - 3s 2ms/step - loss: 0.0162 - root_mean_squared_error: 0.0171 - val_loss: 0.0207 - val_root_mean_squared_error: 0.0213\n",
      "Epoch 29/300\n",
      "1536/1536 [==============================] - 3s 2ms/step - loss: 0.0161 - root_mean_squared_error: 0.0171 - val_loss: 0.0289 - val_root_mean_squared_error: 0.0294\n",
      "Epoch 30/300\n",
      "1536/1536 [==============================] - 3s 2ms/step - loss: 0.0159 - root_mean_squared_error: 0.0169 - val_loss: 0.0131 - val_root_mean_squared_error: 0.0133\n",
      "Epoch 31/300\n",
      "1536/1536 [==============================] - 3s 2ms/step - loss: 0.0161 - root_mean_squared_error: 0.0171 - val_loss: 0.0139 - val_root_mean_squared_error: 0.0142\n",
      "Epoch 32/300\n",
      "1536/1536 [==============================] - 3s 2ms/step - loss: 0.0159 - root_mean_squared_error: 0.0169 - val_loss: 0.0161 - val_root_mean_squared_error: 0.0168\n",
      "Epoch 33/300\n",
      "1536/1536 [==============================] - 3s 2ms/step - loss: 0.0159 - root_mean_squared_error: 0.0168 - val_loss: 0.0141 - val_root_mean_squared_error: 0.0146\n",
      "Epoch 34/300\n",
      "1536/1536 [==============================] - 3s 2ms/step - loss: 0.0158 - root_mean_squared_error: 0.0168 - val_loss: 0.0455 - val_root_mean_squared_error: 0.0458\n",
      "Epoch 35/300\n",
      "1536/1536 [==============================] - 3s 2ms/step - loss: 0.0165 - root_mean_squared_error: 0.0175 - val_loss: 0.0184 - val_root_mean_squared_error: 0.0190\n",
      "Epoch 36/300\n",
      "1536/1536 [==============================] - 3s 2ms/step - loss: 0.0160 - root_mean_squared_error: 0.0170 - val_loss: 0.0625 - val_root_mean_squared_error: 0.0627\n",
      "Epoch 37/300\n",
      "1536/1536 [==============================] - 3s 2ms/step - loss: 0.0164 - root_mean_squared_error: 0.0174 - val_loss: 0.0155 - val_root_mean_squared_error: 0.0156\n",
      "Epoch 38/300\n",
      "1536/1536 [==============================] - 3s 2ms/step - loss: 0.0161 - root_mean_squared_error: 0.0171 - val_loss: 0.0146 - val_root_mean_squared_error: 0.0149\n",
      "Epoch 39/300\n",
      "1536/1536 [==============================] - 3s 2ms/step - loss: 0.0161 - root_mean_squared_error: 0.0171 - val_loss: 0.0162 - val_root_mean_squared_error: 0.0163\n",
      "Epoch 40/300\n",
      "1536/1536 [==============================] - 3s 2ms/step - loss: 0.0163 - root_mean_squared_error: 0.0174 - val_loss: 0.0146 - val_root_mean_squared_error: 0.0146\n",
      "Epoch 41/300\n",
      "1536/1536 [==============================] - 3s 2ms/step - loss: 0.0165 - root_mean_squared_error: 0.0176 - val_loss: 0.0189 - val_root_mean_squared_error: 0.0190\n",
      "Epoch 42/300\n",
      "1536/1536 [==============================] - 3s 2ms/step - loss: 0.0162 - root_mean_squared_error: 0.0172 - val_loss: 0.0201 - val_root_mean_squared_error: 0.0202\n",
      "Epoch 43/300\n",
      "1536/1536 [==============================] - 3s 2ms/step - loss: 0.0161 - root_mean_squared_error: 0.0171 - val_loss: 0.0310 - val_root_mean_squared_error: 0.0314\n",
      "Epoch 44/300\n",
      "1536/1536 [==============================] - 3s 2ms/step - loss: 0.0158 - root_mean_squared_error: 0.0167 - val_loss: 0.0152 - val_root_mean_squared_error: 0.0152\n",
      "Epoch 45/300\n",
      "1536/1536 [==============================] - 3s 2ms/step - loss: 0.0164 - root_mean_squared_error: 0.0174 - val_loss: 0.0142 - val_root_mean_squared_error: 0.0145\n",
      "Epoch 46/300\n",
      "1536/1536 [==============================] - 3s 2ms/step - loss: 0.0155 - root_mean_squared_error: 0.0164 - val_loss: 0.0151 - val_root_mean_squared_error: 0.0152\n",
      "Epoch 47/300\n",
      "1536/1536 [==============================] - 3s 2ms/step - loss: 0.0152 - root_mean_squared_error: 0.0161 - val_loss: 0.0221 - val_root_mean_squared_error: 0.0223\n",
      "Epoch 48/300\n",
      "1536/1536 [==============================] - 3s 2ms/step - loss: 0.0155 - root_mean_squared_error: 0.0163 - val_loss: 0.0180 - val_root_mean_squared_error: 0.0182\n",
      "Epoch 49/300\n",
      "1536/1536 [==============================] - 3s 2ms/step - loss: 0.0159 - root_mean_squared_error: 0.0168 - val_loss: 0.0251 - val_root_mean_squared_error: 0.0257\n",
      "Epoch 50/300\n",
      "1536/1536 [==============================] - 3s 2ms/step - loss: 0.0154 - root_mean_squared_error: 0.0163 - val_loss: 0.0129 - val_root_mean_squared_error: 0.0132\n",
      "Epoch 51/300\n",
      "1536/1536 [==============================] - 3s 2ms/step - loss: 0.0161 - root_mean_squared_error: 0.0172 - val_loss: 0.0223 - val_root_mean_squared_error: 0.0225\n",
      "Epoch 52/300\n",
      "1536/1536 [==============================] - 3s 2ms/step - loss: 0.0159 - root_mean_squared_error: 0.0169 - val_loss: 0.0142 - val_root_mean_squared_error: 0.0147\n",
      "Epoch 53/300\n",
      "1536/1536 [==============================] - 3s 2ms/step - loss: 0.0160 - root_mean_squared_error: 0.0169 - val_loss: 0.0137 - val_root_mean_squared_error: 0.0138\n",
      "Epoch 54/300\n",
      "1536/1536 [==============================] - 3s 2ms/step - loss: 0.0150 - root_mean_squared_error: 0.0159 - val_loss: 0.0224 - val_root_mean_squared_error: 0.0229\n",
      "Epoch 55/300\n",
      "1536/1536 [==============================] - 3s 2ms/step - loss: 0.0160 - root_mean_squared_error: 0.0170 - val_loss: 0.0192 - val_root_mean_squared_error: 0.0194\n",
      "Epoch 56/300\n",
      "1536/1536 [==============================] - 3s 2ms/step - loss: 0.0155 - root_mean_squared_error: 0.0164 - val_loss: 0.0182 - val_root_mean_squared_error: 0.0189\n",
      "Epoch 57/300\n",
      "1536/1536 [==============================] - 3s 2ms/step - loss: 0.0159 - root_mean_squared_error: 0.0169 - val_loss: 0.0191 - val_root_mean_squared_error: 0.0193\n",
      "Epoch 58/300\n",
      "1536/1536 [==============================] - 3s 2ms/step - loss: 0.0156 - root_mean_squared_error: 0.0166 - val_loss: 0.0267 - val_root_mean_squared_error: 0.0270\n",
      "Epoch 59/300\n",
      "1536/1536 [==============================] - 3s 2ms/step - loss: 0.0151 - root_mean_squared_error: 0.0159 - val_loss: 0.0189 - val_root_mean_squared_error: 0.0191\n",
      "Epoch 60/300\n",
      "1536/1536 [==============================] - 3s 2ms/step - loss: 0.0161 - root_mean_squared_error: 0.0172 - val_loss: 0.0137 - val_root_mean_squared_error: 0.0139\n",
      "Epoch 61/300\n",
      "1536/1536 [==============================] - 3s 2ms/step - loss: 0.0151 - root_mean_squared_error: 0.0160 - val_loss: 0.0289 - val_root_mean_squared_error: 0.0293\n",
      "Epoch 62/300\n",
      "1536/1536 [==============================] - 3s 2ms/step - loss: 0.0158 - root_mean_squared_error: 0.0166 - val_loss: 0.0143 - val_root_mean_squared_error: 0.0144\n",
      "Epoch 63/300\n",
      "1536/1536 [==============================] - 3s 2ms/step - loss: 0.0156 - root_mean_squared_error: 0.0166 - val_loss: 0.0183 - val_root_mean_squared_error: 0.0184\n",
      "Epoch 64/300\n",
      "1536/1536 [==============================] - 3s 2ms/step - loss: 0.0160 - root_mean_squared_error: 0.0169 - val_loss: 0.0169 - val_root_mean_squared_error: 0.0175\n",
      "Epoch 65/300\n",
      "1536/1536 [==============================] - 3s 2ms/step - loss: 0.0149 - root_mean_squared_error: 0.0156 - val_loss: 0.0129 - val_root_mean_squared_error: 0.0132\n",
      "Epoch 66/300\n",
      "1536/1536 [==============================] - 3s 2ms/step - loss: 0.0153 - root_mean_squared_error: 0.0161 - val_loss: 0.0148 - val_root_mean_squared_error: 0.0148\n",
      "Epoch 67/300\n",
      "1536/1536 [==============================] - 3s 2ms/step - loss: 0.0156 - root_mean_squared_error: 0.0166 - val_loss: 0.0159 - val_root_mean_squared_error: 0.0160\n",
      "Epoch 68/300\n",
      "1536/1536 [==============================] - 3s 2ms/step - loss: 0.0153 - root_mean_squared_error: 0.0162 - val_loss: 0.0152 - val_root_mean_squared_error: 0.0158\n",
      "Epoch 69/300\n",
      "1536/1536 [==============================] - 3s 2ms/step - loss: 0.0158 - root_mean_squared_error: 0.0168 - val_loss: 0.0192 - val_root_mean_squared_error: 0.0198\n",
      "Epoch 70/300\n",
      "1536/1536 [==============================] - 3s 2ms/step - loss: 0.0157 - root_mean_squared_error: 0.0166 - val_loss: 0.0183 - val_root_mean_squared_error: 0.0189\n",
      "Epoch 71/300\n",
      "1536/1536 [==============================] - 3s 2ms/step - loss: 0.0156 - root_mean_squared_error: 0.0165 - val_loss: 0.0363 - val_root_mean_squared_error: 0.0365\n",
      "Epoch 72/300\n",
      "1536/1536 [==============================] - 3s 2ms/step - loss: 0.0154 - root_mean_squared_error: 0.0164 - val_loss: 0.0141 - val_root_mean_squared_error: 0.0142\n",
      "Epoch 73/300\n",
      "1536/1536 [==============================] - 3s 2ms/step - loss: 0.0156 - root_mean_squared_error: 0.0165 - val_loss: 0.0218 - val_root_mean_squared_error: 0.0224\n",
      "Epoch 74/300\n",
      "1536/1536 [==============================] - 3s 2ms/step - loss: 0.0157 - root_mean_squared_error: 0.0166 - val_loss: 0.0129 - val_root_mean_squared_error: 0.0130\n",
      "Epoch 75/300\n",
      "1536/1536 [==============================] - 3s 2ms/step - loss: 0.0157 - root_mean_squared_error: 0.0167 - val_loss: 0.0138 - val_root_mean_squared_error: 0.0139\n",
      "Epoch 76/300\n",
      "1536/1536 [==============================] - 3s 2ms/step - loss: 0.0154 - root_mean_squared_error: 0.0163 - val_loss: 0.0145 - val_root_mean_squared_error: 0.0145\n",
      "Epoch 77/300\n",
      "1536/1536 [==============================] - 3s 2ms/step - loss: 0.0151 - root_mean_squared_error: 0.0160 - val_loss: 0.0144 - val_root_mean_squared_error: 0.0145\n",
      "Epoch 78/300\n",
      "1536/1536 [==============================] - 4s 2ms/step - loss: 0.0159 - root_mean_squared_error: 0.0169 - val_loss: 0.0141 - val_root_mean_squared_error: 0.0147\n",
      "Epoch 79/300\n",
      "1536/1536 [==============================] - 4s 2ms/step - loss: 0.0152 - root_mean_squared_error: 0.0160 - val_loss: 0.0163 - val_root_mean_squared_error: 0.0169\n",
      "Epoch 80/300\n",
      "1536/1536 [==============================] - 4s 2ms/step - loss: 0.0154 - root_mean_squared_error: 0.0162 - val_loss: 0.0130 - val_root_mean_squared_error: 0.0131\n",
      "Epoch 81/300\n",
      "1536/1536 [==============================] - 3s 2ms/step - loss: 0.0152 - root_mean_squared_error: 0.0162 - val_loss: 0.0130 - val_root_mean_squared_error: 0.0132\n",
      "Epoch 82/300\n",
      "1536/1536 [==============================] - 3s 2ms/step - loss: 0.0150 - root_mean_squared_error: 0.0158 - val_loss: 0.0168 - val_root_mean_squared_error: 0.0169\n",
      "Epoch 83/300\n",
      "1536/1536 [==============================] - 3s 2ms/step - loss: 0.0156 - root_mean_squared_error: 0.0166 - val_loss: 0.0227 - val_root_mean_squared_error: 0.0232\n",
      "Epoch 84/300\n",
      "1536/1536 [==============================] - 3s 2ms/step - loss: 0.0158 - root_mean_squared_error: 0.0168 - val_loss: 0.0143 - val_root_mean_squared_error: 0.0147\n",
      "Epoch 85/300\n",
      "1536/1536 [==============================] - 3s 2ms/step - loss: 0.0156 - root_mean_squared_error: 0.0165 - val_loss: 0.0129 - val_root_mean_squared_error: 0.0132\n",
      "Epoch 86/300\n",
      "1536/1536 [==============================] - 3s 2ms/step - loss: 0.0152 - root_mean_squared_error: 0.0161 - val_loss: 0.0128 - val_root_mean_squared_error: 0.0129\n",
      "Epoch 87/300\n",
      "1536/1536 [==============================] - 3s 2ms/step - loss: 0.0162 - root_mean_squared_error: 0.0171 - val_loss: 0.0182 - val_root_mean_squared_error: 0.0183\n",
      "Epoch 88/300\n",
      "1536/1536 [==============================] - 3s 2ms/step - loss: 0.0155 - root_mean_squared_error: 0.0164 - val_loss: 0.0327 - val_root_mean_squared_error: 0.0331\n",
      "Epoch 89/300\n",
      "1536/1536 [==============================] - 3s 2ms/step - loss: 0.0156 - root_mean_squared_error: 0.0166 - val_loss: 0.0345 - val_root_mean_squared_error: 0.0349\n",
      "Epoch 90/300\n",
      "1536/1536 [==============================] - 3s 2ms/step - loss: 0.0158 - root_mean_squared_error: 0.0168 - val_loss: 0.0201 - val_root_mean_squared_error: 0.0207\n",
      "Epoch 91/300\n",
      "1536/1536 [==============================] - 3s 2ms/step - loss: 0.0157 - root_mean_squared_error: 0.0166 - val_loss: 0.0392 - val_root_mean_squared_error: 0.0396\n",
      "Epoch 92/300\n",
      "1536/1536 [==============================] - 3s 2ms/step - loss: 0.0155 - root_mean_squared_error: 0.0163 - val_loss: 0.0137 - val_root_mean_squared_error: 0.0138\n",
      "Epoch 93/300\n",
      "1536/1536 [==============================] - 3s 2ms/step - loss: 0.0154 - root_mean_squared_error: 0.0164 - val_loss: 0.0129 - val_root_mean_squared_error: 0.0131\n",
      "Epoch 94/300\n",
      "1536/1536 [==============================] - 3s 2ms/step - loss: 0.0153 - root_mean_squared_error: 0.0161 - val_loss: 0.0130 - val_root_mean_squared_error: 0.0132\n",
      "Epoch 95/300\n",
      "1536/1536 [==============================] - 3s 2ms/step - loss: 0.0154 - root_mean_squared_error: 0.0162 - val_loss: 0.0194 - val_root_mean_squared_error: 0.0196\n",
      "Epoch 96/300\n",
      "1536/1536 [==============================] - 3s 2ms/step - loss: 0.0153 - root_mean_squared_error: 0.0162 - val_loss: 0.0170 - val_root_mean_squared_error: 0.0176\n",
      "Epoch 97/300\n",
      "1536/1536 [==============================] - 3s 2ms/step - loss: 0.0148 - root_mean_squared_error: 0.0157 - val_loss: 0.0221 - val_root_mean_squared_error: 0.0227\n",
      "Epoch 98/300\n",
      "1536/1536 [==============================] - 3s 2ms/step - loss: 0.0157 - root_mean_squared_error: 0.0168 - val_loss: 0.0137 - val_root_mean_squared_error: 0.0138\n",
      "Epoch 99/300\n",
      "1536/1536 [==============================] - 3s 2ms/step - loss: 0.0154 - root_mean_squared_error: 0.0163 - val_loss: 0.0176 - val_root_mean_squared_error: 0.0177\n",
      "Epoch 100/300\n",
      "1536/1536 [==============================] - 3s 2ms/step - loss: 0.0155 - root_mean_squared_error: 0.0164 - val_loss: 0.0162 - val_root_mean_squared_error: 0.0169\n",
      "Epoch 101/300\n",
      "1536/1536 [==============================] - 3s 2ms/step - loss: 0.0151 - root_mean_squared_error: 0.0160 - val_loss: 0.0132 - val_root_mean_squared_error: 0.0132\n",
      "Epoch 102/300\n",
      "1536/1536 [==============================] - 3s 2ms/step - loss: 0.0149 - root_mean_squared_error: 0.0158 - val_loss: 0.0150 - val_root_mean_squared_error: 0.0156\n",
      "Epoch 103/300\n",
      "1536/1536 [==============================] - 3s 2ms/step - loss: 0.0156 - root_mean_squared_error: 0.0165 - val_loss: 0.0137 - val_root_mean_squared_error: 0.0139\n",
      "Epoch 104/300\n",
      "1536/1536 [==============================] - 3s 2ms/step - loss: 0.0152 - root_mean_squared_error: 0.0161 - val_loss: 0.0253 - val_root_mean_squared_error: 0.0258\n",
      "Epoch 105/300\n",
      "1536/1536 [==============================] - 3s 2ms/step - loss: 0.0154 - root_mean_squared_error: 0.0162 - val_loss: 0.0158 - val_root_mean_squared_error: 0.0159\n",
      "Epoch 106/300\n",
      "1536/1536 [==============================] - 3s 2ms/step - loss: 0.0156 - root_mean_squared_error: 0.0167 - val_loss: 0.0167 - val_root_mean_squared_error: 0.0169\n",
      "Epoch 107/300\n",
      "1536/1536 [==============================] - 3s 2ms/step - loss: 0.0161 - root_mean_squared_error: 0.0171 - val_loss: 0.0135 - val_root_mean_squared_error: 0.0136\n",
      "Epoch 108/300\n",
      "1536/1536 [==============================] - 3s 2ms/step - loss: 0.0163 - root_mean_squared_error: 0.0173 - val_loss: 0.0450 - val_root_mean_squared_error: 0.0453\n",
      "Epoch 109/300\n",
      "1536/1536 [==============================] - 3s 2ms/step - loss: 0.0151 - root_mean_squared_error: 0.0160 - val_loss: 0.0146 - val_root_mean_squared_error: 0.0152\n",
      "Epoch 110/300\n",
      "1536/1536 [==============================] - 3s 2ms/step - loss: 0.0153 - root_mean_squared_error: 0.0161 - val_loss: 0.0256 - val_root_mean_squared_error: 0.0261\n",
      "Epoch 111/300\n",
      "1536/1536 [==============================] - 3s 2ms/step - loss: 0.0150 - root_mean_squared_error: 0.0158 - val_loss: 0.0136 - val_root_mean_squared_error: 0.0140\n",
      "Epoch 112/300\n",
      "1536/1536 [==============================] - 3s 2ms/step - loss: 0.0153 - root_mean_squared_error: 0.0162 - val_loss: 0.0227 - val_root_mean_squared_error: 0.0230\n",
      "Epoch 113/300\n",
      "1536/1536 [==============================] - 3s 2ms/step - loss: 0.0157 - root_mean_squared_error: 0.0167 - val_loss: 0.0188 - val_root_mean_squared_error: 0.0194\n",
      "Epoch 114/300\n",
      "1536/1536 [==============================] - 3s 2ms/step - loss: 0.0152 - root_mean_squared_error: 0.0160 - val_loss: 0.0238 - val_root_mean_squared_error: 0.0243\n",
      "Epoch 115/300\n",
      "1536/1536 [==============================] - 3s 2ms/step - loss: 0.0157 - root_mean_squared_error: 0.0167 - val_loss: 0.0206 - val_root_mean_squared_error: 0.0211\n",
      "Epoch 116/300\n",
      "1536/1536 [==============================] - 4s 2ms/step - loss: 0.0153 - root_mean_squared_error: 0.0162 - val_loss: 0.0133 - val_root_mean_squared_error: 0.0134\n",
      "Epoch 117/300\n",
      "1536/1536 [==============================] - 3s 2ms/step - loss: 0.0155 - root_mean_squared_error: 0.0165 - val_loss: 0.0144 - val_root_mean_squared_error: 0.0150\n",
      "Epoch 118/300\n",
      "1536/1536 [==============================] - 3s 2ms/step - loss: 0.0147 - root_mean_squared_error: 0.0154 - val_loss: 0.0198 - val_root_mean_squared_error: 0.0204\n",
      "Epoch 119/300\n",
      "1536/1536 [==============================] - 3s 2ms/step - loss: 0.0150 - root_mean_squared_error: 0.0159 - val_loss: 0.0203 - val_root_mean_squared_error: 0.0208\n",
      "Epoch 120/300\n",
      "1536/1536 [==============================] - 3s 2ms/step - loss: 0.0158 - root_mean_squared_error: 0.0170 - val_loss: 0.0129 - val_root_mean_squared_error: 0.0133\n",
      "Epoch 121/300\n",
      "1536/1536 [==============================] - 3s 2ms/step - loss: 0.0149 - root_mean_squared_error: 0.0158 - val_loss: 0.0141 - val_root_mean_squared_error: 0.0142\n",
      "Epoch 122/300\n",
      "1536/1536 [==============================] - 3s 2ms/step - loss: 0.0150 - root_mean_squared_error: 0.0158 - val_loss: 0.0259 - val_root_mean_squared_error: 0.0261\n",
      "Epoch 123/300\n",
      "1536/1536 [==============================] - 3s 2ms/step - loss: 0.0152 - root_mean_squared_error: 0.0161 - val_loss: 0.0222 - val_root_mean_squared_error: 0.0224\n",
      "Epoch 124/300\n",
      "1536/1536 [==============================] - 3s 2ms/step - loss: 0.0154 - root_mean_squared_error: 0.0163 - val_loss: 0.0152 - val_root_mean_squared_error: 0.0159\n",
      "Epoch 125/300\n",
      "1536/1536 [==============================] - 3s 2ms/step - loss: 0.0149 - root_mean_squared_error: 0.0158 - val_loss: 0.0128 - val_root_mean_squared_error: 0.0129\n",
      "Epoch 126/300\n",
      "1536/1536 [==============================] - 3s 2ms/step - loss: 0.0160 - root_mean_squared_error: 0.0169 - val_loss: 0.0126 - val_root_mean_squared_error: 0.0127\n",
      "Epoch 127/300\n",
      "1536/1536 [==============================] - 3s 2ms/step - loss: 0.0151 - root_mean_squared_error: 0.0160 - val_loss: 0.0228 - val_root_mean_squared_error: 0.0233\n",
      "Epoch 128/300\n",
      "1536/1536 [==============================] - 3s 2ms/step - loss: 0.0148 - root_mean_squared_error: 0.0156 - val_loss: 0.0126 - val_root_mean_squared_error: 0.0129\n",
      "Epoch 129/300\n",
      "1536/1536 [==============================] - 3s 2ms/step - loss: 0.0152 - root_mean_squared_error: 0.0162 - val_loss: 0.0209 - val_root_mean_squared_error: 0.0212\n",
      "Epoch 130/300\n",
      "1536/1536 [==============================] - 3s 2ms/step - loss: 0.0155 - root_mean_squared_error: 0.0164 - val_loss: 0.0149 - val_root_mean_squared_error: 0.0150\n",
      "Epoch 131/300\n",
      "1536/1536 [==============================] - 3s 2ms/step - loss: 0.0151 - root_mean_squared_error: 0.0159 - val_loss: 0.0161 - val_root_mean_squared_error: 0.0162\n",
      "Epoch 132/300\n",
      "1536/1536 [==============================] - 3s 2ms/step - loss: 0.0152 - root_mean_squared_error: 0.0161 - val_loss: 0.0255 - val_root_mean_squared_error: 0.0260\n",
      "Epoch 133/300\n",
      "1536/1536 [==============================] - 3s 2ms/step - loss: 0.0154 - root_mean_squared_error: 0.0162 - val_loss: 0.0132 - val_root_mean_squared_error: 0.0133\n",
      "Epoch 134/300\n",
      "1536/1536 [==============================] - 3s 2ms/step - loss: 0.0154 - root_mean_squared_error: 0.0162 - val_loss: 0.0148 - val_root_mean_squared_error: 0.0149\n",
      "Epoch 135/300\n",
      "1536/1536 [==============================] - 3s 2ms/step - loss: 0.0150 - root_mean_squared_error: 0.0159 - val_loss: 0.0127 - val_root_mean_squared_error: 0.0130\n",
      "Epoch 136/300\n",
      "1536/1536 [==============================] - 3s 2ms/step - loss: 0.0152 - root_mean_squared_error: 0.0161 - val_loss: 0.0138 - val_root_mean_squared_error: 0.0144\n",
      "Epoch 137/300\n",
      "1536/1536 [==============================] - 3s 2ms/step - loss: 0.0151 - root_mean_squared_error: 0.0160 - val_loss: 0.0131 - val_root_mean_squared_error: 0.0134\n",
      "Epoch 138/300\n",
      "1536/1536 [==============================] - 3s 2ms/step - loss: 0.0150 - root_mean_squared_error: 0.0159 - val_loss: 0.0128 - val_root_mean_squared_error: 0.0129\n",
      "Epoch 139/300\n",
      "1536/1536 [==============================] - 3s 2ms/step - loss: 0.0148 - root_mean_squared_error: 0.0157 - val_loss: 0.0134 - val_root_mean_squared_error: 0.0137\n",
      "Epoch 140/300\n",
      "1536/1536 [==============================] - 3s 2ms/step - loss: 0.0144 - root_mean_squared_error: 0.0152 - val_loss: 0.0136 - val_root_mean_squared_error: 0.0137\n",
      "Epoch 141/300\n",
      "1536/1536 [==============================] - 3s 2ms/step - loss: 0.0151 - root_mean_squared_error: 0.0160 - val_loss: 0.0127 - val_root_mean_squared_error: 0.0129\n",
      "Epoch 142/300\n",
      "1536/1536 [==============================] - 3s 2ms/step - loss: 0.0149 - root_mean_squared_error: 0.0158 - val_loss: 0.0131 - val_root_mean_squared_error: 0.0132\n",
      "Epoch 143/300\n",
      "1536/1536 [==============================] - 3s 2ms/step - loss: 0.0152 - root_mean_squared_error: 0.0161 - val_loss: 0.0142 - val_root_mean_squared_error: 0.0147\n",
      "Epoch 144/300\n",
      "1536/1536 [==============================] - 3s 2ms/step - loss: 0.0150 - root_mean_squared_error: 0.0159 - val_loss: 0.0184 - val_root_mean_squared_error: 0.0190\n",
      "Epoch 145/300\n",
      "1536/1536 [==============================] - 3s 2ms/step - loss: 0.0146 - root_mean_squared_error: 0.0154 - val_loss: 0.0135 - val_root_mean_squared_error: 0.0136\n",
      "Epoch 146/300\n",
      "1536/1536 [==============================] - 3s 2ms/step - loss: 0.0150 - root_mean_squared_error: 0.0159 - val_loss: 0.0278 - val_root_mean_squared_error: 0.0282\n",
      "Epoch 147/300\n",
      "1536/1536 [==============================] - 3s 2ms/step - loss: 0.0151 - root_mean_squared_error: 0.0159 - val_loss: 0.0175 - val_root_mean_squared_error: 0.0181\n",
      "Epoch 148/300\n",
      "1536/1536 [==============================] - 3s 2ms/step - loss: 0.0152 - root_mean_squared_error: 0.0160 - val_loss: 0.0139 - val_root_mean_squared_error: 0.0144\n",
      "Epoch 149/300\n",
      "1536/1536 [==============================] - 3s 2ms/step - loss: 0.0151 - root_mean_squared_error: 0.0160 - val_loss: 0.0141 - val_root_mean_squared_error: 0.0142\n",
      "Epoch 150/300\n",
      "1536/1536 [==============================] - 3s 2ms/step - loss: 0.0151 - root_mean_squared_error: 0.0160 - val_loss: 0.0131 - val_root_mean_squared_error: 0.0133\n",
      "Epoch 151/300\n",
      "1536/1536 [==============================] - 3s 2ms/step - loss: 0.0148 - root_mean_squared_error: 0.0155 - val_loss: 0.0130 - val_root_mean_squared_error: 0.0132\n",
      "Epoch 152/300\n",
      "1536/1536 [==============================] - 3s 2ms/step - loss: 0.0148 - root_mean_squared_error: 0.0157 - val_loss: 0.0417 - val_root_mean_squared_error: 0.0420\n",
      "Epoch 153/300\n",
      "1536/1536 [==============================] - 3s 2ms/step - loss: 0.0152 - root_mean_squared_error: 0.0162 - val_loss: 0.0137 - val_root_mean_squared_error: 0.0138\n",
      "Epoch 154/300\n",
      "1536/1536 [==============================] - 3s 2ms/step - loss: 0.0153 - root_mean_squared_error: 0.0163 - val_loss: 0.0134 - val_root_mean_squared_error: 0.0135\n",
      "Epoch 155/300\n",
      "1536/1536 [==============================] - 3s 2ms/step - loss: 0.0152 - root_mean_squared_error: 0.0161 - val_loss: 0.0123 - val_root_mean_squared_error: 0.0124\n",
      "Epoch 156/300\n",
      "1536/1536 [==============================] - 3s 2ms/step - loss: 0.0149 - root_mean_squared_error: 0.0157 - val_loss: 0.0135 - val_root_mean_squared_error: 0.0136\n",
      "Epoch 157/300\n",
      "1536/1536 [==============================] - 3s 2ms/step - loss: 0.0150 - root_mean_squared_error: 0.0160 - val_loss: 0.0156 - val_root_mean_squared_error: 0.0162\n",
      "Epoch 158/300\n",
      "1536/1536 [==============================] - 3s 2ms/step - loss: 0.0145 - root_mean_squared_error: 0.0152 - val_loss: 0.0245 - val_root_mean_squared_error: 0.0247\n",
      "Epoch 159/300\n",
      "1536/1536 [==============================] - 3s 2ms/step - loss: 0.0147 - root_mean_squared_error: 0.0156 - val_loss: 0.0128 - val_root_mean_squared_error: 0.0129\n",
      "Epoch 160/300\n",
      "1536/1536 [==============================] - 3s 2ms/step - loss: 0.0149 - root_mean_squared_error: 0.0158 - val_loss: 0.0191 - val_root_mean_squared_error: 0.0193\n",
      "Epoch 161/300\n",
      "1536/1536 [==============================] - 3s 2ms/step - loss: 0.0148 - root_mean_squared_error: 0.0158 - val_loss: 0.0164 - val_root_mean_squared_error: 0.0170\n",
      "Epoch 162/300\n",
      "1536/1536 [==============================] - 3s 2ms/step - loss: 0.0149 - root_mean_squared_error: 0.0159 - val_loss: 0.0160 - val_root_mean_squared_error: 0.0167\n",
      "Epoch 163/300\n",
      "1536/1536 [==============================] - 3s 2ms/step - loss: 0.0152 - root_mean_squared_error: 0.0161 - val_loss: 0.0158 - val_root_mean_squared_error: 0.0165\n",
      "Epoch 164/300\n",
      "1536/1536 [==============================] - 3s 2ms/step - loss: 0.0150 - root_mean_squared_error: 0.0159 - val_loss: 0.0148 - val_root_mean_squared_error: 0.0154\n",
      "Epoch 165/300\n",
      "1536/1536 [==============================] - 3s 2ms/step - loss: 0.0152 - root_mean_squared_error: 0.0161 - val_loss: 0.0118 - val_root_mean_squared_error: 0.0120\n",
      "Epoch 166/300\n",
      "1536/1536 [==============================] - 3s 2ms/step - loss: 0.0151 - root_mean_squared_error: 0.0160 - val_loss: 0.0156 - val_root_mean_squared_error: 0.0158\n",
      "Epoch 167/300\n",
      "1536/1536 [==============================] - 3s 2ms/step - loss: 0.0152 - root_mean_squared_error: 0.0161 - val_loss: 0.0124 - val_root_mean_squared_error: 0.0127\n",
      "Epoch 168/300\n",
      "1536/1536 [==============================] - 3s 2ms/step - loss: 0.0149 - root_mean_squared_error: 0.0158 - val_loss: 0.0153 - val_root_mean_squared_error: 0.0154\n",
      "Epoch 169/300\n",
      "1536/1536 [==============================] - 3s 2ms/step - loss: 0.0145 - root_mean_squared_error: 0.0154 - val_loss: 0.0234 - val_root_mean_squared_error: 0.0236\n",
      "Epoch 170/300\n",
      "1536/1536 [==============================] - 3s 2ms/step - loss: 0.0151 - root_mean_squared_error: 0.0160 - val_loss: 0.0179 - val_root_mean_squared_error: 0.0181\n",
      "Epoch 171/300\n",
      "1536/1536 [==============================] - 3s 2ms/step - loss: 0.0153 - root_mean_squared_error: 0.0162 - val_loss: 0.0177 - val_root_mean_squared_error: 0.0184\n",
      "Epoch 172/300\n",
      "1536/1536 [==============================] - 3s 2ms/step - loss: 0.0153 - root_mean_squared_error: 0.0162 - val_loss: 0.0140 - val_root_mean_squared_error: 0.0141\n",
      "Epoch 173/300\n",
      "1536/1536 [==============================] - 3s 2ms/step - loss: 0.0146 - root_mean_squared_error: 0.0154 - val_loss: 0.0134 - val_root_mean_squared_error: 0.0139\n",
      "Epoch 174/300\n",
      "1536/1536 [==============================] - 4s 2ms/step - loss: 0.0142 - root_mean_squared_error: 0.0149 - val_loss: 0.0236 - val_root_mean_squared_error: 0.0238\n",
      "Epoch 175/300\n",
      "1536/1536 [==============================] - 4s 2ms/step - loss: 0.0149 - root_mean_squared_error: 0.0160 - val_loss: 0.0361 - val_root_mean_squared_error: 0.0364\n",
      "Epoch 176/300\n",
      "1536/1536 [==============================] - 4s 2ms/step - loss: 0.0148 - root_mean_squared_error: 0.0157 - val_loss: 0.0126 - val_root_mean_squared_error: 0.0128\n",
      "Epoch 177/300\n",
      "1536/1536 [==============================] - 3s 2ms/step - loss: 0.0153 - root_mean_squared_error: 0.0162 - val_loss: 0.0194 - val_root_mean_squared_error: 0.0200\n",
      "Epoch 178/300\n",
      "1536/1536 [==============================] - 3s 2ms/step - loss: 0.0148 - root_mean_squared_error: 0.0157 - val_loss: 0.0131 - val_root_mean_squared_error: 0.0135\n",
      "Epoch 179/300\n",
      "1536/1536 [==============================] - 3s 2ms/step - loss: 0.0149 - root_mean_squared_error: 0.0158 - val_loss: 0.0155 - val_root_mean_squared_error: 0.0161\n",
      "Epoch 180/300\n",
      "1536/1536 [==============================] - 3s 2ms/step - loss: 0.0150 - root_mean_squared_error: 0.0159 - val_loss: 0.0393 - val_root_mean_squared_error: 0.0396\n",
      "Epoch 181/300\n",
      "1536/1536 [==============================] - 3s 2ms/step - loss: 0.0152 - root_mean_squared_error: 0.0161 - val_loss: 0.0135 - val_root_mean_squared_error: 0.0136\n",
      "Epoch 182/300\n",
      "1536/1536 [==============================] - 3s 2ms/step - loss: 0.0149 - root_mean_squared_error: 0.0159 - val_loss: 0.0329 - val_root_mean_squared_error: 0.0331\n",
      "Epoch 183/300\n",
      "1536/1536 [==============================] - 3s 2ms/step - loss: 0.0147 - root_mean_squared_error: 0.0156 - val_loss: 0.0248 - val_root_mean_squared_error: 0.0253\n",
      "Epoch 184/300\n",
      "1536/1536 [==============================] - 3s 2ms/step - loss: 0.0144 - root_mean_squared_error: 0.0151 - val_loss: 0.0137 - val_root_mean_squared_error: 0.0142\n",
      "Epoch 185/300\n",
      "1536/1536 [==============================] - 3s 2ms/step - loss: 0.0148 - root_mean_squared_error: 0.0157 - val_loss: 0.0131 - val_root_mean_squared_error: 0.0131\n",
      "Epoch 186/300\n",
      "1536/1536 [==============================] - 3s 2ms/step - loss: 0.0142 - root_mean_squared_error: 0.0151 - val_loss: 0.0274 - val_root_mean_squared_error: 0.0276\n",
      "Epoch 187/300\n",
      "1536/1536 [==============================] - 3s 2ms/step - loss: 0.0152 - root_mean_squared_error: 0.0160 - val_loss: 0.0216 - val_root_mean_squared_error: 0.0221\n",
      "Epoch 188/300\n",
      "1536/1536 [==============================] - 3s 2ms/step - loss: 0.0147 - root_mean_squared_error: 0.0156 - val_loss: 0.0144 - val_root_mean_squared_error: 0.0145\n",
      "Epoch 189/300\n",
      "1536/1536 [==============================] - 3s 2ms/step - loss: 0.0149 - root_mean_squared_error: 0.0158 - val_loss: 0.0141 - val_root_mean_squared_error: 0.0147\n",
      "Epoch 190/300\n",
      "1536/1536 [==============================] - 3s 2ms/step - loss: 0.0143 - root_mean_squared_error: 0.0151 - val_loss: 0.0146 - val_root_mean_squared_error: 0.0148\n",
      "Epoch 191/300\n",
      "1536/1536 [==============================] - 3s 2ms/step - loss: 0.0149 - root_mean_squared_error: 0.0158 - val_loss: 0.0174 - val_root_mean_squared_error: 0.0181\n",
      "Epoch 192/300\n",
      "1536/1536 [==============================] - 3s 2ms/step - loss: 0.0147 - root_mean_squared_error: 0.0155 - val_loss: 0.0159 - val_root_mean_squared_error: 0.0160\n",
      "Epoch 193/300\n",
      "1536/1536 [==============================] - 3s 2ms/step - loss: 0.0147 - root_mean_squared_error: 0.0156 - val_loss: 0.0166 - val_root_mean_squared_error: 0.0167\n",
      "Epoch 194/300\n",
      "1536/1536 [==============================] - 3s 2ms/step - loss: 0.0147 - root_mean_squared_error: 0.0156 - val_loss: 0.0328 - val_root_mean_squared_error: 0.0330\n",
      "Epoch 195/300\n",
      "1536/1536 [==============================] - 3s 2ms/step - loss: 0.0148 - root_mean_squared_error: 0.0157 - val_loss: 0.0176 - val_root_mean_squared_error: 0.0177\n",
      "Epoch 196/300\n",
      "1536/1536 [==============================] - 3s 2ms/step - loss: 0.0145 - root_mean_squared_error: 0.0153 - val_loss: 0.0126 - val_root_mean_squared_error: 0.0127\n",
      "Epoch 197/300\n",
      "1536/1536 [==============================] - 3s 2ms/step - loss: 0.0145 - root_mean_squared_error: 0.0153 - val_loss: 0.0204 - val_root_mean_squared_error: 0.0209\n",
      "Epoch 198/300\n",
      "1536/1536 [==============================] - 3s 2ms/step - loss: 0.0151 - root_mean_squared_error: 0.0160 - val_loss: 0.0126 - val_root_mean_squared_error: 0.0132\n",
      "Epoch 199/300\n",
      "1536/1536 [==============================] - 3s 2ms/step - loss: 0.0146 - root_mean_squared_error: 0.0154 - val_loss: 0.0196 - val_root_mean_squared_error: 0.0198\n",
      "Epoch 200/300\n",
      "1536/1536 [==============================] - 3s 2ms/step - loss: 0.0150 - root_mean_squared_error: 0.0158 - val_loss: 0.0131 - val_root_mean_squared_error: 0.0135\n",
      "Epoch 201/300\n",
      "1536/1536 [==============================] - 3s 2ms/step - loss: 0.0145 - root_mean_squared_error: 0.0154 - val_loss: 0.0146 - val_root_mean_squared_error: 0.0147\n",
      "Epoch 202/300\n",
      "1536/1536 [==============================] - 3s 2ms/step - loss: 0.0148 - root_mean_squared_error: 0.0156 - val_loss: 0.0194 - val_root_mean_squared_error: 0.0196\n",
      "Epoch 203/300\n",
      "1536/1536 [==============================] - 3s 2ms/step - loss: 0.0146 - root_mean_squared_error: 0.0154 - val_loss: 0.0119 - val_root_mean_squared_error: 0.0121\n",
      "Epoch 204/300\n",
      "1536/1536 [==============================] - 3s 2ms/step - loss: 0.0145 - root_mean_squared_error: 0.0153 - val_loss: 0.0144 - val_root_mean_squared_error: 0.0144\n",
      "Epoch 205/300\n",
      "1536/1536 [==============================] - 3s 2ms/step - loss: 0.0151 - root_mean_squared_error: 0.0161 - val_loss: 0.0124 - val_root_mean_squared_error: 0.0129\n",
      "Epoch 206/300\n",
      "1536/1536 [==============================] - 3s 2ms/step - loss: 0.0147 - root_mean_squared_error: 0.0156 - val_loss: 0.0147 - val_root_mean_squared_error: 0.0153\n",
      "Epoch 207/300\n",
      "1536/1536 [==============================] - 3s 2ms/step - loss: 0.0145 - root_mean_squared_error: 0.0153 - val_loss: 0.0137 - val_root_mean_squared_error: 0.0143\n",
      "Epoch 208/300\n",
      "1536/1536 [==============================] - 3s 2ms/step - loss: 0.0147 - root_mean_squared_error: 0.0156 - val_loss: 0.0152 - val_root_mean_squared_error: 0.0158\n",
      "Epoch 209/300\n",
      "1536/1536 [==============================] - 4s 2ms/step - loss: 0.0145 - root_mean_squared_error: 0.0152 - val_loss: 0.0151 - val_root_mean_squared_error: 0.0152\n",
      "Epoch 210/300\n",
      "1536/1536 [==============================] - 3s 2ms/step - loss: 0.0145 - root_mean_squared_error: 0.0153 - val_loss: 0.0257 - val_root_mean_squared_error: 0.0262\n",
      "Epoch 211/300\n",
      "1536/1536 [==============================] - 3s 2ms/step - loss: 0.0148 - root_mean_squared_error: 0.0156 - val_loss: 0.0135 - val_root_mean_squared_error: 0.0140\n",
      "Epoch 212/300\n",
      "1536/1536 [==============================] - 3s 2ms/step - loss: 0.0145 - root_mean_squared_error: 0.0153 - val_loss: 0.0147 - val_root_mean_squared_error: 0.0148\n",
      "Epoch 213/300\n",
      "1536/1536 [==============================] - 3s 2ms/step - loss: 0.0144 - root_mean_squared_error: 0.0152 - val_loss: 0.0252 - val_root_mean_squared_error: 0.0254\n",
      "Epoch 214/300\n",
      "1536/1536 [==============================] - 3s 2ms/step - loss: 0.0144 - root_mean_squared_error: 0.0152 - val_loss: 0.0149 - val_root_mean_squared_error: 0.0155\n",
      "Epoch 215/300\n",
      "1536/1536 [==============================] - 3s 2ms/step - loss: 0.0145 - root_mean_squared_error: 0.0154 - val_loss: 0.0233 - val_root_mean_squared_error: 0.0235\n",
      "Epoch 216/300\n",
      "1536/1536 [==============================] - 3s 2ms/step - loss: 0.0145 - root_mean_squared_error: 0.0153 - val_loss: 0.0124 - val_root_mean_squared_error: 0.0127\n",
      "Epoch 217/300\n",
      "1536/1536 [==============================] - 3s 2ms/step - loss: 0.0147 - root_mean_squared_error: 0.0156 - val_loss: 0.0149 - val_root_mean_squared_error: 0.0150\n",
      "Epoch 218/300\n",
      "1536/1536 [==============================] - 3s 2ms/step - loss: 0.0143 - root_mean_squared_error: 0.0150 - val_loss: 0.0169 - val_root_mean_squared_error: 0.0175\n",
      "Epoch 219/300\n",
      "1536/1536 [==============================] - 3s 2ms/step - loss: 0.0146 - root_mean_squared_error: 0.0154 - val_loss: 0.0147 - val_root_mean_squared_error: 0.0148\n",
      "Epoch 220/300\n",
      "1536/1536 [==============================] - 3s 2ms/step - loss: 0.0143 - root_mean_squared_error: 0.0151 - val_loss: 0.0204 - val_root_mean_squared_error: 0.0206\n",
      "Epoch 221/300\n",
      "1536/1536 [==============================] - 3s 2ms/step - loss: 0.0146 - root_mean_squared_error: 0.0155 - val_loss: 0.0285 - val_root_mean_squared_error: 0.0290\n",
      "Epoch 222/300\n",
      "1536/1536 [==============================] - 3s 2ms/step - loss: 0.0143 - root_mean_squared_error: 0.0151 - val_loss: 0.0182 - val_root_mean_squared_error: 0.0184\n",
      "Epoch 223/300\n",
      "1536/1536 [==============================] - 3s 2ms/step - loss: 0.0145 - root_mean_squared_error: 0.0153 - val_loss: 0.0233 - val_root_mean_squared_error: 0.0235\n",
      "Epoch 224/300\n",
      "1536/1536 [==============================] - 3s 2ms/step - loss: 0.0146 - root_mean_squared_error: 0.0154 - val_loss: 0.0250 - val_root_mean_squared_error: 0.0252\n",
      "Epoch 225/300\n",
      "1536/1536 [==============================] - 3s 2ms/step - loss: 0.0148 - root_mean_squared_error: 0.0158 - val_loss: 0.0152 - val_root_mean_squared_error: 0.0153\n",
      "Epoch 226/300\n",
      "1536/1536 [==============================] - 3s 2ms/step - loss: 0.0144 - root_mean_squared_error: 0.0152 - val_loss: 0.0117 - val_root_mean_squared_error: 0.0120\n",
      "Epoch 227/300\n",
      "1536/1536 [==============================] - 3s 2ms/step - loss: 0.0149 - root_mean_squared_error: 0.0158 - val_loss: 0.0138 - val_root_mean_squared_error: 0.0142\n",
      "Epoch 228/300\n",
      "1536/1536 [==============================] - 3s 2ms/step - loss: 0.0145 - root_mean_squared_error: 0.0154 - val_loss: 0.0162 - val_root_mean_squared_error: 0.0164\n",
      "Epoch 229/300\n",
      "1536/1536 [==============================] - 3s 2ms/step - loss: 0.0148 - root_mean_squared_error: 0.0157 - val_loss: 0.0133 - val_root_mean_squared_error: 0.0134\n",
      "Epoch 230/300\n",
      "1536/1536 [==============================] - 3s 2ms/step - loss: 0.0140 - root_mean_squared_error: 0.0147 - val_loss: 0.0184 - val_root_mean_squared_error: 0.0190\n",
      "Epoch 231/300\n",
      "1536/1536 [==============================] - 3s 2ms/step - loss: 0.0143 - root_mean_squared_error: 0.0151 - val_loss: 0.0142 - val_root_mean_squared_error: 0.0148\n",
      "Epoch 232/300\n",
      "1536/1536 [==============================] - 3s 2ms/step - loss: 0.0146 - root_mean_squared_error: 0.0154 - val_loss: 0.0177 - val_root_mean_squared_error: 0.0183\n",
      "Epoch 233/300\n",
      "1536/1536 [==============================] - 6s 4ms/step - loss: 0.0146 - root_mean_squared_error: 0.0154 - val_loss: 0.0143 - val_root_mean_squared_error: 0.0150\n",
      "Epoch 234/300\n",
      "1536/1536 [==============================] - 3s 2ms/step - loss: 0.0144 - root_mean_squared_error: 0.0153 - val_loss: 0.0217 - val_root_mean_squared_error: 0.0220\n",
      "Epoch 235/300\n",
      "1536/1536 [==============================] - 3s 2ms/step - loss: 0.0144 - root_mean_squared_error: 0.0153 - val_loss: 0.0229 - val_root_mean_squared_error: 0.0235\n",
      "Epoch 236/300\n",
      "1536/1536 [==============================] - 3s 2ms/step - loss: 0.0143 - root_mean_squared_error: 0.0152 - val_loss: 0.0267 - val_root_mean_squared_error: 0.0272\n",
      "Epoch 237/300\n",
      "1536/1536 [==============================] - 3s 2ms/step - loss: 0.0149 - root_mean_squared_error: 0.0159 - val_loss: 0.0199 - val_root_mean_squared_error: 0.0201\n",
      "Epoch 238/300\n",
      "1536/1536 [==============================] - 3s 2ms/step - loss: 0.0140 - root_mean_squared_error: 0.0148 - val_loss: 0.0116 - val_root_mean_squared_error: 0.0118\n",
      "Epoch 239/300\n",
      "1536/1536 [==============================] - 3s 2ms/step - loss: 0.0149 - root_mean_squared_error: 0.0158 - val_loss: 0.0229 - val_root_mean_squared_error: 0.0235\n",
      "Epoch 240/300\n",
      "1536/1536 [==============================] - 3s 2ms/step - loss: 0.0145 - root_mean_squared_error: 0.0154 - val_loss: 0.0249 - val_root_mean_squared_error: 0.0254\n",
      "Epoch 241/300\n",
      "1536/1536 [==============================] - 3s 2ms/step - loss: 0.0142 - root_mean_squared_error: 0.0151 - val_loss: 0.0136 - val_root_mean_squared_error: 0.0139\n",
      "Epoch 242/300\n",
      "1536/1536 [==============================] - 4s 2ms/step - loss: 0.0148 - root_mean_squared_error: 0.0156 - val_loss: 0.0147 - val_root_mean_squared_error: 0.0147\n",
      "Epoch 243/300\n",
      "1536/1536 [==============================] - 3s 2ms/step - loss: 0.0144 - root_mean_squared_error: 0.0152 - val_loss: 0.0134 - val_root_mean_squared_error: 0.0136\n",
      "Epoch 244/300\n",
      "1536/1536 [==============================] - 3s 2ms/step - loss: 0.0150 - root_mean_squared_error: 0.0159 - val_loss: 0.0143 - val_root_mean_squared_error: 0.0144\n",
      "Epoch 245/300\n",
      "1536/1536 [==============================] - 3s 2ms/step - loss: 0.0140 - root_mean_squared_error: 0.0147 - val_loss: 0.0122 - val_root_mean_squared_error: 0.0125\n",
      "Epoch 246/300\n",
      "1536/1536 [==============================] - 3s 2ms/step - loss: 0.0151 - root_mean_squared_error: 0.0160 - val_loss: 0.0159 - val_root_mean_squared_error: 0.0160\n",
      "Epoch 247/300\n",
      "1536/1536 [==============================] - 3s 2ms/step - loss: 0.0146 - root_mean_squared_error: 0.0155 - val_loss: 0.0141 - val_root_mean_squared_error: 0.0142\n",
      "Epoch 248/300\n",
      "1536/1536 [==============================] - 4s 2ms/step - loss: 0.0143 - root_mean_squared_error: 0.0151 - val_loss: 0.0155 - val_root_mean_squared_error: 0.0160\n",
      "Epoch 249/300\n",
      "1536/1536 [==============================] - 3s 2ms/step - loss: 0.0139 - root_mean_squared_error: 0.0148 - val_loss: 0.0206 - val_root_mean_squared_error: 0.0212\n",
      "Epoch 250/300\n",
      "1536/1536 [==============================] - 3s 2ms/step - loss: 0.0143 - root_mean_squared_error: 0.0152 - val_loss: 0.0134 - val_root_mean_squared_error: 0.0138\n",
      "Epoch 251/300\n",
      "1536/1536 [==============================] - 3s 2ms/step - loss: 0.0149 - root_mean_squared_error: 0.0158 - val_loss: 0.0144 - val_root_mean_squared_error: 0.0145\n",
      "Epoch 252/300\n",
      "1536/1536 [==============================] - 3s 2ms/step - loss: 0.0146 - root_mean_squared_error: 0.0155 - val_loss: 0.0136 - val_root_mean_squared_error: 0.0141\n",
      "Epoch 253/300\n",
      "1536/1536 [==============================] - 4s 2ms/step - loss: 0.0147 - root_mean_squared_error: 0.0156 - val_loss: 0.0146 - val_root_mean_squared_error: 0.0147\n",
      "Epoch 254/300\n",
      "1536/1536 [==============================] - 3s 2ms/step - loss: 0.0148 - root_mean_squared_error: 0.0157 - val_loss: 0.0184 - val_root_mean_squared_error: 0.0191\n",
      "Epoch 255/300\n",
      "1536/1536 [==============================] - 3s 2ms/step - loss: 0.0139 - root_mean_squared_error: 0.0146 - val_loss: 0.0185 - val_root_mean_squared_error: 0.0187\n",
      "Epoch 256/300\n",
      "1536/1536 [==============================] - 3s 2ms/step - loss: 0.0143 - root_mean_squared_error: 0.0151 - val_loss: 0.0140 - val_root_mean_squared_error: 0.0141\n",
      "Epoch 257/300\n",
      "1536/1536 [==============================] - 3s 2ms/step - loss: 0.0145 - root_mean_squared_error: 0.0153 - val_loss: 0.0168 - val_root_mean_squared_error: 0.0175\n",
      "Epoch 258/300\n",
      "1536/1536 [==============================] - 3s 2ms/step - loss: 0.0142 - root_mean_squared_error: 0.0151 - val_loss: 0.0129 - val_root_mean_squared_error: 0.0131\n",
      "Epoch 259/300\n",
      "1536/1536 [==============================] - 4s 2ms/step - loss: 0.0145 - root_mean_squared_error: 0.0154 - val_loss: 0.0167 - val_root_mean_squared_error: 0.0173\n",
      "Epoch 260/300\n",
      "1536/1536 [==============================] - 3s 2ms/step - loss: 0.0140 - root_mean_squared_error: 0.0148 - val_loss: 0.0221 - val_root_mean_squared_error: 0.0227\n",
      "Epoch 261/300\n",
      "1536/1536 [==============================] - 4s 2ms/step - loss: 0.0146 - root_mean_squared_error: 0.0156 - val_loss: 0.0164 - val_root_mean_squared_error: 0.0171\n",
      "Epoch 262/300\n",
      "1536/1536 [==============================] - 4s 2ms/step - loss: 0.0151 - root_mean_squared_error: 0.0160 - val_loss: 0.0270 - val_root_mean_squared_error: 0.0272\n",
      "Epoch 263/300\n",
      "1536/1536 [==============================] - 3s 2ms/step - loss: 0.0144 - root_mean_squared_error: 0.0152 - val_loss: 0.0182 - val_root_mean_squared_error: 0.0184\n",
      "Epoch 264/300\n",
      "1536/1536 [==============================] - 4s 2ms/step - loss: 0.0143 - root_mean_squared_error: 0.0151 - val_loss: 0.0320 - val_root_mean_squared_error: 0.0322\n",
      "Epoch 265/300\n",
      "1536/1536 [==============================] - 4s 2ms/step - loss: 0.0144 - root_mean_squared_error: 0.0153 - val_loss: 0.0129 - val_root_mean_squared_error: 0.0131\n",
      "Epoch 266/300\n",
      "1536/1536 [==============================] - 4s 3ms/step - loss: 0.0143 - root_mean_squared_error: 0.0152 - val_loss: 0.0133 - val_root_mean_squared_error: 0.0137\n",
      "Epoch 267/300\n",
      "1536/1536 [==============================] - 4s 3ms/step - loss: 0.0150 - root_mean_squared_error: 0.0159 - val_loss: 0.0149 - val_root_mean_squared_error: 0.0150\n",
      "Epoch 268/300\n",
      "1536/1536 [==============================] - 4s 2ms/step - loss: 0.0143 - root_mean_squared_error: 0.0152 - val_loss: 0.0141 - val_root_mean_squared_error: 0.0147\n",
      "Epoch 269/300\n",
      "1536/1536 [==============================] - 3s 2ms/step - loss: 0.0144 - root_mean_squared_error: 0.0152 - val_loss: 0.0145 - val_root_mean_squared_error: 0.0151\n",
      "Epoch 270/300\n",
      "1536/1536 [==============================] - 3s 2ms/step - loss: 0.0140 - root_mean_squared_error: 0.0149 - val_loss: 0.0258 - val_root_mean_squared_error: 0.0263\n",
      "Epoch 271/300\n",
      "1536/1536 [==============================] - 3s 2ms/step - loss: 0.0142 - root_mean_squared_error: 0.0150 - val_loss: 0.0123 - val_root_mean_squared_error: 0.0125\n",
      "Epoch 272/300\n",
      "1536/1536 [==============================] - 3s 2ms/step - loss: 0.0138 - root_mean_squared_error: 0.0147 - val_loss: 0.0134 - val_root_mean_squared_error: 0.0138\n",
      "Epoch 273/300\n",
      "1536/1536 [==============================] - 4s 2ms/step - loss: 0.0140 - root_mean_squared_error: 0.0148 - val_loss: 0.0152 - val_root_mean_squared_error: 0.0159\n",
      "Epoch 274/300\n",
      "1536/1536 [==============================] - 3s 2ms/step - loss: 0.0142 - root_mean_squared_error: 0.0150 - val_loss: 0.0170 - val_root_mean_squared_error: 0.0178\n",
      "Epoch 275/300\n",
      "1536/1536 [==============================] - 3s 2ms/step - loss: 0.0139 - root_mean_squared_error: 0.0148 - val_loss: 0.0208 - val_root_mean_squared_error: 0.0210\n",
      "Epoch 276/300\n",
      "1536/1536 [==============================] - 3s 2ms/step - loss: 0.0148 - root_mean_squared_error: 0.0156 - val_loss: 0.0201 - val_root_mean_squared_error: 0.0208\n",
      "Epoch 277/300\n",
      "1536/1536 [==============================] - 3s 2ms/step - loss: 0.0141 - root_mean_squared_error: 0.0148 - val_loss: 0.0207 - val_root_mean_squared_error: 0.0214\n",
      "Epoch 278/300\n",
      "1536/1536 [==============================] - 3s 2ms/step - loss: 0.0140 - root_mean_squared_error: 0.0147 - val_loss: 0.0156 - val_root_mean_squared_error: 0.0162\n",
      "Epoch 279/300\n",
      "1536/1536 [==============================] - 3s 2ms/step - loss: 0.0143 - root_mean_squared_error: 0.0150 - val_loss: 0.0122 - val_root_mean_squared_error: 0.0125\n",
      "Epoch 280/300\n",
      "1536/1536 [==============================] - 3s 2ms/step - loss: 0.0144 - root_mean_squared_error: 0.0152 - val_loss: 0.0279 - val_root_mean_squared_error: 0.0282\n",
      "Epoch 281/300\n",
      "1536/1536 [==============================] - 4s 2ms/step - loss: 0.0143 - root_mean_squared_error: 0.0153 - val_loss: 0.0149 - val_root_mean_squared_error: 0.0156\n",
      "Epoch 282/300\n",
      "1536/1536 [==============================] - 3s 2ms/step - loss: 0.0136 - root_mean_squared_error: 0.0143 - val_loss: 0.0125 - val_root_mean_squared_error: 0.0129\n",
      "Epoch 283/300\n",
      "1536/1536 [==============================] - 3s 2ms/step - loss: 0.0142 - root_mean_squared_error: 0.0150 - val_loss: 0.0135 - val_root_mean_squared_error: 0.0136\n",
      "Epoch 284/300\n",
      "1536/1536 [==============================] - 3s 2ms/step - loss: 0.0142 - root_mean_squared_error: 0.0151 - val_loss: 0.0152 - val_root_mean_squared_error: 0.0158\n",
      "Epoch 285/300\n",
      "1536/1536 [==============================] - 3s 2ms/step - loss: 0.0144 - root_mean_squared_error: 0.0154 - val_loss: 0.0187 - val_root_mean_squared_error: 0.0189\n",
      "Epoch 286/300\n",
      "1536/1536 [==============================] - 3s 2ms/step - loss: 0.0143 - root_mean_squared_error: 0.0152 - val_loss: 0.0215 - val_root_mean_squared_error: 0.0222\n",
      "Epoch 287/300\n",
      "1536/1536 [==============================] - 4s 2ms/step - loss: 0.0142 - root_mean_squared_error: 0.0150 - val_loss: 0.0153 - val_root_mean_squared_error: 0.0160\n",
      "Epoch 288/300\n",
      "1536/1536 [==============================] - 3s 2ms/step - loss: 0.0145 - root_mean_squared_error: 0.0154 - val_loss: 0.0153 - val_root_mean_squared_error: 0.0154\n",
      "Epoch 289/300\n",
      "1536/1536 [==============================] - 4s 2ms/step - loss: 0.0141 - root_mean_squared_error: 0.0148 - val_loss: 0.0153 - val_root_mean_squared_error: 0.0154\n",
      "Epoch 290/300\n",
      "1536/1536 [==============================] - 3s 2ms/step - loss: 0.0144 - root_mean_squared_error: 0.0152 - val_loss: 0.0197 - val_root_mean_squared_error: 0.0199\n",
      "Epoch 291/300\n",
      "1536/1536 [==============================] - 4s 2ms/step - loss: 0.0142 - root_mean_squared_error: 0.0151 - val_loss: 0.0125 - val_root_mean_squared_error: 0.0126\n",
      "Epoch 292/300\n",
      "1536/1536 [==============================] - 4s 2ms/step - loss: 0.0146 - root_mean_squared_error: 0.0155 - val_loss: 0.0147 - val_root_mean_squared_error: 0.0154\n",
      "Epoch 293/300\n",
      "1536/1536 [==============================] - 3s 2ms/step - loss: 0.0143 - root_mean_squared_error: 0.0152 - val_loss: 0.0220 - val_root_mean_squared_error: 0.0227\n",
      "Epoch 294/300\n",
      "1536/1536 [==============================] - 3s 2ms/step - loss: 0.0138 - root_mean_squared_error: 0.0146 - val_loss: 0.0210 - val_root_mean_squared_error: 0.0217\n",
      "Epoch 295/300\n",
      "1536/1536 [==============================] - 3s 2ms/step - loss: 0.0139 - root_mean_squared_error: 0.0147 - val_loss: 0.0173 - val_root_mean_squared_error: 0.0175\n",
      "Epoch 296/300\n",
      "1536/1536 [==============================] - 4s 2ms/step - loss: 0.0141 - root_mean_squared_error: 0.0150 - val_loss: 0.0202 - val_root_mean_squared_error: 0.0204\n",
      "Epoch 297/300\n",
      "1536/1536 [==============================] - 4s 2ms/step - loss: 0.0140 - root_mean_squared_error: 0.0148 - val_loss: 0.0160 - val_root_mean_squared_error: 0.0161\n",
      "Epoch 298/300\n",
      "1536/1536 [==============================] - 4s 2ms/step - loss: 0.0139 - root_mean_squared_error: 0.0145 - val_loss: 0.0112 - val_root_mean_squared_error: 0.0114\n",
      "Epoch 299/300\n",
      "1536/1536 [==============================] - 3s 2ms/step - loss: 0.0140 - root_mean_squared_error: 0.0148 - val_loss: 0.0155 - val_root_mean_squared_error: 0.0163\n",
      "Epoch 300/300\n",
      "1536/1536 [==============================] - 3s 2ms/step - loss: 0.0138 - root_mean_squared_error: 0.0146 - val_loss: 0.0145 - val_root_mean_squared_error: 0.0150\n"
     ]
    }
   ],
   "source": [
    "# try ovrfit\n",
    "history = model.fit(X, y, epochs=300, validation_split=0.2, batch_size=10  )"
   ]
  },
  {
   "cell_type": "code",
   "execution_count": 23,
   "metadata": {
    "colab": {
     "base_uri": "https://localhost:8080/",
     "height": 295
    },
    "id": "VSJWGy_d4C_F",
    "outputId": "f209c945-54db-4181-f2bc-bae7799d553b"
   },
   "outputs": [
    {
     "data": {
      "image/png": "[encoded data removed]",
      "text/plain": [
       "<Figure size 432x288 with 1 Axes>"
      ]
     },
     "metadata": {
      "needs_background": "light",
      "tags": []
     },
     "output_type": "display_data"
    }
   ],
   "source": [
    "# summarize history for loss\n",
    "plt.plot(history.history['loss'])\n",
    "plt.plot(history.history['root_mean_squared_error'])\n",
    "plt.title('model loss')\n",
    "plt.ylabel('loss')\n",
    "plt.xlabel('epoch')\n",
    "plt.legend(['train', 'test'], loc='upper left')\n",
    "plt.show()"
   ]
  },
  {
   "cell_type": "code",
   "execution_count": null,
   "metadata": {
    "id": "oUP8bTRG6HZ9"
   },
   "outputs": [],
   "source": []
  }
 ],
 "metadata": {
  "accelerator": "GPU",
  "colab": {
   "name": "ml models.ipynb",
   "provenance": [],
   "toc_visible": true
  },
  "kernelspec": {
   "display_name": "fbd",
   "language": "python",
   "name": "fbd"
  },
  "language_info": {
   "codemirror_mode": {
    "name": "ipython",
    "version": 3
   },
   "file_extension": ".py",
   "mimetype": "text/x-python",
   "name": "python",
   "nbconvert_exporter": "python",
   "pygments_lexer": "ipython3",
   "version": "3.8.5"
  }
 },
 "nbformat": 4,
 "nbformat_minor": 4
}

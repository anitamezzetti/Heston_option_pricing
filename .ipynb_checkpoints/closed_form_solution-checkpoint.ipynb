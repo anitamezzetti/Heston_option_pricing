{
 "cells": [
  {
   "cell_type": "code",
   "execution_count": 2,
   "metadata": {
    "id": "sSdB8d5zuZcC"
   },
   "outputs": [],
   "source": [
    "import numpy as np\n",
    "import pandas as pd\n",
    "import math as math\n",
    "import cmath as cmath\n",
    "from scipy import integrate\n"
   ]
  },
  {
   "cell_type": "markdown",
   "metadata": {},
   "source": [
    "We suppose t =0\n",
    "stratus 1 or 2"
   ]
  },
  {
   "cell_type": "code",
   "execution_count": 3,
   "metadata": {},
   "outputs": [],
   "source": [
    "# characteristic function\n",
    "def f(phi, kappa, theta, sigma, rho, v0, r, T, s0, status):\n",
    "    \n",
    "    a = kappa * theta\n",
    "    x = math.log(s0)\n",
    "    \n",
    "    # remind that lamda is zero\n",
    "    if status == 1:\n",
    "        u = 0.5\n",
    "        b = kappa - rho * sigma\n",
    "    else:\n",
    "        u = -0.5\n",
    "        b = kappa\n",
    "    \n",
    "    d = cmath.sqrt((rho * sigma * phi * 1j - b)**2 - sigma**2 * (2 * u * phi * 1j - phi**2))\n",
    "    g = (b - rho * sigma * phi * 1j + d) / (b - rho * sigma * phi * 1j - d)\n",
    "    \n",
    "    C = r * phi * 1j * T + (a / sigma**2)*((b - rho * sigma * phi * 1j + d) * T - 2 * cmath.log((1 - g * cmath.exp(d * T))/(1 - g)))\n",
    "    D = (b - rho * sigma * phi * 1j + d) / sigma**2 * ((1 - cmath.exp(d * T)) / (1 - g * cmath.exp(d * T)))\n",
    "    \n",
    "    return cmath.exp(C + D * v0 + 1j * phi * x)"
   ]
  },
  {
   "cell_type": "code",
   "execution_count": 4,
   "metadata": {},
   "outputs": [],
   "source": [
    "# P1 and P2\n",
    "def p(kappa, theta, sigma, rho, v0 ,r ,T ,s0 , K, status):\n",
    "    \n",
    "    \n",
    "    integrand = lambda phi: (cmath.exp(-1j * phi * cmath.log(K)) * f(phi, kappa, \\\n",
    "                              theta, sigma, rho, v0, r, T, s0, status) / (1j * phi)).real \n",
    "    \n",
    "    return (0.5 + (1 / math.pi) * integrate.quad(integrand, 0, 100)[0]) # approximate indefinite intergral with a definite one\n",
    "\n",
    "def p1(kappa, theta, sigma, rho, v0 ,r ,T ,s0 ,K):\n",
    "    return p(kappa, theta, sigma, rho, v0 ,r ,T ,s0 ,K, 1)\n",
    "\n",
    "def p2(kappa, theta, sigma, rho, v0 ,r ,T ,s0 ,K):\n",
    "    return p(kappa, theta, sigma, rho, v0 ,r ,T ,s0 ,K, 2)\n",
    "\n"
   ]
  },
  {
   "cell_type": "code",
   "execution_count": 5,
   "metadata": {},
   "outputs": [],
   "source": [
    "# call price\n",
    "def call_price(kappa, theta, sigma, rho, v0 ,r ,T ,s0 ,K):\n",
    "    \n",
    "    P1 = p1(kappa, theta, sigma, rho, v0 ,r ,T ,s0 ,K)\n",
    "    P2 = p2(kappa, theta, sigma, rho, v0 ,r ,T ,s0 ,K)\n",
    "    \n",
    "    result = (s0 * P1 - K * math.exp(-r * T) * P2)\n",
    "    print(result)\n",
    "    \n",
    "    if result<0:\n",
    "        result = 0\n",
    "        \n",
    "    return result"
   ]
  },
  {
   "cell_type": "code",
   "execution_count": 6,
   "metadata": {},
   "outputs": [],
   "source": [
    "#df['price_sol'] = call_price(kappa, theta, sigma, rho, v0 ,r , df['maturity'], df['stock'] ,K)"
   ]
  },
  {
   "cell_type": "code",
   "execution_count": 7,
   "metadata": {},
   "outputs": [],
   "source": [
    "#df['price_sol'] = df.head(10).apply(lambda x: call_price(kappa, theta, sigma, rho, v0 ,r , x['maturity'], x['stock'] ,K), axis=1)"
   ]
  },
  {
   "cell_type": "code",
   "execution_count": 8,
   "metadata": {},
   "outputs": [],
   "source": [
    "sigma = 0.61\n",
    "theta = 0.019\n",
    "kappa = 6.21\n",
    "rho = -0.5\n",
    "strike = 1.5\n",
    "r=0\n",
    "s0=2\n",
    "v0=0.01\n",
    "T=1"
   ]
  },
  {
   "cell_type": "code",
   "execution_count": 9,
   "metadata": {},
   "outputs": [
    {
     "data": {
      "text/plain": [
       "0.5017035343718619"
      ]
     },
     "execution_count": 9,
     "metadata": {},
     "output_type": "execute_result"
    }
   ],
   "source": [
    "call_price(kappa, theta, sigma, rho, v0 ,r , T ,s0, strike)"
   ]
  },
  {
   "cell_type": "code",
   "execution_count": 10,
   "metadata": {},
   "outputs": [],
   "source": [
    "sigma = 0.61\n",
    "theta = 0.019\n",
    "kappa = 6.21\n",
    "rho = -0.5\n",
    "strike = 2\n",
    "r=0\n",
    "s0=3\n",
    "v0=0.05\n",
    "T=1"
   ]
  },
  {
   "cell_type": "code",
   "execution_count": 11,
   "metadata": {},
   "outputs": [
    {
     "data": {
      "text/plain": [
       "1.025771343871797"
      ]
     },
     "execution_count": 11,
     "metadata": {},
     "output_type": "execute_result"
    }
   ],
   "source": [
    "call_price(kappa, theta, sigma, rho, v0 ,r , T ,s0, strike)"
   ]
  },
  {
   "cell_type": "code",
   "execution_count": null,
   "metadata": {},
   "outputs": [],
   "source": []
  }
 ],
 "metadata": {
  "kernelspec": {
   "display_name": "fbd",
   "language": "python",
   "name": "fbd"
  },
  "language_info": {
   "codemirror_mode": {
    "name": "ipython",
    "version": 3
   },
   "file_extension": ".py",
   "mimetype": "text/x-python",
   "name": "python",
   "nbconvert_exporter": "python",
   "pygments_lexer": "ipython3",
   "version": "3.8.5"
  }
 },
 "nbformat": 4,
 "nbformat_minor": 4
}

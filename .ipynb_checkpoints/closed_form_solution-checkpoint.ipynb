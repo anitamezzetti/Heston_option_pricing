{
 "cells": [
  {
   "cell_type": "code",
   "execution_count": 1,
   "metadata": {
    "id": "sSdB8d5zuZcC"
   },
   "outputs": [],
   "source": [
    "import numpy as np\n",
    "import pandas as pd\n",
    "import math as math\n",
    "import cmath as cmath\n",
    "from scipy import integrate\n"
   ]
  },
  {
   "cell_type": "code",
   "execution_count": 2,
   "metadata": {},
   "outputs": [],
   "source": [
    "r = 0\n",
    "s0 = K = 2.0\n",
    "t_max = 1.0\n",
    "v0 = 0.010201\n",
    "sigma = 0.61\n",
    "theta = 0.019\n",
    "kappa = 6.21\n",
    "\n",
    "rho = -0.6\n",
    "#rho_choice = np.array([-0.5, -0.7, -0.9])\n",
    "#rho_probability = np.array([0.25, 0.5, 0.25])\n",
    "\n",
    "T1 = 10"
   ]
  },
  {
   "cell_type": "code",
   "execution_count": 3,
   "metadata": {
    "colab": {
     "base_uri": "https://localhost:8080/",
     "height": 206
    },
    "id": "hlI7daoMuZcC",
    "outputId": "8b2ffc33-9976-4d89-92df-1633473f1726"
   },
   "outputs": [
    {
     "data": {
      "text/html": [
       "<div>\n",
       "<style scoped>\n",
       "    .dataframe tbody tr th:only-of-type {\n",
       "        vertical-align: middle;\n",
       "    }\n",
       "\n",
       "    .dataframe tbody tr th {\n",
       "        vertical-align: top;\n",
       "    }\n",
       "\n",
       "    .dataframe thead th {\n",
       "        text-align: right;\n",
       "    }\n",
       "</style>\n",
       "<table border=\"1\" class=\"dataframe\">\n",
       "  <thead>\n",
       "    <tr style=\"text-align: right;\">\n",
       "      <th></th>\n",
       "      <th>price</th>\n",
       "      <th>stock</th>\n",
       "      <th>maturity</th>\n",
       "    </tr>\n",
       "  </thead>\n",
       "  <tbody>\n",
       "    <tr>\n",
       "      <th>0</th>\n",
       "      <td>0.000000</td>\n",
       "      <td>2.035873</td>\n",
       "      <td>0.5</td>\n",
       "    </tr>\n",
       "    <tr>\n",
       "      <th>1</th>\n",
       "      <td>0.133383</td>\n",
       "      <td>2.049620</td>\n",
       "      <td>0.5</td>\n",
       "    </tr>\n",
       "    <tr>\n",
       "      <th>2</th>\n",
       "      <td>0.091578</td>\n",
       "      <td>1.915976</td>\n",
       "      <td>0.5</td>\n",
       "    </tr>\n",
       "    <tr>\n",
       "      <th>3</th>\n",
       "      <td>0.317487</td>\n",
       "      <td>2.010661</td>\n",
       "      <td>0.5</td>\n",
       "    </tr>\n",
       "    <tr>\n",
       "      <th>4</th>\n",
       "      <td>0.142101</td>\n",
       "      <td>2.027230</td>\n",
       "      <td>0.5</td>\n",
       "    </tr>\n",
       "  </tbody>\n",
       "</table>\n",
       "</div>"
      ],
      "text/plain": [
       "      price     stock  maturity\n",
       "0  0.000000  2.035873       0.5\n",
       "1  0.133383  2.049620       0.5\n",
       "2  0.091578  1.915976       0.5\n",
       "3  0.317487  2.010661       0.5\n",
       "4  0.142101  2.027230       0.5"
      ]
     },
     "execution_count": 3,
     "metadata": {},
     "output_type": "execute_result"
    }
   ],
   "source": [
    "df = pd.read_csv(\"data.csv\")\n",
    "df = df.drop('Unnamed: 0', axis=1)\n",
    "\n",
    "df.head()"
   ]
  },
  {
   "cell_type": "markdown",
   "metadata": {},
   "source": [
    "We suppose t =0\n",
    "stratus 1 or 2"
   ]
  },
  {
   "cell_type": "code",
   "execution_count": 4,
   "metadata": {},
   "outputs": [],
   "source": [
    "# characteristic function\n",
    "def f(phi, kappa, theta, sigma, rho, v0, r, T, s0, status):\n",
    "    \n",
    "    a = kappa * theta\n",
    "    x = math.log(s0)\n",
    "    \n",
    "    # remind that lamda is zero\n",
    "    if status == 1:\n",
    "        u = 0.5\n",
    "        b = kappa - rho * sigma\n",
    "    else:\n",
    "        u = -0.5\n",
    "        b = kappa\n",
    "    \n",
    "    d = cmath.sqrt((rho * sigma * phi * 1j - b)**2 - sigma**2 * (2 * u * phi * 1j - phi**2))\n",
    "    g = (b - rho * sigma * phi * 1j + d) / (b - rho * sigma * phi * 1j - d)\n",
    "    \n",
    "    C = r * phi * 1j * T + (a / sigma**2)*((b - rho * sigma * phi * 1j + d) * T - 2 * cmath.log((1 - g * cmath.exp(d * T))/(1 - g)))\n",
    "    D = (b - rho * sigma * phi * 1j + d) / sigma**2 * ((1 - cmath.exp(d * T)) / (1 - g * cmath.exp(d * T)))\n",
    "    \n",
    "    return cmath.exp(C + D * v0 + 1j * phi * x)"
   ]
  },
  {
   "cell_type": "code",
   "execution_count": 5,
   "metadata": {},
   "outputs": [],
   "source": [
    "# P1 and P2\n",
    "def p(kappa, theta, sigma, rho, v0 ,r ,T ,s0 , K, status):\n",
    "    \n",
    "    \n",
    "    integrand = lambda phi: (cmath.exp(-1j * phi * cmath.log(K)) * f(phi, kappa, \\\n",
    "                              theta, sigma, rho, v0, r, T, s0, status) / (1j * phi)).real \n",
    "    \n",
    "    return (0.5 + (1 / math.pi) * integrate.quad(integrand, 0, 100)[0]) # approximate indefinite intergral with a definite one\n",
    "\n",
    "def p1(kappa, theta, sigma, rho, v0 ,r ,T ,s0 ,K):\n",
    "    return p(kappa, theta, sigma, rho, v0 ,r ,T ,s0 ,K, 1)\n",
    "\n",
    "def p2(kappa, theta, sigma, rho, v0 ,r ,T ,s0 ,K):\n",
    "    return p(kappa, theta, sigma, rho, v0 ,r ,T ,s0 ,K, 2)\n",
    "\n"
   ]
  },
  {
   "cell_type": "code",
   "execution_count": 6,
   "metadata": {},
   "outputs": [],
   "source": [
    "# call price\n",
    "def call_price(kappa, theta, sigma, rho, v0 ,r ,T ,s0 ,K):\n",
    "    \n",
    "    P1 = p1(kappa, theta, sigma, rho, v0 ,r ,T ,s0 ,K)\n",
    "    P2 = p2(kappa, theta, sigma, rho, v0 ,r ,T ,s0 ,K)\n",
    "    return (s0 * P1 - K * math.exp(-r * T) * P2)"
   ]
  },
  {
   "cell_type": "code",
   "execution_count": 7,
   "metadata": {},
   "outputs": [],
   "source": [
    "#df['price_sol'] = call_price(kappa, theta, sigma, rho, v0 ,r , df['maturity'], df['stock'] ,K)"
   ]
  },
  {
   "cell_type": "code",
   "execution_count": 12,
   "metadata": {},
   "outputs": [],
   "source": [
    "df['price_sol'] = df.head(10).apply(lambda x: call_price(kappa, theta, sigma, rho, v0 ,r , x['maturity'], x['stock'] ,K), axis=1)"
   ]
  },
  {
   "cell_type": "code",
   "execution_count": 13,
   "metadata": {},
   "outputs": [
    {
     "data": {
      "text/html": [
       "<div>\n",
       "<style scoped>\n",
       "    .dataframe tbody tr th:only-of-type {\n",
       "        vertical-align: middle;\n",
       "    }\n",
       "\n",
       "    .dataframe tbody tr th {\n",
       "        vertical-align: top;\n",
       "    }\n",
       "\n",
       "    .dataframe thead th {\n",
       "        text-align: right;\n",
       "    }\n",
       "</style>\n",
       "<table border=\"1\" class=\"dataframe\">\n",
       "  <thead>\n",
       "    <tr style=\"text-align: right;\">\n",
       "      <th></th>\n",
       "      <th>price</th>\n",
       "      <th>stock</th>\n",
       "      <th>maturity</th>\n",
       "      <th>new_column_name</th>\n",
       "      <th>price_sol</th>\n",
       "    </tr>\n",
       "  </thead>\n",
       "  <tbody>\n",
       "    <tr>\n",
       "      <th>0</th>\n",
       "      <td>0.000000</td>\n",
       "      <td>2.035873</td>\n",
       "      <td>0.5</td>\n",
       "      <td>0.088994</td>\n",
       "      <td>0.088994</td>\n",
       "    </tr>\n",
       "    <tr>\n",
       "      <th>1</th>\n",
       "      <td>0.133383</td>\n",
       "      <td>2.049620</td>\n",
       "      <td>0.5</td>\n",
       "      <td>0.098482</td>\n",
       "      <td>0.098482</td>\n",
       "    </tr>\n",
       "    <tr>\n",
       "      <th>2</th>\n",
       "      <td>0.091578</td>\n",
       "      <td>1.915976</td>\n",
       "      <td>0.5</td>\n",
       "      <td>0.026186</td>\n",
       "      <td>0.026186</td>\n",
       "    </tr>\n",
       "    <tr>\n",
       "      <th>3</th>\n",
       "      <td>0.317487</td>\n",
       "      <td>2.010661</td>\n",
       "      <td>0.5</td>\n",
       "      <td>0.072639</td>\n",
       "      <td>0.072639</td>\n",
       "    </tr>\n",
       "    <tr>\n",
       "      <th>4</th>\n",
       "      <td>0.142101</td>\n",
       "      <td>2.027230</td>\n",
       "      <td>0.5</td>\n",
       "      <td>0.083229</td>\n",
       "      <td>0.083229</td>\n",
       "    </tr>\n",
       "    <tr>\n",
       "      <th>5</th>\n",
       "      <td>0.025005</td>\n",
       "      <td>2.036091</td>\n",
       "      <td>0.5</td>\n",
       "      <td>0.089142</td>\n",
       "      <td>0.089142</td>\n",
       "    </tr>\n",
       "    <tr>\n",
       "      <th>6</th>\n",
       "      <td>0.147151</td>\n",
       "      <td>2.039628</td>\n",
       "      <td>0.5</td>\n",
       "      <td>0.091548</td>\n",
       "      <td>0.091548</td>\n",
       "    </tr>\n",
       "    <tr>\n",
       "      <th>7</th>\n",
       "      <td>0.000000</td>\n",
       "      <td>2.035279</td>\n",
       "      <td>0.5</td>\n",
       "      <td>0.088593</td>\n",
       "      <td>0.088593</td>\n",
       "    </tr>\n",
       "    <tr>\n",
       "      <th>8</th>\n",
       "      <td>0.000000</td>\n",
       "      <td>1.991090</td>\n",
       "      <td>0.5</td>\n",
       "      <td>0.060979</td>\n",
       "      <td>0.060979</td>\n",
       "    </tr>\n",
       "    <tr>\n",
       "      <th>9</th>\n",
       "      <td>0.303281</td>\n",
       "      <td>1.995627</td>\n",
       "      <td>0.5</td>\n",
       "      <td>0.063596</td>\n",
       "      <td>0.063596</td>\n",
       "    </tr>\n",
       "  </tbody>\n",
       "</table>\n",
       "</div>"
      ],
      "text/plain": [
       "      price     stock  maturity  new_column_name  price_sol\n",
       "0  0.000000  2.035873       0.5         0.088994   0.088994\n",
       "1  0.133383  2.049620       0.5         0.098482   0.098482\n",
       "2  0.091578  1.915976       0.5         0.026186   0.026186\n",
       "3  0.317487  2.010661       0.5         0.072639   0.072639\n",
       "4  0.142101  2.027230       0.5         0.083229   0.083229\n",
       "5  0.025005  2.036091       0.5         0.089142   0.089142\n",
       "6  0.147151  2.039628       0.5         0.091548   0.091548\n",
       "7  0.000000  2.035279       0.5         0.088593   0.088593\n",
       "8  0.000000  1.991090       0.5         0.060979   0.060979\n",
       "9  0.303281  1.995627       0.5         0.063596   0.063596"
      ]
     },
     "execution_count": 13,
     "metadata": {},
     "output_type": "execute_result"
    }
   ],
   "source": [
    "df.head(10)"
   ]
  },
  {
   "cell_type": "code",
   "execution_count": 25,
   "metadata": {},
   "outputs": [
    {
     "data": {
      "text/plain": [
       "0.06616807769237942"
      ]
     },
     "execution_count": 25,
     "metadata": {},
     "output_type": "execute_result"
    }
   ],
   "source": [
    "call_price(kappa, theta, sigma, rho, v0 ,r ,0.5 ,s0 ,K)"
   ]
  },
  {
   "cell_type": "code",
   "execution_count": null,
   "metadata": {},
   "outputs": [],
   "source": []
  },
  {
   "cell_type": "code",
   "execution_count": null,
   "metadata": {},
   "outputs": [],
   "source": []
  },
  {
   "cell_type": "code",
   "execution_count": null,
   "metadata": {},
   "outputs": [],
   "source": []
  }
 ],
 "metadata": {
  "kernelspec": {
   "display_name": "fbd",
   "language": "python",
   "name": "fbd"
  },
  "language_info": {
   "codemirror_mode": {
    "name": "ipython",
    "version": 3
   },
   "file_extension": ".py",
   "mimetype": "text/x-python",
   "name": "python",
   "nbconvert_exporter": "python",
   "pygments_lexer": "ipython3",
   "version": "3.8.5"
  }
 },
 "nbformat": 4,
 "nbformat_minor": 4
}

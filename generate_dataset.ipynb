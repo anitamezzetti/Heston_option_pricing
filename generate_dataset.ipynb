{
  "nbformat": 4,
  "nbformat_minor": 0,
  "metadata": {
    "kernelspec": {
      "display_name": "fbd",
      "language": "python",
      "name": "fbd"
    },
    "language_info": {
      "codemirror_mode": {
        "name": "ipython",
        "version": 3
      },
      "file_extension": ".py",
      "mimetype": "text/x-python",
      "name": "python",
      "nbconvert_exporter": "python",
      "pygments_lexer": "ipython3",
      "version": "3.8.5"
    },
    "colab": {
      "name": "generate_dataset.ipynb",
      "provenance": [],
      "include_colab_link": true
    }
  },
  "cells": [
    {
      "cell_type": "markdown",
      "metadata": {
        "id": "view-in-github",
        "colab_type": "text"
      },
      "source": [
        "<a href=\"https://colab.research.google.com/github/anitamezzetti/ML_finance/blob/main/generate_dataset.ipynb\" target=\"_parent\"><img src=\"https://colab.research.google.com/assets/colab-badge.svg\" alt=\"Open In Colab\"/></a>"
      ]
    },
    {
      "cell_type": "code",
      "metadata": {
        "id": "Fd95GEZz_3ZC"
      },
      "source": [
        "import numpy as np\n",
        "import os\n",
        "from time import time\n",
        "import matplotlib.pyplot as plt\n",
        "import pandas as pd"
      ],
      "execution_count": 20,
      "outputs": []
    },
    {
      "cell_type": "code",
      "metadata": {
        "id": "C4ux4-U7_3ZD"
      },
      "source": [
        "start = time()\n",
        "\n",
        "# Set the constants\n",
        "# -----------------------------------------------------------------------------------\n",
        "r = 0\n",
        "S0 = k = 2.0\n",
        "t_max = 1.0\n",
        "V0 = 0.010201\n",
        "sigma = 0.61\n",
        "theta = 0.019\n",
        "kappa = 6.21\n",
        "\n",
        "T1 = 10\n",
        "\n",
        "rho_choice = np.array([-0.5, -0.7, -0.9])\n",
        "rho_probability = np.array([0.25, 0.5, 0.25])"
      ],
      "execution_count": 21,
      "outputs": []
    },
    {
      "cell_type": "markdown",
      "metadata": {
        "id": "UUijZcCs_3ZE"
      },
      "source": [
        "Stock prices simulation:"
      ]
    },
    {
      "cell_type": "code",
      "metadata": {
        "id": "KjKjTk_h_3ZE"
      },
      "source": [
        "def stock_price_generator (t_max, n ,m, r, S0, k, V0, sigma, theta, kappa, rho_choice, rho_probability):\n",
        "    dt = t_max / n\n",
        "    \n",
        "    # Brownian motions:\n",
        "    dw_v = np.random.normal(size=(m, n)) * np.sqrt(dt)\n",
        "    dw_i = np.random.normal(size=(m, n)) * np.sqrt(dt)\n",
        "\n",
        "    rho = np.random.choice(rho_choice, size=(m, 1), p = rho_probability)\n",
        "    dw_s = rho * dw_v + np.sqrt(1.0 - rho ** 2) * dw_i\n",
        "\n",
        "    # Perform time evolution \n",
        "    s = np.empty((m, n + 1)) # initialisation stock prices vector\n",
        "    s[:, 0] = S0\n",
        "\n",
        "    v = np.ones(m) * V0\n",
        "\n",
        "    for t in range(n):\n",
        "        dv = kappa * (theta - v) * dt + sigma * np.sqrt(v) * dw_v[:, t]\n",
        "        ds = r * s[:, t] * dt + np.sqrt(v) * s[:, t] * dw_s[:, t]\n",
        "\n",
        "        v = np.clip(v + dv, a_min=0.0, a_max=None)\n",
        "        s[:, t + 1] = s[:, t] + ds\n",
        "      \n",
        "        \n",
        "    return s\n",
        "    "
      ],
      "execution_count": 22,
      "outputs": []
    },
    {
      "cell_type": "code",
      "metadata": {
        "id": "ttzElfx7_3ZF"
      },
      "source": [
        "def find_expected_payoff(stock_path, k, r, t_max):\n",
        "    payoff = max(stock_path[-1] - k, 0) # one payoff for each simulation\n",
        "    c = payoff * np.exp(-r * t_max)     # in case r=0, this step is useless\n",
        "    \n",
        "    return c"
      ],
      "execution_count": 23,
      "outputs": []
    },
    {
      "cell_type": "code",
      "metadata": {
        "id": "SZusfSVY_3ZF"
      },
      "source": [
        "time_maturity = [0.5, 1, 2, 5]\n",
        "num_times = [100, 250, 500]\n",
        "num_simulations = [100, 500, 1000]"
      ],
      "execution_count": 24,
      "outputs": []
    },
    {
      "cell_type": "code",
      "metadata": {
        "id": "t6OJ8LBNRdaT"
      },
      "source": [
        "df = pd.DataFrame(columns=['price', 'stock', 'maturity'])"
      ],
      "execution_count": 25,
      "outputs": []
    },
    {
      "cell_type": "code",
      "metadata": {
        "id": "eUSPiN1j_3ZF"
      },
      "source": [
        "# fill the dataset\n",
        "for t in time_maturity:\n",
        "    for n in num_times:\n",
        "        for m in num_simulations:\n",
        "            s = stock_price_generator (t, n ,m, r, S0, k, V0, sigma, theta, kappa, rho_choice, rho_probability)\n",
        "\n",
        "            for stock_path in s:\n",
        "                p = find_expected_payoff(stock_path, k, r, t)\n",
        "\n",
        "                new_row = {'price':p, 'stock':stock_path[T1], 'maturity':t}\n",
        "                #append row to the dataframe\n",
        "                df = df.append(new_row, ignore_index=True)\n"
      ],
      "execution_count": 26,
      "outputs": []
    },
    {
      "cell_type": "code",
      "metadata": {
        "id": "H4hGw1iDSuyK",
        "outputId": "9c61241d-78c7-491b-dfa3-f61dc2c650da",
        "colab": {
          "base_uri": "https://localhost:8080/",
          "height": 206
        }
      },
      "source": [
        "df.head()"
      ],
      "execution_count": 29,
      "outputs": [
        {
          "output_type": "execute_result",
          "data": {
            "text/html": [
              "<div>\n",
              "<style scoped>\n",
              "    .dataframe tbody tr th:only-of-type {\n",
              "        vertical-align: middle;\n",
              "    }\n",
              "\n",
              "    .dataframe tbody tr th {\n",
              "        vertical-align: top;\n",
              "    }\n",
              "\n",
              "    .dataframe thead th {\n",
              "        text-align: right;\n",
              "    }\n",
              "</style>\n",
              "<table border=\"1\" class=\"dataframe\">\n",
              "  <thead>\n",
              "    <tr style=\"text-align: right;\">\n",
              "      <th></th>\n",
              "      <th>price</th>\n",
              "      <th>stock</th>\n",
              "      <th>maturity</th>\n",
              "    </tr>\n",
              "  </thead>\n",
              "  <tbody>\n",
              "    <tr>\n",
              "      <th>0</th>\n",
              "      <td>0.039887</td>\n",
              "      <td>1.877205</td>\n",
              "      <td>0.5</td>\n",
              "    </tr>\n",
              "    <tr>\n",
              "      <th>1</th>\n",
              "      <td>0.056898</td>\n",
              "      <td>2.016422</td>\n",
              "      <td>0.5</td>\n",
              "    </tr>\n",
              "    <tr>\n",
              "      <th>2</th>\n",
              "      <td>0.000000</td>\n",
              "      <td>1.963161</td>\n",
              "      <td>0.5</td>\n",
              "    </tr>\n",
              "    <tr>\n",
              "      <th>3</th>\n",
              "      <td>0.190351</td>\n",
              "      <td>2.035750</td>\n",
              "      <td>0.5</td>\n",
              "    </tr>\n",
              "    <tr>\n",
              "      <th>4</th>\n",
              "      <td>0.000000</td>\n",
              "      <td>1.943493</td>\n",
              "      <td>0.5</td>\n",
              "    </tr>\n",
              "  </tbody>\n",
              "</table>\n",
              "</div>"
            ],
            "text/plain": [
              "      price     stock  maturity\n",
              "0  0.039887  1.877205       0.5\n",
              "1  0.056898  2.016422       0.5\n",
              "2  0.000000  1.963161       0.5\n",
              "3  0.190351  2.035750       0.5\n",
              "4  0.000000  1.943493       0.5"
            ]
          },
          "metadata": {
            "tags": []
          },
          "execution_count": 29
        }
      ]
    },
    {
      "cell_type": "code",
      "metadata": {
        "id": "Anw_zhB5E2MI",
        "outputId": "212ab73c-c609-4847-e6b5-e1fef2b577d9",
        "colab": {
          "base_uri": "https://localhost:8080/"
        }
      },
      "source": [
        "len(df)"
      ],
      "execution_count": 28,
      "outputs": [
        {
          "output_type": "execute_result",
          "data": {
            "text/plain": [
              "19200"
            ]
          },
          "metadata": {
            "tags": []
          },
          "execution_count": 28
        }
      ]
    },
    {
      "cell_type": "code",
      "metadata": {
        "id": "K74vhaQcUZ1Y",
        "outputId": "4f149980-94b0-4fd7-a332-d455119bcab7",
        "colab": {
          "base_uri": "https://localhost:8080/",
          "height": 175
        }
      },
      "source": [
        "df.to_csv(data.csv)"
      ],
      "execution_count": 31,
      "outputs": [
        {
          "output_type": "error",
          "ename": "NameError",
          "evalue": "ignored",
          "traceback": [
            "\u001b[0;31m---------------------------------------------------------------------------\u001b[0m",
            "\u001b[0;31mNameError\u001b[0m                                 Traceback (most recent call last)",
            "\u001b[0;32m<ipython-input-31-7a5c562dad46>\u001b[0m in \u001b[0;36m<module>\u001b[0;34m()\u001b[0m\n\u001b[0;32m----> 1\u001b[0;31m \u001b[0mdf\u001b[0m\u001b[0;34m.\u001b[0m\u001b[0mto_csv\u001b[0m\u001b[0;34m(\u001b[0m\u001b[0mdata\u001b[0m\u001b[0;34m.\u001b[0m\u001b[0mcsv\u001b[0m\u001b[0;34m)\u001b[0m\u001b[0;34m\u001b[0m\u001b[0;34m\u001b[0m\u001b[0m\n\u001b[0m",
            "\u001b[0;31mNameError\u001b[0m: name 'data' is not defined"
          ]
        }
      ]
    },
    {
      "cell_type": "code",
      "metadata": {
        "id": "3Ia4Eoo5UsIA"
      },
      "source": [
        ""
      ],
      "execution_count": null,
      "outputs": []
    }
  ]
}
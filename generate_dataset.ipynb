{
 "cells": [
  {
   "cell_type": "markdown",
   "metadata": {
    "colab_type": "text",
    "id": "view-in-github"
   },
   "source": [
    "<a href=\"https://colab.research.google.com/github/anitamezzetti/ML_finance/blob/main/generate_dataset.ipynb\" target=\"_parent\"><img src=\"https://colab.research.google.com/assets/colab-badge.svg\" alt=\"Open In Colab\"/></a>"
   ]
  },
  {
   "cell_type": "code",
   "execution_count": 1,
   "metadata": {
    "id": "Fd95GEZz_3ZC"
   },
   "outputs": [],
   "source": [
    "import numpy as np\n",
    "import os\n",
    "from time import time\n",
    "import matplotlib.pyplot as plt\n",
    "import pandas as pd"
   ]
  },
  {
   "cell_type": "code",
   "execution_count": 2,
   "metadata": {
    "id": "C4ux4-U7_3ZD"
   },
   "outputs": [],
   "source": [
    "start = time()\n",
    "\n",
    "# Set the constants\n",
    "# -----------------------------------------------------------------------------------\n",
    "r = 0\n",
    "S0 = k = 2.0\n",
    "t_max = 1.0\n",
    "V0 = 0.010201\n",
    "sigma = 0.61\n",
    "theta = 0.019\n",
    "kappa = 6.21\n",
    "\n",
    "T1 = 10\n",
    "\n",
    "rho = -0.5"
   ]
  },
  {
   "cell_type": "markdown",
   "metadata": {
    "id": "UUijZcCs_3ZE"
   },
   "source": [
    "Stock prices simulation:"
   ]
  },
  {
   "cell_type": "code",
   "execution_count": 3,
   "metadata": {
    "id": "KjKjTk_h_3ZE"
   },
   "outputs": [],
   "source": [
    "def stock_price_generator (t_max, n ,m, r, S0, k, V0, sigma, theta, kappa, rho_choice, rho_probability):\n",
    "    dt = t_max / n\n",
    "    \n",
    "    # Brownian motions:\n",
    "    dw_v = np.random.normal(size=(m, n)) * np.sqrt(dt)\n",
    "    dw_i = np.random.normal(size=(m, n)) * np.sqrt(dt)\n",
    "\n",
    "    rho = np.random.choice(rho_choice, size=(m, 1), p = rho_probability)\n",
    "    dw_s = rho * dw_v + np.sqrt(1.0 - rho ** 2) * dw_i\n",
    "\n",
    "    # Perform time evolution \n",
    "    s = np.empty((m, n + 1)) # initialisation stock prices vector\n",
    "    s[:, 0] = S0\n",
    "\n",
    "    v = np.ones(m) * V0\n",
    "\n",
    "    for t in range(n):\n",
    "        dv = kappa * (theta - v) * dt + sigma * np.sqrt(v) * dw_v[:, t]\n",
    "        ds = r * s[:, t] * dt + np.sqrt(v) * s[:, t] * dw_s[:, t]\n",
    "\n",
    "        v = np.clip(v + dv, a_min=0.0, a_max=None)\n",
    "        s[:, t + 1] = s[:, t] + ds\n",
    "      \n",
    "        \n",
    "    return s\n",
    "    "
   ]
  },
  {
   "cell_type": "code",
   "execution_count": 4,
   "metadata": {
    "id": "ttzElfx7_3ZF"
   },
   "outputs": [],
   "source": [
    "def find_expected_payoff(stock_path, k, r, t_max):\n",
    "    payoff = max(stock_path[-1] - k, 0) # one payoff for each simulation\n",
    "    c = payoff * np.exp(-r * t_max)     # in case r=0, this step is useless\n",
    "    \n",
    "    return c"
   ]
  },
  {
   "cell_type": "code",
   "execution_count": 5,
   "metadata": {
    "id": "SZusfSVY_3ZF"
   },
   "outputs": [],
   "source": [
    "time_maturity = [0.5, 1, 2, 5]\n",
    "num_times = [100, 250, 500]\n",
    "num_simulations = [100, 500, 1000]"
   ]
  },
  {
   "cell_type": "code",
   "execution_count": 6,
   "metadata": {
    "id": "t6OJ8LBNRdaT"
   },
   "outputs": [],
   "source": [
    "df = pd.DataFrame(columns=['price', 'stock', 'maturity'])"
   ]
  },
  {
   "cell_type": "code",
   "execution_count": 7,
   "metadata": {
    "id": "eUSPiN1j_3ZF"
   },
   "outputs": [],
   "source": [
    "# fill the dataset\n",
    "for t in time_maturity:\n",
    "    for n in num_times:\n",
    "        for m in num_simulations:\n",
    "            s = stock_price_generator (t, n ,m, r, S0, k, V0, sigma, theta, kappa, rho_choice, rho_probability)\n",
    "\n",
    "            for stock_path in s:\n",
    "                p = find_expected_payoff(stock_path, k, r, t)\n",
    "\n",
    "                new_row = {'price':p, 'stock':stock_path[T1], 'maturity':t}\n",
    "                #append row to the dataframe\n",
    "                df = df.append(new_row, ignore_index=True)\n"
   ]
  },
  {
   "cell_type": "code",
   "execution_count": 8,
   "metadata": {
    "colab": {
     "base_uri": "https://localhost:8080/",
     "height": 206
    },
    "id": "H4hGw1iDSuyK",
    "outputId": "9c61241d-78c7-491b-dfa3-f61dc2c650da"
   },
   "outputs": [
    {
     "data": {
      "text/html": [
       "<div>\n",
       "<style scoped>\n",
       "    .dataframe tbody tr th:only-of-type {\n",
       "        vertical-align: middle;\n",
       "    }\n",
       "\n",
       "    .dataframe tbody tr th {\n",
       "        vertical-align: top;\n",
       "    }\n",
       "\n",
       "    .dataframe thead th {\n",
       "        text-align: right;\n",
       "    }\n",
       "</style>\n",
       "<table border=\"1\" class=\"dataframe\">\n",
       "  <thead>\n",
       "    <tr style=\"text-align: right;\">\n",
       "      <th></th>\n",
       "      <th>price</th>\n",
       "      <th>stock</th>\n",
       "      <th>maturity</th>\n",
       "    </tr>\n",
       "  </thead>\n",
       "  <tbody>\n",
       "    <tr>\n",
       "      <th>0</th>\n",
       "      <td>0.000000</td>\n",
       "      <td>2.035873</td>\n",
       "      <td>0.5</td>\n",
       "    </tr>\n",
       "    <tr>\n",
       "      <th>1</th>\n",
       "      <td>0.133383</td>\n",
       "      <td>2.049620</td>\n",
       "      <td>0.5</td>\n",
       "    </tr>\n",
       "    <tr>\n",
       "      <th>2</th>\n",
       "      <td>0.091578</td>\n",
       "      <td>1.915976</td>\n",
       "      <td>0.5</td>\n",
       "    </tr>\n",
       "    <tr>\n",
       "      <th>3</th>\n",
       "      <td>0.317487</td>\n",
       "      <td>2.010661</td>\n",
       "      <td>0.5</td>\n",
       "    </tr>\n",
       "    <tr>\n",
       "      <th>4</th>\n",
       "      <td>0.142101</td>\n",
       "      <td>2.027230</td>\n",
       "      <td>0.5</td>\n",
       "    </tr>\n",
       "  </tbody>\n",
       "</table>\n",
       "</div>"
      ],
      "text/plain": [
       "      price     stock  maturity\n",
       "0  0.000000  2.035873       0.5\n",
       "1  0.133383  2.049620       0.5\n",
       "2  0.091578  1.915976       0.5\n",
       "3  0.317487  2.010661       0.5\n",
       "4  0.142101  2.027230       0.5"
      ]
     },
     "execution_count": 8,
     "metadata": {},
     "output_type": "execute_result"
    }
   ],
   "source": [
    "df.head()"
   ]
  },
  {
   "cell_type": "code",
   "execution_count": 9,
   "metadata": {
    "colab": {
     "base_uri": "https://localhost:8080/"
    },
    "id": "Anw_zhB5E2MI",
    "outputId": "212ab73c-c609-4847-e6b5-e1fef2b577d9"
   },
   "outputs": [
    {
     "data": {
      "text/plain": [
       "19200"
      ]
     },
     "execution_count": 9,
     "metadata": {},
     "output_type": "execute_result"
    }
   ],
   "source": [
    "len(df)"
   ]
  },
  {
   "cell_type": "code",
   "execution_count": 11,
   "metadata": {
    "colab": {
     "base_uri": "https://localhost:8080/",
     "height": 175
    },
    "id": "K74vhaQcUZ1Y",
    "outputId": "4f149980-94b0-4fd7-a332-d455119bcab7"
   },
   "outputs": [],
   "source": [
    "df.to_csv(\"data.csv\")"
   ]
  },
  {
   "cell_type": "code",
   "execution_count": null,
   "metadata": {
    "id": "3Ia4Eoo5UsIA"
   },
   "outputs": [],
   "source": []
  },
  {
   "cell_type": "code",
   "execution_count": null,
   "metadata": {},
   "outputs": [],
   "source": []
  }
 ],
 "metadata": {
  "colab": {
   "include_colab_link": true,
   "name": "generate_dataset.ipynb",
   "provenance": []
  },
  "kernelspec": {
   "display_name": "fbd",
   "language": "python",
   "name": "fbd"
  },
  "language_info": {
   "codemirror_mode": {
    "name": "ipython",
    "version": 3
   },
   "file_extension": ".py",
   "mimetype": "text/x-python",
   "name": "python",
   "nbconvert_exporter": "python",
   "pygments_lexer": "ipython3",
   "version": "3.8.5"
  }
 },
 "nbformat": 4,
 "nbformat_minor": 4
}

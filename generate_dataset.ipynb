{
  "nbformat": 4,
  "nbformat_minor": 0,
  "metadata": {
    "kernelspec": {
      "display_name": "fbd",
      "language": "python",
      "name": "fbd"
    },
    "language_info": {
      "codemirror_mode": {
        "name": "ipython",
        "version": 3
      },
      "file_extension": ".py",
      "mimetype": "text/x-python",
      "name": "python",
      "nbconvert_exporter": "python",
      "pygments_lexer": "ipython3",
      "version": "3.8.5"
    },
    "colab": {
      "name": "generate_dataset.ipynb",
      "provenance": [],
      "include_colab_link": true
    }
  },
  "cells": [
    {
      "cell_type": "markdown",
      "metadata": {
        "id": "view-in-github",
        "colab_type": "text"
      },
      "source": [
        "<a href=\"https://colab.research.google.com/github/anitamezzetti/ML_finance/blob/main/generate_dataset.ipynb\" target=\"_parent\"><img src=\"https://colab.research.google.com/assets/colab-badge.svg\" alt=\"Open In Colab\"/></a>"
      ]
    },
    {
      "cell_type": "code",
      "metadata": {
        "id": "Fd95GEZz_3ZC"
      },
      "source": [
        "import numpy as np\n",
        "import os\n",
        "from time import time\n",
        "import matplotlib.pyplot as plt\n",
        "import pandas as pd"
      ],
      "execution_count": 1,
      "outputs": []
    },
    {
      "cell_type": "code",
      "metadata": {
        "id": "C4ux4-U7_3ZD"
      },
      "source": [
        "start = time()\n",
        "\n",
        "# Set the constants\n",
        "# -----------------------------------------------------------------------------------\n",
        "r = 0\n",
        "S0 = k = 2.0\n",
        "t_max = 1.0\n",
        "V0 = 0.010201\n",
        "sigma = 0.61\n",
        "theta = 0.019\n",
        "kappa = 6.21\n",
        "\n",
        "rho_choice = np.array([-0.5, -0.7, -0.9])\n",
        "rho_probability = np.array([0.25, 0.5, 0.25])"
      ],
      "execution_count": 2,
      "outputs": []
    },
    {
      "cell_type": "markdown",
      "metadata": {
        "id": "UUijZcCs_3ZE"
      },
      "source": [
        "Stock prices simulation:"
      ]
    },
    {
      "cell_type": "code",
      "metadata": {
        "id": "KjKjTk_h_3ZE"
      },
      "source": [
        "def stock_price_generator (t_max, n ,m, r, S0, k, V0, sigma, theta, kappa, rho_choice, rho_probability):\n",
        "    dt = t_max / n\n",
        "    \n",
        "    # Brownian motions:\n",
        "    dw_v = np.random.normal(size=(m, n)) * np.sqrt(dt)\n",
        "    dw_i = np.random.normal(size=(m, n)) * np.sqrt(dt)\n",
        "\n",
        "    rho = np.random.choice(rho_choice, size=(m, 1), p = rho_probability)\n",
        "    dw_s = rho * dw_v + np.sqrt(1.0 - rho ** 2) * dw_i\n",
        "\n",
        "    # Perform time evolution \n",
        "    s = np.empty((m, n + 1)) # initialisation stock prices vector\n",
        "    s[:, 0] = S0\n",
        "\n",
        "    v = np.ones(m) * V0\n",
        "\n",
        "    for t in range(n):\n",
        "        dv = kappa * (theta - v) * dt + sigma * np.sqrt(v) * dw_v[:, t]\n",
        "        ds = r * s[:, t] * dt + np.sqrt(v) * s[:, t] * dw_s[:, t]\n",
        "\n",
        "        v = np.clip(v + dv, a_min=0.0, a_max=None)\n",
        "        s[:, t + 1] = s[:, t] + ds\n",
        "        \n",
        "        \n",
        "    return s\n",
        "    "
      ],
      "execution_count": 8,
      "outputs": []
    },
    {
      "cell_type": "code",
      "metadata": {
        "id": "ttzElfx7_3ZF"
      },
      "source": [
        "def find_expected_payoff(stock_path, k, r, t_max):\n",
        "    payoff = max(stock_path[-1] - k, 0) # one payoff for each simulation\n",
        "    c = payoff * np.exp(-r * t_max)     # in case r=0, this step is useless\n",
        "    \n",
        "    return c"
      ],
      "execution_count": 9,
      "outputs": []
    },
    {
      "cell_type": "code",
      "metadata": {
        "id": "SZusfSVY_3ZF"
      },
      "source": [
        "time_maturity = [0.5, 1, 2, 5]\n",
        "num_times = [100, 250, 500]\n",
        "num_simulations = [500, 1000]"
      ],
      "execution_count": 10,
      "outputs": []
    },
    {
      "cell_type": "code",
      "metadata": {
        "id": "eUSPiN1j_3ZF"
      },
      "source": [
        "for t in time_maturity[:1]:\n",
        "    for n in num_times[:1]:\n",
        "        for m in num_simulations[:1]:\n",
        "            s = stock_price_generator (t_max, n ,m, r, S0, k, V0, sigma, theta, kappa, rho_choice, rho_probability)\n",
        "\n",
        "            payoff = []\n",
        "            for stock_path in s:\n",
        "                payoff = np.append (payoff, find_expected_payoff(stock_path, k, r, t_max))"
      ],
      "execution_count": 11,
      "outputs": []
    },
    {
      "cell_type": "code",
      "metadata": {
        "id": "g1J8LZBeDRsg",
        "outputId": "18598ba9-d21d-45dd-ea1e-d4ad27a9b6be",
        "colab": {
          "base_uri": "https://localhost:8080/",
          "height": 405
        }
      },
      "source": [
        "from plotnine import ggplot, aes, geom_point, geom_line, ggtitle\n",
        "\n",
        "s = np.asmatrix(s)\n",
        "\n",
        "df = pd.DataFrame({'X':np.squeeze(s[:,10]), 'Y':payoff})\n",
        "\n",
        "(ggplot(df) + \n",
        "    geom_point(aes(x='X', y='Y'), alpha=0.05) +\n",
        "    geom_line(aes(x='X', y='bs'), color=\"red\") +\n",
        "    ggtitle(\"Simulated call option payoffs and exact B&S pricing function\")\n",
        ")"
      ],
      "execution_count": 20,
      "outputs": [
        {
          "output_type": "error",
          "ename": "Exception",
          "evalue": "ignored",
          "traceback": [
            "\u001b[0;31m---------------------------------------------------------------------------\u001b[0m",
            "\u001b[0;31mException\u001b[0m                                 Traceback (most recent call last)",
            "\u001b[0;32m<ipython-input-20-7f590d86d56a>\u001b[0m in \u001b[0;36m<module>\u001b[0;34m()\u001b[0m\n\u001b[1;32m      3\u001b[0m \u001b[0ms\u001b[0m \u001b[0;34m=\u001b[0m \u001b[0mnp\u001b[0m\u001b[0;34m.\u001b[0m\u001b[0masmatrix\u001b[0m\u001b[0;34m(\u001b[0m\u001b[0ms\u001b[0m\u001b[0;34m)\u001b[0m\u001b[0;34m\u001b[0m\u001b[0;34m\u001b[0m\u001b[0m\n\u001b[1;32m      4\u001b[0m \u001b[0;34m\u001b[0m\u001b[0m\n\u001b[0;32m----> 5\u001b[0;31m \u001b[0mdf\u001b[0m \u001b[0;34m=\u001b[0m \u001b[0mpd\u001b[0m\u001b[0;34m.\u001b[0m\u001b[0mDataFrame\u001b[0m\u001b[0;34m(\u001b[0m\u001b[0;34m{\u001b[0m\u001b[0;34m'X'\u001b[0m\u001b[0;34m:\u001b[0m\u001b[0mnp\u001b[0m\u001b[0;34m.\u001b[0m\u001b[0msqueeze\u001b[0m\u001b[0;34m(\u001b[0m\u001b[0ms\u001b[0m\u001b[0;34m[\u001b[0m\u001b[0;34m:\u001b[0m\u001b[0;34m,\u001b[0m\u001b[0;36m10\u001b[0m\u001b[0;34m]\u001b[0m\u001b[0;34m)\u001b[0m\u001b[0;34m,\u001b[0m \u001b[0;34m'Y'\u001b[0m\u001b[0;34m:\u001b[0m\u001b[0mpayoff\u001b[0m\u001b[0;34m}\u001b[0m\u001b[0;34m)\u001b[0m\u001b[0;34m\u001b[0m\u001b[0;34m\u001b[0m\u001b[0m\n\u001b[0m\u001b[1;32m      6\u001b[0m \u001b[0;34m\u001b[0m\u001b[0m\n\u001b[1;32m      7\u001b[0m (ggplot(df) + \n",
            "\u001b[0;32m/usr/local/lib/python3.6/dist-packages/pandas/core/frame.py\u001b[0m in \u001b[0;36m__init__\u001b[0;34m(self, data, index, columns, dtype, copy)\u001b[0m\n\u001b[1;32m    466\u001b[0m \u001b[0;34m\u001b[0m\u001b[0m\n\u001b[1;32m    467\u001b[0m         \u001b[0;32melif\u001b[0m \u001b[0misinstance\u001b[0m\u001b[0;34m(\u001b[0m\u001b[0mdata\u001b[0m\u001b[0;34m,\u001b[0m \u001b[0mdict\u001b[0m\u001b[0;34m)\u001b[0m\u001b[0;34m:\u001b[0m\u001b[0;34m\u001b[0m\u001b[0;34m\u001b[0m\u001b[0m\n\u001b[0;32m--> 468\u001b[0;31m             \u001b[0mmgr\u001b[0m \u001b[0;34m=\u001b[0m \u001b[0minit_dict\u001b[0m\u001b[0;34m(\u001b[0m\u001b[0mdata\u001b[0m\u001b[0;34m,\u001b[0m \u001b[0mindex\u001b[0m\u001b[0;34m,\u001b[0m \u001b[0mcolumns\u001b[0m\u001b[0;34m,\u001b[0m \u001b[0mdtype\u001b[0m\u001b[0;34m=\u001b[0m\u001b[0mdtype\u001b[0m\u001b[0;34m)\u001b[0m\u001b[0;34m\u001b[0m\u001b[0;34m\u001b[0m\u001b[0m\n\u001b[0m\u001b[1;32m    469\u001b[0m         \u001b[0;32melif\u001b[0m \u001b[0misinstance\u001b[0m\u001b[0;34m(\u001b[0m\u001b[0mdata\u001b[0m\u001b[0;34m,\u001b[0m \u001b[0mma\u001b[0m\u001b[0;34m.\u001b[0m\u001b[0mMaskedArray\u001b[0m\u001b[0;34m)\u001b[0m\u001b[0;34m:\u001b[0m\u001b[0;34m\u001b[0m\u001b[0;34m\u001b[0m\u001b[0m\n\u001b[1;32m    470\u001b[0m             \u001b[0;32mimport\u001b[0m \u001b[0mnumpy\u001b[0m\u001b[0;34m.\u001b[0m\u001b[0mma\u001b[0m\u001b[0;34m.\u001b[0m\u001b[0mmrecords\u001b[0m \u001b[0;32mas\u001b[0m \u001b[0mmrecords\u001b[0m\u001b[0;34m\u001b[0m\u001b[0;34m\u001b[0m\u001b[0m\n",
            "\u001b[0;32m/usr/local/lib/python3.6/dist-packages/pandas/core/internals/construction.py\u001b[0m in \u001b[0;36minit_dict\u001b[0;34m(data, index, columns, dtype)\u001b[0m\n\u001b[1;32m    281\u001b[0m             \u001b[0marr\u001b[0m \u001b[0;32mif\u001b[0m \u001b[0;32mnot\u001b[0m \u001b[0mis_datetime64tz_dtype\u001b[0m\u001b[0;34m(\u001b[0m\u001b[0marr\u001b[0m\u001b[0;34m)\u001b[0m \u001b[0;32melse\u001b[0m \u001b[0marr\u001b[0m\u001b[0;34m.\u001b[0m\u001b[0mcopy\u001b[0m\u001b[0;34m(\u001b[0m\u001b[0;34m)\u001b[0m \u001b[0;32mfor\u001b[0m \u001b[0marr\u001b[0m \u001b[0;32min\u001b[0m \u001b[0marrays\u001b[0m\u001b[0;34m\u001b[0m\u001b[0;34m\u001b[0m\u001b[0m\n\u001b[1;32m    282\u001b[0m         ]\n\u001b[0;32m--> 283\u001b[0;31m     \u001b[0;32mreturn\u001b[0m \u001b[0marrays_to_mgr\u001b[0m\u001b[0;34m(\u001b[0m\u001b[0marrays\u001b[0m\u001b[0;34m,\u001b[0m \u001b[0mdata_names\u001b[0m\u001b[0;34m,\u001b[0m \u001b[0mindex\u001b[0m\u001b[0;34m,\u001b[0m \u001b[0mcolumns\u001b[0m\u001b[0;34m,\u001b[0m \u001b[0mdtype\u001b[0m\u001b[0;34m=\u001b[0m\u001b[0mdtype\u001b[0m\u001b[0;34m)\u001b[0m\u001b[0;34m\u001b[0m\u001b[0;34m\u001b[0m\u001b[0m\n\u001b[0m\u001b[1;32m    284\u001b[0m \u001b[0;34m\u001b[0m\u001b[0m\n\u001b[1;32m    285\u001b[0m \u001b[0;34m\u001b[0m\u001b[0m\n",
            "\u001b[0;32m/usr/local/lib/python3.6/dist-packages/pandas/core/internals/construction.py\u001b[0m in \u001b[0;36marrays_to_mgr\u001b[0;34m(arrays, arr_names, index, columns, dtype, verify_integrity)\u001b[0m\n\u001b[1;32m     81\u001b[0m \u001b[0;34m\u001b[0m\u001b[0m\n\u001b[1;32m     82\u001b[0m         \u001b[0;31m# don't force copy because getting jammed in an ndarray anyway\u001b[0m\u001b[0;34m\u001b[0m\u001b[0;34m\u001b[0m\u001b[0;34m\u001b[0m\u001b[0m\n\u001b[0;32m---> 83\u001b[0;31m         \u001b[0marrays\u001b[0m \u001b[0;34m=\u001b[0m \u001b[0m_homogenize\u001b[0m\u001b[0;34m(\u001b[0m\u001b[0marrays\u001b[0m\u001b[0;34m,\u001b[0m \u001b[0mindex\u001b[0m\u001b[0;34m,\u001b[0m \u001b[0mdtype\u001b[0m\u001b[0;34m)\u001b[0m\u001b[0;34m\u001b[0m\u001b[0;34m\u001b[0m\u001b[0m\n\u001b[0m\u001b[1;32m     84\u001b[0m \u001b[0;34m\u001b[0m\u001b[0m\n\u001b[1;32m     85\u001b[0m         \u001b[0mcolumns\u001b[0m \u001b[0;34m=\u001b[0m \u001b[0mensure_index\u001b[0m\u001b[0;34m(\u001b[0m\u001b[0mcolumns\u001b[0m\u001b[0;34m)\u001b[0m\u001b[0;34m\u001b[0m\u001b[0;34m\u001b[0m\u001b[0m\n",
            "\u001b[0;32m/usr/local/lib/python3.6/dist-packages/pandas/core/internals/construction.py\u001b[0m in \u001b[0;36m_homogenize\u001b[0;34m(data, index, dtype)\u001b[0m\n\u001b[1;32m    350\u001b[0m                 \u001b[0mval\u001b[0m \u001b[0;34m=\u001b[0m \u001b[0mlib\u001b[0m\u001b[0;34m.\u001b[0m\u001b[0mfast_multiget\u001b[0m\u001b[0;34m(\u001b[0m\u001b[0mval\u001b[0m\u001b[0;34m,\u001b[0m \u001b[0moindex\u001b[0m\u001b[0;34m.\u001b[0m\u001b[0m_values\u001b[0m\u001b[0;34m,\u001b[0m \u001b[0mdefault\u001b[0m\u001b[0;34m=\u001b[0m\u001b[0mnp\u001b[0m\u001b[0;34m.\u001b[0m\u001b[0mnan\u001b[0m\u001b[0;34m)\u001b[0m\u001b[0;34m\u001b[0m\u001b[0;34m\u001b[0m\u001b[0m\n\u001b[1;32m    351\u001b[0m             val = sanitize_array(\n\u001b[0;32m--> 352\u001b[0;31m                 \u001b[0mval\u001b[0m\u001b[0;34m,\u001b[0m \u001b[0mindex\u001b[0m\u001b[0;34m,\u001b[0m \u001b[0mdtype\u001b[0m\u001b[0;34m=\u001b[0m\u001b[0mdtype\u001b[0m\u001b[0;34m,\u001b[0m \u001b[0mcopy\u001b[0m\u001b[0;34m=\u001b[0m\u001b[0;32mFalse\u001b[0m\u001b[0;34m,\u001b[0m \u001b[0mraise_cast_failure\u001b[0m\u001b[0;34m=\u001b[0m\u001b[0;32mFalse\u001b[0m\u001b[0;34m\u001b[0m\u001b[0;34m\u001b[0m\u001b[0m\n\u001b[0m\u001b[1;32m    353\u001b[0m             )\n\u001b[1;32m    354\u001b[0m \u001b[0;34m\u001b[0m\u001b[0m\n",
            "\u001b[0;32m/usr/local/lib/python3.6/dist-packages/pandas/core/construction.py\u001b[0m in \u001b[0;36msanitize_array\u001b[0;34m(data, index, dtype, copy, raise_cast_failure)\u001b[0m\n\u001b[1;32m    494\u001b[0m     \u001b[0;32melif\u001b[0m \u001b[0msubarr\u001b[0m\u001b[0;34m.\u001b[0m\u001b[0mndim\u001b[0m \u001b[0;34m>\u001b[0m \u001b[0;36m1\u001b[0m\u001b[0;34m:\u001b[0m\u001b[0;34m\u001b[0m\u001b[0;34m\u001b[0m\u001b[0m\n\u001b[1;32m    495\u001b[0m         \u001b[0;32mif\u001b[0m \u001b[0misinstance\u001b[0m\u001b[0;34m(\u001b[0m\u001b[0mdata\u001b[0m\u001b[0;34m,\u001b[0m \u001b[0mnp\u001b[0m\u001b[0;34m.\u001b[0m\u001b[0mndarray\u001b[0m\u001b[0;34m)\u001b[0m\u001b[0;34m:\u001b[0m\u001b[0;34m\u001b[0m\u001b[0;34m\u001b[0m\u001b[0m\n\u001b[0;32m--> 496\u001b[0;31m             \u001b[0;32mraise\u001b[0m \u001b[0mException\u001b[0m\u001b[0;34m(\u001b[0m\u001b[0;34m\"Data must be 1-dimensional\"\u001b[0m\u001b[0;34m)\u001b[0m\u001b[0;34m\u001b[0m\u001b[0;34m\u001b[0m\u001b[0m\n\u001b[0m\u001b[1;32m    497\u001b[0m         \u001b[0;32melse\u001b[0m\u001b[0;34m:\u001b[0m\u001b[0;34m\u001b[0m\u001b[0;34m\u001b[0m\u001b[0m\n\u001b[1;32m    498\u001b[0m             \u001b[0msubarr\u001b[0m \u001b[0;34m=\u001b[0m \u001b[0mcom\u001b[0m\u001b[0;34m.\u001b[0m\u001b[0masarray_tuplesafe\u001b[0m\u001b[0;34m(\u001b[0m\u001b[0mdata\u001b[0m\u001b[0;34m,\u001b[0m \u001b[0mdtype\u001b[0m\u001b[0;34m=\u001b[0m\u001b[0mdtype\u001b[0m\u001b[0;34m)\u001b[0m\u001b[0;34m\u001b[0m\u001b[0;34m\u001b[0m\u001b[0m\n",
            "\u001b[0;31mException\u001b[0m: Data must be 1-dimensional"
          ]
        }
      ]
    },
    {
      "cell_type": "code",
      "metadata": {
        "id": "IV8uugs7FjBm",
        "outputId": "caf9b060-4749-4952-e2dd-9421d8c065a3",
        "colab": {
          "base_uri": "https://localhost:8080/"
        }
      },
      "source": [
        "np.squeeze(s[:,10])"
      ],
      "execution_count": 30,
      "outputs": [
        {
          "output_type": "execute_result",
          "data": {
            "text/plain": [
              "matrix([[1.93981083, 1.98134586, 2.03280421, 2.04635878, 2.0368671 ,\n",
              "         2.10640902, 1.91555365, 1.8409577 , 2.01912579, 2.08570044,\n",
              "         1.94676407, 1.91494759, 2.03873874, 2.03368895, 1.94546799,\n",
              "         2.06623008, 2.0225271 , 2.03395452, 1.82937072, 2.04379053,\n",
              "         2.10113822, 2.04296748, 2.04646946, 2.01769641, 1.92452951,\n",
              "         1.96097327, 1.96963606, 2.03863379, 1.95251778, 1.95198148,\n",
              "         2.03114279, 1.94458956, 1.96118136, 1.83595799, 2.05272431,\n",
              "         2.05807734, 2.01109881, 2.0183055 , 2.07967322, 1.93522612,\n",
              "         2.00695881, 2.02035855, 1.81625346, 2.01278176, 2.04401678,\n",
              "         2.01890867, 2.06288065, 2.13368876, 1.90821098, 2.06109229,\n",
              "         2.0108477 , 2.0295212 , 2.03191766, 1.93923153, 2.11121659,\n",
              "         1.98134113, 1.91754298, 2.06238166, 2.00810966, 2.01583107,\n",
              "         1.86289884, 2.04403745, 2.01587335, 1.96870396, 1.90807378,\n",
              "         2.10723821, 2.02317394, 2.04922736, 2.04586108, 1.93087314,\n",
              "         2.02174694, 2.05289325, 1.9560841 , 2.05535315, 2.0466869 ,\n",
              "         1.97717992, 2.00139128, 2.02772791, 2.06800323, 2.0665299 ,\n",
              "         2.06732158, 2.03828077, 1.98829489, 2.03721046, 2.06637273,\n",
              "         1.91876213, 1.98993259, 1.98634328, 2.03620485, 2.00441627,\n",
              "         1.87043515, 2.08657249, 1.98744054, 1.93655307, 1.96968983,\n",
              "         2.01358809, 1.97292291, 1.99642404, 2.03078037, 1.96955779,\n",
              "         2.03759138, 2.01942327, 2.0152164 , 2.0721998 , 2.02980325,\n",
              "         1.96360328, 1.93165736, 1.95088019, 2.02760592, 2.0358116 ,\n",
              "         2.05276402, 1.97325639, 1.98886243, 1.99648534, 1.97123633,\n",
              "         2.06404789, 1.9658433 , 1.97198231, 2.01199939, 2.04664297,\n",
              "         2.05575498, 2.08441194, 2.05904464, 1.99889102, 1.98116133,\n",
              "         2.05719551, 2.02310029, 1.93940512, 1.99865189, 2.01627473,\n",
              "         2.02712694, 1.72945086, 2.00696786, 2.01660982, 1.9068541 ,\n",
              "         1.99299807, 1.96806397, 1.91669759, 1.86604344, 1.93908542,\n",
              "         1.99780507, 2.05748964, 1.84541237, 2.0230592 , 2.03458581,\n",
              "         2.06418431, 1.91624754, 2.05351582, 1.98972101, 2.02156481,\n",
              "         1.97940623, 2.05901772, 1.97085144, 1.99524922, 2.14257988,\n",
              "         2.02491295, 1.95352623, 1.98393502, 2.0521621 , 2.03521813,\n",
              "         1.9495203 , 2.03481231, 2.02260087, 2.08510165, 2.03701414,\n",
              "         1.88980103, 2.04269069, 1.94247979, 2.0968661 , 1.86943218,\n",
              "         2.07672072, 2.04765649, 2.01845601, 1.92843922, 2.0042439 ,\n",
              "         1.98968855, 2.02356703, 2.0030912 , 2.03491431, 1.94763269,\n",
              "         2.02841546, 2.06731717, 2.01262663, 2.05086343, 1.99464615,\n",
              "         1.98884632, 2.07004985, 2.01870898, 2.02349431, 1.9566563 ,\n",
              "         2.00790677, 1.89469435, 1.9664319 , 2.02835748, 1.97908593,\n",
              "         1.93895097, 2.07631015, 1.9799007 , 2.01479228, 2.00084263,\n",
              "         2.00118198, 2.01633204, 2.02820468, 1.66073798, 2.06127672,\n",
              "         1.86448409, 2.02370579, 2.02888904, 1.99383717, 2.08821794,\n",
              "         1.94550519, 2.07327116, 1.85521085, 1.94777278, 1.94699686,\n",
              "         1.95167116, 2.02435388, 1.86171749, 2.04911392, 2.04535668,\n",
              "         1.88913407, 1.96142607, 1.96374196, 2.04777205, 2.06263111,\n",
              "         2.06923835, 2.04638716, 1.99015125, 1.94504891, 1.95432828,\n",
              "         1.84078201, 1.94523247, 2.00913566, 2.02093848, 2.07970362,\n",
              "         2.03638375, 1.9950984 , 2.0147166 , 2.0615129 , 1.97734704,\n",
              "         2.01506215, 1.89271371, 2.0162891 , 2.00390703, 2.05654221,\n",
              "         1.91794126, 1.91897126, 2.04896428, 2.09944923, 1.91362856,\n",
              "         2.04592846, 1.95180568, 1.92672623, 1.93069379, 2.05749782,\n",
              "         2.07880586, 2.06383852, 2.0661516 , 1.95649947, 1.81649038,\n",
              "         2.07201475, 1.97337172, 2.0018974 , 1.96286004, 2.08123994,\n",
              "         2.05233079, 2.02850457, 1.99882159, 2.08531839, 2.02584558,\n",
              "         1.94163875, 2.02525186, 2.06362867, 2.0212969 , 2.10235488,\n",
              "         2.01698853, 1.95047361, 1.91479175, 1.83329658, 1.96393477,\n",
              "         1.96016403, 2.05890697, 2.04680805, 1.99063994, 2.00127097,\n",
              "         2.02810503, 2.02055313, 1.98864261, 1.82881592, 2.03805588,\n",
              "         2.08435878, 2.08056859, 2.0682432 , 1.95967224, 2.00765627,\n",
              "         2.0405097 , 1.96594079, 2.09149124, 1.96360386, 2.06280102,\n",
              "         1.98024127, 2.09220729, 2.05482378, 2.04218847, 2.04174083,\n",
              "         2.03791071, 2.05324191, 1.99016468, 1.98664734, 1.85806359,\n",
              "         2.07803711, 2.01875867, 2.04697218, 2.04823625, 1.85368708,\n",
              "         2.0587518 , 2.05418095, 2.04755703, 1.96279638, 1.97171409,\n",
              "         2.03463717, 2.0431191 , 1.94579528, 2.05445121, 2.07015355,\n",
              "         2.05329911, 1.91905434, 2.06277387, 2.07710415, 2.02342105,\n",
              "         2.00650842, 2.00941895, 1.93234883, 1.97784359, 1.97262167,\n",
              "         1.93199567, 1.98680978, 1.98326926, 2.07130306, 2.04998834,\n",
              "         1.86517194, 2.0462722 , 2.01692513, 2.10667734, 1.87591647,\n",
              "         1.95993107, 2.00614815, 1.99910946, 2.07722515, 2.05468093,\n",
              "         1.93506155, 2.00052427, 2.04369383, 2.02291402, 2.1125913 ,\n",
              "         2.05564407, 1.9488058 , 1.96188226, 1.93416734, 1.99056708,\n",
              "         2.02668426, 2.05420268, 1.82232227, 2.05808384, 1.99499582,\n",
              "         2.05832922, 2.03964088, 2.0993291 , 1.89204479, 2.0246763 ,\n",
              "         1.93944802, 2.1156875 , 1.97387659, 1.99060636, 2.00103792,\n",
              "         2.03195693, 2.03893005, 2.01526489, 1.98532494, 1.99949914,\n",
              "         2.04716365, 1.97774277, 1.9264408 , 2.00923115, 1.89009628,\n",
              "         2.02830523, 2.04323358, 1.98048477, 2.0149526 , 1.93002651,\n",
              "         2.03520435, 2.01962115, 2.07572909, 2.01568143, 1.96377639,\n",
              "         2.01211169, 2.11911574, 2.05420248, 1.99822069, 1.98367413,\n",
              "         1.97416837, 2.0188235 , 1.93035268, 1.99544178, 1.96133964,\n",
              "         1.96938429, 2.04318635, 1.99763783, 1.8440189 , 2.02447231,\n",
              "         1.97891795, 2.13901486, 1.92399149, 1.91099964, 1.95459776,\n",
              "         1.96680282, 2.02072293, 1.90234435, 2.06009552, 1.972081  ,\n",
              "         2.03960045, 1.94678268, 2.06436252, 2.05363963, 1.99220321,\n",
              "         1.93269455, 2.03606814, 2.06227947, 2.05169166, 1.89101215,\n",
              "         2.09421053, 2.03736026, 1.95180044, 1.99791806, 1.80384244,\n",
              "         1.98410034, 2.04864258, 2.05930547, 2.0377849 , 2.07318447,\n",
              "         2.08089208, 2.01559012, 1.99963365, 2.02410708, 2.02529279,\n",
              "         1.98036715, 2.03822574, 2.00960629, 2.01869568, 1.92484563,\n",
              "         2.03227077, 1.87360781, 2.07753953, 2.06239876, 2.00825264,\n",
              "         1.99222169, 1.94550625, 2.02771004, 2.05344422, 1.92105811,\n",
              "         2.00660413, 2.03586078, 2.04756031, 1.90080084, 1.86354511,\n",
              "         2.03727166, 2.00991767, 1.98044272, 1.88660363, 2.06508974,\n",
              "         2.05311422, 1.93693293, 2.02870674, 2.02633315, 2.00826274,\n",
              "         2.0486843 , 1.96820607, 2.00082823, 1.99903227, 1.97749698,\n",
              "         2.04173455, 2.09687075, 2.02657083, 1.77932409, 1.77957109,\n",
              "         1.95359481, 1.88646731, 2.05299077, 2.0387491 , 1.98348968,\n",
              "         2.03116009, 1.93600918, 1.9973368 , 2.01164722, 1.96792781,\n",
              "         2.0749403 , 1.8783585 , 1.9157956 , 1.94382487, 2.00336846]])"
            ]
          },
          "metadata": {
            "tags": []
          },
          "execution_count": 30
        }
      ]
    },
    {
      "cell_type": "code",
      "metadata": {
        "id": "Anw_zhB5E2MI"
      },
      "source": [
        ""
      ],
      "execution_count": null,
      "outputs": []
    }
  ]
}
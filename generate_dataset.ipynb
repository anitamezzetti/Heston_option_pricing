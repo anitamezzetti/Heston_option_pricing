{
  "nbformat": 4,
  "nbformat_minor": 0,
  "metadata": {
    "kernelspec": {
      "display_name": "fbd",
      "language": "python",
      "name": "fbd"
    },
    "language_info": {
      "codemirror_mode": {
        "name": "ipython",
        "version": 3
      },
      "file_extension": ".py",
      "mimetype": "text/x-python",
      "name": "python",
      "nbconvert_exporter": "python",
      "pygments_lexer": "ipython3",
      "version": "3.8.5"
    },
    "colab": {
      "name": "generate_dataset.ipynb",
      "provenance": [],
      "include_colab_link": true
    }
  },
  "cells": [
    {
      "cell_type": "markdown",
      "metadata": {
        "id": "view-in-github",
        "colab_type": "text"
      },
      "source": [
        "<a href=\"https://colab.research.google.com/github/anitamezzetti/ML_finance/blob/main/generate_dataset.ipynb\" target=\"_parent\"><img src=\"https://colab.research.google.com/assets/colab-badge.svg\" alt=\"Open In Colab\"/></a>"
      ]
    },
    {
      "cell_type": "code",
      "metadata": {
        "id": "Fd95GEZz_3ZC"
      },
      "source": [
        "import numpy as np\n",
        "import os\n",
        "from time import time\n",
        "import matplotlib.pyplot as plt"
      ],
      "execution_count": 1,
      "outputs": []
    },
    {
      "cell_type": "code",
      "metadata": {
        "id": "C4ux4-U7_3ZD"
      },
      "source": [
        "start = time()\n",
        "\n",
        "# Set the constants\n",
        "# -----------------------------------------------------------------------------------\n",
        "r = 0\n",
        "S0 = k = 2.0\n",
        "t_max = 1.0\n",
        "V0 = 0.010201\n",
        "sigma = 0.61\n",
        "theta = 0.019\n",
        "kappa = 6.21\n",
        "\n",
        "rho_choice = np.array([-0.5, -0.7, -0.9])\n",
        "rho_probability = np.array([0.25, 0.5, 0.25])"
      ],
      "execution_count": null,
      "outputs": []
    },
    {
      "cell_type": "markdown",
      "metadata": {
        "id": "UUijZcCs_3ZE"
      },
      "source": [
        "Stock prices simulation:"
      ]
    },
    {
      "cell_type": "code",
      "metadata": {
        "id": "KjKjTk_h_3ZE"
      },
      "source": [
        "def stock_price_generator (t_max, n ,m, r, S0, k, V0, sigma, theta, kappa, rho_choice, rho_probability):\n",
        "    dt = t_max / n\n",
        "    \n",
        "    # Brownian motions:\n",
        "    dw_v = np.random.normal(size=(m, n)) * np.sqrt(dt)\n",
        "    dw_i = np.random.normal(size=(m, n)) * np.sqrt(dt)\n",
        "\n",
        "    rho = np.random.choice(rho_choice, size=(m, 1), p = rho_probability)\n",
        "    dw_s = rho * dw_v + np.sqrt(1.0 - rho ** 2) * dw_i\n",
        "\n",
        "    # Perform time evolution \n",
        "    s = np.empty((m, n + 1)) # initialisation stock prices vector\n",
        "    s[:, 0] = S0\n",
        "\n",
        "    v = np.ones(m) * V0\n",
        "\n",
        "    for t in range(n):\n",
        "        dv = kappa * (theta - v) * dt + sigma * np.sqrt(v) * dw_v[:, t]\n",
        "        ds = r * s[:, t] * dt + np.sqrt(v) * s[:, t] * dw_s[:, t]\n",
        "\n",
        "        v = np.clip(v + dv, a_min=0.0, a_max=None)\n",
        "        s[:, t + 1] = s[:, t] + ds\n",
        "        \n",
        "        \n",
        "    return s    \n",
        "    "
      ],
      "execution_count": null,
      "outputs": []
    },
    {
      "cell_type": "code",
      "metadata": {
        "id": "ttzElfx7_3ZF"
      },
      "source": [
        "def find_expected_payoff(stock_path, k, r, t_max):\n",
        "    payoff = max(stock_path[-1] - k, 0) # one payoff for each simulation\n",
        "    c = payoff * np.exp(-r * t_max)     # in case r=0, this step is useless\n",
        "    \n",
        "    return c"
      ],
      "execution_count": null,
      "outputs": []
    },
    {
      "cell_type": "code",
      "metadata": {
        "id": "SZusfSVY_3ZF"
      },
      "source": [
        "time_maturity = [0.5, 1, 2, 5]\n",
        "num_times = [100, 250, 500]\n",
        "num_simulations = [500, 1000]"
      ],
      "execution_count": null,
      "outputs": []
    },
    {
      "cell_type": "code",
      "metadata": {
        "id": "eUSPiN1j_3ZF"
      },
      "source": [
        "for t in time_maturity;\n",
        "    for n in num_times:\n",
        "        for m in num_simulations:\n",
        "            "
      ],
      "execution_count": null,
      "outputs": []
    },
    {
      "cell_type": "code",
      "metadata": {
        "id": "NItI8Lqx_3ZF"
      },
      "source": [
        ""
      ],
      "execution_count": null,
      "outputs": []
    }
  ]
}
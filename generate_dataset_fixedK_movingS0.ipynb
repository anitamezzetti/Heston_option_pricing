{
 "cells": [
  {
   "cell_type": "markdown",
   "metadata": {
    "colab_type": "text",
    "id": "view-in-github"
   },
   "source": [
    "<a href=\"https://colab.research.google.com/github/anitamezzetti/ML_finance/blob/main/generate_dataset.ipynb\" target=\"_parent\"><img src=\"https://colab.research.google.com/assets/colab-badge.svg\" alt=\"Open In Colab\"/></a>"
   ]
  },
  {
   "cell_type": "code",
   "execution_count": 27,
   "metadata": {
    "id": "Fd95GEZz_3ZC"
   },
   "outputs": [],
   "source": [
    "import numpy as np\n",
    "import os\n",
    "from time import time\n",
    "import pandas as pd"
   ]
  },
  {
   "cell_type": "code",
   "execution_count": 28,
   "metadata": {},
   "outputs": [],
   "source": [
    "from ipynb.fs.full.closed_form_solution import f, p, p1, p2, call_price"
   ]
  },
  {
   "cell_type": "code",
   "execution_count": 29,
   "metadata": {
    "id": "C4ux4-U7_3ZD"
   },
   "outputs": [],
   "source": [
    "start = time()\n",
    "\n",
    "# Set the constants\n",
    "# -----------------------------------------------------------------------------------\n",
    "r = 0\n",
    "k = 2\n",
    "V0 = 0.010\n",
    "sigma = 0.61\n",
    "theta = 0.019\n",
    "kappa = 6.21\n",
    "\n",
    "T1 = 10\n",
    "\n",
    "rho = -0.5"
   ]
  },
  {
   "cell_type": "code",
   "execution_count": 30,
   "metadata": {},
   "outputs": [],
   "source": [
    "S0 = np.arange(1,4,0.01)"
   ]
  },
  {
   "cell_type": "markdown",
   "metadata": {
    "id": "UUijZcCs_3ZE"
   },
   "source": [
    "Stock prices simulation:"
   ]
  },
  {
   "cell_type": "code",
   "execution_count": 31,
   "metadata": {
    "id": "KjKjTk_h_3ZE"
   },
   "outputs": [],
   "source": [
    "def stock_price_generator (t_max, n ,m, r, S0, k, V0, sigma, theta, kappa, rho):\n",
    "    dt = t_max / n\n",
    "    \n",
    "    # Brownian motions:\n",
    "    dw_v = np.random.normal(size=(m, n)) * np.sqrt(dt)\n",
    "    dw_i = np.random.normal(size=(m, n)) * np.sqrt(dt)\n",
    "\n",
    "    dw_s = rho * dw_v + np.sqrt(1.0 - rho ** 2) * dw_i\n",
    "\n",
    "    # Perform time evolution \n",
    "    s = np.empty((m, n + 1)) # initialisation stock prices vector\n",
    "    s[:, 0] = S0\n",
    "\n",
    "    v = np.ones(m) * V0\n",
    "\n",
    "    for t in range(n):\n",
    "        dv = kappa * (theta - v) * dt + sigma * np.sqrt(v) * dw_v[:, t]\n",
    "        ds = r * s[:, t] * dt + np.sqrt(v) * s[:, t] * dw_s[:, t]\n",
    "\n",
    "        v = np.clip(v + dv, a_min=0.0, a_max=None)\n",
    "        s[:, t + 1] = s[:, t] + ds\n",
    "      \n",
    "        \n",
    "    return s\n",
    "    "
   ]
  },
  {
   "cell_type": "code",
   "execution_count": 32,
   "metadata": {
    "id": "ttzElfx7_3ZF"
   },
   "outputs": [],
   "source": [
    "def find_expected_payoff(stock_path, k, r, t_max):\n",
    "    payoff = max(stock_path[-1] - k, 0) # one payoff for each simulation\n",
    "    c = payoff * np.exp(-r * t_max)     # in case r=0, this step is useless\n",
    "    \n",
    "    return c"
   ]
  },
  {
   "cell_type": "code",
   "execution_count": 33,
   "metadata": {
    "id": "SZusfSVY_3ZF"
   },
   "outputs": [],
   "source": [
    "time_maturity = 3\n",
    "num_simulations = 100\n",
    "n = 100\n"
   ]
  },
  {
   "cell_type": "code",
   "execution_count": 34,
   "metadata": {
    "id": "t6OJ8LBNRdaT"
   },
   "outputs": [],
   "source": [
    "df = pd.DataFrame(columns=['price', 'stock_zero'])"
   ]
  },
  {
   "cell_type": "code",
   "execution_count": 35,
   "metadata": {
    "colab": {
     "base_uri": "https://localhost:8080/"
    },
    "id": "eUSPiN1j_3ZF",
    "outputId": "4e3019db-32f1-45e4-d131-d568a036a733"
   },
   "outputs": [
    {
     "name": "stdout",
     "output_type": "stream",
     "text": [
      "s0 1.0\n",
      "s0 1.01\n",
      "s0 1.02\n",
      "s0 1.03\n",
      "s0 1.04\n",
      "s0 1.05\n",
      "s0 1.06\n",
      "s0 1.07\n",
      "s0 1.08\n",
      "s0 1.09\n",
      "s0 1.1\n",
      "s0 1.11\n",
      "s0 1.12\n",
      "s0 1.1300000000000001\n",
      "s0 1.1400000000000001\n",
      "s0 1.1500000000000001\n",
      "s0 1.1600000000000001\n",
      "s0 1.1700000000000002\n",
      "s0 1.1800000000000002\n",
      "s0 1.1900000000000002\n",
      "s0 1.2000000000000002\n",
      "s0 1.2100000000000002\n",
      "s0 1.2200000000000002\n",
      "s0 1.2300000000000002\n",
      "s0 1.2400000000000002\n",
      "s0 1.2500000000000002\n",
      "s0 1.2600000000000002\n",
      "s0 1.2700000000000002\n",
      "s0 1.2800000000000002\n",
      "s0 1.2900000000000003\n",
      "s0 1.3000000000000003\n",
      "s0 1.3100000000000003\n",
      "s0 1.3200000000000003\n",
      "s0 1.3300000000000003\n",
      "s0 1.3400000000000003\n",
      "s0 1.3500000000000003\n",
      "s0 1.3600000000000003\n",
      "s0 1.3700000000000003\n",
      "s0 1.3800000000000003\n",
      "s0 1.3900000000000003\n",
      "s0 1.4000000000000004\n",
      "s0 1.4100000000000004\n",
      "s0 1.4200000000000004\n",
      "s0 1.4300000000000004\n",
      "s0 1.4400000000000004\n",
      "s0 1.4500000000000004\n",
      "s0 1.4600000000000004\n",
      "s0 1.4700000000000004\n",
      "s0 1.4800000000000004\n",
      "s0 1.4900000000000004\n",
      "s0 1.5000000000000004\n",
      "s0 1.5100000000000005\n",
      "s0 1.5200000000000005\n",
      "s0 1.5300000000000005\n",
      "s0 1.5400000000000005\n",
      "s0 1.5500000000000005\n",
      "s0 1.5600000000000005\n",
      "s0 1.5700000000000005\n",
      "s0 1.5800000000000005\n",
      "s0 1.5900000000000005\n",
      "s0 1.6000000000000005\n",
      "s0 1.6100000000000005\n",
      "s0 1.6200000000000006\n",
      "s0 1.6300000000000006\n",
      "s0 1.6400000000000006\n",
      "s0 1.6500000000000006\n",
      "s0 1.6600000000000006\n",
      "s0 1.6700000000000006\n",
      "s0 1.6800000000000006\n",
      "s0 1.6900000000000006\n",
      "s0 1.7000000000000006\n",
      "s0 1.7100000000000006\n",
      "s0 1.7200000000000006\n",
      "s0 1.7300000000000006\n",
      "s0 1.7400000000000007\n",
      "s0 1.7500000000000007\n",
      "s0 1.7600000000000007\n",
      "s0 1.7700000000000007\n",
      "s0 1.7800000000000007\n",
      "s0 1.7900000000000007\n",
      "s0 1.8000000000000007\n",
      "s0 1.8100000000000007\n",
      "s0 1.8200000000000007\n",
      "s0 1.8300000000000007\n",
      "s0 1.8400000000000007\n",
      "s0 1.8500000000000008\n",
      "s0 1.8600000000000008\n",
      "s0 1.8700000000000008\n",
      "s0 1.8800000000000008\n",
      "s0 1.8900000000000008\n",
      "s0 1.9000000000000008\n",
      "s0 1.9100000000000008\n",
      "s0 1.9200000000000008\n",
      "s0 1.9300000000000008\n",
      "s0 1.9400000000000008\n",
      "s0 1.9500000000000008\n",
      "s0 1.9600000000000009\n",
      "s0 1.9700000000000009\n",
      "s0 1.9800000000000009\n",
      "s0 1.9900000000000009\n",
      "s0 2.000000000000001\n",
      "s0 2.0100000000000007\n",
      "s0 2.020000000000001\n",
      "s0 2.030000000000001\n",
      "s0 2.040000000000001\n",
      "s0 2.0500000000000007\n",
      "s0 2.060000000000001\n",
      "s0 2.070000000000001\n",
      "s0 2.080000000000001\n",
      "s0 2.0900000000000007\n",
      "s0 2.100000000000001\n",
      "s0 2.110000000000001\n",
      "s0 2.120000000000001\n",
      "s0 2.130000000000001\n",
      "s0 2.140000000000001\n",
      "s0 2.1500000000000012\n",
      "s0 2.160000000000001\n",
      "s0 2.170000000000001\n",
      "s0 2.180000000000001\n",
      "s0 2.1900000000000013\n",
      "s0 2.200000000000001\n",
      "s0 2.210000000000001\n",
      "s0 2.220000000000001\n",
      "s0 2.2300000000000013\n",
      "s0 2.240000000000001\n",
      "s0 2.250000000000001\n",
      "s0 2.260000000000001\n",
      "s0 2.2700000000000014\n",
      "s0 2.280000000000001\n",
      "s0 2.290000000000001\n",
      "s0 2.300000000000001\n",
      "s0 2.3100000000000014\n",
      "s0 2.320000000000001\n",
      "s0 2.330000000000001\n",
      "s0 2.340000000000001\n",
      "s0 2.3500000000000014\n",
      "s0 2.360000000000001\n",
      "s0 2.370000000000001\n",
      "s0 2.3800000000000012\n",
      "s0 2.3900000000000015\n",
      "s0 2.4000000000000012\n",
      "s0 2.410000000000001\n",
      "s0 2.4200000000000013\n",
      "s0 2.4300000000000015\n",
      "s0 2.4400000000000013\n",
      "s0 2.450000000000001\n",
      "s0 2.4600000000000013\n",
      "s0 2.4700000000000015\n",
      "s0 2.4800000000000013\n",
      "s0 2.490000000000001\n",
      "s0 2.5000000000000013\n",
      "s0 2.5100000000000016\n",
      "s0 2.5200000000000014\n",
      "s0 2.530000000000001\n",
      "s0 2.5400000000000014\n",
      "s0 2.5500000000000016\n",
      "s0 2.5600000000000014\n",
      "s0 2.570000000000001\n",
      "s0 2.5800000000000014\n",
      "s0 2.5900000000000016\n",
      "s0 2.6000000000000014\n",
      "s0 2.610000000000001\n",
      "s0 2.6200000000000014\n",
      "s0 2.6300000000000017\n",
      "s0 2.6400000000000015\n",
      "s0 2.6500000000000012\n",
      "s0 2.6600000000000015\n",
      "s0 2.6700000000000017\n",
      "s0 2.6800000000000015\n",
      "s0 2.6900000000000013\n",
      "s0 2.7000000000000015\n",
      "s0 2.7100000000000017\n",
      "s0 2.7200000000000015\n",
      "s0 2.7300000000000013\n",
      "s0 2.7400000000000015\n",
      "s0 2.7500000000000018\n",
      "s0 2.7600000000000016\n",
      "s0 2.7700000000000014\n",
      "s0 2.7800000000000016\n",
      "s0 2.790000000000002\n",
      "s0 2.8000000000000016\n",
      "s0 2.8100000000000014\n",
      "s0 2.8200000000000016\n",
      "s0 2.830000000000002\n",
      "s0 2.8400000000000016\n",
      "s0 2.8500000000000014\n",
      "s0 2.8600000000000017\n",
      "s0 2.870000000000002\n",
      "s0 2.8800000000000017\n",
      "s0 2.8900000000000015\n",
      "s0 2.9000000000000017\n",
      "s0 2.910000000000002\n",
      "s0 2.9200000000000017\n",
      "s0 2.9300000000000015\n",
      "s0 2.9400000000000017\n",
      "s0 2.950000000000002\n",
      "s0 2.9600000000000017\n",
      "s0 2.9700000000000015\n",
      "s0 2.9800000000000018\n",
      "s0 2.990000000000002\n",
      "s0 3.0000000000000018\n",
      "s0 3.0100000000000016\n",
      "s0 3.020000000000002\n",
      "s0 3.030000000000002\n",
      "s0 3.040000000000002\n",
      "s0 3.0500000000000016\n",
      "s0 3.060000000000002\n",
      "s0 3.070000000000002\n",
      "s0 3.080000000000002\n",
      "s0 3.0900000000000016\n",
      "s0 3.100000000000002\n",
      "s0 3.110000000000002\n",
      "s0 3.120000000000002\n",
      "s0 3.1300000000000017\n",
      "s0 3.140000000000002\n",
      "s0 3.150000000000002\n",
      "s0 3.160000000000002\n",
      "s0 3.1700000000000017\n",
      "s0 3.180000000000002\n",
      "s0 3.190000000000002\n",
      "s0 3.200000000000002\n",
      "s0 3.2100000000000017\n",
      "s0 3.220000000000002\n",
      "s0 3.230000000000002\n",
      "s0 3.240000000000002\n",
      "s0 3.2500000000000018\n",
      "s0 3.260000000000002\n",
      "s0 3.2700000000000022\n",
      "s0 3.280000000000002\n",
      "s0 3.290000000000002\n",
      "s0 3.300000000000002\n",
      "s0 3.3100000000000023\n",
      "s0 3.320000000000002\n",
      "s0 3.330000000000002\n",
      "s0 3.340000000000002\n",
      "s0 3.3500000000000023\n",
      "s0 3.360000000000002\n",
      "s0 3.370000000000002\n",
      "s0 3.380000000000002\n",
      "s0 3.3900000000000023\n",
      "s0 3.400000000000002\n",
      "s0 3.410000000000002\n",
      "s0 3.420000000000002\n",
      "s0 3.4300000000000024\n",
      "s0 3.440000000000002\n",
      "s0 3.450000000000002\n",
      "s0 3.460000000000002\n",
      "s0 3.4700000000000024\n",
      "s0 3.480000000000002\n",
      "s0 3.490000000000002\n",
      "s0 3.500000000000002\n",
      "s0 3.5100000000000025\n",
      "s0 3.5200000000000022\n",
      "s0 3.530000000000002\n",
      "s0 3.5400000000000023\n",
      "s0 3.5500000000000025\n",
      "s0 3.5600000000000023\n",
      "s0 3.570000000000002\n",
      "s0 3.5800000000000023\n",
      "s0 3.5900000000000025\n",
      "s0 3.6000000000000023\n",
      "s0 3.610000000000002\n",
      "s0 3.6200000000000023\n",
      "s0 3.6300000000000026\n",
      "s0 3.6400000000000023\n",
      "s0 3.650000000000002\n",
      "s0 3.6600000000000024\n",
      "s0 3.6700000000000026\n",
      "s0 3.6800000000000024\n",
      "s0 3.690000000000002\n",
      "s0 3.7000000000000024\n",
      "s0 3.7100000000000026\n",
      "s0 3.7200000000000024\n",
      "s0 3.730000000000002\n",
      "s0 3.7400000000000024\n",
      "s0 3.7500000000000027\n",
      "s0 3.7600000000000025\n",
      "s0 3.7700000000000022\n",
      "s0 3.7800000000000025\n",
      "s0 3.7900000000000027\n",
      "s0 3.8000000000000025\n",
      "s0 3.8100000000000023\n",
      "s0 3.8200000000000025\n",
      "s0 3.8300000000000027\n",
      "s0 3.8400000000000025\n",
      "s0 3.8500000000000023\n",
      "s0 3.8600000000000025\n",
      "s0 3.8700000000000028\n",
      "s0 3.8800000000000026\n",
      "s0 3.8900000000000023\n",
      "s0 3.9000000000000026\n",
      "s0 3.910000000000003\n",
      "s0 3.9200000000000026\n",
      "s0 3.9300000000000024\n",
      "s0 3.9400000000000026\n",
      "s0 3.950000000000003\n",
      "s0 3.9600000000000026\n",
      "s0 3.9700000000000024\n",
      "s0 3.9800000000000026\n",
      "s0 3.990000000000003\n"
     ]
    }
   ],
   "source": [
    "# fill the dataset\n",
    "for s0 in S0:\n",
    "    s = stock_price_generator (time_maturity, n, num_simulations, r, s0, k, V0, sigma, theta, kappa, rho)\n",
    "\n",
    "    for stock_path in s:\n",
    "        p = find_expected_payoff(stock_path, k, r, time_maturity)\n",
    "        \n",
    "        new_row = {\n",
    "                      'price':p, \n",
    "                      'stock_zero':stock_path[T1],\n",
    "                  }\n",
    "        #append row to the dataframe\n",
    "        df = df.append(new_row, ignore_index=True)\n"
   ]
  },
  {
   "cell_type": "code",
   "execution_count": 26,
   "metadata": {},
   "outputs": [
    {
     "data": {
      "text/plain": [
       "<pandas.core.groupby.generic.DataFrameGroupBy object at 0x00000172CEFE15E0>"
      ]
     },
     "execution_count": 26,
     "metadata": {},
     "output_type": "execute_result"
    }
   ],
   "source": [
    "df.groupby('stock_zero').mean()"
   ]
  },
  {
   "cell_type": "code",
   "execution_count": null,
   "metadata": {},
   "outputs": [],
   "source": [
    "import numpy as np\n",
    "import matplotlib.pyplot as plt\n",
    "import matplotlib.lines as mlines\n",
    "import matplotlib.transforms as mtransforms\n"
   ]
  },
  {
   "cell_type": "code",
   "execution_count": 18,
   "metadata": {
    "id": "K74vhaQcUZ1Y"
   },
   "outputs": [
    {
     "name": "stderr",
     "output_type": "stream",
     "text": [
      "C:\\Users\\anita\\Desktop\\ML finance\\ML_finance\\closed_form_solution.ipynb:46: IntegrationWarning: The maximum number of subdivisions (50) has been achieved.\n",
      "  If increasing the limit yields no improvement it is advised to analyze \n",
      "  the integrand in order to determine the difficulties.  If the position of a \n",
      "  local difficulty can be determined (singularity, discontinuity) one will \n",
      "  probably gain from splitting up the interval and calling the integrator \n",
      "  on the subranges.  Perhaps a special-purpose integrator should be used.\n",
      "  \"    d = cmath.sqrt((rho * sigma * phi * 1j - b)**2 - sigma**2 * (2 * u * phi * 1j - phi**2))\\n\",\n"
     ]
    }
   ],
   "source": [
    "closed_price = []\n",
    "for s0 in S0:\n",
    "    cp = call_price(kappa, theta, sigma, rho, V0 ,r , time_maturity ,s0, k)\n",
    "    closed_price.append(cp)"
   ]
  },
  {
   "cell_type": "code",
   "execution_count": 19,
   "metadata": {},
   "outputs": [
    {
     "ename": "ValueError",
     "evalue": "Could not interpret value `stock` for parameter `x`",
     "output_type": "error",
     "traceback": [
      "\u001b[1;31m---------------------------------------------------------------------------\u001b[0m",
      "\u001b[1;31mValueError\u001b[0m                                Traceback (most recent call last)",
      "\u001b[1;32m<ipython-input-19-f2345426509f>\u001b[0m in \u001b[0;36m<module>\u001b[1;34m\u001b[0m\n\u001b[0;32m      1\u001b[0m \u001b[1;32mimport\u001b[0m \u001b[0mseaborn\u001b[0m \u001b[1;32mas\u001b[0m \u001b[0msns\u001b[0m\u001b[1;33m\u001b[0m\u001b[1;33m\u001b[0m\u001b[0m\n\u001b[1;32m----> 2\u001b[1;33m \u001b[0msns\u001b[0m\u001b[1;33m.\u001b[0m\u001b[0mscatterplot\u001b[0m\u001b[1;33m(\u001b[0m\u001b[0mdata\u001b[0m\u001b[1;33m=\u001b[0m\u001b[0mdf\u001b[0m\u001b[1;33m,\u001b[0m \u001b[0mx\u001b[0m\u001b[1;33m=\u001b[0m\u001b[1;34m\"stock\"\u001b[0m\u001b[1;33m,\u001b[0m \u001b[0my\u001b[0m\u001b[1;33m=\u001b[0m\u001b[1;34m\"price\"\u001b[0m\u001b[1;33m,\u001b[0m \u001b[0malpha\u001b[0m \u001b[1;33m=\u001b[0m\u001b[1;36m0.5\u001b[0m\u001b[1;33m)\u001b[0m\u001b[1;33m\u001b[0m\u001b[1;33m\u001b[0m\u001b[0m\n\u001b[0m\u001b[0;32m      3\u001b[0m \u001b[0mplt\u001b[0m\u001b[1;33m.\u001b[0m\u001b[0mplot\u001b[0m\u001b[1;33m(\u001b[0m\u001b[0mS0\u001b[0m\u001b[1;33m,\u001b[0m \u001b[0mclosed_price\u001b[0m\u001b[1;33m,\u001b[0m \u001b[0mcolor\u001b[0m\u001b[1;33m=\u001b[0m\u001b[1;34m'r'\u001b[0m\u001b[1;33m)\u001b[0m\u001b[1;33m\u001b[0m\u001b[1;33m\u001b[0m\u001b[0m\n\u001b[0;32m      4\u001b[0m \u001b[0mplt\u001b[0m\u001b[1;33m.\u001b[0m\u001b[0mshow\u001b[0m\u001b[1;33m(\u001b[0m\u001b[1;33m)\u001b[0m\u001b[1;33m\u001b[0m\u001b[1;33m\u001b[0m\u001b[0m\n",
      "\u001b[1;32m~\\miniconda3\\envs\\fbd\\lib\\site-packages\\seaborn\\_decorators.py\u001b[0m in \u001b[0;36minner_f\u001b[1;34m(*args, **kwargs)\u001b[0m\n\u001b[0;32m     44\u001b[0m             )\n\u001b[0;32m     45\u001b[0m         \u001b[0mkwargs\u001b[0m\u001b[1;33m.\u001b[0m\u001b[0mupdate\u001b[0m\u001b[1;33m(\u001b[0m\u001b[1;33m{\u001b[0m\u001b[0mk\u001b[0m\u001b[1;33m:\u001b[0m \u001b[0marg\u001b[0m \u001b[1;32mfor\u001b[0m \u001b[0mk\u001b[0m\u001b[1;33m,\u001b[0m \u001b[0marg\u001b[0m \u001b[1;32min\u001b[0m \u001b[0mzip\u001b[0m\u001b[1;33m(\u001b[0m\u001b[0msig\u001b[0m\u001b[1;33m.\u001b[0m\u001b[0mparameters\u001b[0m\u001b[1;33m,\u001b[0m \u001b[0margs\u001b[0m\u001b[1;33m)\u001b[0m\u001b[1;33m}\u001b[0m\u001b[1;33m)\u001b[0m\u001b[1;33m\u001b[0m\u001b[1;33m\u001b[0m\u001b[0m\n\u001b[1;32m---> 46\u001b[1;33m         \u001b[1;32mreturn\u001b[0m \u001b[0mf\u001b[0m\u001b[1;33m(\u001b[0m\u001b[1;33m**\u001b[0m\u001b[0mkwargs\u001b[0m\u001b[1;33m)\u001b[0m\u001b[1;33m\u001b[0m\u001b[1;33m\u001b[0m\u001b[0m\n\u001b[0m\u001b[0;32m     47\u001b[0m     \u001b[1;32mreturn\u001b[0m \u001b[0minner_f\u001b[0m\u001b[1;33m\u001b[0m\u001b[1;33m\u001b[0m\u001b[0m\n\u001b[0;32m     48\u001b[0m \u001b[1;33m\u001b[0m\u001b[0m\n",
      "\u001b[1;32m~\\miniconda3\\envs\\fbd\\lib\\site-packages\\seaborn\\relational.py\u001b[0m in \u001b[0;36mscatterplot\u001b[1;34m(x, y, hue, style, size, data, palette, hue_order, hue_norm, sizes, size_order, size_norm, markers, style_order, x_bins, y_bins, units, estimator, ci, n_boot, alpha, x_jitter, y_jitter, legend, ax, **kwargs)\u001b[0m\n\u001b[0;32m    792\u001b[0m \u001b[1;33m\u001b[0m\u001b[0m\n\u001b[0;32m    793\u001b[0m     \u001b[0mvariables\u001b[0m \u001b[1;33m=\u001b[0m \u001b[0m_ScatterPlotter\u001b[0m\u001b[1;33m.\u001b[0m\u001b[0mget_semantics\u001b[0m\u001b[1;33m(\u001b[0m\u001b[0mlocals\u001b[0m\u001b[1;33m(\u001b[0m\u001b[1;33m)\u001b[0m\u001b[1;33m)\u001b[0m\u001b[1;33m\u001b[0m\u001b[1;33m\u001b[0m\u001b[0m\n\u001b[1;32m--> 794\u001b[1;33m     p = _ScatterPlotter(\n\u001b[0m\u001b[0;32m    795\u001b[0m         \u001b[0mdata\u001b[0m\u001b[1;33m=\u001b[0m\u001b[0mdata\u001b[0m\u001b[1;33m,\u001b[0m \u001b[0mvariables\u001b[0m\u001b[1;33m=\u001b[0m\u001b[0mvariables\u001b[0m\u001b[1;33m,\u001b[0m\u001b[1;33m\u001b[0m\u001b[1;33m\u001b[0m\u001b[0m\n\u001b[0;32m    796\u001b[0m         \u001b[0mx_bins\u001b[0m\u001b[1;33m=\u001b[0m\u001b[0mx_bins\u001b[0m\u001b[1;33m,\u001b[0m \u001b[0my_bins\u001b[0m\u001b[1;33m=\u001b[0m\u001b[0my_bins\u001b[0m\u001b[1;33m,\u001b[0m\u001b[1;33m\u001b[0m\u001b[1;33m\u001b[0m\u001b[0m\n",
      "\u001b[1;32m~\\miniconda3\\envs\\fbd\\lib\\site-packages\\seaborn\\relational.py\u001b[0m in \u001b[0;36m__init__\u001b[1;34m(self, data, variables, x_bins, y_bins, estimator, ci, n_boot, alpha, x_jitter, y_jitter, legend)\u001b[0m\n\u001b[0;32m    578\u001b[0m         )\n\u001b[0;32m    579\u001b[0m \u001b[1;33m\u001b[0m\u001b[0m\n\u001b[1;32m--> 580\u001b[1;33m         \u001b[0msuper\u001b[0m\u001b[1;33m(\u001b[0m\u001b[1;33m)\u001b[0m\u001b[1;33m.\u001b[0m\u001b[0m__init__\u001b[0m\u001b[1;33m(\u001b[0m\u001b[0mdata\u001b[0m\u001b[1;33m=\u001b[0m\u001b[0mdata\u001b[0m\u001b[1;33m,\u001b[0m \u001b[0mvariables\u001b[0m\u001b[1;33m=\u001b[0m\u001b[0mvariables\u001b[0m\u001b[1;33m)\u001b[0m\u001b[1;33m\u001b[0m\u001b[1;33m\u001b[0m\u001b[0m\n\u001b[0m\u001b[0;32m    581\u001b[0m \u001b[1;33m\u001b[0m\u001b[0m\n\u001b[0;32m    582\u001b[0m         \u001b[0mself\u001b[0m\u001b[1;33m.\u001b[0m\u001b[0malpha\u001b[0m \u001b[1;33m=\u001b[0m \u001b[0malpha\u001b[0m\u001b[1;33m\u001b[0m\u001b[1;33m\u001b[0m\u001b[0m\n",
      "\u001b[1;32m~\\miniconda3\\envs\\fbd\\lib\\site-packages\\seaborn\\_core.py\u001b[0m in \u001b[0;36m__init__\u001b[1;34m(self, data, variables)\u001b[0m\n\u001b[0;32m    602\u001b[0m     \u001b[1;32mdef\u001b[0m \u001b[0m__init__\u001b[0m\u001b[1;33m(\u001b[0m\u001b[0mself\u001b[0m\u001b[1;33m,\u001b[0m \u001b[0mdata\u001b[0m\u001b[1;33m=\u001b[0m\u001b[1;32mNone\u001b[0m\u001b[1;33m,\u001b[0m \u001b[0mvariables\u001b[0m\u001b[1;33m=\u001b[0m\u001b[1;33m{\u001b[0m\u001b[1;33m}\u001b[0m\u001b[1;33m)\u001b[0m\u001b[1;33m:\u001b[0m\u001b[1;33m\u001b[0m\u001b[1;33m\u001b[0m\u001b[0m\n\u001b[0;32m    603\u001b[0m \u001b[1;33m\u001b[0m\u001b[0m\n\u001b[1;32m--> 604\u001b[1;33m         \u001b[0mself\u001b[0m\u001b[1;33m.\u001b[0m\u001b[0massign_variables\u001b[0m\u001b[1;33m(\u001b[0m\u001b[0mdata\u001b[0m\u001b[1;33m,\u001b[0m \u001b[0mvariables\u001b[0m\u001b[1;33m)\u001b[0m\u001b[1;33m\u001b[0m\u001b[1;33m\u001b[0m\u001b[0m\n\u001b[0m\u001b[0;32m    605\u001b[0m \u001b[1;33m\u001b[0m\u001b[0m\n\u001b[0;32m    606\u001b[0m         \u001b[1;32mfor\u001b[0m \u001b[0mvar\u001b[0m\u001b[1;33m,\u001b[0m \u001b[0mcls\u001b[0m \u001b[1;32min\u001b[0m \u001b[0mself\u001b[0m\u001b[1;33m.\u001b[0m\u001b[0m_semantic_mappings\u001b[0m\u001b[1;33m.\u001b[0m\u001b[0mitems\u001b[0m\u001b[1;33m(\u001b[0m\u001b[1;33m)\u001b[0m\u001b[1;33m:\u001b[0m\u001b[1;33m\u001b[0m\u001b[1;33m\u001b[0m\u001b[0m\n",
      "\u001b[1;32m~\\miniconda3\\envs\\fbd\\lib\\site-packages\\seaborn\\_core.py\u001b[0m in \u001b[0;36massign_variables\u001b[1;34m(self, data, variables)\u001b[0m\n\u001b[0;32m    665\u001b[0m         \u001b[1;32melse\u001b[0m\u001b[1;33m:\u001b[0m\u001b[1;33m\u001b[0m\u001b[1;33m\u001b[0m\u001b[0m\n\u001b[0;32m    666\u001b[0m             \u001b[0mself\u001b[0m\u001b[1;33m.\u001b[0m\u001b[0minput_format\u001b[0m \u001b[1;33m=\u001b[0m \u001b[1;34m\"long\"\u001b[0m\u001b[1;33m\u001b[0m\u001b[1;33m\u001b[0m\u001b[0m\n\u001b[1;32m--> 667\u001b[1;33m             plot_data, variables = self._assign_variables_longform(\n\u001b[0m\u001b[0;32m    668\u001b[0m                 \u001b[0mdata\u001b[0m\u001b[1;33m,\u001b[0m \u001b[1;33m**\u001b[0m\u001b[0mvariables\u001b[0m\u001b[1;33m,\u001b[0m\u001b[1;33m\u001b[0m\u001b[1;33m\u001b[0m\u001b[0m\n\u001b[0;32m    669\u001b[0m             )\n",
      "\u001b[1;32m~\\miniconda3\\envs\\fbd\\lib\\site-packages\\seaborn\\_core.py\u001b[0m in \u001b[0;36m_assign_variables_longform\u001b[1;34m(self, data, **kwargs)\u001b[0m\n\u001b[0;32m    885\u001b[0m                     \u001b[1;31m# We don't know what this name means\u001b[0m\u001b[1;33m\u001b[0m\u001b[1;33m\u001b[0m\u001b[1;33m\u001b[0m\u001b[0m\n\u001b[0;32m    886\u001b[0m                     \u001b[0merr\u001b[0m \u001b[1;33m=\u001b[0m \u001b[1;34mf\"Could not interpret value `{val}` for parameter `{key}`\"\u001b[0m\u001b[1;33m\u001b[0m\u001b[1;33m\u001b[0m\u001b[0m\n\u001b[1;32m--> 887\u001b[1;33m                     \u001b[1;32mraise\u001b[0m \u001b[0mValueError\u001b[0m\u001b[1;33m(\u001b[0m\u001b[0merr\u001b[0m\u001b[1;33m)\u001b[0m\u001b[1;33m\u001b[0m\u001b[1;33m\u001b[0m\u001b[0m\n\u001b[0m\u001b[0;32m    888\u001b[0m \u001b[1;33m\u001b[0m\u001b[0m\n\u001b[0;32m    889\u001b[0m             \u001b[1;32melse\u001b[0m\u001b[1;33m:\u001b[0m\u001b[1;33m\u001b[0m\u001b[1;33m\u001b[0m\u001b[0m\n",
      "\u001b[1;31mValueError\u001b[0m: Could not interpret value `stock` for parameter `x`"
     ]
    }
   ],
   "source": [
    "import seaborn as sns\n",
    "sns.scatterplot(data=df, x=\"stock\", y=\"price\", alpha =0.5)\n",
    "plt.plot(S0, closed_price, color='r')\n",
    "plt.show()"
   ]
  },
  {
   "cell_type": "code",
   "execution_count": 20,
   "metadata": {
    "colab": {
     "base_uri": "https://localhost:8080/"
    },
    "id": "3Ia4Eoo5UsIA",
    "outputId": "c1043e9c-fb49-4cee-a9e1-f0b5fbd2a5b3"
   },
   "outputs": [
    {
     "ename": "NameError",
     "evalue": "name 'plt' is not defined",
     "output_type": "error",
     "traceback": [
      "\u001b[1;31m---------------------------------------------------------------------------\u001b[0m",
      "\u001b[1;31mNameError\u001b[0m                                 Traceback (most recent call last)",
      "\u001b[1;32m<ipython-input-20-a5d6de0f4bc7>\u001b[0m in \u001b[0;36m<module>\u001b[1;34m\u001b[0m\n\u001b[0;32m      1\u001b[0m \u001b[0mx\u001b[0m\u001b[1;33m,\u001b[0m \u001b[0my\u001b[0m \u001b[1;33m=\u001b[0m \u001b[0mnp\u001b[0m\u001b[1;33m.\u001b[0m\u001b[0mrandom\u001b[0m\u001b[1;33m.\u001b[0m\u001b[0mrandom\u001b[0m\u001b[1;33m(\u001b[0m\u001b[1;33m(\u001b[0m\u001b[1;36m2\u001b[0m\u001b[1;33m,\u001b[0m \u001b[1;36m100\u001b[0m\u001b[1;33m)\u001b[0m\u001b[1;33m)\u001b[0m\u001b[1;33m*\u001b[0m\u001b[1;36m2\u001b[0m\u001b[1;33m\u001b[0m\u001b[1;33m\u001b[0m\u001b[0m\n\u001b[1;32m----> 2\u001b[1;33m \u001b[0mfig\u001b[0m\u001b[1;33m,\u001b[0m \u001b[0max\u001b[0m \u001b[1;33m=\u001b[0m \u001b[0mplt\u001b[0m\u001b[1;33m.\u001b[0m\u001b[0msubplots\u001b[0m\u001b[1;33m(\u001b[0m\u001b[1;33m)\u001b[0m\u001b[1;33m\u001b[0m\u001b[1;33m\u001b[0m\u001b[0m\n\u001b[0m\u001b[0;32m      3\u001b[0m \u001b[0max\u001b[0m\u001b[1;33m.\u001b[0m\u001b[0mscatter\u001b[0m\u001b[1;33m(\u001b[0m\u001b[0mx\u001b[0m\u001b[1;33m,\u001b[0m \u001b[0my\u001b[0m\u001b[1;33m,\u001b[0m \u001b[0mc\u001b[0m\u001b[1;33m=\u001b[0m\u001b[1;34m'black'\u001b[0m\u001b[1;33m)\u001b[0m\u001b[1;33m\u001b[0m\u001b[1;33m\u001b[0m\u001b[0m\n\u001b[0;32m      4\u001b[0m \u001b[0mline\u001b[0m \u001b[1;33m=\u001b[0m \u001b[0mmlines\u001b[0m\u001b[1;33m.\u001b[0m\u001b[0mLine2D\u001b[0m\u001b[1;33m(\u001b[0m\u001b[1;33m[\u001b[0m\u001b[1;36m0\u001b[0m\u001b[1;33m,\u001b[0m \u001b[1;36m1\u001b[0m\u001b[1;33m]\u001b[0m\u001b[1;33m,\u001b[0m \u001b[1;33m[\u001b[0m\u001b[1;36m0\u001b[0m\u001b[1;33m,\u001b[0m \u001b[1;36m1\u001b[0m\u001b[1;33m]\u001b[0m\u001b[1;33m,\u001b[0m \u001b[0mcolor\u001b[0m\u001b[1;33m=\u001b[0m\u001b[1;34m'red'\u001b[0m\u001b[1;33m)\u001b[0m\u001b[1;33m\u001b[0m\u001b[1;33m\u001b[0m\u001b[0m\n\u001b[0;32m      5\u001b[0m \u001b[0mtransform\u001b[0m \u001b[1;33m=\u001b[0m \u001b[0max\u001b[0m\u001b[1;33m.\u001b[0m\u001b[0mtransAxes\u001b[0m\u001b[1;33m\u001b[0m\u001b[1;33m\u001b[0m\u001b[0m\n",
      "\u001b[1;31mNameError\u001b[0m: name 'plt' is not defined"
     ]
    }
   ],
   "source": [
    "x, y = np.random.random((2, 100))*2\n",
    "fig, ax = plt.subplots()\n",
    "ax.scatter(x, y, c='black')\n",
    "line = mlines.Line2D([0, 1], [0, 1], color='red')\n",
    "transform = ax.transAxes\n",
    "line.set_transform(transform)\n",
    "ax.add_line(line)\n",
    "plt.show()"
   ]
  },
  {
   "cell_type": "code",
   "execution_count": null,
   "metadata": {
    "id": "nw_rY1ZAW0fr"
   },
   "outputs": [],
   "source": []
  }
 ],
 "metadata": {
  "colab": {
   "include_colab_link": true,
   "name": "generate_dataset.ipynb",
   "provenance": []
  },
  "kernelspec": {
   "display_name": "fbd",
   "language": "python",
   "name": "fbd"
  },
  "language_info": {
   "codemirror_mode": {
    "name": "ipython",
    "version": 3
   },
   "file_extension": ".py",
   "mimetype": "text/x-python",
   "name": "python",
   "nbconvert_exporter": "python",
   "pygments_lexer": "ipython3",
   "version": "3.8.5"
  }
 },
 "nbformat": 4,
 "nbformat_minor": 4
}
